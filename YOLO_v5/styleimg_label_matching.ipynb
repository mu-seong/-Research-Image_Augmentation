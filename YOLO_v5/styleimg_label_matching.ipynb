{
 "cells": [
  {
   "cell_type": "code",
   "execution_count": 1,
   "id": "46cb112c",
   "metadata": {},
   "outputs": [],
   "source": [
    "import os\n",
    "import cv2"
   ]
  },
  {
   "cell_type": "markdown",
   "id": "4c8a85ec",
   "metadata": {},
   "source": [
    "# dissim"
   ]
  },
  {
   "cell_type": "code",
   "execution_count": 2,
   "id": "07e7f1b9",
   "metadata": {},
   "outputs": [
    {
     "data": {
      "text/plain": [
       "'C:/Users/user/0. working/1. Research/1. oriental/data/3. style_aug_img/Dissim/'"
      ]
     },
     "execution_count": 2,
     "metadata": {},
     "output_type": "execute_result"
    }
   ],
   "source": [
    "img_path = 'C:/Users/user/0. working/1. Research/1. oriental/data/3. style_aug_img/Dissim/'\n",
    "img_path"
   ]
  },
  {
   "cell_type": "code",
   "execution_count": 3,
   "id": "5fa29ec2",
   "metadata": {},
   "outputs": [
    {
     "data": {
      "text/plain": [
       "['b10.jpg', 'b32.jpg', 'b34.jpg', 'b46.jpg', 'b98.jpg']"
      ]
     },
     "execution_count": 3,
     "metadata": {},
     "output_type": "execute_result"
    }
   ],
   "source": [
    "img_folders = os.listdir(img_path)\n",
    "img_folders"
   ]
  },
  {
   "cell_type": "code",
   "execution_count": 4,
   "id": "a51bf770",
   "metadata": {},
   "outputs": [
    {
     "data": {
      "text/plain": [
       "'C:/Users/user/0. working/1. Research/1. oriental/data/1. original_label_txt/'"
      ]
     },
     "execution_count": 4,
     "metadata": {},
     "output_type": "execute_result"
    }
   ],
   "source": [
    "label_path = 'C:/Users/user/0. working/1. Research/1. oriental/data/1. original_label_txt/'\n",
    "label_path"
   ]
  },
  {
   "cell_type": "code",
   "execution_count": 5,
   "id": "1231588a",
   "metadata": {},
   "outputs": [
    {
     "data": {
      "text/plain": [
       "['carp2_output',\n",
       " 'cranebird2_output',\n",
       " 'deer2_output',\n",
       " 'lotusflower2_output',\n",
       " 'turtle2_output']"
      ]
     },
     "execution_count": 5,
     "metadata": {},
     "output_type": "execute_result"
    }
   ],
   "source": [
    "label_folders = os.listdir(label_path)\n",
    "label_folders_ = []\n",
    "for idx, name in enumerate(label_folders):\n",
    "    if idx%2 == 1:\n",
    "        label_folders_.append(name)\n",
    "label_folders_"
   ]
  },
  {
   "cell_type": "code",
   "execution_count": 6,
   "id": "36cc0df4",
   "metadata": {},
   "outputs": [
    {
     "data": {
      "text/plain": [
       "'C:/Users/user/0. working/1. Research/1. oriental/data/9. styleimg_label_matching/Dissim/'"
      ]
     },
     "execution_count": 6,
     "metadata": {},
     "output_type": "execute_result"
    }
   ],
   "source": [
    "new_img_path = 'C:/Users/user/0. working/1. Research/1. oriental/data/9. styleimg_label_matching/Dissim/'\n",
    "new_img_path"
   ]
  },
  {
   "cell_type": "code",
   "execution_count": 7,
   "id": "74599d0b",
   "metadata": {},
   "outputs": [],
   "source": [
    "label_list = []\n",
    "for label_folder in label_folders_:\n",
    "    tmp = os.listdir(label_path + label_folder)\n",
    "    tmp_list = []\n",
    "    for i in tmp:\n",
    "        tmp_list.append(i.replace('.txt', '')) \n",
    "    label_list.append(tmp_list)"
   ]
  },
  {
   "cell_type": "code",
   "execution_count": 8,
   "id": "65ada10e",
   "metadata": {
    "scrolled": true
   },
   "outputs": [
    {
     "data": {
      "text/plain": [
       "['img_100',\n",
       " 'img_102',\n",
       " 'img_107',\n",
       " 'img_113',\n",
       " 'img_119',\n",
       " 'img_12',\n",
       " 'img_120',\n",
       " 'img_122',\n",
       " 'img_124',\n",
       " 'img_128',\n",
       " 'img_131',\n",
       " 'img_134',\n",
       " 'img_141',\n",
       " 'img_147',\n",
       " 'img_157',\n",
       " 'img_158',\n",
       " 'img_159',\n",
       " 'img_160',\n",
       " 'img_18',\n",
       " 'img_190',\n",
       " 'img_194',\n",
       " 'img_197',\n",
       " 'img_201',\n",
       " 'img_208',\n",
       " 'img_211',\n",
       " 'img_213',\n",
       " 'img_219',\n",
       " 'img_234',\n",
       " 'img_245',\n",
       " 'img_247',\n",
       " 'img_25',\n",
       " 'img_261',\n",
       " 'img_266',\n",
       " 'img_284',\n",
       " 'img_287',\n",
       " 'img_29',\n",
       " 'img_291',\n",
       " 'img_3',\n",
       " 'img_30',\n",
       " 'img_314',\n",
       " 'img_32',\n",
       " 'img_323',\n",
       " 'img_33',\n",
       " 'img_331',\n",
       " 'img_34',\n",
       " 'img_36',\n",
       " 'img_368',\n",
       " 'img_379',\n",
       " 'img_383',\n",
       " 'img_40',\n",
       " 'img_433',\n",
       " 'img_44',\n",
       " 'img_446',\n",
       " 'img_447',\n",
       " 'img_449',\n",
       " 'img_485',\n",
       " 'img_49',\n",
       " 'img_501',\n",
       " 'img_503',\n",
       " 'img_54',\n",
       " 'img_559',\n",
       " 'img_587',\n",
       " 'img_598',\n",
       " 'img_600',\n",
       " 'img_604',\n",
       " 'img_614',\n",
       " 'img_64',\n",
       " 'img_656',\n",
       " 'img_667',\n",
       " 'img_668',\n",
       " 'img_67',\n",
       " 'img_673',\n",
       " 'img_689',\n",
       " 'img_7',\n",
       " 'img_70',\n",
       " 'img_712',\n",
       " 'img_717',\n",
       " 'img_724',\n",
       " 'img_727',\n",
       " 'img_737',\n",
       " 'img_77',\n",
       " 'img_79',\n",
       " 'img_87',\n",
       " 'img_88',\n",
       " 'img_89',\n",
       " 'img_92',\n",
       " 'img_95',\n",
       " 'img_96',\n",
       " 'm001',\n",
       " 'm002',\n",
       " 'm003',\n",
       " 'm004',\n",
       " 'm005',\n",
       " 'm006',\n",
       " 'm007',\n",
       " 'm008',\n",
       " 'm009',\n",
       " 'm010',\n",
       " 'm011',\n",
       " 'm012']"
      ]
     },
     "execution_count": 8,
     "metadata": {},
     "output_type": "execute_result"
    }
   ],
   "source": [
    "label_list[0]"
   ]
  },
  {
   "cell_type": "code",
   "execution_count": 9,
   "id": "1c9d04ec",
   "metadata": {
    "scrolled": true
   },
   "outputs": [
    {
     "data": {
      "text/plain": [
       "5"
      ]
     },
     "execution_count": 9,
     "metadata": {},
     "output_type": "execute_result"
    }
   ],
   "source": [
    "len(label_list)"
   ]
  },
  {
   "cell_type": "code",
   "execution_count": 10,
   "id": "8ba022e3",
   "metadata": {},
   "outputs": [],
   "source": [
    "i = 0\n",
    "\n",
    "for folder in img_folders:\n",
    "    objects_path = img_path + '/' + folder\n",
    "    objects = os.listdir(objects_path)\n",
    "    for obj in objects:\n",
    "        files_path = objects_path + '/' + obj\n",
    "        files = os.listdir(files_path)\n",
    "        for idx, file in enumerate(files):\n",
    "            image = cv2.imread(img_path + folder + '/' + obj + '/' + file)\n",
    "            tmp_img = file.replace('.jpg', '').replace('.JPG', '').replace('.jpeg', '').replace('.JPEG', '')\n",
    "            tmptmp_img = tmp_img[6:]\n",
    "            if tmptmp_img in label_list[i]:\n",
    "                cv2.imwrite(new_img_path + folder + '/' + obj + '/' + tmp_img + '.jpg', image)\n",
    "        i += 1\n",
    "    i = 0"
   ]
  },
  {
   "cell_type": "markdown",
   "id": "96cd2abd",
   "metadata": {},
   "source": [
    "# sim"
   ]
  },
  {
   "cell_type": "code",
   "execution_count": 11,
   "id": "68b78468",
   "metadata": {},
   "outputs": [
    {
     "data": {
      "text/plain": [
       "'C:/Users/user/0. working/1. Research/1. oriental/data/3. style_aug_img/Sim2/'"
      ]
     },
     "execution_count": 11,
     "metadata": {},
     "output_type": "execute_result"
    }
   ],
   "source": [
    "img_path = 'C:/Users/user/0. working/1. Research/1. oriental/data/3. style_aug_img/Sim2/'\n",
    "img_path"
   ]
  },
  {
   "cell_type": "code",
   "execution_count": 12,
   "id": "ac325399",
   "metadata": {},
   "outputs": [
    {
     "data": {
      "text/plain": [
       "['b23.jpg', 'b30.jpg', 'b39.jpg', 'b46.jpg', 'b47.jpg']"
      ]
     },
     "execution_count": 12,
     "metadata": {},
     "output_type": "execute_result"
    }
   ],
   "source": [
    "img_folders = os.listdir(img_path)\n",
    "img_folders"
   ]
  },
  {
   "cell_type": "code",
   "execution_count": 13,
   "id": "694a3dcb",
   "metadata": {},
   "outputs": [
    {
     "data": {
      "text/plain": [
       "'C:/Users/user/0. working/1. Research/1. oriental/data/1. original_label_txt/'"
      ]
     },
     "execution_count": 13,
     "metadata": {},
     "output_type": "execute_result"
    }
   ],
   "source": [
    "label_path = 'C:/Users/user/0. working/1. Research/1. oriental/data/1. original_label_txt/'\n",
    "label_path"
   ]
  },
  {
   "cell_type": "code",
   "execution_count": 14,
   "id": "d57c3ef5",
   "metadata": {},
   "outputs": [
    {
     "data": {
      "text/plain": [
       "['carp2_output',\n",
       " 'cranebird2_output',\n",
       " 'deer2_output',\n",
       " 'lotusflower2_output',\n",
       " 'turtle2_output']"
      ]
     },
     "execution_count": 14,
     "metadata": {},
     "output_type": "execute_result"
    }
   ],
   "source": [
    "label_folders = os.listdir(label_path)\n",
    "label_folders_ = []\n",
    "for idx, name in enumerate(label_folders):\n",
    "    if idx%2 == 1:\n",
    "        label_folders_.append(name)\n",
    "label_folders_"
   ]
  },
  {
   "cell_type": "code",
   "execution_count": 15,
   "id": "0a31c769",
   "metadata": {},
   "outputs": [
    {
     "data": {
      "text/plain": [
       "'C:/Users/user/0. working/1. Research/1. oriental/data/9. styleimg_label_matching/Sim2/'"
      ]
     },
     "execution_count": 15,
     "metadata": {},
     "output_type": "execute_result"
    }
   ],
   "source": [
    "new_img_path = 'C:/Users/user/0. working/1. Research/1. oriental/data/9. styleimg_label_matching/Sim2/'\n",
    "new_img_path"
   ]
  },
  {
   "cell_type": "code",
   "execution_count": 16,
   "id": "0d637056",
   "metadata": {},
   "outputs": [],
   "source": [
    "label_list = []\n",
    "for label_folder in label_folders_:\n",
    "    tmp = os.listdir(label_path + label_folder)\n",
    "    tmp_list = []\n",
    "    for i in tmp:\n",
    "        tmp_list.append(i.replace('.txt', '')) \n",
    "    label_list.append(tmp_list)"
   ]
  },
  {
   "cell_type": "code",
   "execution_count": 17,
   "id": "93823013",
   "metadata": {
    "scrolled": true
   },
   "outputs": [
    {
     "data": {
      "text/plain": [
       "['img_100',\n",
       " 'img_102',\n",
       " 'img_107',\n",
       " 'img_113',\n",
       " 'img_119',\n",
       " 'img_12',\n",
       " 'img_120',\n",
       " 'img_122',\n",
       " 'img_124',\n",
       " 'img_128',\n",
       " 'img_131',\n",
       " 'img_134',\n",
       " 'img_141',\n",
       " 'img_147',\n",
       " 'img_157',\n",
       " 'img_158',\n",
       " 'img_159',\n",
       " 'img_160',\n",
       " 'img_18',\n",
       " 'img_190',\n",
       " 'img_194',\n",
       " 'img_197',\n",
       " 'img_201',\n",
       " 'img_208',\n",
       " 'img_211',\n",
       " 'img_213',\n",
       " 'img_219',\n",
       " 'img_234',\n",
       " 'img_245',\n",
       " 'img_247',\n",
       " 'img_25',\n",
       " 'img_261',\n",
       " 'img_266',\n",
       " 'img_284',\n",
       " 'img_287',\n",
       " 'img_29',\n",
       " 'img_291',\n",
       " 'img_3',\n",
       " 'img_30',\n",
       " 'img_314',\n",
       " 'img_32',\n",
       " 'img_323',\n",
       " 'img_33',\n",
       " 'img_331',\n",
       " 'img_34',\n",
       " 'img_36',\n",
       " 'img_368',\n",
       " 'img_379',\n",
       " 'img_383',\n",
       " 'img_40',\n",
       " 'img_433',\n",
       " 'img_44',\n",
       " 'img_446',\n",
       " 'img_447',\n",
       " 'img_449',\n",
       " 'img_485',\n",
       " 'img_49',\n",
       " 'img_501',\n",
       " 'img_503',\n",
       " 'img_54',\n",
       " 'img_559',\n",
       " 'img_587',\n",
       " 'img_598',\n",
       " 'img_600',\n",
       " 'img_604',\n",
       " 'img_614',\n",
       " 'img_64',\n",
       " 'img_656',\n",
       " 'img_667',\n",
       " 'img_668',\n",
       " 'img_67',\n",
       " 'img_673',\n",
       " 'img_689',\n",
       " 'img_7',\n",
       " 'img_70',\n",
       " 'img_712',\n",
       " 'img_717',\n",
       " 'img_724',\n",
       " 'img_727',\n",
       " 'img_737',\n",
       " 'img_77',\n",
       " 'img_79',\n",
       " 'img_87',\n",
       " 'img_88',\n",
       " 'img_89',\n",
       " 'img_92',\n",
       " 'img_95',\n",
       " 'img_96',\n",
       " 'm001',\n",
       " 'm002',\n",
       " 'm003',\n",
       " 'm004',\n",
       " 'm005',\n",
       " 'm006',\n",
       " 'm007',\n",
       " 'm008',\n",
       " 'm009',\n",
       " 'm010',\n",
       " 'm011',\n",
       " 'm012']"
      ]
     },
     "execution_count": 17,
     "metadata": {},
     "output_type": "execute_result"
    }
   ],
   "source": [
    "label_list[0]"
   ]
  },
  {
   "cell_type": "code",
   "execution_count": 18,
   "id": "3f5b13fb",
   "metadata": {
    "scrolled": true
   },
   "outputs": [
    {
     "data": {
      "text/plain": [
       "5"
      ]
     },
     "execution_count": 18,
     "metadata": {},
     "output_type": "execute_result"
    }
   ],
   "source": [
    "len(label_list)"
   ]
  },
  {
   "cell_type": "code",
   "execution_count": 19,
   "id": "8ba022e3",
   "metadata": {},
   "outputs": [],
   "source": [
    "i = 0\n",
    "\n",
    "for folder in img_folders:\n",
    "    objects_path = img_path + '/' + folder\n",
    "    objects = os.listdir(objects_path)\n",
    "    for obj in objects:\n",
    "        files_path = objects_path + '/' + obj\n",
    "        files = os.listdir(files_path)\n",
    "        for idx, file in enumerate(files):\n",
    "            image = cv2.imread(img_path + folder + '/' + obj + '/' + file)\n",
    "            tmp_img = file.replace('.jpg', '').replace('.JPG', '').replace('.jpeg', '').replace('.JPEG', '')\n",
    "            tmptmp_img = tmp_img[6:]\n",
    "            if tmptmp_img in label_list[i]:\n",
    "                cv2.imwrite(new_img_path + folder + '/' + obj + '/' + tmp_img + '.jpg', image)\n",
    "        i += 1\n",
    "    i = 0"
   ]
  },
  {
   "cell_type": "markdown",
   "id": "0bceb363",
   "metadata": {},
   "source": [
    "# random"
   ]
  },
  {
   "cell_type": "code",
   "execution_count": 20,
   "id": "07e7f1b9",
   "metadata": {},
   "outputs": [
    {
     "data": {
      "text/plain": [
       "'C:/Users/user/0. working/1. Research/1. oriental/data/3. style_aug_img/Random/'"
      ]
     },
     "execution_count": 20,
     "metadata": {},
     "output_type": "execute_result"
    }
   ],
   "source": [
    "img_path = 'C:/Users/user/0. working/1. Research/1. oriental/data/3. style_aug_img/Random/'\n",
    "img_path"
   ]
  },
  {
   "cell_type": "code",
   "execution_count": 21,
   "id": "5fa29ec2",
   "metadata": {},
   "outputs": [
    {
     "data": {
      "text/plain": [
       "['b04.jpg', 'b104.jpg', 'b21.jpg', 'b67.jpg', 'b80.jpg']"
      ]
     },
     "execution_count": 21,
     "metadata": {},
     "output_type": "execute_result"
    }
   ],
   "source": [
    "img_folders = os.listdir(img_path)\n",
    "img_folders"
   ]
  },
  {
   "cell_type": "code",
   "execution_count": 22,
   "id": "a51bf770",
   "metadata": {},
   "outputs": [
    {
     "data": {
      "text/plain": [
       "'C:/Users/user/0. working/1. Research/1. oriental/data/1. original_label_txt/'"
      ]
     },
     "execution_count": 22,
     "metadata": {},
     "output_type": "execute_result"
    }
   ],
   "source": [
    "label_path = 'C:/Users/user/0. working/1. Research/1. oriental/data/1. original_label_txt/'\n",
    "label_path"
   ]
  },
  {
   "cell_type": "code",
   "execution_count": 23,
   "id": "1231588a",
   "metadata": {},
   "outputs": [
    {
     "data": {
      "text/plain": [
       "['carp2_output',\n",
       " 'cranebird2_output',\n",
       " 'deer2_output',\n",
       " 'lotusflower2_output',\n",
       " 'turtle2_output']"
      ]
     },
     "execution_count": 23,
     "metadata": {},
     "output_type": "execute_result"
    }
   ],
   "source": [
    "label_folders = os.listdir(label_path)\n",
    "label_folders_ = []\n",
    "for idx, name in enumerate(label_folders):\n",
    "    if idx%2 == 1:\n",
    "        label_folders_.append(name)\n",
    "label_folders_"
   ]
  },
  {
   "cell_type": "code",
   "execution_count": 24,
   "id": "36cc0df4",
   "metadata": {},
   "outputs": [
    {
     "data": {
      "text/plain": [
       "'C:/Users/user/0. working/1. Research/1. oriental/data/9. styleimg_label_matching/Random/'"
      ]
     },
     "execution_count": 24,
     "metadata": {},
     "output_type": "execute_result"
    }
   ],
   "source": [
    "new_img_path = 'C:/Users/user/0. working/1. Research/1. oriental/data/9. styleimg_label_matching/Random/'\n",
    "new_img_path"
   ]
  },
  {
   "cell_type": "code",
   "execution_count": 25,
   "id": "74599d0b",
   "metadata": {},
   "outputs": [],
   "source": [
    "label_list = []\n",
    "for label_folder in label_folders_:\n",
    "    tmp = os.listdir(label_path + label_folder)\n",
    "    tmp_list = []\n",
    "    for i in tmp:\n",
    "        tmp_list.append(i.replace('.txt', '')) \n",
    "    label_list.append(tmp_list)"
   ]
  },
  {
   "cell_type": "code",
   "execution_count": 26,
   "id": "92a2ba9c",
   "metadata": {
    "scrolled": true
   },
   "outputs": [
    {
     "data": {
      "text/plain": [
       "['img_100',\n",
       " 'img_102',\n",
       " 'img_107',\n",
       " 'img_113',\n",
       " 'img_119',\n",
       " 'img_12',\n",
       " 'img_120',\n",
       " 'img_122',\n",
       " 'img_124',\n",
       " 'img_128',\n",
       " 'img_131',\n",
       " 'img_134',\n",
       " 'img_141',\n",
       " 'img_147',\n",
       " 'img_157',\n",
       " 'img_158',\n",
       " 'img_159',\n",
       " 'img_160',\n",
       " 'img_18',\n",
       " 'img_190',\n",
       " 'img_194',\n",
       " 'img_197',\n",
       " 'img_201',\n",
       " 'img_208',\n",
       " 'img_211',\n",
       " 'img_213',\n",
       " 'img_219',\n",
       " 'img_234',\n",
       " 'img_245',\n",
       " 'img_247',\n",
       " 'img_25',\n",
       " 'img_261',\n",
       " 'img_266',\n",
       " 'img_284',\n",
       " 'img_287',\n",
       " 'img_29',\n",
       " 'img_291',\n",
       " 'img_3',\n",
       " 'img_30',\n",
       " 'img_314',\n",
       " 'img_32',\n",
       " 'img_323',\n",
       " 'img_33',\n",
       " 'img_331',\n",
       " 'img_34',\n",
       " 'img_36',\n",
       " 'img_368',\n",
       " 'img_379',\n",
       " 'img_383',\n",
       " 'img_40',\n",
       " 'img_433',\n",
       " 'img_44',\n",
       " 'img_446',\n",
       " 'img_447',\n",
       " 'img_449',\n",
       " 'img_485',\n",
       " 'img_49',\n",
       " 'img_501',\n",
       " 'img_503',\n",
       " 'img_54',\n",
       " 'img_559',\n",
       " 'img_587',\n",
       " 'img_598',\n",
       " 'img_600',\n",
       " 'img_604',\n",
       " 'img_614',\n",
       " 'img_64',\n",
       " 'img_656',\n",
       " 'img_667',\n",
       " 'img_668',\n",
       " 'img_67',\n",
       " 'img_673',\n",
       " 'img_689',\n",
       " 'img_7',\n",
       " 'img_70',\n",
       " 'img_712',\n",
       " 'img_717',\n",
       " 'img_724',\n",
       " 'img_727',\n",
       " 'img_737',\n",
       " 'img_77',\n",
       " 'img_79',\n",
       " 'img_87',\n",
       " 'img_88',\n",
       " 'img_89',\n",
       " 'img_92',\n",
       " 'img_95',\n",
       " 'img_96',\n",
       " 'm001',\n",
       " 'm002',\n",
       " 'm003',\n",
       " 'm004',\n",
       " 'm005',\n",
       " 'm006',\n",
       " 'm007',\n",
       " 'm008',\n",
       " 'm009',\n",
       " 'm010',\n",
       " 'm011',\n",
       " 'm012']"
      ]
     },
     "execution_count": 26,
     "metadata": {},
     "output_type": "execute_result"
    }
   ],
   "source": [
    "label_list[0]"
   ]
  },
  {
   "cell_type": "code",
   "execution_count": 27,
   "id": "1c9d04ec",
   "metadata": {
    "scrolled": true
   },
   "outputs": [
    {
     "data": {
      "text/plain": [
       "5"
      ]
     },
     "execution_count": 27,
     "metadata": {},
     "output_type": "execute_result"
    }
   ],
   "source": [
    "len(label_list)"
   ]
  },
  {
   "cell_type": "code",
   "execution_count": 28,
   "id": "8ba022e3",
   "metadata": {},
   "outputs": [],
   "source": [
    "i = 0\n",
    "\n",
    "for folder in img_folders:\n",
    "    objects_path = img_path + '/' + folder\n",
    "    objects = os.listdir(objects_path)\n",
    "    for obj in objects:\n",
    "        files_path = objects_path + '/' + obj\n",
    "        files = os.listdir(files_path)\n",
    "        for idx, file in enumerate(files):\n",
    "            image = cv2.imread(img_path + folder + '/' + obj + '/' + file)\n",
    "            tmp_img = file.replace('.jpg', '').replace('.JPG', '').replace('.jpeg', '').replace('.JPEG', '')\n",
    "            tmptmp_img = tmp_img[6:]\n",
    "            if tmptmp_img in label_list[i]:\n",
    "                cv2.imwrite(new_img_path + folder + '/' + obj + '/' + tmp_img + '.jpg', image)\n",
    "        i += 1\n",
    "    i = 0"
   ]
  },
  {
   "cell_type": "code",
   "execution_count": 29,
   "id": "e5034377",
   "metadata": {},
   "outputs": [
    {
     "data": {
      "text/plain": [
       "510"
      ]
     },
     "execution_count": 29,
     "metadata": {},
     "output_type": "execute_result"
    }
   ],
   "source": [
    "100 + 107 + 113 + 93 + 97"
   ]
  },
  {
   "cell_type": "code",
   "execution_count": 30,
   "id": "bd2cf4b1",
   "metadata": {},
   "outputs": [
    {
     "data": {
      "text/plain": [
       "2550"
      ]
     },
     "execution_count": 30,
     "metadata": {},
     "output_type": "execute_result"
    }
   ],
   "source": [
    "510*5"
   ]
  },
  {
   "cell_type": "code",
   "execution_count": null,
   "id": "91626e8b",
   "metadata": {},
   "outputs": [],
   "source": []
  }
 ],
 "metadata": {
  "kernelspec": {
   "display_name": "Python 3",
   "language": "python",
   "name": "python3"
  },
  "language_info": {
   "codemirror_mode": {
    "name": "ipython",
    "version": 3
   },
   "file_extension": ".py",
   "mimetype": "text/x-python",
   "name": "python",
   "nbconvert_exporter": "python",
   "pygments_lexer": "ipython3",
   "version": "3.8.8"
  }
 },
 "nbformat": 4,
 "nbformat_minor": 5
}
