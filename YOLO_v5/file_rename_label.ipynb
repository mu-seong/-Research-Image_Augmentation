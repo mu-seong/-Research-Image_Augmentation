{
 "cells": [
  {
   "cell_type": "code",
   "execution_count": 1,
   "id": "0e793250",
   "metadata": {},
   "outputs": [],
   "source": [
    "import os"
   ]
  },
  {
   "cell_type": "markdown",
   "id": "05905f6e",
   "metadata": {},
   "source": [
    "# Dissim"
   ]
  },
  {
   "cell_type": "code",
   "execution_count": 2,
   "id": "633ddb13",
   "metadata": {},
   "outputs": [
    {
     "data": {
      "text/plain": [
       "'C:/Users/user/0. working/1. Research/1. oriental/data/1. original_label_txt/'"
      ]
     },
     "execution_count": 2,
     "metadata": {},
     "output_type": "execute_result"
    }
   ],
   "source": [
    "folders_path = 'C:/Users/user/0. working/1. Research/1. oriental/data/1. original_label_txt/'\n",
    "folders_path"
   ]
  },
  {
   "cell_type": "code",
   "execution_count": 3,
   "id": "eb43a977",
   "metadata": {},
   "outputs": [
    {
     "data": {
      "text/plain": [
       "['carp1_output',\n",
       " 'carp2_output',\n",
       " 'cranebird1_output',\n",
       " 'cranebird2_output',\n",
       " 'deer1_output',\n",
       " 'deer2_output',\n",
       " 'lotusflower1_output',\n",
       " 'lotusflower2_output',\n",
       " 'turtle1_output',\n",
       " 'turtle2_output']"
      ]
     },
     "execution_count": 3,
     "metadata": {},
     "output_type": "execute_result"
    }
   ],
   "source": [
    "folders = os.listdir(folders_path)\n",
    "folders"
   ]
  },
  {
   "cell_type": "code",
   "execution_count": 4,
   "id": "9a3c7caf",
   "metadata": {},
   "outputs": [
    {
     "data": {
      "text/plain": [
       "['carp2_output',\n",
       " 'cranebird2_output',\n",
       " 'deer2_output',\n",
       " 'lotusflower2_output',\n",
       " 'turtle2_output']"
      ]
     },
     "execution_count": 4,
     "metadata": {},
     "output_type": "execute_result"
    }
   ],
   "source": [
    "label_folders_ = []\n",
    "for idx, name in enumerate(folders):\n",
    "    if idx%2 == 1:\n",
    "        label_folders_.append(name)\n",
    "label_folders_"
   ]
  },
  {
   "cell_type": "code",
   "execution_count": 5,
   "id": "dc397731",
   "metadata": {},
   "outputs": [
    {
     "data": {
      "text/plain": [
       "'C:/Users/user/0. working/1. Research/1. oriental/Dataset/Dissim/train/labels/'"
      ]
     },
     "execution_count": 5,
     "metadata": {},
     "output_type": "execute_result"
    }
   ],
   "source": [
    "new_path = 'C:/Users/user/0. working/1. Research/1. oriental/Dataset/Dissim/train/labels/'\n",
    "new_path"
   ]
  },
  {
   "cell_type": "markdown",
   "id": "6a731b02",
   "metadata": {},
   "source": [
    "# label"
   ]
  },
  {
   "cell_type": "code",
   "execution_count": 6,
   "id": "57dac0fa",
   "metadata": {},
   "outputs": [
    {
     "ename": "FileNotFoundError",
     "evalue": "[WinError 2] 지정된 파일을 찾을 수 없습니다: 'C:/Users/user/0. working/1. Research/1. oriental/data/1. original_label_txt/carp2_output\\\\img_100.txt' -> 'C:/Users/user/0. working/1. Research/1. oriental/Dataset/Dissim/train/labels/carp2_style_2_img_0.txt'",
     "output_type": "error",
     "traceback": [
      "\u001b[1;31m---------------------------------------------------------------------------\u001b[0m",
      "\u001b[1;31mFileNotFoundError\u001b[0m                         Traceback (most recent call last)",
      "\u001b[1;32m<ipython-input-6-613491287c77>\u001b[0m in \u001b[0;36m<module>\u001b[1;34m\u001b[0m\n\u001b[0;32m      9\u001b[0m             \u001b[0mdst\u001b[0m \u001b[1;33m=\u001b[0m \u001b[0mobj\u001b[0m \u001b[1;33m+\u001b[0m \u001b[1;34m'_style_'\u001b[0m \u001b[1;33m+\u001b[0m \u001b[0mstr\u001b[0m\u001b[1;33m(\u001b[0m\u001b[0mi\u001b[0m\u001b[1;33m)\u001b[0m \u001b[1;33m+\u001b[0m \u001b[1;34m'_img_'\u001b[0m \u001b[1;33m+\u001b[0m \u001b[0mstr\u001b[0m\u001b[1;33m(\u001b[0m\u001b[0midx\u001b[0m\u001b[1;33m)\u001b[0m \u001b[1;33m+\u001b[0m \u001b[1;34m'.txt'\u001b[0m\u001b[1;33m\u001b[0m\u001b[1;33m\u001b[0m\u001b[0m\n\u001b[0;32m     10\u001b[0m             \u001b[0mdst\u001b[0m \u001b[1;33m=\u001b[0m \u001b[0mos\u001b[0m\u001b[1;33m.\u001b[0m\u001b[0mpath\u001b[0m\u001b[1;33m.\u001b[0m\u001b[0mjoin\u001b[0m\u001b[1;33m(\u001b[0m\u001b[0mnew_path\u001b[0m\u001b[1;33m,\u001b[0m \u001b[0mdst\u001b[0m\u001b[1;33m)\u001b[0m\u001b[1;33m\u001b[0m\u001b[1;33m\u001b[0m\u001b[0m\n\u001b[1;32m---> 11\u001b[1;33m             \u001b[0mos\u001b[0m\u001b[1;33m.\u001b[0m\u001b[0mrename\u001b[0m\u001b[1;33m(\u001b[0m\u001b[0msrc\u001b[0m\u001b[1;33m,\u001b[0m \u001b[0mdst\u001b[0m\u001b[1;33m)\u001b[0m\u001b[1;33m\u001b[0m\u001b[1;33m\u001b[0m\u001b[0m\n\u001b[0m",
      "\u001b[1;31mFileNotFoundError\u001b[0m: [WinError 2] 지정된 파일을 찾을 수 없습니다: 'C:/Users/user/0. working/1. Research/1. oriental/data/1. original_label_txt/carp2_output\\\\img_100.txt' -> 'C:/Users/user/0. working/1. Research/1. oriental/Dataset/Dissim/train/labels/carp2_style_2_img_0.txt'"
     ]
    }
   ],
   "source": [
    "for folder in label_folders_:\n",
    "    files = os.listdir(folders_path + folder)\n",
    "    files_path = folders_path + folder\n",
    "    obj = folder[:-7]\n",
    "    for idx, file in enumerate(files):\n",
    "        for i in range(len(label_folders_)):\n",
    "            i = i +1\n",
    "            src = os.path.join(files_path, file)\n",
    "            dst = obj + '_style_' + str(i) + '_img_' + str(idx) + '.txt'\n",
    "            dst = os.path.join(new_path, dst)\n",
    "            os.rename(src, dst)"
   ]
  },
  {
   "cell_type": "code",
   "execution_count": 9,
   "id": "a497fac4",
   "metadata": {},
   "outputs": [
    {
     "data": {
      "text/plain": [
       "['img_100.txt',\n",
       " 'img_102.txt',\n",
       " 'img_107.txt',\n",
       " 'img_113.txt',\n",
       " 'img_119.txt',\n",
       " 'img_12.txt',\n",
       " 'img_120.txt',\n",
       " 'img_122.txt',\n",
       " 'img_124.txt',\n",
       " 'img_128.txt',\n",
       " 'img_131.txt',\n",
       " 'img_134.txt',\n",
       " 'img_141.txt',\n",
       " 'img_147.txt',\n",
       " 'img_157.txt',\n",
       " 'img_158.txt',\n",
       " 'img_159.txt',\n",
       " 'img_160.txt',\n",
       " 'img_18.txt',\n",
       " 'img_190.txt',\n",
       " 'img_194.txt',\n",
       " 'img_197.txt',\n",
       " 'img_201.txt',\n",
       " 'img_208.txt',\n",
       " 'img_211.txt',\n",
       " 'img_213.txt',\n",
       " 'img_219.txt',\n",
       " 'img_234.txt',\n",
       " 'img_245.txt',\n",
       " 'img_247.txt',\n",
       " 'img_25.txt',\n",
       " 'img_261.txt',\n",
       " 'img_266.txt',\n",
       " 'img_284.txt',\n",
       " 'img_287.txt',\n",
       " 'img_29.txt',\n",
       " 'img_291.txt',\n",
       " 'img_3.txt',\n",
       " 'img_30.txt',\n",
       " 'img_314.txt',\n",
       " 'img_32.txt',\n",
       " 'img_323.txt',\n",
       " 'img_33.txt',\n",
       " 'img_331.txt',\n",
       " 'img_34.txt',\n",
       " 'img_36.txt',\n",
       " 'img_368.txt',\n",
       " 'img_379.txt',\n",
       " 'img_383.txt',\n",
       " 'img_40.txt',\n",
       " 'img_433.txt',\n",
       " 'img_44.txt',\n",
       " 'img_446.txt',\n",
       " 'img_447.txt',\n",
       " 'img_449.txt',\n",
       " 'img_485.txt',\n",
       " 'img_49.txt',\n",
       " 'img_501.txt',\n",
       " 'img_503.txt',\n",
       " 'img_54.txt',\n",
       " 'img_559.txt',\n",
       " 'img_587.txt',\n",
       " 'img_598.txt',\n",
       " 'img_600.txt',\n",
       " 'img_604.txt',\n",
       " 'img_614.txt',\n",
       " 'img_64.txt',\n",
       " 'img_656.txt',\n",
       " 'img_667.txt',\n",
       " 'img_668.txt',\n",
       " 'img_67.txt',\n",
       " 'img_673.txt',\n",
       " 'img_689.txt',\n",
       " 'img_7.txt',\n",
       " 'img_70.txt',\n",
       " 'img_712.txt',\n",
       " 'img_717.txt',\n",
       " 'img_724.txt',\n",
       " 'img_727.txt',\n",
       " 'img_737.txt',\n",
       " 'img_77.txt',\n",
       " 'img_79.txt',\n",
       " 'img_87.txt',\n",
       " 'img_88.txt',\n",
       " 'img_89.txt',\n",
       " 'img_92.txt',\n",
       " 'img_95.txt',\n",
       " 'img_96.txt',\n",
       " 'm001.txt',\n",
       " 'm002.txt',\n",
       " 'm003.txt',\n",
       " 'm004.txt',\n",
       " 'm005.txt',\n",
       " 'm006.txt',\n",
       " 'm007.txt',\n",
       " 'm008.txt',\n",
       " 'm009.txt',\n",
       " 'm010.txt',\n",
       " 'm011.txt',\n",
       " 'm012.txt']"
      ]
     },
     "execution_count": 9,
     "metadata": {},
     "output_type": "execute_result"
    }
   ],
   "source": [
    "os.listdir(folders_path + 'carp2_output')"
   ]
  },
  {
   "cell_type": "markdown",
   "id": "8673f73c",
   "metadata": {},
   "source": [
    "# Sim"
   ]
  },
  {
   "cell_type": "code",
   "execution_count": null,
   "id": "e13a64e7",
   "metadata": {},
   "outputs": [],
   "source": [
    "folders_path = 'C:/Users/user/0. working/1. Research/1. oriental/data/1. original_label_txt/'\n",
    "folders_path"
   ]
  },
  {
   "cell_type": "code",
   "execution_count": null,
   "id": "df55bf1c",
   "metadata": {},
   "outputs": [],
   "source": [
    "folders = os.listdir(folders_path)\n",
    "folders"
   ]
  },
  {
   "cell_type": "code",
   "execution_count": null,
   "id": "a0a0d275",
   "metadata": {},
   "outputs": [],
   "source": [
    "label_folders_ = []\n",
    "for idx, name in enumerate(folders):\n",
    "    if idx%2 == 1:\n",
    "        label_folders_.append(name)\n",
    "label_folders_"
   ]
  },
  {
   "cell_type": "code",
   "execution_count": null,
   "id": "ea4a8dd4",
   "metadata": {},
   "outputs": [],
   "source": [
    "new_path = 'C:/Users/user/0. working/1. Research/1. oriental/Dataset/Sim2/train/labels/'\n",
    "new_path"
   ]
  },
  {
   "cell_type": "markdown",
   "id": "6a731b02",
   "metadata": {},
   "source": [
    "# label"
   ]
  },
  {
   "cell_type": "code",
   "execution_count": null,
   "id": "57dac0fa",
   "metadata": {},
   "outputs": [],
   "source": [
    "i = 1\n",
    "\n",
    "for folder in label_folders_:\n",
    "    files = os.listdir(folders_path + folder)\n",
    "    files_path = folders_path + folder\n",
    "    for idx, file in enumerate(files):\n",
    "        src = os.path.join(files_path, file)\n",
    "        dst = folder[:-7] + '_style_' + str(i) + '_img_' + str(idx) + '.txt'\n",
    "        dst = os.path.join(new_path, dst)\n",
    "        os.rename(src, dst)\n",
    "    i += 1"
   ]
  },
  {
   "cell_type": "markdown",
   "id": "05905f6e",
   "metadata": {},
   "source": [
    "# Random"
   ]
  },
  {
   "cell_type": "code",
   "execution_count": null,
   "id": "633ddb13",
   "metadata": {},
   "outputs": [],
   "source": [
    "folders_path = 'C:/Users/user/0. working/1. Research/1. oriental/data/1. original_label_txt/'\n",
    "folders_path"
   ]
  },
  {
   "cell_type": "code",
   "execution_count": null,
   "id": "eb43a977",
   "metadata": {},
   "outputs": [],
   "source": [
    "folders = os.listdir(folders_path)\n",
    "folders"
   ]
  },
  {
   "cell_type": "code",
   "execution_count": null,
   "id": "bdbd3cc8",
   "metadata": {},
   "outputs": [],
   "source": [
    "label_folders_ = []\n",
    "for idx, name in enumerate(folders):\n",
    "    if idx%2 == 1:\n",
    "        label_folders_.append(name)\n",
    "label_folders_"
   ]
  },
  {
   "cell_type": "code",
   "execution_count": null,
   "id": "dc397731",
   "metadata": {},
   "outputs": [],
   "source": [
    "new_path = 'C:/Users/user/0. working/1. Research/1. oriental/Dataset/Random/train/labels/'\n",
    "new_path"
   ]
  },
  {
   "cell_type": "markdown",
   "id": "6a731b02",
   "metadata": {},
   "source": [
    "# label"
   ]
  },
  {
   "cell_type": "code",
   "execution_count": null,
   "id": "57dac0fa",
   "metadata": {},
   "outputs": [],
   "source": [
    "i = 1\n",
    "\n",
    "for folder in label_folders_:\n",
    "    files = os.listdir(folders_path + folder)\n",
    "    files_path = folders_path + folder\n",
    "    for idx, file in enumerate(files):\n",
    "        src = os.path.join(files_path, file)\n",
    "        dst = folder[:-7] + '_style_' + str(i) + '_img_' + str(idx) + '.txt'\n",
    "        dst = os.path.join(new_path, dst)\n",
    "        os.rename(src, dst)\n",
    "    i += 1"
   ]
  },
  {
   "cell_type": "code",
   "execution_count": null,
   "id": "45279cb9",
   "metadata": {
    "scrolled": true
   },
   "outputs": [],
   "source": [
    "len(files)"
   ]
  },
  {
   "cell_type": "code",
   "execution_count": null,
   "id": "9728c1df",
   "metadata": {},
   "outputs": [],
   "source": []
  }
 ],
 "metadata": {
  "kernelspec": {
   "display_name": "Python 3",
   "language": "python",
   "name": "python3"
  },
  "language_info": {
   "codemirror_mode": {
    "name": "ipython",
    "version": 3
   },
   "file_extension": ".py",
   "mimetype": "text/x-python",
   "name": "python",
   "nbconvert_exporter": "python",
   "pygments_lexer": "ipython3",
   "version": "3.7.10"
  }
 },
 "nbformat": 4,
 "nbformat_minor": 5
}
