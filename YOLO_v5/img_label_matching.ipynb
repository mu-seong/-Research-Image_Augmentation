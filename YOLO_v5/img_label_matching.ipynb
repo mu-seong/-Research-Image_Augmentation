{
 "cells": [
  {
   "cell_type": "code",
   "execution_count": 1,
   "id": "46cb112c",
   "metadata": {},
   "outputs": [],
   "source": [
    "import os\n",
    "import cv2"
   ]
  },
  {
   "cell_type": "code",
   "execution_count": 2,
   "id": "07e7f1b9",
   "metadata": {},
   "outputs": [
    {
     "data": {
      "text/plain": [
       "'C:/Users/user/0. working/1. Research/1. oriental/data/1. original_img/'"
      ]
     },
     "execution_count": 2,
     "metadata": {},
     "output_type": "execute_result"
    }
   ],
   "source": [
    "img_path = 'C:/Users/user/0. working/1. Research/1. oriental/data/1. original_img/'\n",
    "img_path"
   ]
  },
  {
   "cell_type": "code",
   "execution_count": 3,
   "id": "5fa29ec2",
   "metadata": {},
   "outputs": [
    {
     "data": {
      "text/plain": [
       "['carp1',\n",
       " 'carp2',\n",
       " 'cranebird1',\n",
       " 'cranebird2',\n",
       " 'deer1',\n",
       " 'deer2',\n",
       " 'lotusflower1',\n",
       " 'lotusflower2',\n",
       " 'turtle1',\n",
       " 'turtle2']"
      ]
     },
     "execution_count": 3,
     "metadata": {},
     "output_type": "execute_result"
    }
   ],
   "source": [
    "img_folders = os.listdir(img_path)\n",
    "img_folders"
   ]
  },
  {
   "cell_type": "code",
   "execution_count": 4,
   "id": "a51bf770",
   "metadata": {},
   "outputs": [
    {
     "data": {
      "text/plain": [
       "'C:/Users/user/0. working/1. Research/1. oriental/data/1. original_label_txt/'"
      ]
     },
     "execution_count": 4,
     "metadata": {},
     "output_type": "execute_result"
    }
   ],
   "source": [
    "label_path = 'C:/Users/user/0. working/1. Research/1. oriental/data/1. original_label_txt/'\n",
    "label_path"
   ]
  },
  {
   "cell_type": "code",
   "execution_count": 5,
   "id": "1231588a",
   "metadata": {},
   "outputs": [
    {
     "data": {
      "text/plain": [
       "['carp1_output',\n",
       " 'carp2_output',\n",
       " 'cranebird1_output',\n",
       " 'cranebird2_output',\n",
       " 'deer1_output',\n",
       " 'deer2_output',\n",
       " 'lotusflower1_output',\n",
       " 'lotusflower2_output',\n",
       " 'turtle1_output',\n",
       " 'turtle2_output']"
      ]
     },
     "execution_count": 5,
     "metadata": {},
     "output_type": "execute_result"
    }
   ],
   "source": [
    "label_folders = os.listdir(label_path)\n",
    "label_folders"
   ]
  },
  {
   "cell_type": "code",
   "execution_count": 6,
   "id": "36cc0df4",
   "metadata": {},
   "outputs": [
    {
     "data": {
      "text/plain": [
       "'C:/Users/user/0. working/1. Research/1. oriental/data/9. img_label_matching/'"
      ]
     },
     "execution_count": 6,
     "metadata": {},
     "output_type": "execute_result"
    }
   ],
   "source": [
    "new_img_path = 'C:/Users/user/0. working/1. Research/1. oriental/data/9. img_label_matching/'\n",
    "new_img_path"
   ]
  },
  {
   "cell_type": "code",
   "execution_count": 7,
   "id": "74599d0b",
   "metadata": {},
   "outputs": [],
   "source": [
    "label_list = []\n",
    "for label_folder in label_folders:\n",
    "    tmp = os.listdir(label_path + label_folder)\n",
    "    tmp_list = []\n",
    "    for i in tmp:\n",
    "        tmp_list.append(i.replace('.txt', '')) \n",
    "    label_list.append(tmp_list)"
   ]
  },
  {
   "cell_type": "code",
   "execution_count": 8,
   "id": "1c9d04ec",
   "metadata": {
    "scrolled": true
   },
   "outputs": [
    {
     "data": {
      "text/plain": [
       "['img_9',\n",
       " 'k001',\n",
       " 'k002',\n",
       " 'k003',\n",
       " 'k004',\n",
       " 'k005',\n",
       " 'k006',\n",
       " 'k007',\n",
       " 'k008',\n",
       " 'k009',\n",
       " 'k010',\n",
       " 'k011',\n",
       " 'k012',\n",
       " 'k013',\n",
       " 'k016',\n",
       " 'k017',\n",
       " 'k018',\n",
       " 'k019',\n",
       " 'k020',\n",
       " 'k021',\n",
       " 'k022',\n",
       " 'k024',\n",
       " 'k026',\n",
       " 'k027',\n",
       " 'k028',\n",
       " 'k029',\n",
       " 'k031',\n",
       " 'k032',\n",
       " 'k034',\n",
       " 'k035',\n",
       " 'k036',\n",
       " 'k037',\n",
       " 'k038',\n",
       " 'k039',\n",
       " 'k041',\n",
       " 'k042',\n",
       " 'k043',\n",
       " 'k044',\n",
       " 'k046',\n",
       " 'k048',\n",
       " 'k049',\n",
       " 'k050',\n",
       " 'k051',\n",
       " 'k052',\n",
       " 'k053',\n",
       " 'k055',\n",
       " 'k056',\n",
       " 'k057',\n",
       " 'k058',\n",
       " 'k061',\n",
       " 'k062',\n",
       " 'k070.',\n",
       " 'k070',\n",
       " 'k071',\n",
       " 'k072',\n",
       " 'k073',\n",
       " 'k074',\n",
       " 'k075',\n",
       " 'k076',\n",
       " 'k077',\n",
       " 'k078',\n",
       " 'k079',\n",
       " 'k080',\n",
       " 'k081',\n",
       " 'k082',\n",
       " 'k083',\n",
       " 'k084',\n",
       " 'k085',\n",
       " 'k086',\n",
       " 'k087',\n",
       " 'k089',\n",
       " 'k090',\n",
       " 'k091',\n",
       " 'k092',\n",
       " 'k093',\n",
       " 'k094',\n",
       " 'k095',\n",
       " 'k096',\n",
       " 'k097',\n",
       " 'k098',\n",
       " 'k099',\n",
       " 'k106',\n",
       " 'k107',\n",
       " 'k108',\n",
       " 'k109',\n",
       " 'k110',\n",
       " 'k111',\n",
       " 'k112',\n",
       " 'k113',\n",
       " 'k114',\n",
       " 'k115',\n",
       " 'k116',\n",
       " 'k117',\n",
       " 'k118',\n",
       " 'k119',\n",
       " 'k120']"
      ]
     },
     "execution_count": 8,
     "metadata": {},
     "output_type": "execute_result"
    }
   ],
   "source": [
    "label_list[2]"
   ]
  },
  {
   "cell_type": "code",
   "execution_count": 9,
   "id": "6d241b03",
   "metadata": {},
   "outputs": [],
   "source": [
    "i = 0\n",
    "\n",
    "for img_folder in img_folders:\n",
    "    img_files = os.listdir(img_path + img_folder)\n",
    "    for img_file in img_files:\n",
    "        image = cv2.imread(img_path + img_folder + '/' + img_file)\n",
    "        tmp_img = img_file.replace('.jpg', '').replace('.JPG', '').replace('.jpeg', '').replace('.JPEG', '')\n",
    "        if tmp_img in label_list[i]:\n",
    "            cv2.imwrite(new_img_path + img_folder + '/' + tmp_img + '.jpg', image)\n",
    "    i += 1"
   ]
  },
  {
   "cell_type": "code",
   "execution_count": null,
   "id": "8ba022e3",
   "metadata": {},
   "outputs": [],
   "source": []
  },
  {
   "cell_type": "code",
   "execution_count": null,
   "id": "07d5043c",
   "metadata": {},
   "outputs": [],
   "source": []
  }
 ],
 "metadata": {
  "kernelspec": {
   "display_name": "Python 3",
   "language": "python",
   "name": "python3"
  },
  "language_info": {
   "codemirror_mode": {
    "name": "ipython",
    "version": 3
   },
   "file_extension": ".py",
   "mimetype": "text/x-python",
   "name": "python",
   "nbconvert_exporter": "python",
   "pygments_lexer": "ipython3",
   "version": "3.8.8"
  }
 },
 "nbformat": 4,
 "nbformat_minor": 5
}
