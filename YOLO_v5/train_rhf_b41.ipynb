{
 "cells": [
  {
   "cell_type": "code",
   "execution_count": 1,
   "id": "0ec04f39",
   "metadata": {},
   "outputs": [],
   "source": [
    "import argparse\n",
    "import logging\n",
    "import os\n",
    "import random\n",
    "import sys\n",
    "import time\n",
    "import warnings\n",
    "from copy import deepcopy\n",
    "from pathlib import Path\n",
    "from threading import Thread\n",
    "\n",
    "import math\n",
    "import numpy as np\n",
    "import torch\n",
    "import torch.distributed as dist\n",
    "import torch.nn as nn\n",
    "import yaml\n",
    "from torch.cuda import amp\n",
    "from torch.nn.parallel import DistributedDataParallel as DDP\n",
    "from torch.optim import Adam, SGD, lr_scheduler\n",
    "from torch.utils.tensorboard import SummaryWriter\n",
    "from tqdm import tqdm\n",
    "\n",
    "FILE = Path('./4. rhf_b41').absolute()\n",
    "sys.path.append(FILE.parents[0].as_posix())  # add yolov5/ to path\n",
    "\n",
    "import val  # for end-of-epoch mAP\n",
    "from models.experimental import attempt_load\n",
    "from models.yolo import Model\n",
    "from utils.autoanchor import check_anchors\n",
    "from utils.datasets import create_dataloader\n",
    "from utils.general import labels_to_class_weights, increment_path, labels_to_image_weights, init_seeds, \\\n",
    "    strip_optimizer, get_latest_run, check_dataset, check_file, check_git_status, check_img_size, \\\n",
    "    check_requirements, print_mutation, set_logging, one_cycle, colorstr\n",
    "from utils.google_utils import attempt_download\n",
    "from utils.loss import ComputeLoss\n",
    "from utils.plots import plot_images, plot_labels, plot_results, plot_evolution\n",
    "from utils.torch_utils import ModelEMA, select_device, intersect_dicts, torch_distributed_zero_first, de_parallel\n",
    "from utils.wandb_logging.wandb_utils import WandbLogger, check_wandb_resume\n",
    "from utils.metrics import fitness\n",
    "\n",
    "import easydict\n",
    "import warnings\n",
    "warnings.filterwarnings(action='ignore')"
   ]
  },
  {
   "cell_type": "code",
   "execution_count": 2,
   "id": "fd2d6036",
   "metadata": {},
   "outputs": [],
   "source": [
    "LOGGER = logging.getLogger(__name__)\n",
    "LOCAL_RANK = int(os.getenv('LOCAL_RANK', -1))  # https://pytorch.org/docs/stable/elastic/run.html\n",
    "RANK = int(os.getenv('RANK', -1))\n",
    "WORLD_SIZE = int(os.getenv('WORLD_SIZE', 1))"
   ]
  },
  {
   "cell_type": "code",
   "execution_count": 3,
   "id": "0bce2bd3",
   "metadata": {},
   "outputs": [],
   "source": [
    "def train(hyp,  # path/to/hyp.yaml or hyp dictionary\n",
    "          opt,\n",
    "          device,\n",
    "          ):\n",
    "    save_dir, epochs, batch_size, weights, single_cls, evolve, data, cfg, resume, noval, nosave, workers, = \\\n",
    "        Path(opt.save_dir), opt.epochs, opt.batch_size, opt.weights, opt.single_cls, opt.evolve, opt.data, opt.cfg, \\\n",
    "        opt.resume, opt.noval, opt.nosave, opt.workers\n",
    "\n",
    "    # Directories\n",
    "    w = save_dir / 'weights'  # weights dir\n",
    "    w.mkdir(parents=True, exist_ok=True)  # make dir\n",
    "    last, best, results_file = w / 'last.pt', w / 'best.pt', save_dir / 'results.txt'\n",
    "\n",
    "    # Hyperparameters\n",
    "    if isinstance(hyp, str):\n",
    "        with open(hyp) as f:\n",
    "            hyp = yaml.safe_load(f)  # load hyps dict\n",
    "    LOGGER.info(colorstr('hyperparameters: ') + ', '.join(f'{k}={v}' for k, v in hyp.items()))\n",
    "\n",
    "    # Save run settings\n",
    "    with open(save_dir / 'hyp.yaml', 'w') as f:\n",
    "        yaml.safe_dump(hyp, f, sort_keys=False)\n",
    "    with open(save_dir / 'opt.yaml', 'w') as f:\n",
    "        yaml.safe_dump(vars(opt), f, sort_keys=False)\n",
    "\n",
    "    # Configure\n",
    "    plots = not evolve  # create plots\n",
    "    cuda = device.type != 'cpu'\n",
    "    init_seeds(1 + RANK)\n",
    "    with open(data) as f:\n",
    "        data_dict = yaml.safe_load(f)  # data dict\n",
    "\n",
    "    # Loggers\n",
    "    loggers = {'wandb': None, 'tb': None}  # loggers dict\n",
    "    if RANK in [-1, 0]:\n",
    "        # TensorBoard\n",
    "        if plots:\n",
    "            prefix = colorstr('tensorboard: ')\n",
    "            LOGGER.info(f\"{prefix}Start with 'tensorboard --logdir {opt.project}', view at http://localhost:6006/\")\n",
    "            loggers['tb'] = SummaryWriter(str(save_dir))\n",
    "\n",
    "        # W&B\n",
    "        opt.hyp = hyp  # add hyperparameters\n",
    "        run_id = torch.load(weights).get('wandb_id') if weights.endswith('.pt') and os.path.isfile(weights) else None\n",
    "        run_id = run_id if opt.resume else None  # start fresh run if transfer learning\n",
    "        wandb_logger = WandbLogger(opt, save_dir.stem, run_id, data_dict)\n",
    "        loggers['wandb'] = wandb_logger.wandb\n",
    "        if loggers['wandb']:\n",
    "            data_dict = wandb_logger.data_dict\n",
    "            weights, epochs, hyp = opt.weights, opt.epochs, opt.hyp  # may update values if resuming\n",
    "\n",
    "    nc = 1 if single_cls else int(data_dict['nc'])  # number of classes\n",
    "    names = ['item'] if single_cls and len(data_dict['names']) != 1 else data_dict['names']  # class names\n",
    "    assert len(names) == nc, f'{len(names)} names found for nc={nc} dataset in {data}'  # check\n",
    "    is_coco = data.endswith('coco.yaml') and nc == 80  # COCO dataset\n",
    "\n",
    "    # Model\n",
    "    pretrained = weights.endswith('.pt')\n",
    "    if pretrained:\n",
    "        with torch_distributed_zero_first(RANK):\n",
    "            weights = attempt_download(weights)  # download if not found locally\n",
    "        ckpt = torch.load(weights, map_location=device)  # load checkpoint\n",
    "        model = Model(cfg or ckpt['model'].yaml, ch=3, nc=nc, anchors=hyp.get('anchors')).to(device)  # create\n",
    "        exclude = ['anchor'] if (cfg or hyp.get('anchors')) and not resume else []  # exclude keys\n",
    "        csd = ckpt['model'].float().state_dict()  # checkpoint state_dict as FP32\n",
    "        csd = intersect_dicts(csd, model.state_dict(), exclude=exclude)  # intersect\n",
    "        model.load_state_dict(csd, strict=False)  # load\n",
    "        LOGGER.info(f'Transferred {len(csd)}/{len(model.state_dict())} items from {weights}')  # report\n",
    "    else:\n",
    "        model = Model(cfg, ch=3, nc=nc, anchors=hyp.get('anchors')).to(device)  # create\n",
    "    with torch_distributed_zero_first(RANK):\n",
    "        check_dataset(data_dict)  # check\n",
    "    train_path, val_path = data_dict['train'], data_dict['val']\n",
    "\n",
    "    # Freeze\n",
    "    freeze = []  # parameter names to freeze (full or partial)\n",
    "    for k, v in model.named_parameters():\n",
    "        v.requires_grad = True  # train all layers\n",
    "        if any(x in k for x in freeze):\n",
    "            print(f'freezing {k}')\n",
    "            v.requires_grad = False\n",
    "\n",
    "    # Optimizer\n",
    "    nbs = 64  # nominal batch size\n",
    "    accumulate = max(round(nbs / batch_size), 1)  # accumulate loss before optimizing\n",
    "    hyp['weight_decay'] *= batch_size * accumulate / nbs  # scale weight_decay\n",
    "    LOGGER.info(f\"Scaled weight_decay = {hyp['weight_decay']}\")\n",
    "\n",
    "    g0, g1, g2 = [], [], []  # optimizer parameter groups\n",
    "    for v in model.modules():\n",
    "        if hasattr(v, 'bias') and isinstance(v.bias, nn.Parameter):  # bias\n",
    "            g2.append(v.bias)\n",
    "        if isinstance(v, nn.BatchNorm2d):  # weight with decay\n",
    "            g0.append(v.weight)\n",
    "        elif hasattr(v, 'weight') and isinstance(v.weight, nn.Parameter):  # weight without decay\n",
    "            g1.append(v.weight)\n",
    "\n",
    "    if opt.adam:\n",
    "        optimizer = Adam(g0, lr=hyp['lr0'], betas=(hyp['momentum'], 0.999))  # adjust beta1 to momentum\n",
    "    else:\n",
    "        optimizer = SGD(g0, lr=hyp['lr0'], momentum=hyp['momentum'], nesterov=True)\n",
    "\n",
    "    optimizer.add_param_group({'params': g1, 'weight_decay': hyp['weight_decay']})  # add g1 with weight_decay\n",
    "    optimizer.add_param_group({'params': g2})  # add g2 (biases)\n",
    "    LOGGER.info(f\"{colorstr('optimizer:')} {type(optimizer).__name__} with parameter groups \"\n",
    "                f\"{len(g0)} weight, {len(g1)} weight (no decay), {len(g2)} bias\")\n",
    "    del g0, g1, g2\n",
    "\n",
    "    # Scheduler\n",
    "    if opt.linear_lr:\n",
    "        lf = lambda x: (1 - x / (epochs - 1)) * (1.0 - hyp['lrf']) + hyp['lrf']  # linear\n",
    "    else:\n",
    "        lf = one_cycle(1, hyp['lrf'], epochs)  # cosine 1->hyp['lrf']\n",
    "    scheduler = lr_scheduler.LambdaLR(optimizer, lr_lambda=lf)  # plot_lr_scheduler(optimizer, scheduler, epochs)\n",
    "\n",
    "    # EMA\n",
    "    ema = ModelEMA(model) if RANK in [-1, 0] else None\n",
    "\n",
    "    # Resume\n",
    "    start_epoch, best_fitness = 0, 0.0\n",
    "    if pretrained:\n",
    "        # Optimizer\n",
    "        if ckpt['optimizer'] is not None:\n",
    "            optimizer.load_state_dict(ckpt['optimizer'])\n",
    "            best_fitness = ckpt['best_fitness']\n",
    "\n",
    "        # EMA\n",
    "        if ema and ckpt.get('ema'):\n",
    "            ema.ema.load_state_dict(ckpt['ema'].float().state_dict())\n",
    "            ema.updates = ckpt['updates']\n",
    "\n",
    "        # Results\n",
    "        if ckpt.get('training_results') is not None:\n",
    "            results_file.write_text(ckpt['training_results'])  # write results.txt\n",
    "\n",
    "        # Epochs\n",
    "        start_epoch = ckpt['epoch'] + 1\n",
    "        if resume:\n",
    "            assert start_epoch > 0, f'{weights} training to {epochs} epochs is finished, nothing to resume.'\n",
    "        if epochs < start_epoch:\n",
    "            LOGGER.info(f\"{weights} has been trained for {ckpt['epoch']} epochs. Fine-tuning for {epochs} more epochs.\")\n",
    "            epochs += ckpt['epoch']  # finetune additional epochs\n",
    "\n",
    "        del ckpt, csd\n",
    "\n",
    "    # Image sizes\n",
    "    gs = max(int(model.stride.max()), 32)  # grid size (max stride)\n",
    "    nl = model.model[-1].nl  # number of detection layers (used for scaling hyp['obj'])\n",
    "    imgsz = check_img_size(opt.imgsz, gs, floor=gs * 2)  # verify imgsz is gs-multiple\n",
    "\n",
    "    # DP mode\n",
    "    if cuda and RANK == -1 and torch.cuda.device_count() > 1:\n",
    "        logging.warning('DP not recommended, instead use torch.distributed.run for best DDP Multi-GPU results.\\n'\n",
    "                        'See Multi-GPU Tutorial at https://github.com/ultralytics/yolov5/issues/475 to get started.')\n",
    "        model = torch.nn.DataParallel(model)\n",
    "\n",
    "    # SyncBatchNorm\n",
    "    if opt.sync_bn and cuda and RANK != -1:\n",
    "        model = torch.nn.SyncBatchNorm.convert_sync_batchnorm(model).to(device)\n",
    "        LOGGER.info('Using SyncBatchNorm()')\n",
    "\n",
    "    # Trainloader\n",
    "    train_loader, dataset = create_dataloader(train_path, imgsz, batch_size // WORLD_SIZE, gs, single_cls,\n",
    "                                              hyp=hyp, augment=True, cache=opt.cache_images, rect=opt.rect, rank=RANK,\n",
    "                                              workers=workers, image_weights=opt.image_weights, quad=opt.quad,\n",
    "                                              prefix=colorstr('train: '))\n",
    "    mlc = np.concatenate(dataset.labels, 0)[:, 0].max()  # max label class\n",
    "    nb = len(train_loader)  # number of batches\n",
    "    assert mlc < nc, f'Label class {mlc} exceeds nc={nc} in {data}. Possible class labels are 0-{nc - 1}'\n",
    "\n",
    "    # Process 0\n",
    "    if RANK in [-1, 0]:\n",
    "        val_loader = create_dataloader(val_path, imgsz, batch_size // WORLD_SIZE * 2, gs, single_cls,\n",
    "                                       hyp=hyp, cache=opt.cache_images and not noval, rect=True, rank=-1,\n",
    "                                       workers=workers, pad=0.5,\n",
    "                                       prefix=colorstr('val: '))[0]\n",
    "\n",
    "        if not resume:\n",
    "            labels = np.concatenate(dataset.labels, 0)\n",
    "            # c = torch.tensor(labels[:, 0])  # classes\n",
    "            # cf = torch.bincount(c.long(), minlength=nc) + 1.  # frequency\n",
    "            # model._initialize_biases(cf.to(device))\n",
    "            if plots:\n",
    "                plot_labels(labels, names, save_dir, loggers)\n",
    "\n",
    "            # Anchors\n",
    "            if not opt.noautoanchor:\n",
    "                check_anchors(dataset, model=model, thr=hyp['anchor_t'], imgsz=imgsz)\n",
    "            model.half().float()  # pre-reduce anchor precision\n",
    "\n",
    "    # DDP mode\n",
    "    if cuda and RANK != -1:\n",
    "        model = DDP(model, device_ids=[LOCAL_RANK], output_device=LOCAL_RANK)\n",
    "\n",
    "    # Model parameters\n",
    "    hyp['box'] *= 3. / nl  # scale to layers\n",
    "    hyp['cls'] *= nc / 5. * 3. / nl  # scale to classes and layers\n",
    "    hyp['obj'] *= (imgsz / 640) ** 2 * 3. / nl  # scale to image size and layers\n",
    "    hyp['label_smoothing'] = opt.label_smoothing\n",
    "    model.nc = nc  # attach number of classes to model\n",
    "    model.hyp = hyp  # attach hyperparameters to model\n",
    "    model.class_weights = labels_to_class_weights(dataset.labels, nc).to(device) * nc  # attach class weights\n",
    "    model.names = names\n",
    "\n",
    "    # Start training\n",
    "    t0 = time.time()\n",
    "    nw = max(round(hyp['warmup_epochs'] * nb), 1000)  # number of warmup iterations, max(3 epochs, 1k iterations)\n",
    "    # nw = min(nw, (epochs - start_epoch) / 2 * nb)  # limit warmup to < 1/2 of training\n",
    "    last_opt_step = -1\n",
    "    maps = np.zeros(nc)  # mAP per class\n",
    "    results = (0, 0, 0, 0, 0, 0, 0)  # P, R, mAP@.5, mAP@.5-.95, val_loss(box, obj, cls)\n",
    "    scheduler.last_epoch = start_epoch - 1  # do not move\n",
    "    scaler = amp.GradScaler(enabled=cuda)\n",
    "    compute_loss = ComputeLoss(model)  # init loss class\n",
    "    LOGGER.info(f'Image sizes {imgsz} train, {imgsz} val\\n'\n",
    "                f'Using {train_loader.num_workers} dataloader workers\\n'\n",
    "                f'Logging results to {save_dir}\\n'\n",
    "                f'Starting training for {epochs} epochs...')\n",
    "    for epoch in range(start_epoch, epochs):  # epoch ------------------------------------------------------------------\n",
    "        model.train()\n",
    "\n",
    "        # Update image weights (optional)\n",
    "        if opt.image_weights:\n",
    "            # Generate indices\n",
    "            if RANK in [-1, 0]:\n",
    "                cw = model.class_weights.cpu().numpy() * (1 - maps) ** 2 / nc  # class weights\n",
    "                iw = labels_to_image_weights(dataset.labels, nc=nc, class_weights=cw)  # image weights\n",
    "                dataset.indices = random.choices(range(dataset.n), weights=iw, k=dataset.n)  # rand weighted idx\n",
    "            # Broadcast if DDP\n",
    "            if RANK != -1:\n",
    "                indices = (torch.tensor(dataset.indices) if RANK == 0 else torch.zeros(dataset.n)).int()\n",
    "                dist.broadcast(indices, 0)\n",
    "                if RANK != 0:\n",
    "                    dataset.indices = indices.cpu().numpy()\n",
    "\n",
    "        # Update mosaic border\n",
    "        # b = int(random.uniform(0.25 * imgsz, 0.75 * imgsz + gs) // gs * gs)\n",
    "        # dataset.mosaic_border = [b - imgsz, -b]  # height, width borders\n",
    "\n",
    "        mloss = torch.zeros(4, device=device)  # mean losses\n",
    "        if RANK != -1:\n",
    "            train_loader.sampler.set_epoch(epoch)\n",
    "        pbar = enumerate(train_loader)\n",
    "        LOGGER.info(('\\n' + '%10s' * 8) % ('Epoch', 'gpu_mem', 'box', 'obj', 'cls', 'total', 'labels', 'img_size'))\n",
    "        if RANK in [-1, 0]:\n",
    "            pbar = tqdm(pbar, total=nb)  # progress bar\n",
    "        optimizer.zero_grad()\n",
    "        for i, (imgs, targets, paths, _) in pbar:  # batch -------------------------------------------------------------\n",
    "            ni = i + nb * epoch  # number integrated batches (since train start)\n",
    "            imgs = imgs.to(device, non_blocking=True).float() / 255.0  # uint8 to float32, 0-255 to 0.0-1.0\n",
    "\n",
    "            # Warmup\n",
    "            if ni <= nw:\n",
    "                xi = [0, nw]  # x interp\n",
    "                # compute_loss.gr = np.interp(ni, xi, [0.0, 1.0])  # iou loss ratio (obj_loss = 1.0 or iou)\n",
    "                accumulate = max(1, np.interp(ni, xi, [1, nbs / batch_size]).round())\n",
    "                for j, x in enumerate(optimizer.param_groups):\n",
    "                    # bias lr falls from 0.1 to lr0, all other lrs rise from 0.0 to lr0\n",
    "                    x['lr'] = np.interp(ni, xi, [hyp['warmup_bias_lr'] if j == 2 else 0.0, x['initial_lr'] * lf(epoch)])\n",
    "                    if 'momentum' in x:\n",
    "                        x['momentum'] = np.interp(ni, xi, [hyp['warmup_momentum'], hyp['momentum']])\n",
    "\n",
    "            # Multi-scale\n",
    "            if opt.multi_scale:\n",
    "                sz = random.randrange(imgsz * 0.5, imgsz * 1.5 + gs) // gs * gs  # size\n",
    "                sf = sz / max(imgs.shape[2:])  # scale factor\n",
    "                if sf != 1:\n",
    "                    ns = [math.ceil(x * sf / gs) * gs for x in imgs.shape[2:]]  # new shape (stretched to gs-multiple)\n",
    "                    imgs = nn.functional.interpolate(imgs, size=ns, mode='bilinear', align_corners=False)\n",
    "\n",
    "            # Forward\n",
    "            with amp.autocast(enabled=cuda):\n",
    "                pred = model(imgs)  # forward\n",
    "                loss, loss_items = compute_loss(pred, targets.to(device))  # loss scaled by batch_size\n",
    "                if RANK != -1:\n",
    "                    loss *= WORLD_SIZE  # gradient averaged between devices in DDP mode\n",
    "                if opt.quad:\n",
    "                    loss *= 4.\n",
    "\n",
    "            # Backward\n",
    "            scaler.scale(loss).backward()\n",
    "\n",
    "            # Optimize\n",
    "            if ni - last_opt_step >= accumulate:\n",
    "                scaler.step(optimizer)  # optimizer.step\n",
    "                scaler.update()\n",
    "                optimizer.zero_grad()\n",
    "                if ema:\n",
    "                    ema.update(model)\n",
    "                last_opt_step = ni\n",
    "\n",
    "            # Print\n",
    "            if RANK in [-1, 0]:\n",
    "                mloss = (mloss * i + loss_items) / (i + 1)  # update mean losses\n",
    "                mem = f'{torch.cuda.memory_reserved() / 1E9 if torch.cuda.is_available() else 0:.3g}G'  # (GB)\n",
    "                s = ('%10s' * 2 + '%10.4g' * 6) % (\n",
    "                    f'{epoch}/{epochs - 1}', mem, *mloss, targets.shape[0], imgs.shape[-1])\n",
    "                pbar.set_description(s)\n",
    "\n",
    "                # Plot\n",
    "                if plots and ni < 3:\n",
    "                    f = save_dir / f'train_batch{ni}.jpg'  # filename\n",
    "                    Thread(target=plot_images, args=(imgs, targets, paths, f), daemon=True).start()\n",
    "                    if loggers['tb'] and ni == 0:  # TensorBoard\n",
    "                        with warnings.catch_warnings():\n",
    "                            warnings.simplefilter('ignore')  # suppress jit trace warning\n",
    "                            loggers['tb'].add_graph(torch.jit.trace(de_parallel(model), imgs[0:1], strict=False), [])\n",
    "                elif plots and ni == 10 and loggers['wandb']:\n",
    "                    wandb_logger.log({'Mosaics': [loggers['wandb'].Image(str(x), caption=x.name) for x in\n",
    "                                                  save_dir.glob('train*.jpg') if x.exists()]})\n",
    "\n",
    "            # end batch ------------------------------------------------------------------------------------------------\n",
    "\n",
    "        # Scheduler\n",
    "        lr = [x['lr'] for x in optimizer.param_groups]  # for loggers\n",
    "        scheduler.step()\n",
    "\n",
    "        # DDP process 0 or single-GPU\n",
    "        if RANK in [-1, 0]:\n",
    "            # mAP\n",
    "            ema.update_attr(model, include=['yaml', 'nc', 'hyp', 'names', 'stride', 'class_weights'])\n",
    "            final_epoch = epoch + 1 == epochs\n",
    "            if not noval or final_epoch:  # Calculate mAP\n",
    "                wandb_logger.current_epoch = epoch + 1\n",
    "                results, maps, _ = val.run(data_dict,\n",
    "                                           batch_size=batch_size // WORLD_SIZE * 2,\n",
    "                                           imgsz=imgsz,\n",
    "                                           model=ema.ema,\n",
    "                                           single_cls=single_cls,\n",
    "                                           dataloader=val_loader,\n",
    "                                           save_dir=save_dir,\n",
    "                                           save_json=is_coco and final_epoch,\n",
    "                                           verbose=nc < 50 and final_epoch,\n",
    "                                           plots=plots and final_epoch,\n",
    "                                           wandb_logger=wandb_logger,\n",
    "                                           compute_loss=compute_loss)\n",
    "\n",
    "            # Write\n",
    "            with open(results_file, 'a') as f:\n",
    "                f.write(s + '%10.4g' * 7 % results + '\\n')  # append metrics, val_loss\n",
    "\n",
    "            # Log\n",
    "            tags = ['train/box_loss', 'train/obj_loss', 'train/cls_loss',  # train loss\n",
    "                    'metrics/precision', 'metrics/recall', 'metrics/mAP_0.5', 'metrics/mAP_0.5:0.95',\n",
    "                    'val/box_loss', 'val/obj_loss', 'val/cls_loss',  # val loss\n",
    "                    'x/lr0', 'x/lr1', 'x/lr2']  # params\n",
    "            for x, tag in zip(list(mloss[:-1]) + list(results) + lr, tags):\n",
    "                if loggers['tb']:\n",
    "                    loggers['tb'].add_scalar(tag, x, epoch)  # TensorBoard\n",
    "                if loggers['wandb']:\n",
    "                    wandb_logger.log({tag: x})  # W&B\n",
    "\n",
    "            # Update best mAP\n",
    "            fi = fitness(np.array(results).reshape(1, -1))  # weighted combination of [P, R, mAP@.5, mAP@.5-.95]\n",
    "            if fi > best_fitness:\n",
    "                best_fitness = fi\n",
    "            wandb_logger.end_epoch(best_result=best_fitness == fi)\n",
    "\n",
    "            # Save model\n",
    "            if (not nosave) or (final_epoch and not evolve):  # if save\n",
    "                ckpt = {'epoch': epoch,\n",
    "                        'best_fitness': best_fitness,\n",
    "                        'training_results': results_file.read_text(),\n",
    "                        'model': deepcopy(de_parallel(model)).half(),\n",
    "                        'ema': deepcopy(ema.ema).half(),\n",
    "                        'updates': ema.updates,\n",
    "                        'optimizer': optimizer.state_dict(),\n",
    "                        'wandb_id': wandb_logger.wandb_run.id if loggers['wandb'] else None}\n",
    "\n",
    "                # Save last, best and delete\n",
    "                torch.save(ckpt, last)\n",
    "                if best_fitness == fi:\n",
    "                    torch.save(ckpt, best)\n",
    "                if loggers['wandb']:\n",
    "                    if ((epoch + 1) % opt.save_period == 0 and not final_epoch) and opt.save_period != -1:\n",
    "                        wandb_logger.log_model(last.parent, opt, epoch, fi, best_model=best_fitness == fi)\n",
    "                del ckpt\n",
    "\n",
    "        # end epoch ----------------------------------------------------------------------------------------------------\n",
    "    # end training -----------------------------------------------------------------------------------------------------\n",
    "    if RANK in [-1, 0]:\n",
    "        LOGGER.info(f'{epoch - start_epoch + 1} epochs completed in {(time.time() - t0) / 3600:.3f} hours.\\n')\n",
    "        if plots:\n",
    "            plot_results(save_dir=save_dir)  # save as results.png\n",
    "            if loggers['wandb']:\n",
    "                files = ['results.png', 'confusion_matrix.png', *[f'{x}_curve.png' for x in ('F1', 'PR', 'P', 'R')]]\n",
    "                wandb_logger.log({\"Results\": [loggers['wandb'].Image(str(save_dir / f), caption=f) for f in files\n",
    "                                              if (save_dir / f).exists()]})\n",
    "\n",
    "        if not evolve:\n",
    "            if is_coco:  # COCO dataset\n",
    "                for m in [last, best] if best.exists() else [last]:  # speed, mAP tests\n",
    "                    results, _, _ = val.run(data_dict,\n",
    "                                            batch_size=batch_size // WORLD_SIZE * 2,\n",
    "                                            imgsz=imgsz,\n",
    "                                            model=attempt_load(m, device).half(),\n",
    "                                            iou_thres=0.7,  # NMS IoU threshold for best pycocotools results\n",
    "                                            single_cls=single_cls,\n",
    "                                            dataloader=val_loader,\n",
    "                                            save_dir=save_dir,\n",
    "                                            save_json=True,\n",
    "                                            plots=False)\n",
    "\n",
    "            # Strip optimizers\n",
    "            for f in last, best:\n",
    "                if f.exists():\n",
    "                    strip_optimizer(f)  # strip optimizers\n",
    "            if loggers['wandb']:  # Log the stripped model\n",
    "                loggers['wandb'].log_artifact(str(best if best.exists() else last), type='model',\n",
    "                                              name='run_' + wandb_logger.wandb_run.id + '_model',\n",
    "                                              aliases=['latest', 'best', 'stripped'])\n",
    "        wandb_logger.finish_run()\n",
    "\n",
    "    torch.cuda.empty_cache()\n",
    "    return results"
   ]
  },
  {
   "cell_type": "code",
   "execution_count": 4,
   "id": "bf80703c",
   "metadata": {
    "scrolled": true
   },
   "outputs": [
    {
     "data": {
      "text/plain": [
       "'\\nparser = argparse.ArgumentParser()\\nparser.add_argument(\\'--weights\\', type=str, default=\\'yolov5s.pt\\', help=\\'initial weights path\\')\\nparser.add_argument(\\'--cfg\\', type=str, default=\\'\\', help=\\'model.yaml path\\')\\nparser.add_argument(\\'--data\\', type=str, default=\\'data/coco128.yaml\\', help=\\'dataset.yaml path\\')\\nparser.add_argument(\\'--hyp\\', type=str, default=\\'data/hyp.scratch.yaml\\', help=\\'hyperparameters path\\')\\nparser.add_argument(\\'--epochs\\', type=int, default=300)\\nparser.add_argument(\\'--batch-size\\', type=int, default=16, help=\\'total batch size for all GPUs\\')\\nparser.add_argument(\\'--imgsz\\', \\'--img\\', \\'--img-size\\', type=int, default=640, help=\\'train, val image size (pixels)\\')\\nparser.add_argument(\\'--rect\\', action=\\'store_true\\', help=\\'rectangular training\\')\\nparser.add_argument(\\'--resume\\', nargs=\\'?\\', const=True, default=False, help=\\'resume most recent training\\')\\nparser.add_argument(\\'--nosave\\', action=\\'store_true\\', help=\\'only save final checkpoint\\')\\nparser.add_argument(\\'--notest\\', action=\\'store_true\\', help=\\'only test final epoch\\')\\nparser.add_argument(\\'--noautoanchor\\', action=\\'store_true\\', help=\\'disable autoanchor check\\')\\nparser.add_argument(\\'--evolve\\', action=\\'store_true\\', help=\\'evolve hyperparameters\\')\\nparser.add_argument(\\'--bucket\\', type=str, default=\\'\\', help=\\'gsutil bucket\\')\\nparser.add_argument(\\'--cache-images\\', action=\\'store_true\\', help=\\'cache images for faster training\\')\\nparser.add_argument(\\'--image-weights\\', action=\\'store_true\\', help=\\'use weighted image selection for training\\')\\nparser.add_argument(\\'--device\\', default=\\'\\', help=\\'cuda device, i.e. 0 or 0,1,2,3 or cpu\\')\\nparser.add_argument(\\'--multi-scale\\', action=\\'store_true\\', help=\\'vary img-size +/- 50%%\\')\\nparser.add_argument(\\'--single-cls\\', action=\\'store_true\\', help=\\'train multi-class data as single-class\\')\\nparser.add_argument(\\'--adam\\', action=\\'store_true\\', help=\\'use torch.optim.Adam() optimizer\\')\\nparser.add_argument(\\'--sync-bn\\', action=\\'store_true\\', help=\\'use SyncBatchNorm, only available in DDP mode\\')\\nparser.add_argument(\\'--local_rank\\', type=int, default=-1, help=\\'DDP parameter, do not modify\\')\\nparser.add_argument(\\'--workers\\', type=int, default=8, help=\\'maximum number of dataloader workers\\')\\nparser.add_argument(\\'--project\\', default=\\'runs/train\\', help=\\'save to project/name\\')\\nparser.add_argument(\\'--entity\\', default=None, help=\\'W&B entity\\')\\nparser.add_argument(\\'--name\\', default=\\'exp\\', help=\\'save to project/name\\')\\nparser.add_argument(\\'--exist-ok\\', action=\\'store_true\\', help=\\'existing project/name ok, do not increment\\')\\nparser.add_argument(\\'--quad\\', action=\\'store_true\\', help=\\'quad dataloader\\')\\nparser.add_argument(\\'--linear-lr\\', action=\\'store_true\\', help=\\'linear LR\\')\\nparser.add_argument(\\'--label-smoothing\\', type=float, default=0.0, help=\\'Label smoothing epsilon\\')\\nparser.add_argument(\\'--upload_dataset\\', action=\\'store_true\\', help=\\'Upload dataset as W&B artifact table\\')\\nparser.add_argument(\\'--bbox_interval\\', type=int, default=-1, help=\\'Set bounding-box image logging interval for W&B\\')\\nparser.add_argument(\\'--save_period\\', type=int, default=-1, help=\\'Log model after every \"save_period\" epoch\\')\\nparser.add_argument(\\'--artifact_alias\\', type=str, default=\"latest\", help=\\'version of dataset artifact to be used\\')\\nopt = parser.parse_args()\\n'"
      ]
     },
     "execution_count": 4,
     "metadata": {},
     "output_type": "execute_result"
    }
   ],
   "source": [
    "\"\"\"\n",
    "parser = argparse.ArgumentParser()\n",
    "parser.add_argument('--weights', type=str, default='yolov5s.pt', help='initial weights path')\n",
    "parser.add_argument('--cfg', type=str, default='', help='model.yaml path')\n",
    "parser.add_argument('--data', type=str, default='data/coco128.yaml', help='dataset.yaml path')\n",
    "parser.add_argument('--hyp', type=str, default='data/hyp.scratch.yaml', help='hyperparameters path')\n",
    "parser.add_argument('--epochs', type=int, default=300)\n",
    "parser.add_argument('--batch-size', type=int, default=16, help='total batch size for all GPUs')\n",
    "parser.add_argument('--imgsz', '--img', '--img-size', type=int, default=640, help='train, val image size (pixels)')\n",
    "parser.add_argument('--rect', action='store_true', help='rectangular training')\n",
    "parser.add_argument('--resume', nargs='?', const=True, default=False, help='resume most recent training')\n",
    "parser.add_argument('--nosave', action='store_true', help='only save final checkpoint')\n",
    "parser.add_argument('--notest', action='store_true', help='only test final epoch')\n",
    "parser.add_argument('--noautoanchor', action='store_true', help='disable autoanchor check')\n",
    "parser.add_argument('--evolve', action='store_true', help='evolve hyperparameters')\n",
    "parser.add_argument('--bucket', type=str, default='', help='gsutil bucket')\n",
    "parser.add_argument('--cache-images', action='store_true', help='cache images for faster training')\n",
    "parser.add_argument('--image-weights', action='store_true', help='use weighted image selection for training')\n",
    "parser.add_argument('--device', default='', help='cuda device, i.e. 0 or 0,1,2,3 or cpu')\n",
    "parser.add_argument('--multi-scale', action='store_true', help='vary img-size +/- 50%%')\n",
    "parser.add_argument('--single-cls', action='store_true', help='train multi-class data as single-class')\n",
    "parser.add_argument('--adam', action='store_true', help='use torch.optim.Adam() optimizer')\n",
    "parser.add_argument('--sync-bn', action='store_true', help='use SyncBatchNorm, only available in DDP mode')\n",
    "parser.add_argument('--local_rank', type=int, default=-1, help='DDP parameter, do not modify')\n",
    "parser.add_argument('--workers', type=int, default=8, help='maximum number of dataloader workers')\n",
    "parser.add_argument('--project', default='runs/train', help='save to project/name')\n",
    "parser.add_argument('--entity', default=None, help='W&B entity')\n",
    "parser.add_argument('--name', default='exp', help='save to project/name')\n",
    "parser.add_argument('--exist-ok', action='store_true', help='existing project/name ok, do not increment')\n",
    "parser.add_argument('--quad', action='store_true', help='quad dataloader')\n",
    "parser.add_argument('--linear-lr', action='store_true', help='linear LR')\n",
    "parser.add_argument('--label-smoothing', type=float, default=0.0, help='Label smoothing epsilon')\n",
    "parser.add_argument('--upload_dataset', action='store_true', help='Upload dataset as W&B artifact table')\n",
    "parser.add_argument('--bbox_interval', type=int, default=-1, help='Set bounding-box image logging interval for W&B')\n",
    "parser.add_argument('--save_period', type=int, default=-1, help='Log model after every \"save_period\" epoch')\n",
    "parser.add_argument('--artifact_alias', type=str, default=\"latest\", help='version of dataset artifact to be used')\n",
    "opt = parser.parse_args()\n",
    "\"\"\""
   ]
  },
  {
   "cell_type": "code",
   "execution_count": 5,
   "id": "60503371",
   "metadata": {},
   "outputs": [],
   "source": [
    "opt = easydict.EasyDict({\"weights\": './weights/yolov5x.pt',\n",
    "                         \"cfg\": '', # ./models/yolov5x.yaml\n",
    "                         \"data\": './data/oriental.yaml',\n",
    "                         \"hyp\": './data/hyps/hyp.scratch.yaml',\n",
    "                         \"epochs\": 300,\n",
    "                         \"batch_size\": 16,\n",
    "                         \"imgsz\": 640,\n",
    "                         \"rect\": False,\n",
    "                         \"resume\": False,\n",
    "                         \"nosave\": False,\n",
    "                         \"noval\": False,\n",
    "                         \"noautoanchor\": False,\n",
    "                         \"evolve\": False,\n",
    "                         \"bucket\": '',\n",
    "                         \"cache_images\": True,\n",
    "                         \"image_weights\": False,\n",
    "                         \"device\": '0',\n",
    "                         \"multi_scale\": False,\n",
    "                         \"single_cls\": False,\n",
    "                         \"adam\": False,\n",
    "                         \"sync_bn\": False,\n",
    "                         \"workers\": 8,\n",
    "                         \"project\": './runs/train',\n",
    "                         \"entity\": None,\n",
    "                         \"name\": 'exp',\n",
    "                         \"exist_ok\": False,\n",
    "                         \"quad\": False,\n",
    "                         \"linear_lr\": False,\n",
    "                         \"label_smoothing\": 0.0,\n",
    "                         \"upload_dataset\": False,\n",
    "                         \"bbox_interval\": -1,\n",
    "                         \"save_period\": -1,\n",
    "                         \"artifact_alias\": 'latest',\n",
    "                         \"local_rank\": -1})"
   ]
  },
  {
   "cell_type": "code",
   "execution_count": 6,
   "id": "88df0908",
   "metadata": {},
   "outputs": [],
   "source": [
    "def main(opt):\n",
    "    set_logging(RANK)\n",
    "    if RANK in [-1, 0]:\n",
    "        print(colorstr('train: ') + ', '.join(f'{k}={v}' for k, v in vars(opt).items()))\n",
    "        check_git_status()\n",
    "        check_requirements(exclude=['thop'])\n",
    "\n",
    "    # Resume\n",
    "    if opt.resume and not check_wandb_resume(opt):  # resume an interrupted run\n",
    "        ckpt = opt.resume if isinstance(opt.resume, str) else get_latest_run()  # specified or most recent path\n",
    "        assert os.path.isfile(ckpt), 'ERROR: --resume checkpoint does not exist'\n",
    "        with open(Path(ckpt).parent.parent / 'opt.yaml') as f:\n",
    "            opt = argparse.Namespace(**yaml.safe_load(f))  # replace\n",
    "        opt.cfg, opt.weights, opt.resume = '', ckpt, True  # reinstate\n",
    "        LOGGER.info(f'Resuming training from {ckpt}')\n",
    "    else:\n",
    "        opt.data, opt.cfg, opt.hyp = check_file(opt.data), check_file(opt.cfg), check_file(opt.hyp)  # check files\n",
    "        assert len(opt.cfg) or len(opt.weights), 'either --cfg or --weights must be specified'\n",
    "        opt.name = 'evolve' if opt.evolve else opt.name\n",
    "        opt.save_dir = str(increment_path(Path(opt.project) / opt.name, exist_ok=opt.exist_ok or opt.evolve))\n",
    "\n",
    "    # DDP mode\n",
    "    device = select_device(opt.device, batch_size=opt.batch_size)\n",
    "    if LOCAL_RANK != -1:\n",
    "        from datetime import timedelta\n",
    "        assert torch.cuda.device_count() > LOCAL_RANK, 'insufficient CUDA devices for DDP command'\n",
    "        assert opt.batch_size % WORLD_SIZE == 0, '--batch-size must be multiple of CUDA device count'\n",
    "        assert not opt.image_weights, '--image-weights argument is not compatible with DDP training'\n",
    "        assert not opt.evolve, '--evolve argument is not compatible with DDP training'\n",
    "        assert not opt.sync_bn, '--sync-bn known training issue, see https://github.com/ultralytics/yolov5/issues/3998'\n",
    "        torch.cuda.set_device(LOCAL_RANK)\n",
    "        device = torch.device('cuda', LOCAL_RANK)\n",
    "        dist.init_process_group(backend=\"nccl\" if dist.is_nccl_available() else \"gloo\", timeout=timedelta(seconds=60))\n",
    "\n",
    "    # Train\n",
    "    if not opt.evolve:\n",
    "        train(opt.hyp, opt, device)\n",
    "        if WORLD_SIZE > 1 and RANK == 0:\n",
    "            _ = [print('Destroying process group... ', end=''), dist.destroy_process_group(), print('Done.')]\n",
    "\n",
    "    # Evolve hyperparameters (optional)\n",
    "    else:\n",
    "        # Hyperparameter evolution metadata (mutation scale 0-1, lower_limit, upper_limit)\n",
    "        meta = {'lr0': (1, 1e-5, 1e-1),  # initial learning rate (SGD=1E-2, Adam=1E-3)\n",
    "                'lrf': (1, 0.01, 1.0),  # final OneCycleLR learning rate (lr0 * lrf)\n",
    "                'momentum': (0.3, 0.6, 0.98),  # SGD momentum/Adam beta1\n",
    "                'weight_decay': (1, 0.0, 0.001),  # optimizer weight decay\n",
    "                'warmup_epochs': (1, 0.0, 5.0),  # warmup epochs (fractions ok)\n",
    "                'warmup_momentum': (1, 0.0, 0.95),  # warmup initial momentum\n",
    "                'warmup_bias_lr': (1, 0.0, 0.2),  # warmup initial bias lr\n",
    "                'box': (1, 0.02, 0.2),  # box loss gain\n",
    "                'cls': (1, 0.2, 4.0),  # cls loss gain\n",
    "                'cls_pw': (1, 0.5, 2.0),  # cls BCELoss positive_weight\n",
    "                'obj': (1, 0.2, 4.0),  # obj loss gain (scale with pixels)\n",
    "                'obj_pw': (1, 0.5, 2.0),  # obj BCELoss positive_weight\n",
    "                'iou_t': (0, 0.1, 0.7),  # IoU training threshold\n",
    "                'anchor_t': (1, 2.0, 8.0),  # anchor-multiple threshold\n",
    "                'anchors': (2, 2.0, 10.0),  # anchors per output grid (0 to ignore)\n",
    "                'fl_gamma': (0, 0.0, 2.0),  # focal loss gamma (efficientDet default gamma=1.5)\n",
    "                'hsv_h': (1, 0.0, 0.1),  # image HSV-Hue augmentation (fraction)\n",
    "                'hsv_s': (1, 0.0, 0.9),  # image HSV-Saturation augmentation (fraction)\n",
    "                'hsv_v': (1, 0.0, 0.9),  # image HSV-Value augmentation (fraction)\n",
    "                'degrees': (1, 0.0, 45.0),  # image rotation (+/- deg)\n",
    "                'translate': (1, 0.0, 0.9),  # image translation (+/- fraction)\n",
    "                'scale': (1, 0.0, 0.9),  # image scale (+/- gain)\n",
    "                'shear': (1, 0.0, 10.0),  # image shear (+/- deg)\n",
    "                'perspective': (0, 0.0, 0.001),  # image perspective (+/- fraction), range 0-0.001\n",
    "                'flipud': (1, 0.0, 1.0),  # image flip up-down (probability)\n",
    "                'fliplr': (0, 0.0, 1.0),  # image flip left-right (probability)\n",
    "                'mosaic': (1, 0.0, 1.0),  # image mixup (probability)\n",
    "                'mixup': (1, 0.0, 1.0),  # image mixup (probability)\n",
    "                'copy_paste': (1, 0.0, 1.0)}  # segment copy-paste (probability)\n",
    "\n",
    "        with open(opt.hyp) as f:\n",
    "            hyp = yaml.safe_load(f)  # load hyps dict\n",
    "            if 'anchors' not in hyp:  # anchors commented in hyp.yaml\n",
    "                hyp['anchors'] = 3\n",
    "        opt.noval, opt.nosave = True, True  # only val/save final epoch\n",
    "        # ei = [isinstance(x, (int, float)) for x in hyp.values()]  # evolvable indices\n",
    "        yaml_file = Path(opt.save_dir) / 'hyp_evolved.yaml'  # save best result here\n",
    "        if opt.bucket:\n",
    "            os.system(f'gsutil cp gs://{opt.bucket}/evolve.txt .')  # download evolve.txt if exists\n",
    "\n",
    "        for _ in range(opt.evolve):  # generations to evolve\n",
    "            if Path('evolve.txt').exists():  # if evolve.txt exists: select best hyps and mutate\n",
    "                # Select parent(s)\n",
    "                parent = 'single'  # parent selection method: 'single' or 'weighted'\n",
    "                x = np.loadtxt('evolve.txt', ndmin=2)\n",
    "                n = min(5, len(x))  # number of previous results to consider\n",
    "                x = x[np.argsort(-fitness(x))][:n]  # top n mutations\n",
    "                w = fitness(x) - fitness(x).min() + 1E-6  # weights (sum > 0)\n",
    "                if parent == 'single' or len(x) == 1:\n",
    "                    # x = x[random.randint(0, n - 1)]  # random selection\n",
    "                    x = x[random.choices(range(n), weights=w)[0]]  # weighted selection\n",
    "                elif parent == 'weighted':\n",
    "                    x = (x * w.reshape(n, 1)).sum(0) / w.sum()  # weighted combination\n",
    "\n",
    "                # Mutate\n",
    "                mp, s = 0.8, 0.2  # mutation probability, sigma\n",
    "                npr = np.random\n",
    "                npr.seed(int(time.time()))\n",
    "                g = np.array([x[0] for x in meta.values()])  # gains 0-1\n",
    "                ng = len(meta)\n",
    "                v = np.ones(ng)\n",
    "                while all(v == 1):  # mutate until a change occurs (prevent duplicates)\n",
    "                    v = (g * (npr.random(ng) < mp) * npr.randn(ng) * npr.random() * s + 1).clip(0.3, 3.0)\n",
    "                for i, k in enumerate(hyp.keys()):  # plt.hist(v.ravel(), 300)\n",
    "                    hyp[k] = float(x[i + 7] * v[i])  # mutate\n",
    "\n",
    "            # Constrain to limits\n",
    "            for k, v in meta.items():\n",
    "                hyp[k] = max(hyp[k], v[1])  # lower limit\n",
    "                hyp[k] = min(hyp[k], v[2])  # upper limit\n",
    "                hyp[k] = round(hyp[k], 5)  # significant digits\n",
    "\n",
    "            # Train mutation\n",
    "            results = train(hyp.copy(), opt, device)\n",
    "\n",
    "            # Write mutation results\n",
    "            print_mutation(hyp.copy(), results, yaml_file, opt.bucket)\n",
    "\n",
    "        # Plot results\n",
    "        plot_evolution(yaml_file)\n",
    "        print(f'Hyperparameter evolution complete. Best results saved as: {yaml_file}\\n'\n",
    "              f'Command to train a new model with these hyperparameters: $ python train.py --hyp {yaml_file}')"
   ]
  },
  {
   "cell_type": "code",
   "execution_count": 7,
   "id": "2c9d4d14",
   "metadata": {},
   "outputs": [],
   "source": [
    "def run(**kwargs):\n",
    "    # Usage: import train; train.run(data='coco128.yaml', imgsz=320, weights='yolov5m.pt')\n",
    "    #opt = parse_opt(True)\n",
    "    for k, v in kwargs.items():\n",
    "        setattr(opt, k, v)\n",
    "    main(opt)"
   ]
  },
  {
   "cell_type": "code",
   "execution_count": 8,
   "id": "11a2bd05",
   "metadata": {
    "scrolled": true
   },
   "outputs": [
    {
     "name": "stdout",
     "output_type": "stream",
     "text": [
      "\u001b[34m\u001b[1mtrain: \u001b[0mweights=./weights/yolov5x.pt, cfg=, data=./data/oriental.yaml, hyp=./data/hyps/hyp.scratch.yaml, epochs=300, batch_size=16, imgsz=640, rect=False, resume=False, nosave=False, noval=False, noautoanchor=False, evolve=False, bucket=, cache_images=True, image_weights=False, device=0, multi_scale=False, single_cls=False, adam=False, sync_bn=False, workers=8, project=./runs/train, entity=None, name=exp, exist_ok=False, quad=False, linear_lr=False, label_smoothing=0.0, upload_dataset=False, bbox_interval=-1, save_period=-1, artifact_alias=latest, local_rank=-1\n",
      "\u001b[34m\u001b[1mgithub: \u001b[0mskipping check (not a git repository), for updates see https://github.com/ultralytics/yolov5\n"
     ]
    },
    {
     "name": "stderr",
     "output_type": "stream",
     "text": [
      "YOLOv5  2021-7-24 torch 1.7.1 CUDA:0 (Tesla V100-SXM2-32GB, 32642.5MB)\n",
      "\n",
      "\u001b[34m\u001b[1mhyperparameters: \u001b[0mlr0=0.01, lrf=0.2, momentum=0.937, weight_decay=0.0005, warmup_epochs=3.0, warmup_momentum=0.8, warmup_bias_lr=0.1, box=0.05, cls=0.5, cls_pw=1.0, obj=1.0, obj_pw=1.0, iou_t=0.2, anchor_t=4.0, fl_gamma=0.0, hsv_h=0.015, hsv_s=0.7, hsv_v=0.4, degrees=0.0, translate=0.1, scale=0.5, shear=0.0, perspective=0.0, flipud=0.0, fliplr=0.5, mosaic=1.0, mixup=0.0, copy_paste=0.0\n",
      "\u001b[34m\u001b[1mtensorboard: \u001b[0mStart with 'tensorboard --logdir ./runs/train', view at http://localhost:6006/\n",
      "wandb: Currently logged in as: museong (use `wandb login --relogin` to force relogin)\n",
      "wandb: wandb version 0.11.2 is available!  To upgrade, please run:\n",
      "wandb:  $ pip install wandb --upgrade\n"
     ]
    },
    {
     "data": {
      "text/html": [
       "\n",
       "                Tracking run with wandb version 0.11.0<br/>\n",
       "                Syncing run <strong style=\"color:#cdcd00\">exp</strong> to <a href=\"https://wandb.ai\" target=\"_blank\">Weights & Biases</a> <a href=\"https://docs.wandb.com/integrations/jupyter.html\" target=\"_blank\">(Documentation)</a>.<br/>\n",
       "                Project page: <a href=\"https://wandb.ai/museong/train\" target=\"_blank\">https://wandb.ai/museong/train</a><br/>\n",
       "                Run page: <a href=\"https://wandb.ai/museong/train/runs/1hah7qga\" target=\"_blank\">https://wandb.ai/museong/train/runs/1hah7qga</a><br/>\n",
       "                Run data is saved locally in <code>D:\\Jupyter\\museong\\1. oriental_v3\\3. yolov5\\4. rhf_b41\\wandb\\run-20210808_235919-1hah7qga</code><br/><br/>\n",
       "            "
      ],
      "text/plain": [
       "<IPython.core.display.HTML object>"
      ]
     },
     "metadata": {},
     "output_type": "display_data"
    },
    {
     "name": "stderr",
     "output_type": "stream",
     "text": [
      "Overriding model.yaml nc=80 with nc=5\n",
      "\n",
      "                 from  n    params  module                                  arguments                     \n",
      "  0                -1  1      8800  models.common.Focus                     [3, 80, 3]                    \n",
      "  1                -1  1    115520  models.common.Conv                      [80, 160, 3, 2]               \n",
      "  2                -1  1    309120  models.common.C3                        [160, 160, 4]                 \n",
      "  3                -1  1    461440  models.common.Conv                      [160, 320, 3, 2]              \n",
      "  4                -1  1   3285760  models.common.C3                        [320, 320, 12]                \n",
      "  5                -1  1   1844480  models.common.Conv                      [320, 640, 3, 2]              \n",
      "  6                -1  1  13125120  models.common.C3                        [640, 640, 12]                \n",
      "  7                -1  1   7375360  models.common.Conv                      [640, 1280, 3, 2]             \n",
      "  8                -1  1   4099840  models.common.SPP                       [1280, 1280, [5, 9, 13]]      \n",
      "  9                -1  1  19676160  models.common.C3                        [1280, 1280, 4, False]        \n",
      " 10                -1  1    820480  models.common.Conv                      [1280, 640, 1, 1]             \n",
      " 11                -1  1         0  torch.nn.modules.upsampling.Upsample    [None, 2, 'nearest']          \n",
      " 12           [-1, 6]  1         0  models.common.Concat                    [1]                           \n",
      " 13                -1  1   5332480  models.common.C3                        [1280, 640, 4, False]         \n",
      " 14                -1  1    205440  models.common.Conv                      [640, 320, 1, 1]              \n",
      " 15                -1  1         0  torch.nn.modules.upsampling.Upsample    [None, 2, 'nearest']          \n",
      " 16           [-1, 4]  1         0  models.common.Concat                    [1]                           \n",
      " 17                -1  1   1335040  models.common.C3                        [640, 320, 4, False]          \n",
      " 18                -1  1    922240  models.common.Conv                      [320, 320, 3, 2]              \n",
      " 19          [-1, 14]  1         0  models.common.Concat                    [1]                           \n",
      " 20                -1  1   4922880  models.common.C3                        [640, 640, 4, False]          \n",
      " 21                -1  1   3687680  models.common.Conv                      [640, 640, 3, 2]              \n",
      " 22          [-1, 10]  1         0  models.common.Concat                    [1]                           \n",
      " 23                -1  1  19676160  models.common.C3                        [1280, 1280, 4, False]        \n",
      " 24      [17, 20, 23]  1     67290  models.yolo.Detect                      [5, [[10, 13, 16, 30, 33, 23], [30, 61, 62, 45, 59, 119], [116, 90, 156, 198, 373, 326]], [320, 640, 1280]]\n",
      "Model Summary: 607 layers, 87271290 parameters, 87271290 gradients\n",
      "\n",
      "Transferred 788/794 items from weights\\yolov5x.pt\n",
      "Scaled weight_decay = 0.0005\n",
      "\u001b[34m\u001b[1moptimizer:\u001b[0m SGD with parameter groups 131 weight, 134 weight (no decay), 134 bias\n",
      "\u001b[34m\u001b[1mtrain: \u001b[0mScanning 'data\\rhf_dissim\\labels\\train' images and labels...740 found, 0 missing, 0 empty, 0 corrupted: 100%|█| \u001b[0m\n",
      "\u001b[34m\u001b[1mtrain: \u001b[0mNew cache created: data\\rhf_dissim\\labels\\train.cache\n",
      "\u001b[34m\u001b[1mtrain: \u001b[0mCaching images (0.6GB): 100%|████████████████████████████████████████████████| 740/740 [00:01<00:00, 523.30it/s]\u001b[0m\n",
      "\u001b[34m\u001b[1mval: \u001b[0mScanning 'data\\rhf_dissim\\labels\\val' images and labels...60 found, 0 missing, 0 empty, 0 corrupted: 100%|█| 60/60\u001b[0m\n",
      "\u001b[34m\u001b[1mval: \u001b[0mNew cache created: data\\rhf_dissim\\labels\\val.cache\n",
      "\u001b[34m\u001b[1mval: \u001b[0mCaching images (0.1GB): 100%|████████████████████████████████████████████████████| 60/60 [00:00<00:00, 495.71it/s]\u001b[0m\n"
     ]
    },
    {
     "name": "stdout",
     "output_type": "stream",
     "text": [
      "Plotting labels... \n"
     ]
    },
    {
     "name": "stderr",
     "output_type": "stream",
     "text": [
      "Image sizes 640 train, 640 val\n",
      "Using 8 dataloader workers\n",
      "Logging results to runs\\train\\exp\n",
      "Starting training for 300 epochs...\n",
      "\n",
      "     Epoch   gpu_mem       box       obj       cls     total    labels  img_size\n",
      "  0%|                                                                                           | 0/47 [00:00<?, ?it/s]"
     ]
    },
    {
     "name": "stdout",
     "output_type": "stream",
     "text": [
      "\n",
      "\u001b[34m\u001b[1mautoanchor: \u001b[0mAnalyzing anchors... anchors/target = 4.36, Best Possible Recall (BPR) = 1.0000\n"
     ]
    },
    {
     "name": "stderr",
     "output_type": "stream",
     "text": [
      "     0/299     14.1G   0.09995   0.04972    0.6806    0.8302        24       640: 100%|█| 47/47 [00:30<00:00,  1.56it/s\n",
      "               Class     Images     Labels          P          R     mAP@.5 mAP@.5:.95: 100%|█| 2/2 [00:01<00:00,  1.06\n"
     ]
    },
    {
     "name": "stdout",
     "output_type": "stream",
     "text": [
      "                 all         60        163      0.313      0.328      0.146     0.0371\n"
     ]
    },
    {
     "name": "stderr",
     "output_type": "stream",
     "text": [
      "\n",
      "     Epoch   gpu_mem       box       obj       cls     total    labels  img_size\n",
      "     1/299     15.4G   0.07435   0.05347    0.3811    0.5089        18       640: 100%|█| 47/47 [00:22<00:00,  2.13it/s\n",
      "               Class     Images     Labels          P          R     mAP@.5 mAP@.5:.95: 100%|█| 2/2 [00:01<00:00,  1.42\n"
     ]
    },
    {
     "name": "stdout",
     "output_type": "stream",
     "text": [
      "                 all         60        163     0.0936      0.125     0.0366     0.0108\n"
     ]
    },
    {
     "name": "stderr",
     "output_type": "stream",
     "text": [
      "\n",
      "     Epoch   gpu_mem       box       obj       cls     total    labels  img_size\n",
      "     2/299     15.4G   0.06851   0.05308    0.3681    0.4897        12       640: 100%|█| 47/47 [00:22<00:00,  2.11it/s\n",
      "               Class     Images     Labels          P          R     mAP@.5 mAP@.5:.95: 100%|█| 2/2 [00:01<00:00,  1.61\n"
     ]
    },
    {
     "name": "stdout",
     "output_type": "stream",
     "text": [
      "                 all         60        163      0.364      0.167     0.0808     0.0124\n"
     ]
    },
    {
     "name": "stderr",
     "output_type": "stream",
     "text": [
      "\n",
      "     Epoch   gpu_mem       box       obj       cls     total    labels  img_size\n",
      "     3/299     15.4G    0.0673   0.05294    0.4023    0.5225        26       640: 100%|█| 47/47 [00:21<00:00,  2.19it/s\n",
      "               Class     Images     Labels          P          R     mAP@.5 mAP@.5:.95: 100%|█| 2/2 [00:01<00:00,  1.61\n"
     ]
    },
    {
     "name": "stdout",
     "output_type": "stream",
     "text": [
      "                 all         60        163      0.617      0.114     0.0212     0.0065\n"
     ]
    },
    {
     "name": "stderr",
     "output_type": "stream",
     "text": [
      "\n",
      "     Epoch   gpu_mem       box       obj       cls     total    labels  img_size\n",
      "     4/299     15.4G   0.06788   0.05443    0.4103    0.5326        36       640: 100%|█| 47/47 [00:20<00:00,  2.33it/s\n",
      "               Class     Images     Labels          P          R     mAP@.5 mAP@.5:.95: 100%|█| 2/2 [00:00<00:00,  2.01\n"
     ]
    },
    {
     "name": "stdout",
     "output_type": "stream",
     "text": [
      "                 all         60        163       0.69      0.101     0.0452     0.0128\n"
     ]
    },
    {
     "name": "stderr",
     "output_type": "stream",
     "text": [
      "\n",
      "     Epoch   gpu_mem       box       obj       cls     total    labels  img_size\n",
      "     5/299     15.4G   0.06892   0.05453    0.3832    0.5066        17       640: 100%|█| 47/47 [00:20<00:00,  2.34it/s\n",
      "               Class     Images     Labels          P          R     mAP@.5 mAP@.5:.95: 100%|█| 2/2 [00:00<00:00,  2.15\n"
     ]
    },
    {
     "name": "stdout",
     "output_type": "stream",
     "text": [
      "                 all         60        163       0.66      0.108     0.0734     0.0156\n"
     ]
    },
    {
     "name": "stderr",
     "output_type": "stream",
     "text": [
      "\n",
      "     Epoch   gpu_mem       box       obj       cls     total    labels  img_size\n",
      "     6/299     15.4G   0.06974   0.05094    0.3839    0.5046        15       640: 100%|█| 47/47 [00:20<00:00,  2.33it/s\n",
      "               Class     Images     Labels          P          R     mAP@.5 mAP@.5:.95: 100%|█| 2/2 [00:00<00:00,  2.89\n"
     ]
    },
    {
     "name": "stdout",
     "output_type": "stream",
     "text": [
      "                 all         60        163      0.448    0.00909    0.00236   0.000725\n"
     ]
    },
    {
     "name": "stderr",
     "output_type": "stream",
     "text": [
      "\n",
      "     Epoch   gpu_mem       box       obj       cls     total    labels  img_size\n",
      "     7/299     15.4G   0.06905   0.05338    0.3967    0.5191        16       640: 100%|█| 47/47 [00:20<00:00,  2.35it/s\n",
      "               Class     Images     Labels          P          R     mAP@.5 mAP@.5:.95: 100%|█| 2/2 [00:01<00:00,  1.48\n"
     ]
    },
    {
     "name": "stdout",
     "output_type": "stream",
     "text": [
      "                 all         60        163      0.103      0.319     0.0524     0.0133\n"
     ]
    },
    {
     "name": "stderr",
     "output_type": "stream",
     "text": [
      "\n",
      "     Epoch   gpu_mem       box       obj       cls     total    labels  img_size\n",
      "     8/299     15.4G   0.06911   0.05521    0.4927     0.617        11       640: 100%|█| 47/47 [00:20<00:00,  2.34it/s\n",
      "               Class     Images     Labels          P          R     mAP@.5 mAP@.5:.95: 100%|█| 2/2 [00:00<00:00,  2.45\n"
     ]
    },
    {
     "name": "stdout",
     "output_type": "stream",
     "text": [
      "                 all         60        163     0.0252       0.11     0.0173     0.0046\n"
     ]
    },
    {
     "name": "stderr",
     "output_type": "stream",
     "text": [
      "\n",
      "     Epoch   gpu_mem       box       obj       cls     total    labels  img_size\n",
      "     9/299     15.4G    0.0695   0.05374    0.4672    0.5904        21       640: 100%|█| 47/47 [00:19<00:00,  2.36it/s\n",
      "               Class     Images     Labels          P          R     mAP@.5 mAP@.5:.95: 100%|█| 2/2 [00:01<00:00,  1.40\n"
     ]
    },
    {
     "name": "stdout",
     "output_type": "stream",
     "text": [
      "                 all         60        163      0.447     0.0412     0.0191    0.00358\n"
     ]
    },
    {
     "name": "stderr",
     "output_type": "stream",
     "text": [
      "\n",
      "     Epoch   gpu_mem       box       obj       cls     total    labels  img_size\n",
      "    10/299     15.4G   0.07138   0.05228    0.4506    0.5743        25       640: 100%|█| 47/47 [00:19<00:00,  2.38it/s\n",
      "               Class     Images     Labels          P          R     mAP@.5 mAP@.5:.95: 100%|█| 2/2 [00:00<00:00,  2.30\n"
     ]
    },
    {
     "name": "stdout",
     "output_type": "stream",
     "text": [
      "                 all         60        163      0.252      0.122     0.0379    0.00696\n"
     ]
    },
    {
     "name": "stderr",
     "output_type": "stream",
     "text": [
      "\n",
      "     Epoch   gpu_mem       box       obj       cls     total    labels  img_size\n",
      "    11/299     15.4G   0.07413   0.05257    0.3801    0.5068        17       640: 100%|█| 47/47 [00:19<00:00,  2.43it/s\n",
      "               Class     Images     Labels          P          R     mAP@.5 mAP@.5:.95: 100%|█| 2/2 [00:00<00:00,  2.14\n"
     ]
    },
    {
     "name": "stdout",
     "output_type": "stream",
     "text": [
      "                 all         60        163       0.26      0.171     0.0559     0.0147\n"
     ]
    },
    {
     "name": "stderr",
     "output_type": "stream",
     "text": [
      "\n",
      "     Epoch   gpu_mem       box       obj       cls     total    labels  img_size\n",
      "    12/299     15.4G   0.07145    0.0524    0.4998    0.6237        15       640: 100%|█| 47/47 [00:19<00:00,  2.42it/s\n",
      "               Class     Images     Labels          P          R     mAP@.5 mAP@.5:.95: 100%|█| 2/2 [00:01<00:00,  1.44\n"
     ]
    },
    {
     "name": "stdout",
     "output_type": "stream",
     "text": [
      "                 all         60        163      0.215     0.0627    0.00668    0.00136\n"
     ]
    },
    {
     "name": "stderr",
     "output_type": "stream",
     "text": [
      "\n",
      "     Epoch   gpu_mem       box       obj       cls     total    labels  img_size\n",
      "    13/299     15.4G   0.07326   0.05337    0.4593    0.5859        11       640: 100%|█| 47/47 [00:19<00:00,  2.41it/s\n",
      "               Class     Images     Labels          P          R     mAP@.5 mAP@.5:.95: 100%|█| 2/2 [00:00<00:00,  2.56\n"
     ]
    },
    {
     "name": "stdout",
     "output_type": "stream",
     "text": [
      "                 all         60        163      0.679     0.0259     0.0133    0.00334\n"
     ]
    },
    {
     "name": "stderr",
     "output_type": "stream",
     "text": [
      "\n",
      "     Epoch   gpu_mem       box       obj       cls     total    labels  img_size\n",
      "    14/299     15.4G   0.07489   0.05464    0.4701    0.5997        23       640: 100%|█| 47/47 [00:19<00:00,  2.42it/s\n",
      "               Class     Images     Labels          P          R     mAP@.5 mAP@.5:.95: 100%|█| 2/2 [00:01<00:00,  1.22\n"
     ]
    },
    {
     "name": "stdout",
     "output_type": "stream",
     "text": [
      "                 all         60        163      0.647      0.094     0.0259    0.00514\n"
     ]
    },
    {
     "name": "stderr",
     "output_type": "stream",
     "text": [
      "\n",
      "     Epoch   gpu_mem       box       obj       cls     total    labels  img_size\n",
      "    15/299     15.4G   0.07559   0.05354    0.4629     0.592        16       640: 100%|█| 47/47 [00:19<00:00,  2.42it/s\n",
      "               Class     Images     Labels          P          R     mAP@.5 mAP@.5:.95: 100%|█| 2/2 [00:01<00:00,  1.39\n"
     ]
    },
    {
     "name": "stdout",
     "output_type": "stream",
     "text": [
      "                 all         60        163      0.639      0.041    0.00948    0.00153\n"
     ]
    },
    {
     "name": "stderr",
     "output_type": "stream",
     "text": [
      "\n",
      "     Epoch   gpu_mem       box       obj       cls     total    labels  img_size\n",
      "    16/299     15.4G   0.07448   0.05449    0.4262    0.5552        34       640: 100%|█| 47/47 [00:19<00:00,  2.42it/s\n",
      "               Class     Images     Labels          P          R     mAP@.5 mAP@.5:.95: 100%|█| 2/2 [00:01<00:00,  1.17\n"
     ]
    },
    {
     "name": "stdout",
     "output_type": "stream",
     "text": [
      "                 all         60        163      0.833     0.0148    0.00758    0.00135\n"
     ]
    },
    {
     "name": "stderr",
     "output_type": "stream",
     "text": [
      "\n",
      "     Epoch   gpu_mem       box       obj       cls     total    labels  img_size\n",
      "    17/299     15.4G   0.07298   0.05225     0.416    0.5413        14       640: 100%|█| 47/47 [00:19<00:00,  2.44it/s\n",
      "               Class     Images     Labels          P          R     mAP@.5 mAP@.5:.95: 100%|█| 2/2 [00:00<00:00,  2.42\n"
     ]
    },
    {
     "name": "stdout",
     "output_type": "stream",
     "text": [
      "                 all         60        163      0.224       0.16     0.0172    0.00309\n"
     ]
    },
    {
     "name": "stderr",
     "output_type": "stream",
     "text": [
      "\n",
      "     Epoch   gpu_mem       box       obj       cls     total    labels  img_size\n",
      "    18/299     15.4G   0.07206   0.05331    0.4197    0.5451        16       640: 100%|█| 47/47 [00:18<00:00,  2.49it/s\n",
      "               Class     Images     Labels          P          R     mAP@.5 mAP@.5:.95: 100%|█| 2/2 [00:01<00:00,  1.31\n"
     ]
    },
    {
     "name": "stdout",
     "output_type": "stream",
     "text": [
      "                 all         60        163      0.435      0.091     0.0221    0.00477\n"
     ]
    },
    {
     "name": "stderr",
     "output_type": "stream",
     "text": [
      "\n",
      "     Epoch   gpu_mem       box       obj       cls     total    labels  img_size\n",
      "    19/299     15.4G   0.07423   0.05479    0.4528    0.5818        32       640: 100%|█| 47/47 [00:19<00:00,  2.47it/s\n",
      "               Class     Images     Labels          P          R     mAP@.5 mAP@.5:.95: 100%|█| 2/2 [00:01<00:00,  1.48\n"
     ]
    },
    {
     "name": "stdout",
     "output_type": "stream",
     "text": [
      "                 all         60        163      0.445     0.0269     0.0141    0.00344\n"
     ]
    },
    {
     "name": "stderr",
     "output_type": "stream",
     "text": [
      "\n",
      "     Epoch   gpu_mem       box       obj       cls     total    labels  img_size\n",
      "    20/299     15.4G   0.07482   0.05355    0.4297    0.5581        19       640: 100%|█| 47/47 [00:19<00:00,  2.47it/s\n",
      "               Class     Images     Labels          P          R     mAP@.5 mAP@.5:.95: 100%|█| 2/2 [00:00<00:00,  2.10\n"
     ]
    },
    {
     "name": "stdout",
     "output_type": "stream",
     "text": [
      "                 all         60        163      0.247     0.0905     0.0136    0.00251\n"
     ]
    },
    {
     "name": "stderr",
     "output_type": "stream",
     "text": [
      "\n",
      "     Epoch   gpu_mem       box       obj       cls     total    labels  img_size\n",
      "    21/299     15.4G   0.07325   0.05449    0.4722    0.5999        17       640: 100%|█| 47/47 [00:19<00:00,  2.47it/s\n",
      "               Class     Images     Labels          P          R     mAP@.5 mAP@.5:.95: 100%|█| 2/2 [00:01<00:00,  1.49\n"
     ]
    },
    {
     "name": "stdout",
     "output_type": "stream",
     "text": [
      "                 all         60        163      0.265      0.183     0.0236    0.00496\n"
     ]
    },
    {
     "name": "stderr",
     "output_type": "stream",
     "text": [
      "\n",
      "     Epoch   gpu_mem       box       obj       cls     total    labels  img_size\n",
      "    22/299     15.4G   0.07251   0.05342     0.428     0.554        13       640: 100%|█| 47/47 [00:18<00:00,  2.49it/s\n",
      "               Class     Images     Labels          P          R     mAP@.5 mAP@.5:.95: 100%|█| 2/2 [00:00<00:00,  2.03\n"
     ]
    },
    {
     "name": "stdout",
     "output_type": "stream",
     "text": [
      "                 all         60        163      0.512      0.143     0.0621     0.0119\n"
     ]
    },
    {
     "name": "stderr",
     "output_type": "stream",
     "text": [
      "\n",
      "     Epoch   gpu_mem       box       obj       cls     total    labels  img_size\n",
      "    23/299     15.4G   0.07348   0.05329    0.4139    0.5407        24       640: 100%|█| 47/47 [00:19<00:00,  2.47it/s\n",
      "               Class     Images     Labels          P          R     mAP@.5 mAP@.5:.95: 100%|█| 2/2 [00:01<00:00,  1.31\n"
     ]
    },
    {
     "name": "stdout",
     "output_type": "stream",
     "text": [
      "                 all         60        163     0.0931      0.203     0.0262     0.0066\n"
     ]
    },
    {
     "name": "stderr",
     "output_type": "stream",
     "text": [
      "\n",
      "     Epoch   gpu_mem       box       obj       cls     total    labels  img_size\n",
      "    24/299     15.4G   0.07213   0.05224    0.3816     0.506        22       640: 100%|█| 47/47 [00:18<00:00,  2.48it/s\n",
      "               Class     Images     Labels          P          R     mAP@.5 mAP@.5:.95: 100%|█| 2/2 [00:01<00:00,  1.63\n"
     ]
    },
    {
     "name": "stdout",
     "output_type": "stream",
     "text": [
      "                 all         60        163      0.478     0.0766     0.0206     0.0044\n"
     ]
    },
    {
     "name": "stderr",
     "output_type": "stream",
     "text": [
      "\n",
      "     Epoch   gpu_mem       box       obj       cls     total    labels  img_size\n",
      "    25/299     15.4G   0.07309   0.05147    0.4552    0.5798        18       640: 100%|█| 47/47 [00:18<00:00,  2.48it/s\n",
      "               Class     Images     Labels          P          R     mAP@.5 mAP@.5:.95: 100%|█| 2/2 [00:01<00:00,  1.91\n"
     ]
    },
    {
     "name": "stdout",
     "output_type": "stream",
     "text": [
      "                 all         60        163      0.276     0.0731     0.0223    0.00438\n"
     ]
    },
    {
     "name": "stderr",
     "output_type": "stream",
     "text": [
      "\n",
      "     Epoch   gpu_mem       box       obj       cls     total    labels  img_size\n",
      "    26/299     15.4G   0.07377   0.05253    0.4253    0.5516        23       640: 100%|█| 47/47 [00:18<00:00,  2.50it/s\n",
      "               Class     Images     Labels          P          R     mAP@.5 mAP@.5:.95: 100%|█| 2/2 [00:01<00:00,  1.75\n"
     ]
    },
    {
     "name": "stdout",
     "output_type": "stream",
     "text": [
      "                 all         60        163      0.866     0.0222     0.0157    0.00515\n"
     ]
    },
    {
     "name": "stderr",
     "output_type": "stream",
     "text": [
      "\n",
      "     Epoch   gpu_mem       box       obj       cls     total    labels  img_size\n",
      "    27/299     15.4G    0.0749    0.0523    0.5043    0.6315        16       640: 100%|█| 47/47 [00:18<00:00,  2.48it/s\n",
      "               Class     Images     Labels          P          R     mAP@.5 mAP@.5:.95: 100%|█| 2/2 [00:01<00:00,  1.20\n"
     ]
    },
    {
     "name": "stdout",
     "output_type": "stream",
     "text": [
      "                 all         60        163      0.065     0.0918      0.031    0.00758\n"
     ]
    },
    {
     "name": "stderr",
     "output_type": "stream",
     "text": [
      "\n",
      "     Epoch   gpu_mem       box       obj       cls     total    labels  img_size\n",
      "    28/299     15.4G   0.07475   0.05182    0.5027    0.6292        12       640: 100%|█| 47/47 [00:18<00:00,  2.49it/s\n",
      "               Class     Images     Labels          P          R     mAP@.5 mAP@.5:.95: 100%|█| 2/2 [00:01<00:00,  1.60\n"
     ]
    },
    {
     "name": "stdout",
     "output_type": "stream",
     "text": [
      "                 all         60        163      0.233      0.207     0.0125    0.00149\n"
     ]
    },
    {
     "name": "stderr",
     "output_type": "stream",
     "text": [
      "\n",
      "     Epoch   gpu_mem       box       obj       cls     total    labels  img_size\n",
      "    29/299     15.4G    0.0732   0.05316    0.4943    0.6207        26       640: 100%|█| 47/47 [00:18<00:00,  2.55it/s\n",
      "               Class     Images     Labels          P          R     mAP@.5 mAP@.5:.95: 100%|█| 2/2 [00:03<00:00,  1.94\n"
     ]
    },
    {
     "name": "stdout",
     "output_type": "stream",
     "text": [
      "                 all         60        163      0.637     0.0788     0.0339    0.00964\n"
     ]
    },
    {
     "name": "stderr",
     "output_type": "stream",
     "text": [
      "\n",
      "     Epoch   gpu_mem       box       obj       cls     total    labels  img_size\n",
      "    30/299     15.4G   0.07318   0.05419    0.4397    0.5671        15       640: 100%|█| 47/47 [00:18<00:00,  2.49it/s\n",
      "               Class     Images     Labels          P          R     mAP@.5 mAP@.5:.95: 100%|█| 2/2 [00:00<00:00,  2.15\n"
     ]
    },
    {
     "name": "stdout",
     "output_type": "stream",
     "text": [
      "                 all         60        163     0.0627     0.0629     0.0252    0.00582\n"
     ]
    },
    {
     "name": "stderr",
     "output_type": "stream",
     "text": [
      "\n",
      "     Epoch   gpu_mem       box       obj       cls     total    labels  img_size\n",
      "    31/299     15.4G   0.07216   0.05259      0.42    0.5448         8       640: 100%|█| 47/47 [00:19<00:00,  2.47it/s\n",
      "               Class     Images     Labels          P          R     mAP@.5 mAP@.5:.95: 100%|█| 2/2 [00:01<00:00,  1.33\n"
     ]
    },
    {
     "name": "stdout",
     "output_type": "stream",
     "text": [
      "                 all         60        163      0.454     0.0899     0.0263    0.00872\n"
     ]
    },
    {
     "name": "stderr",
     "output_type": "stream",
     "text": [
      "\n",
      "     Epoch   gpu_mem       box       obj       cls     total    labels  img_size\n",
      "    32/299     15.4G   0.07097   0.05269    0.3894     0.513        17       640: 100%|█| 47/47 [00:19<00:00,  2.47it/s\n",
      "               Class     Images     Labels          P          R     mAP@.5 mAP@.5:.95: 100%|█| 2/2 [00:01<00:00,  1.22\n"
     ]
    },
    {
     "name": "stdout",
     "output_type": "stream",
     "text": [
      "                 all         60        163      0.844     0.0296     0.0188    0.00471\n"
     ]
    },
    {
     "name": "stderr",
     "output_type": "stream",
     "text": [
      "\n",
      "     Epoch   gpu_mem       box       obj       cls     total    labels  img_size\n",
      "    33/299     15.4G   0.07061   0.05192    0.3738    0.4963        25       640: 100%|█| 47/47 [00:18<00:00,  2.48it/s\n",
      "               Class     Images     Labels          P          R     mAP@.5 mAP@.5:.95: 100%|█| 2/2 [00:01<00:00,  1.90\n"
     ]
    },
    {
     "name": "stdout",
     "output_type": "stream",
     "text": [
      "                 all         60        163      0.334      0.121     0.0693     0.0141\n"
     ]
    },
    {
     "name": "stderr",
     "output_type": "stream",
     "text": [
      "\n",
      "     Epoch   gpu_mem       box       obj       cls     total    labels  img_size\n",
      "    34/299     15.4G   0.07227   0.05394    0.3361    0.4623        12       640: 100%|█| 47/47 [00:18<00:00,  2.49it/s\n",
      "               Class     Images     Labels          P          R     mAP@.5 mAP@.5:.95: 100%|█| 2/2 [00:01<00:00,  1.97\n"
     ]
    },
    {
     "name": "stdout",
     "output_type": "stream",
     "text": [
      "                 all         60        163      0.247      0.234     0.0876     0.0221\n"
     ]
    },
    {
     "name": "stderr",
     "output_type": "stream",
     "text": [
      "\n",
      "     Epoch   gpu_mem       box       obj       cls     total    labels  img_size\n",
      "    35/299     15.4G   0.07164   0.05161    0.3181    0.4413        20       640: 100%|█| 47/47 [00:18<00:00,  2.48it/s\n",
      "               Class     Images     Labels          P          R     mAP@.5 mAP@.5:.95: 100%|█| 2/2 [00:00<00:00,  2.13\n"
     ]
    },
    {
     "name": "stdout",
     "output_type": "stream",
     "text": [
      "                 all         60        163      0.388       0.13     0.0998     0.0273\n"
     ]
    },
    {
     "name": "stderr",
     "output_type": "stream",
     "text": [
      "\n",
      "     Epoch   gpu_mem       box       obj       cls     total    labels  img_size\n",
      "    36/299     15.4G   0.07151     0.052     0.304    0.4276        15       640: 100%|█| 47/47 [00:19<00:00,  2.46it/s\n",
      "               Class     Images     Labels          P          R     mAP@.5 mAP@.5:.95: 100%|█| 2/2 [00:00<00:00,  2.25\n"
     ]
    },
    {
     "name": "stdout",
     "output_type": "stream",
     "text": [
      "                 all         60        163      0.589      0.152      0.131     0.0312\n"
     ]
    },
    {
     "name": "stderr",
     "output_type": "stream",
     "text": [
      "\n",
      "     Epoch   gpu_mem       box       obj       cls     total    labels  img_size\n",
      "    37/299     15.4G   0.06922   0.05247    0.2697    0.3914        21       640: 100%|█| 47/47 [00:19<00:00,  2.47it/s\n",
      "               Class     Images     Labels          P          R     mAP@.5 mAP@.5:.95: 100%|█| 2/2 [00:00<00:00,  2.20\n"
     ]
    },
    {
     "name": "stdout",
     "output_type": "stream",
     "text": [
      "                 all         60        163      0.339      0.125     0.0723      0.018\n"
     ]
    },
    {
     "name": "stderr",
     "output_type": "stream",
     "text": [
      "\n",
      "     Epoch   gpu_mem       box       obj       cls     total    labels  img_size\n",
      "    38/299     15.4G   0.06912   0.05098    0.2819     0.402        17       640: 100%|█| 47/47 [00:18<00:00,  2.49it/s\n",
      "               Class     Images     Labels          P          R     mAP@.5 mAP@.5:.95: 100%|█| 2/2 [00:00<00:00,  2.16\n"
     ]
    },
    {
     "name": "stdout",
     "output_type": "stream",
     "text": [
      "                 all         60        163      0.264      0.227      0.119     0.0329\n"
     ]
    },
    {
     "name": "stderr",
     "output_type": "stream",
     "text": [
      "\n",
      "     Epoch   gpu_mem       box       obj       cls     total    labels  img_size\n",
      "    39/299     15.4G   0.06824   0.05262    0.2454    0.3662        29       640: 100%|█| 47/47 [00:18<00:00,  2.48it/s\n",
      "               Class     Images     Labels          P          R     mAP@.5 mAP@.5:.95: 100%|█| 2/2 [00:00<00:00,  2.23\n"
     ]
    },
    {
     "name": "stdout",
     "output_type": "stream",
     "text": [
      "                 all         60        163      0.353      0.196     0.0957     0.0225\n"
     ]
    },
    {
     "name": "stderr",
     "output_type": "stream",
     "text": [
      "\n",
      "     Epoch   gpu_mem       box       obj       cls     total    labels  img_size\n",
      "    40/299     15.4G   0.06835   0.05133    0.2995    0.4192        19       640: 100%|█| 47/47 [00:19<00:00,  2.47it/s\n",
      "               Class     Images     Labels          P          R     mAP@.5 mAP@.5:.95: 100%|█| 2/2 [00:00<00:00,  2.19\n"
     ]
    },
    {
     "name": "stdout",
     "output_type": "stream",
     "text": [
      "                 all         60        163      0.313      0.255       0.17     0.0447\n"
     ]
    },
    {
     "name": "stderr",
     "output_type": "stream",
     "text": [
      "\n",
      "     Epoch   gpu_mem       box       obj       cls     total    labels  img_size\n",
      "    41/299     15.4G   0.06864   0.05128    0.2574    0.3773        27       640: 100%|█| 47/47 [00:18<00:00,  2.48it/s\n",
      "               Class     Images     Labels          P          R     mAP@.5 mAP@.5:.95: 100%|█| 2/2 [00:00<00:00,  2.27\n"
     ]
    },
    {
     "name": "stdout",
     "output_type": "stream",
     "text": [
      "                 all         60        163      0.599      0.189      0.141     0.0333\n"
     ]
    },
    {
     "name": "stderr",
     "output_type": "stream",
     "text": [
      "\n",
      "     Epoch   gpu_mem       box       obj       cls     total    labels  img_size\n",
      "    42/299     15.4G   0.06712   0.05275    0.2242     0.344        23       640: 100%|█| 47/47 [00:18<00:00,  2.50it/s\n",
      "               Class     Images     Labels          P          R     mAP@.5 mAP@.5:.95: 100%|█| 2/2 [00:00<00:00,  2.15\n"
     ]
    },
    {
     "name": "stdout",
     "output_type": "stream",
     "text": [
      "                 all         60        163      0.595      0.191       0.15     0.0417\n"
     ]
    },
    {
     "name": "stderr",
     "output_type": "stream",
     "text": [
      "\n",
      "     Epoch   gpu_mem       box       obj       cls     total    labels  img_size\n",
      "    43/299     15.4G   0.06708   0.05239    0.2334    0.3528        26       640: 100%|█| 47/47 [00:18<00:00,  2.49it/s\n",
      "               Class     Images     Labels          P          R     mAP@.5 mAP@.5:.95: 100%|█| 2/2 [00:00<00:00,  2.10\n"
     ]
    },
    {
     "name": "stdout",
     "output_type": "stream",
     "text": [
      "                 all         60        163      0.443      0.205      0.144     0.0349\n"
     ]
    },
    {
     "name": "stderr",
     "output_type": "stream",
     "text": [
      "\n",
      "     Epoch   gpu_mem       box       obj       cls     total    labels  img_size\n",
      "    44/299     15.4G   0.06732   0.05172    0.2218    0.3408        24       640: 100%|█| 47/47 [00:18<00:00,  2.48it/s\n",
      "               Class     Images     Labels          P          R     mAP@.5 mAP@.5:.95: 100%|█| 2/2 [00:00<00:00,  2.25\n"
     ]
    },
    {
     "name": "stdout",
     "output_type": "stream",
     "text": [
      "                 all         60        163      0.347      0.268      0.156     0.0412\n"
     ]
    },
    {
     "name": "stderr",
     "output_type": "stream",
     "text": [
      "\n",
      "     Epoch   gpu_mem       box       obj       cls     total    labels  img_size\n",
      "    45/299     15.4G   0.06648    0.0499    0.2285    0.3449        17       640: 100%|█| 47/47 [00:19<00:00,  2.47it/s\n",
      "               Class     Images     Labels          P          R     mAP@.5 mAP@.5:.95: 100%|█| 2/2 [00:00<00:00,  2.31\n"
     ]
    },
    {
     "name": "stdout",
     "output_type": "stream",
     "text": [
      "                 all         60        163       0.38      0.206      0.192     0.0619\n"
     ]
    },
    {
     "name": "stderr",
     "output_type": "stream",
     "text": [
      "\n",
      "     Epoch   gpu_mem       box       obj       cls     total    labels  img_size\n",
      "    46/299     15.4G   0.06607   0.05382    0.2168    0.3367        30       640: 100%|█| 47/47 [00:18<00:00,  2.48it/s\n",
      "               Class     Images     Labels          P          R     mAP@.5 mAP@.5:.95: 100%|█| 2/2 [00:00<00:00,  2.15\n"
     ]
    },
    {
     "name": "stdout",
     "output_type": "stream",
     "text": [
      "                 all         60        163      0.208       0.27      0.143     0.0464\n"
     ]
    },
    {
     "name": "stderr",
     "output_type": "stream",
     "text": [
      "\n",
      "     Epoch   gpu_mem       box       obj       cls     total    labels  img_size\n",
      "    47/299     15.4G   0.06637    0.0506    0.2214    0.3384        16       640: 100%|█| 47/47 [00:19<00:00,  2.47it/s\n",
      "               Class     Images     Labels          P          R     mAP@.5 mAP@.5:.95: 100%|█| 2/2 [00:01<00:00,  1.80\n"
     ]
    },
    {
     "name": "stdout",
     "output_type": "stream",
     "text": [
      "                 all         60        163      0.075      0.305     0.0943     0.0283\n"
     ]
    },
    {
     "name": "stderr",
     "output_type": "stream",
     "text": [
      "\n",
      "     Epoch   gpu_mem       box       obj       cls     total    labels  img_size\n",
      "    48/299     15.4G   0.06431   0.05161    0.2297    0.3456        16       640: 100%|█| 47/47 [00:18<00:00,  2.48it/s\n",
      "               Class     Images     Labels          P          R     mAP@.5 mAP@.5:.95: 100%|█| 2/2 [00:00<00:00,  2.28\n"
     ]
    },
    {
     "name": "stdout",
     "output_type": "stream",
     "text": [
      "                 all         60        163      0.242      0.326      0.202      0.065\n"
     ]
    },
    {
     "name": "stderr",
     "output_type": "stream",
     "text": [
      "\n",
      "     Epoch   gpu_mem       box       obj       cls     total    labels  img_size\n",
      "    49/299     15.4G   0.06646   0.05215    0.2177    0.3363        19       640: 100%|█| 47/47 [00:18<00:00,  2.47it/s\n",
      "               Class     Images     Labels          P          R     mAP@.5 mAP@.5:.95: 100%|█| 2/2 [00:00<00:00,  2.23\n"
     ]
    },
    {
     "name": "stdout",
     "output_type": "stream",
     "text": [
      "                 all         60        163      0.187      0.156      0.135     0.0393\n"
     ]
    },
    {
     "name": "stderr",
     "output_type": "stream",
     "text": [
      "\n",
      "     Epoch   gpu_mem       box       obj       cls     total    labels  img_size\n",
      "    50/299     15.4G   0.06598     0.051    0.2024    0.3194        11       640: 100%|█| 47/47 [00:18<00:00,  2.48it/s\n",
      "               Class     Images     Labels          P          R     mAP@.5 mAP@.5:.95: 100%|█| 2/2 [00:00<00:00,  2.22\n"
     ]
    },
    {
     "name": "stdout",
     "output_type": "stream",
     "text": [
      "                 all         60        163      0.486      0.193      0.186     0.0536\n"
     ]
    },
    {
     "name": "stderr",
     "output_type": "stream",
     "text": [
      "\n",
      "     Epoch   gpu_mem       box       obj       cls     total    labels  img_size\n",
      "    51/299     15.4G   0.06374   0.05211    0.2006    0.3165        17       640: 100%|█| 47/47 [00:19<00:00,  2.47it/s\n",
      "               Class     Images     Labels          P          R     mAP@.5 mAP@.5:.95: 100%|█| 2/2 [00:00<00:00,  2.18\n"
     ]
    },
    {
     "name": "stdout",
     "output_type": "stream",
     "text": [
      "                 all         60        163      0.306      0.258      0.205     0.0619\n"
     ]
    },
    {
     "name": "stderr",
     "output_type": "stream",
     "text": [
      "\n",
      "     Epoch   gpu_mem       box       obj       cls     total    labels  img_size\n",
      "    52/299     15.4G   0.06397   0.05045    0.2048    0.3193        19       640: 100%|█| 47/47 [00:18<00:00,  2.48it/s\n",
      "               Class     Images     Labels          P          R     mAP@.5 mAP@.5:.95: 100%|█| 2/2 [00:00<00:00,  2.28\n"
     ]
    },
    {
     "name": "stdout",
     "output_type": "stream",
     "text": [
      "                 all         60        163      0.319      0.295      0.248     0.0669\n"
     ]
    },
    {
     "name": "stderr",
     "output_type": "stream",
     "text": [
      "\n",
      "     Epoch   gpu_mem       box       obj       cls     total    labels  img_size\n",
      "    53/299     15.4G   0.06465   0.05039    0.1835    0.2985        11       640: 100%|█| 47/47 [00:19<00:00,  2.47it/s\n",
      "               Class     Images     Labels          P          R     mAP@.5 mAP@.5:.95: 100%|█| 2/2 [00:00<00:00,  2.42\n"
     ]
    },
    {
     "name": "stdout",
     "output_type": "stream",
     "text": [
      "                 all         60        163      0.365      0.279      0.244     0.0722\n"
     ]
    },
    {
     "name": "stderr",
     "output_type": "stream",
     "text": [
      "\n",
      "     Epoch   gpu_mem       box       obj       cls     total    labels  img_size\n",
      "    54/299     15.4G   0.06371   0.05045    0.1784    0.2925        21       640: 100%|█| 47/47 [00:18<00:00,  2.49it/s\n",
      "               Class     Images     Labels          P          R     mAP@.5 mAP@.5:.95: 100%|█| 2/2 [00:00<00:00,  2.38\n"
     ]
    },
    {
     "name": "stdout",
     "output_type": "stream",
     "text": [
      "                 all         60        163      0.589      0.212      0.223     0.0711\n"
     ]
    },
    {
     "name": "stderr",
     "output_type": "stream",
     "text": [
      "\n",
      "     Epoch   gpu_mem       box       obj       cls     total    labels  img_size\n",
      "    55/299     15.4G   0.06468   0.05137    0.1609     0.277        21       640: 100%|█| 47/47 [00:18<00:00,  2.48it/s\n",
      "               Class     Images     Labels          P          R     mAP@.5 mAP@.5:.95: 100%|█| 2/2 [00:00<00:00,  2.34\n"
     ]
    },
    {
     "name": "stdout",
     "output_type": "stream",
     "text": [
      "                 all         60        163      0.203      0.312      0.197     0.0638\n"
     ]
    },
    {
     "name": "stderr",
     "output_type": "stream",
     "text": [
      "\n",
      "     Epoch   gpu_mem       box       obj       cls     total    labels  img_size\n",
      "    56/299     15.4G   0.06391   0.05152    0.1561    0.2715        19       640: 100%|█| 47/47 [00:19<00:00,  2.47it/s\n",
      "               Class     Images     Labels          P          R     mAP@.5 mAP@.5:.95: 100%|█| 2/2 [00:00<00:00,  2.27\n"
     ]
    },
    {
     "name": "stdout",
     "output_type": "stream",
     "text": [
      "                 all         60        163      0.697      0.193      0.225     0.0708\n"
     ]
    },
    {
     "name": "stderr",
     "output_type": "stream",
     "text": [
      "\n",
      "     Epoch   gpu_mem       box       obj       cls     total    labels  img_size\n",
      "    57/299     15.4G   0.06328   0.05255     0.173    0.2888        24       640: 100%|█| 47/47 [00:18<00:00,  2.48it/s\n",
      "               Class     Images     Labels          P          R     mAP@.5 mAP@.5:.95: 100%|█| 2/2 [00:00<00:00,  2.33\n"
     ]
    },
    {
     "name": "stdout",
     "output_type": "stream",
     "text": [
      "                 all         60        163       0.49       0.23      0.246     0.0807\n"
     ]
    },
    {
     "name": "stderr",
     "output_type": "stream",
     "text": [
      "\n",
      "     Epoch   gpu_mem       box       obj       cls     total    labels  img_size\n",
      "    58/299     15.4G   0.06399   0.05145    0.1992    0.3146        19       640: 100%|█| 47/47 [00:18<00:00,  2.49it/s\n",
      "               Class     Images     Labels          P          R     mAP@.5 mAP@.5:.95: 100%|█| 2/2 [00:00<00:00,  2.34\n"
     ]
    },
    {
     "name": "stdout",
     "output_type": "stream",
     "text": [
      "                 all         60        163      0.269      0.246      0.181     0.0531\n"
     ]
    },
    {
     "name": "stderr",
     "output_type": "stream",
     "text": [
      "\n",
      "     Epoch   gpu_mem       box       obj       cls     total    labels  img_size\n",
      "    59/299     15.4G   0.06335   0.04934    0.1679    0.2806         6       640: 100%|█| 47/47 [00:18<00:00,  2.48it/s\n",
      "               Class     Images     Labels          P          R     mAP@.5 mAP@.5:.95: 100%|█| 2/2 [00:03<00:00,  1.72\n"
     ]
    },
    {
     "name": "stdout",
     "output_type": "stream",
     "text": [
      "                 all         60        163       0.21      0.354      0.213     0.0578\n"
     ]
    },
    {
     "name": "stderr",
     "output_type": "stream",
     "text": [
      "\n",
      "     Epoch   gpu_mem       box       obj       cls     total    labels  img_size\n",
      "    60/299     15.4G   0.06424   0.04962    0.1808    0.2947        14       640: 100%|█| 47/47 [00:19<00:00,  2.47it/s\n",
      "               Class     Images     Labels          P          R     mAP@.5 mAP@.5:.95: 100%|█| 2/2 [00:00<00:00,  2.26\n"
     ]
    },
    {
     "name": "stdout",
     "output_type": "stream",
     "text": [
      "                 all         60        163      0.198      0.315      0.196     0.0576\n"
     ]
    },
    {
     "name": "stderr",
     "output_type": "stream",
     "text": [
      "\n",
      "     Epoch   gpu_mem       box       obj       cls     total    labels  img_size\n",
      "    61/299     15.4G   0.06228   0.05052    0.1753    0.2881        10       640: 100%|█| 47/47 [00:19<00:00,  2.47it/s\n",
      "               Class     Images     Labels          P          R     mAP@.5 mAP@.5:.95: 100%|█| 2/2 [00:00<00:00,  2.21\n"
     ]
    },
    {
     "name": "stdout",
     "output_type": "stream",
     "text": [
      "                 all         60        163      0.204      0.362      0.235      0.074\n"
     ]
    },
    {
     "name": "stderr",
     "output_type": "stream",
     "text": [
      "\n",
      "     Epoch   gpu_mem       box       obj       cls     total    labels  img_size\n",
      "    62/299     15.4G   0.06237    0.0488    0.1732    0.2844        13       640: 100%|█| 47/47 [00:19<00:00,  2.47it/s\n",
      "               Class     Images     Labels          P          R     mAP@.5 mAP@.5:.95: 100%|█| 2/2 [00:00<00:00,  2.35\n"
     ]
    },
    {
     "name": "stdout",
     "output_type": "stream",
     "text": [
      "                 all         60        163      0.314      0.276      0.198     0.0651\n"
     ]
    },
    {
     "name": "stderr",
     "output_type": "stream",
     "text": [
      "\n",
      "     Epoch   gpu_mem       box       obj       cls     total    labels  img_size\n",
      "    63/299     15.4G    0.0626   0.05059    0.1539    0.2671        21       640: 100%|█| 47/47 [00:18<00:00,  2.47it/s\n",
      "               Class     Images     Labels          P          R     mAP@.5 mAP@.5:.95: 100%|█| 2/2 [00:00<00:00,  2.28\n"
     ]
    },
    {
     "name": "stdout",
     "output_type": "stream",
     "text": [
      "                 all         60        163      0.293       0.32      0.252     0.0715\n"
     ]
    },
    {
     "name": "stderr",
     "output_type": "stream",
     "text": [
      "\n",
      "     Epoch   gpu_mem       box       obj       cls     total    labels  img_size\n",
      "    64/299     15.4G   0.06205   0.05021     0.142    0.2542        19       640: 100%|█| 47/47 [00:18<00:00,  2.48it/s\n",
      "               Class     Images     Labels          P          R     mAP@.5 mAP@.5:.95: 100%|█| 2/2 [00:00<00:00,  2.37\n"
     ]
    },
    {
     "name": "stdout",
     "output_type": "stream",
     "text": [
      "                 all         60        163      0.531      0.312      0.291      0.089\n"
     ]
    },
    {
     "name": "stderr",
     "output_type": "stream",
     "text": [
      "\n",
      "     Epoch   gpu_mem       box       obj       cls     total    labels  img_size\n",
      "    65/299     15.4G   0.06229   0.04933    0.1613    0.2729        14       640: 100%|█| 47/47 [00:19<00:00,  2.47it/s\n",
      "               Class     Images     Labels          P          R     mAP@.5 mAP@.5:.95: 100%|█| 2/2 [00:00<00:00,  2.40\n"
     ]
    },
    {
     "name": "stdout",
     "output_type": "stream",
     "text": [
      "                 all         60        163      0.464      0.283      0.248     0.0742\n"
     ]
    },
    {
     "name": "stderr",
     "output_type": "stream",
     "text": [
      "\n",
      "     Epoch   gpu_mem       box       obj       cls     total    labels  img_size\n",
      "    66/299     15.4G   0.06267   0.05259    0.1668    0.2821        26       640: 100%|█| 47/47 [00:18<00:00,  2.48it/s\n",
      "               Class     Images     Labels          P          R     mAP@.5 mAP@.5:.95: 100%|█| 2/2 [00:00<00:00,  2.30\n"
     ]
    },
    {
     "name": "stdout",
     "output_type": "stream",
     "text": [
      "                 all         60        163      0.333      0.331      0.256     0.0735\n"
     ]
    },
    {
     "name": "stderr",
     "output_type": "stream",
     "text": [
      "\n",
      "     Epoch   gpu_mem       box       obj       cls     total    labels  img_size\n",
      "    67/299     15.4G   0.06337   0.05071    0.1522    0.2663        18       640: 100%|█| 47/47 [00:19<00:00,  2.47it/s\n",
      "               Class     Images     Labels          P          R     mAP@.5 mAP@.5:.95: 100%|█| 2/2 [00:00<00:00,  2.32\n"
     ]
    },
    {
     "name": "stdout",
     "output_type": "stream",
     "text": [
      "                 all         60        163      0.322      0.354      0.256     0.0637\n"
     ]
    },
    {
     "name": "stderr",
     "output_type": "stream",
     "text": [
      "\n",
      "     Epoch   gpu_mem       box       obj       cls     total    labels  img_size\n",
      "    68/299     15.4G   0.06174   0.05047    0.1505    0.2627        10       640: 100%|█| 47/47 [00:19<00:00,  2.46it/s\n",
      "               Class     Images     Labels          P          R     mAP@.5 mAP@.5:.95: 100%|█| 2/2 [00:00<00:00,  2.37\n"
     ]
    },
    {
     "name": "stdout",
     "output_type": "stream",
     "text": [
      "                 all         60        163      0.467       0.35      0.313     0.0975\n"
     ]
    },
    {
     "name": "stderr",
     "output_type": "stream",
     "text": [
      "\n",
      "     Epoch   gpu_mem       box       obj       cls     total    labels  img_size\n",
      "    69/299     15.4G   0.06254   0.04924    0.1401    0.2519        14       640: 100%|█| 47/47 [00:18<00:00,  2.47it/s\n",
      "               Class     Images     Labels          P          R     mAP@.5 mAP@.5:.95: 100%|█| 2/2 [00:00<00:00,  2.40\n"
     ]
    },
    {
     "name": "stdout",
     "output_type": "stream",
     "text": [
      "                 all         60        163      0.339       0.31      0.261     0.0823\n"
     ]
    },
    {
     "name": "stderr",
     "output_type": "stream",
     "text": [
      "\n",
      "     Epoch   gpu_mem       box       obj       cls     total    labels  img_size\n",
      "    70/299     15.4G   0.06071   0.04961    0.1411    0.2514        13       640: 100%|█| 47/47 [00:18<00:00,  2.49it/s\n",
      "               Class     Images     Labels          P          R     mAP@.5 mAP@.5:.95: 100%|█| 2/2 [00:00<00:00,  2.33\n"
     ]
    },
    {
     "name": "stdout",
     "output_type": "stream",
     "text": [
      "                 all         60        163      0.401      0.311      0.307     0.0804\n"
     ]
    },
    {
     "name": "stderr",
     "output_type": "stream",
     "text": [
      "\n",
      "     Epoch   gpu_mem       box       obj       cls     total    labels  img_size\n",
      "    71/299     15.4G    0.0601   0.05103    0.1547    0.2659        24       640: 100%|█| 47/47 [00:19<00:00,  2.47it/s\n",
      "               Class     Images     Labels          P          R     mAP@.5 mAP@.5:.95: 100%|█| 2/2 [00:00<00:00,  2.37\n"
     ]
    },
    {
     "name": "stdout",
     "output_type": "stream",
     "text": [
      "                 all         60        163      0.292      0.268      0.252     0.0779\n"
     ]
    },
    {
     "name": "stderr",
     "output_type": "stream",
     "text": [
      "\n",
      "     Epoch   gpu_mem       box       obj       cls     total    labels  img_size\n",
      "    72/299     15.4G   0.06044   0.05143     0.148    0.2599        14       640: 100%|█| 47/47 [00:19<00:00,  2.47it/s\n",
      "               Class     Images     Labels          P          R     mAP@.5 mAP@.5:.95: 100%|█| 2/2 [00:00<00:00,  2.31\n"
     ]
    },
    {
     "name": "stdout",
     "output_type": "stream",
     "text": [
      "                 all         60        163      0.503      0.333      0.287      0.087\n"
     ]
    },
    {
     "name": "stderr",
     "output_type": "stream",
     "text": [
      "\n",
      "     Epoch   gpu_mem       box       obj       cls     total    labels  img_size\n",
      "    73/299     15.4G   0.06215   0.05181    0.1491    0.2631        14       640: 100%|█| 47/47 [00:19<00:00,  2.47it/s\n",
      "               Class     Images     Labels          P          R     mAP@.5 mAP@.5:.95: 100%|█| 2/2 [00:00<00:00,  2.20\n"
     ]
    },
    {
     "name": "stdout",
     "output_type": "stream",
     "text": [
      "                 all         60        163      0.437      0.193      0.197     0.0582\n"
     ]
    },
    {
     "name": "stderr",
     "output_type": "stream",
     "text": [
      "\n",
      "     Epoch   gpu_mem       box       obj       cls     total    labels  img_size\n",
      "    74/299     15.4G   0.06095   0.05016     0.136    0.2471        14       640: 100%|█| 47/47 [00:19<00:00,  2.47it/s\n",
      "               Class     Images     Labels          P          R     mAP@.5 mAP@.5:.95: 100%|█| 2/2 [00:00<00:00,  2.39\n"
     ]
    },
    {
     "name": "stdout",
     "output_type": "stream",
     "text": [
      "                 all         60        163      0.592      0.273      0.287     0.0869\n"
     ]
    },
    {
     "name": "stderr",
     "output_type": "stream",
     "text": [
      "\n",
      "     Epoch   gpu_mem       box       obj       cls     total    labels  img_size\n",
      "    75/299     15.4G   0.06016   0.04791    0.1282    0.2363        25       640: 100%|█| 47/47 [00:18<00:00,  2.48it/s\n",
      "               Class     Images     Labels          P          R     mAP@.5 mAP@.5:.95: 100%|█| 2/2 [00:00<00:00,  2.40\n"
     ]
    },
    {
     "name": "stdout",
     "output_type": "stream",
     "text": [
      "                 all         60        163      0.385      0.372      0.297     0.0874\n"
     ]
    },
    {
     "name": "stderr",
     "output_type": "stream",
     "text": [
      "\n",
      "     Epoch   gpu_mem       box       obj       cls     total    labels  img_size\n",
      "    76/299     15.4G   0.06077   0.05132    0.1324    0.2445        16       640: 100%|█| 47/47 [00:19<00:00,  2.47it/s\n",
      "               Class     Images     Labels          P          R     mAP@.5 mAP@.5:.95: 100%|█| 2/2 [00:00<00:00,  2.32\n"
     ]
    },
    {
     "name": "stdout",
     "output_type": "stream",
     "text": [
      "                 all         60        163      0.484      0.257      0.243     0.0662\n"
     ]
    },
    {
     "name": "stderr",
     "output_type": "stream",
     "text": [
      "\n",
      "     Epoch   gpu_mem       box       obj       cls     total    labels  img_size\n",
      "    77/299     15.4G   0.06115   0.05053    0.1423     0.254        18       640: 100%|█| 47/47 [00:18<00:00,  2.48it/s\n",
      "               Class     Images     Labels          P          R     mAP@.5 mAP@.5:.95: 100%|█| 2/2 [00:00<00:00,  2.25\n"
     ]
    },
    {
     "name": "stdout",
     "output_type": "stream",
     "text": [
      "                 all         60        163      0.485      0.265      0.283        0.1\n"
     ]
    },
    {
     "name": "stderr",
     "output_type": "stream",
     "text": [
      "\n",
      "     Epoch   gpu_mem       box       obj       cls     total    labels  img_size\n",
      "    78/299     15.4G   0.06147    0.0503    0.1381    0.2499        17       640: 100%|█| 47/47 [00:19<00:00,  2.47it/s\n",
      "               Class     Images     Labels          P          R     mAP@.5 mAP@.5:.95: 100%|█| 2/2 [00:00<00:00,  2.35\n"
     ]
    },
    {
     "name": "stdout",
     "output_type": "stream",
     "text": [
      "                 all         60        163      0.505      0.224      0.275     0.0797\n"
     ]
    },
    {
     "name": "stderr",
     "output_type": "stream",
     "text": [
      "\n",
      "     Epoch   gpu_mem       box       obj       cls     total    labels  img_size\n",
      "    79/299     15.4G   0.05996    0.0539    0.1269    0.2407        26       640: 100%|█| 47/47 [00:19<00:00,  2.47it/s\n",
      "               Class     Images     Labels          P          R     mAP@.5 mAP@.5:.95: 100%|█| 2/2 [00:00<00:00,  2.35\n"
     ]
    },
    {
     "name": "stdout",
     "output_type": "stream",
     "text": [
      "                 all         60        163      0.473      0.332      0.286     0.0818\n"
     ]
    },
    {
     "name": "stderr",
     "output_type": "stream",
     "text": [
      "\n",
      "     Epoch   gpu_mem       box       obj       cls     total    labels  img_size\n",
      "    80/299     15.4G   0.06078   0.05059    0.1076    0.2189        31       640: 100%|█| 47/47 [00:18<00:00,  2.48it/s\n",
      "               Class     Images     Labels          P          R     mAP@.5 mAP@.5:.95: 100%|█| 2/2 [00:00<00:00,  2.36\n"
     ]
    },
    {
     "name": "stdout",
     "output_type": "stream",
     "text": [
      "                 all         60        163      0.595      0.249      0.262     0.0846\n"
     ]
    },
    {
     "name": "stderr",
     "output_type": "stream",
     "text": [
      "\n",
      "     Epoch   gpu_mem       box       obj       cls     total    labels  img_size\n",
      "    81/299     15.4G   0.06028   0.04967    0.1192    0.2292        17       640: 100%|█| 47/47 [00:19<00:00,  2.47it/s\n",
      "               Class     Images     Labels          P          R     mAP@.5 mAP@.5:.95: 100%|█| 2/2 [00:00<00:00,  2.45\n"
     ]
    },
    {
     "name": "stdout",
     "output_type": "stream",
     "text": [
      "                 all         60        163      0.388      0.301      0.276     0.0855\n"
     ]
    },
    {
     "name": "stderr",
     "output_type": "stream",
     "text": [
      "\n",
      "     Epoch   gpu_mem       box       obj       cls     total    labels  img_size\n",
      "    82/299     15.4G   0.05916    0.0501    0.1257     0.235        28       640: 100%|█| 47/47 [00:18<00:00,  2.49it/s\n",
      "               Class     Images     Labels          P          R     mAP@.5 mAP@.5:.95: 100%|█| 2/2 [00:00<00:00,  2.39\n"
     ]
    },
    {
     "name": "stdout",
     "output_type": "stream",
     "text": [
      "                 all         60        163      0.496      0.324      0.251     0.0746\n"
     ]
    },
    {
     "name": "stderr",
     "output_type": "stream",
     "text": [
      "\n",
      "     Epoch   gpu_mem       box       obj       cls     total    labels  img_size\n",
      "    83/299     15.4G   0.06025   0.04946    0.1242    0.2339        15       640: 100%|█| 47/47 [00:19<00:00,  2.47it/s\n",
      "               Class     Images     Labels          P          R     mAP@.5 mAP@.5:.95: 100%|█| 2/2 [00:00<00:00,  2.42\n"
     ]
    },
    {
     "name": "stdout",
     "output_type": "stream",
     "text": [
      "                 all         60        163      0.403      0.311      0.307      0.108\n"
     ]
    },
    {
     "name": "stderr",
     "output_type": "stream",
     "text": [
      "\n",
      "     Epoch   gpu_mem       box       obj       cls     total    labels  img_size\n",
      "    84/299     15.4G     0.059   0.04957     0.101    0.2096        20       640: 100%|█| 47/47 [00:19<00:00,  2.47it/s\n",
      "               Class     Images     Labels          P          R     mAP@.5 mAP@.5:.95: 100%|█| 2/2 [00:00<00:00,  2.35\n"
     ]
    },
    {
     "name": "stdout",
     "output_type": "stream",
     "text": [
      "                 all         60        163      0.539      0.252       0.26      0.071\n"
     ]
    },
    {
     "name": "stderr",
     "output_type": "stream",
     "text": [
      "\n",
      "     Epoch   gpu_mem       box       obj       cls     total    labels  img_size\n",
      "    85/299     15.4G     0.059    0.0518    0.1026    0.2134        32       640: 100%|█| 47/47 [00:18<00:00,  2.48it/s\n",
      "               Class     Images     Labels          P          R     mAP@.5 mAP@.5:.95: 100%|█| 2/2 [00:00<00:00,  2.31\n"
     ]
    },
    {
     "name": "stdout",
     "output_type": "stream",
     "text": [
      "                 all         60        163      0.337      0.383      0.306        0.1\n"
     ]
    },
    {
     "name": "stderr",
     "output_type": "stream",
     "text": [
      "\n",
      "     Epoch   gpu_mem       box       obj       cls     total    labels  img_size\n",
      "    86/299     15.4G    0.0581   0.04995    0.1135    0.2216        19       640: 100%|█| 47/47 [00:19<00:00,  2.47it/s\n",
      "               Class     Images     Labels          P          R     mAP@.5 mAP@.5:.95: 100%|█| 2/2 [00:00<00:00,  2.47\n"
     ]
    },
    {
     "name": "stdout",
     "output_type": "stream",
     "text": [
      "                 all         60        163      0.428      0.378      0.282     0.0896\n"
     ]
    },
    {
     "name": "stderr",
     "output_type": "stream",
     "text": [
      "\n",
      "     Epoch   gpu_mem       box       obj       cls     total    labels  img_size\n",
      "    87/299     15.4G   0.05917   0.04905    0.1215    0.2297        21       640: 100%|█| 47/47 [00:18<00:00,  2.48it/s\n",
      "               Class     Images     Labels          P          R     mAP@.5 mAP@.5:.95: 100%|█| 2/2 [00:00<00:00,  2.40\n"
     ]
    },
    {
     "name": "stdout",
     "output_type": "stream",
     "text": [
      "                 all         60        163      0.439      0.428      0.335      0.108\n"
     ]
    },
    {
     "name": "stderr",
     "output_type": "stream",
     "text": [
      "\n",
      "     Epoch   gpu_mem       box       obj       cls     total    labels  img_size\n",
      "    88/299     15.4G    0.0585   0.04998    0.1269    0.2354        20       640: 100%|█| 47/47 [00:18<00:00,  2.48it/s\n",
      "               Class     Images     Labels          P          R     mAP@.5 mAP@.5:.95: 100%|█| 2/2 [00:00<00:00,  2.45\n"
     ]
    },
    {
     "name": "stdout",
     "output_type": "stream",
     "text": [
      "                 all         60        163      0.502      0.293      0.311      0.105\n"
     ]
    },
    {
     "name": "stderr",
     "output_type": "stream",
     "text": [
      "\n",
      "     Epoch   gpu_mem       box       obj       cls     total    labels  img_size\n",
      "    89/299     15.4G    0.0592   0.04964   0.09662    0.2055        33       640: 100%|█| 47/47 [00:19<00:00,  2.47it/s\n",
      "               Class     Images     Labels          P          R     mAP@.5 mAP@.5:.95: 100%|█| 2/2 [00:03<00:00,  1.72\n"
     ]
    },
    {
     "name": "stdout",
     "output_type": "stream",
     "text": [
      "                 all         60        163      0.293      0.314      0.293     0.0969\n"
     ]
    },
    {
     "name": "stderr",
     "output_type": "stream",
     "text": [
      "\n",
      "     Epoch   gpu_mem       box       obj       cls     total    labels  img_size\n",
      "    90/299     15.4G   0.05793   0.04991    0.1121      0.22        19       640: 100%|█| 47/47 [00:18<00:00,  2.49it/s\n",
      "               Class     Images     Labels          P          R     mAP@.5 mAP@.5:.95: 100%|█| 2/2 [00:00<00:00,  2.38\n"
     ]
    },
    {
     "name": "stdout",
     "output_type": "stream",
     "text": [
      "                 all         60        163      0.365      0.353      0.311       0.11\n"
     ]
    },
    {
     "name": "stderr",
     "output_type": "stream",
     "text": [
      "\n",
      "     Epoch   gpu_mem       box       obj       cls     total    labels  img_size\n",
      "    91/299     15.4G   0.05883   0.05168    0.1047    0.2152        17       640: 100%|█| 47/47 [00:18<00:00,  2.48it/s\n",
      "               Class     Images     Labels          P          R     mAP@.5 mAP@.5:.95: 100%|█| 2/2 [00:00<00:00,  2.41\n"
     ]
    },
    {
     "name": "stdout",
     "output_type": "stream",
     "text": [
      "                 all         60        163      0.474      0.371      0.332     0.0989\n"
     ]
    },
    {
     "name": "stderr",
     "output_type": "stream",
     "text": [
      "\n",
      "     Epoch   gpu_mem       box       obj       cls     total    labels  img_size\n",
      "    92/299     15.4G   0.05912   0.05022    0.1243    0.2337        17       640: 100%|█| 47/47 [00:18<00:00,  2.48it/s\n",
      "               Class     Images     Labels          P          R     mAP@.5 mAP@.5:.95: 100%|█| 2/2 [00:00<00:00,  2.51\n"
     ]
    },
    {
     "name": "stdout",
     "output_type": "stream",
     "text": [
      "                 all         60        163      0.538      0.291      0.348      0.109\n"
     ]
    },
    {
     "name": "stderr",
     "output_type": "stream",
     "text": [
      "\n",
      "     Epoch   gpu_mem       box       obj       cls     total    labels  img_size\n",
      "    93/299     15.4G   0.05961   0.04987    0.1449    0.2544        20       640: 100%|█| 47/47 [00:18<00:00,  2.48it/s\n",
      "               Class     Images     Labels          P          R     mAP@.5 mAP@.5:.95: 100%|█| 2/2 [00:00<00:00,  2.36\n"
     ]
    },
    {
     "name": "stdout",
     "output_type": "stream",
     "text": [
      "                 all         60        163      0.354      0.394      0.313     0.0955\n"
     ]
    },
    {
     "name": "stderr",
     "output_type": "stream",
     "text": [
      "\n",
      "     Epoch   gpu_mem       box       obj       cls     total    labels  img_size\n",
      "    94/299     15.4G   0.05813   0.05061    0.1343     0.243        11       640: 100%|█| 47/47 [00:18<00:00,  2.48it/s\n",
      "               Class     Images     Labels          P          R     mAP@.5 mAP@.5:.95: 100%|█| 2/2 [00:00<00:00,  2.38\n"
     ]
    },
    {
     "name": "stdout",
     "output_type": "stream",
     "text": [
      "                 all         60        163       0.32      0.386      0.293        0.1\n"
     ]
    },
    {
     "name": "stderr",
     "output_type": "stream",
     "text": [
      "\n",
      "     Epoch   gpu_mem       box       obj       cls     total    labels  img_size\n",
      "    95/299     15.4G   0.05944   0.04986    0.1153    0.2246        15       640: 100%|█| 47/47 [00:19<00:00,  2.47it/s\n",
      "               Class     Images     Labels          P          R     mAP@.5 mAP@.5:.95: 100%|█| 2/2 [00:00<00:00,  2.44\n"
     ]
    },
    {
     "name": "stdout",
     "output_type": "stream",
     "text": [
      "                 all         60        163      0.496      0.295        0.3     0.0891\n"
     ]
    },
    {
     "name": "stderr",
     "output_type": "stream",
     "text": [
      "\n",
      "     Epoch   gpu_mem       box       obj       cls     total    labels  img_size\n",
      "    96/299     15.4G   0.05983   0.05009    0.1271     0.237         9       640: 100%|█| 47/47 [00:19<00:00,  2.46it/s\n",
      "               Class     Images     Labels          P          R     mAP@.5 mAP@.5:.95: 100%|█| 2/2 [00:00<00:00,  2.37\n"
     ]
    },
    {
     "name": "stdout",
     "output_type": "stream",
     "text": [
      "                 all         60        163      0.596      0.248      0.283        0.1\n"
     ]
    },
    {
     "name": "stderr",
     "output_type": "stream",
     "text": [
      "\n",
      "     Epoch   gpu_mem       box       obj       cls     total    labels  img_size\n",
      "    97/299     15.4G   0.05831   0.05017    0.1174    0.2259        14       640: 100%|█| 47/47 [00:19<00:00,  2.47it/s\n",
      "               Class     Images     Labels          P          R     mAP@.5 mAP@.5:.95: 100%|█| 2/2 [00:00<00:00,  2.39\n"
     ]
    },
    {
     "name": "stdout",
     "output_type": "stream",
     "text": [
      "                 all         60        163      0.451      0.329      0.293      0.102\n"
     ]
    },
    {
     "name": "stderr",
     "output_type": "stream",
     "text": [
      "\n",
      "     Epoch   gpu_mem       box       obj       cls     total    labels  img_size\n",
      "    98/299     15.4G   0.05817   0.05174    0.1143    0.2243        15       640: 100%|█| 47/47 [00:18<00:00,  2.48it/s\n",
      "               Class     Images     Labels          P          R     mAP@.5 mAP@.5:.95: 100%|█| 2/2 [00:00<00:00,  2.37\n"
     ]
    },
    {
     "name": "stdout",
     "output_type": "stream",
     "text": [
      "                 all         60        163       0.55      0.287      0.327      0.108\n"
     ]
    },
    {
     "name": "stderr",
     "output_type": "stream",
     "text": [
      "\n",
      "     Epoch   gpu_mem       box       obj       cls     total    labels  img_size\n",
      "    99/299     15.4G   0.05667   0.04889    0.1068    0.2123        14       640: 100%|█| 47/47 [00:19<00:00,  2.47it/s\n",
      "               Class     Images     Labels          P          R     mAP@.5 mAP@.5:.95: 100%|█| 2/2 [00:00<00:00,  2.29\n"
     ]
    },
    {
     "name": "stdout",
     "output_type": "stream",
     "text": [
      "                 all         60        163      0.585      0.193      0.231      0.077\n"
     ]
    },
    {
     "name": "stderr",
     "output_type": "stream",
     "text": [
      "\n",
      "     Epoch   gpu_mem       box       obj       cls     total    labels  img_size\n",
      "   100/299     15.4G   0.05738   0.05199    0.1064    0.2158        17       640: 100%|█| 47/47 [00:18<00:00,  2.48it/s\n",
      "               Class     Images     Labels          P          R     mAP@.5 mAP@.5:.95: 100%|█| 2/2 [00:00<00:00,  2.35\n"
     ]
    },
    {
     "name": "stdout",
     "output_type": "stream",
     "text": [
      "                 all         60        163      0.352      0.335      0.309      0.116\n"
     ]
    },
    {
     "name": "stderr",
     "output_type": "stream",
     "text": [
      "\n",
      "     Epoch   gpu_mem       box       obj       cls     total    labels  img_size\n",
      "   101/299     15.4G   0.05745   0.04927    0.0921    0.1988        19       640: 100%|█| 47/47 [00:19<00:00,  2.47it/s\n",
      "               Class     Images     Labels          P          R     mAP@.5 mAP@.5:.95: 100%|█| 2/2 [00:00<00:00,  2.44\n"
     ]
    },
    {
     "name": "stdout",
     "output_type": "stream",
     "text": [
      "                 all         60        163       0.54       0.34       0.37      0.132\n"
     ]
    },
    {
     "name": "stderr",
     "output_type": "stream",
     "text": [
      "\n",
      "     Epoch   gpu_mem       box       obj       cls     total    labels  img_size\n",
      "   102/299     15.4G   0.05734   0.04838    0.1024    0.2081        12       640: 100%|█| 47/47 [00:18<00:00,  2.48it/s\n",
      "               Class     Images     Labels          P          R     mAP@.5 mAP@.5:.95: 100%|█| 2/2 [00:00<00:00,  2.41\n"
     ]
    },
    {
     "name": "stdout",
     "output_type": "stream",
     "text": [
      "                 all         60        163      0.541      0.306      0.321      0.119\n"
     ]
    },
    {
     "name": "stderr",
     "output_type": "stream",
     "text": [
      "\n",
      "     Epoch   gpu_mem       box       obj       cls     total    labels  img_size\n",
      "   103/299     15.4G   0.05693    0.0484    0.1153    0.2206        16       640: 100%|█| 47/47 [00:18<00:00,  2.54it/s\n",
      "               Class     Images     Labels          P          R     mAP@.5 mAP@.5:.95: 100%|█| 2/2 [00:00<00:00,  2.31\n"
     ]
    },
    {
     "name": "stdout",
     "output_type": "stream",
     "text": [
      "                 all         60        163      0.387      0.317      0.308      0.114\n"
     ]
    },
    {
     "name": "stderr",
     "output_type": "stream",
     "text": [
      "\n",
      "     Epoch   gpu_mem       box       obj       cls     total    labels  img_size\n",
      "   104/299     15.4G    0.0577   0.04981    0.1095     0.217        21       640: 100%|█| 47/47 [00:18<00:00,  2.47it/s\n",
      "               Class     Images     Labels          P          R     mAP@.5 mAP@.5:.95: 100%|█| 2/2 [00:00<00:00,  2.42\n"
     ]
    },
    {
     "name": "stdout",
     "output_type": "stream",
     "text": [
      "                 all         60        163      0.401      0.409      0.308     0.0995\n"
     ]
    },
    {
     "name": "stderr",
     "output_type": "stream",
     "text": [
      "\n",
      "     Epoch   gpu_mem       box       obj       cls     total    labels  img_size\n",
      "   105/299     15.4G   0.05725   0.04993    0.1132    0.2204        22       640: 100%|█| 47/47 [00:19<00:00,  2.47it/s\n",
      "               Class     Images     Labels          P          R     mAP@.5 mAP@.5:.95: 100%|█| 2/2 [00:00<00:00,  2.39\n"
     ]
    },
    {
     "name": "stdout",
     "output_type": "stream",
     "text": [
      "                 all         60        163      0.385      0.393      0.331       0.12\n"
     ]
    },
    {
     "name": "stderr",
     "output_type": "stream",
     "text": [
      "\n",
      "     Epoch   gpu_mem       box       obj       cls     total    labels  img_size\n",
      "   106/299     15.4G   0.05659   0.04947    0.1188    0.2248        12       640: 100%|█| 47/47 [00:19<00:00,  2.46it/s\n",
      "               Class     Images     Labels          P          R     mAP@.5 mAP@.5:.95: 100%|█| 2/2 [00:00<00:00,  2.41\n"
     ]
    },
    {
     "name": "stdout",
     "output_type": "stream",
     "text": [
      "                 all         60        163      0.455       0.34      0.337      0.127\n"
     ]
    },
    {
     "name": "stderr",
     "output_type": "stream",
     "text": [
      "\n",
      "     Epoch   gpu_mem       box       obj       cls     total    labels  img_size\n",
      "   107/299     15.4G   0.05581   0.05188    0.1138    0.2215        12       640: 100%|█| 47/47 [00:18<00:00,  2.48it/s\n",
      "               Class     Images     Labels          P          R     mAP@.5 mAP@.5:.95: 100%|█| 2/2 [00:00<00:00,  2.39\n"
     ]
    },
    {
     "name": "stdout",
     "output_type": "stream",
     "text": [
      "                 all         60        163      0.369      0.385      0.291      0.103\n"
     ]
    },
    {
     "name": "stderr",
     "output_type": "stream",
     "text": [
      "\n",
      "     Epoch   gpu_mem       box       obj       cls     total    labels  img_size\n",
      "   108/299     15.4G   0.05716   0.04844    0.1112    0.2168        28       640: 100%|█| 47/47 [00:19<00:00,  2.46it/s\n",
      "               Class     Images     Labels          P          R     mAP@.5 mAP@.5:.95: 100%|█| 2/2 [00:00<00:00,  2.39\n"
     ]
    },
    {
     "name": "stdout",
     "output_type": "stream",
     "text": [
      "                 all         60        163       0.64      0.313      0.349      0.127\n"
     ]
    },
    {
     "name": "stderr",
     "output_type": "stream",
     "text": [
      "\n",
      "     Epoch   gpu_mem       box       obj       cls     total    labels  img_size\n",
      "   109/299     15.4G   0.05691   0.05158    0.1025    0.2109        28       640: 100%|█| 47/47 [00:18<00:00,  2.48it/s\n",
      "               Class     Images     Labels          P          R     mAP@.5 mAP@.5:.95: 100%|█| 2/2 [00:00<00:00,  2.45\n"
     ]
    },
    {
     "name": "stdout",
     "output_type": "stream",
     "text": [
      "                 all         60        163      0.414      0.328       0.33      0.104\n"
     ]
    },
    {
     "name": "stderr",
     "output_type": "stream",
     "text": [
      "\n",
      "     Epoch   gpu_mem       box       obj       cls     total    labels  img_size\n",
      "   110/299     15.4G    0.0563   0.04894   0.09539    0.2006        24       640: 100%|█| 47/47 [00:18<00:00,  2.48it/s\n",
      "               Class     Images     Labels          P          R     mAP@.5 mAP@.5:.95: 100%|█| 2/2 [00:00<00:00,  2.48\n"
     ]
    },
    {
     "name": "stdout",
     "output_type": "stream",
     "text": [
      "                 all         60        163      0.577      0.375      0.368      0.138\n"
     ]
    },
    {
     "name": "stderr",
     "output_type": "stream",
     "text": [
      "\n",
      "     Epoch   gpu_mem       box       obj       cls     total    labels  img_size\n",
      "   111/299     15.4G   0.05496   0.04925   0.09859    0.2028        16       640: 100%|█| 47/47 [00:19<00:00,  2.47it/s\n",
      "               Class     Images     Labels          P          R     mAP@.5 mAP@.5:.95: 100%|█| 2/2 [00:00<00:00,  2.40\n"
     ]
    },
    {
     "name": "stdout",
     "output_type": "stream",
     "text": [
      "                 all         60        163      0.482       0.45      0.373      0.131\n"
     ]
    },
    {
     "name": "stderr",
     "output_type": "stream",
     "text": [
      "\n",
      "     Epoch   gpu_mem       box       obj       cls     total    labels  img_size\n",
      "   112/299     15.4G   0.05566   0.04953    0.1025    0.2077        22       640: 100%|█| 47/47 [00:18<00:00,  2.47it/s\n",
      "               Class     Images     Labels          P          R     mAP@.5 mAP@.5:.95: 100%|█| 2/2 [00:00<00:00,  2.43\n"
     ]
    },
    {
     "name": "stdout",
     "output_type": "stream",
     "text": [
      "                 all         60        163      0.362      0.363      0.333      0.119\n"
     ]
    },
    {
     "name": "stderr",
     "output_type": "stream",
     "text": [
      "\n",
      "     Epoch   gpu_mem       box       obj       cls     total    labels  img_size\n",
      "   113/299     15.4G   0.05681   0.04968   0.09238    0.1989        21       640: 100%|█| 47/47 [00:19<00:00,  2.47it/s\n",
      "               Class     Images     Labels          P          R     mAP@.5 mAP@.5:.95: 100%|█| 2/2 [00:00<00:00,  2.37\n"
     ]
    },
    {
     "name": "stdout",
     "output_type": "stream",
     "text": [
      "                 all         60        163      0.536      0.466      0.436       0.15\n"
     ]
    },
    {
     "name": "stderr",
     "output_type": "stream",
     "text": [
      "\n",
      "     Epoch   gpu_mem       box       obj       cls     total    labels  img_size\n",
      "   114/299     15.4G   0.05513   0.04788   0.09907    0.2021        20       640: 100%|█| 47/47 [00:18<00:00,  2.48it/s\n",
      "               Class     Images     Labels          P          R     mAP@.5 mAP@.5:.95: 100%|█| 2/2 [00:00<00:00,  2.43\n"
     ]
    },
    {
     "name": "stdout",
     "output_type": "stream",
     "text": [
      "                 all         60        163      0.493      0.374      0.391       0.14\n"
     ]
    },
    {
     "name": "stderr",
     "output_type": "stream",
     "text": [
      "\n",
      "     Epoch   gpu_mem       box       obj       cls     total    labels  img_size\n",
      "   115/299     15.4G    0.0564   0.04901    0.1221    0.2275        20       640: 100%|█| 47/47 [00:19<00:00,  2.47it/s\n",
      "               Class     Images     Labels          P          R     mAP@.5 mAP@.5:.95: 100%|█| 2/2 [00:00<00:00,  2.40\n"
     ]
    },
    {
     "name": "stdout",
     "output_type": "stream",
     "text": [
      "                 all         60        163      0.446       0.35      0.325      0.113\n"
     ]
    },
    {
     "name": "stderr",
     "output_type": "stream",
     "text": [
      "\n",
      "     Epoch   gpu_mem       box       obj       cls     total    labels  img_size\n",
      "   116/299     15.4G     0.056   0.04771    0.1087    0.2124        13       640: 100%|█| 47/47 [00:18<00:00,  2.47it/s\n",
      "               Class     Images     Labels          P          R     mAP@.5 mAP@.5:.95: 100%|█| 2/2 [00:00<00:00,  2.37\n"
     ]
    },
    {
     "name": "stdout",
     "output_type": "stream",
     "text": [
      "                 all         60        163      0.427      0.425       0.37      0.124\n"
     ]
    },
    {
     "name": "stderr",
     "output_type": "stream",
     "text": [
      "\n",
      "     Epoch   gpu_mem       box       obj       cls     total    labels  img_size\n",
      "   117/299     15.4G   0.05503    0.0499    0.1051      0.21        23       640: 100%|█| 47/47 [00:19<00:00,  2.47it/s\n",
      "               Class     Images     Labels          P          R     mAP@.5 mAP@.5:.95: 100%|█| 2/2 [00:00<00:00,  2.51\n"
     ]
    },
    {
     "name": "stdout",
     "output_type": "stream",
     "text": [
      "                 all         60        163      0.518      0.361      0.373      0.142\n"
     ]
    },
    {
     "name": "stderr",
     "output_type": "stream",
     "text": [
      "\n",
      "     Epoch   gpu_mem       box       obj       cls     total    labels  img_size\n",
      "   118/299     15.4G   0.05503   0.04904    0.0836    0.1877        16       640: 100%|█| 47/47 [00:18<00:00,  2.49it/s\n",
      "               Class     Images     Labels          P          R     mAP@.5 mAP@.5:.95: 100%|█| 2/2 [00:00<00:00,  2.46\n"
     ]
    },
    {
     "name": "stdout",
     "output_type": "stream",
     "text": [
      "                 all         60        163      0.476      0.333      0.397      0.146\n"
     ]
    },
    {
     "name": "stderr",
     "output_type": "stream",
     "text": [
      "\n",
      "     Epoch   gpu_mem       box       obj       cls     total    labels  img_size\n",
      "   119/299     15.4G   0.05456   0.04842   0.09476    0.1977        14       640: 100%|█| 47/47 [00:19<00:00,  2.47it/s\n",
      "               Class     Images     Labels          P          R     mAP@.5 mAP@.5:.95: 100%|█| 2/2 [00:03<00:00,  1.71\n"
     ]
    },
    {
     "name": "stdout",
     "output_type": "stream",
     "text": [
      "                 all         60        163      0.504      0.409      0.412      0.168\n"
     ]
    },
    {
     "name": "stderr",
     "output_type": "stream",
     "text": [
      "\n",
      "     Epoch   gpu_mem       box       obj       cls     total    labels  img_size\n",
      "   120/299     15.4G   0.05517   0.04997   0.08484      0.19        31       640: 100%|█| 47/47 [00:18<00:00,  2.47it/s\n",
      "               Class     Images     Labels          P          R     mAP@.5 mAP@.5:.95: 100%|█| 2/2 [00:00<00:00,  2.44\n"
     ]
    },
    {
     "name": "stdout",
     "output_type": "stream",
     "text": [
      "                 all         60        163      0.409      0.466      0.403      0.144\n"
     ]
    },
    {
     "name": "stderr",
     "output_type": "stream",
     "text": [
      "\n",
      "     Epoch   gpu_mem       box       obj       cls     total    labels  img_size\n",
      "   121/299     15.4G   0.05508   0.04744   0.08124    0.1838        19       640: 100%|█| 47/47 [00:19<00:00,  2.47it/s\n",
      "               Class     Images     Labels          P          R     mAP@.5 mAP@.5:.95: 100%|█| 2/2 [00:00<00:00,  2.42\n"
     ]
    },
    {
     "name": "stdout",
     "output_type": "stream",
     "text": [
      "                 all         60        163      0.504      0.419      0.447      0.175\n"
     ]
    },
    {
     "name": "stderr",
     "output_type": "stream",
     "text": [
      "\n",
      "     Epoch   gpu_mem       box       obj       cls     total    labels  img_size\n",
      "   122/299     15.4G   0.05484   0.04831   0.07851    0.1817        20       640: 100%|█| 47/47 [00:18<00:00,  2.48it/s\n",
      "               Class     Images     Labels          P          R     mAP@.5 mAP@.5:.95: 100%|█| 2/2 [00:00<00:00,  2.47\n"
     ]
    },
    {
     "name": "stdout",
     "output_type": "stream",
     "text": [
      "                 all         60        163      0.406      0.385      0.419      0.177\n"
     ]
    },
    {
     "name": "stderr",
     "output_type": "stream",
     "text": [
      "\n",
      "     Epoch   gpu_mem       box       obj       cls     total    labels  img_size\n",
      "   123/299     15.4G   0.05423   0.04577   0.08504     0.185        13       640: 100%|█| 47/47 [00:18<00:00,  2.48it/s\n",
      "               Class     Images     Labels          P          R     mAP@.5 mAP@.5:.95: 100%|█| 2/2 [00:00<00:00,  2.40\n"
     ]
    },
    {
     "name": "stdout",
     "output_type": "stream",
     "text": [
      "                 all         60        163      0.579      0.356      0.407      0.172\n"
     ]
    },
    {
     "name": "stderr",
     "output_type": "stream",
     "text": [
      "\n",
      "     Epoch   gpu_mem       box       obj       cls     total    labels  img_size\n",
      "   124/299     15.4G   0.05401   0.04967   0.09988    0.2036        27       640: 100%|█| 47/47 [00:18<00:00,  2.48it/s\n",
      "               Class     Images     Labels          P          R     mAP@.5 mAP@.5:.95: 100%|█| 2/2 [00:00<00:00,  2.49\n"
     ]
    },
    {
     "name": "stdout",
     "output_type": "stream",
     "text": [
      "                 all         60        163        0.6      0.404      0.435      0.168\n"
     ]
    },
    {
     "name": "stderr",
     "output_type": "stream",
     "text": [
      "\n",
      "     Epoch   gpu_mem       box       obj       cls     total    labels  img_size\n",
      "   125/299     15.4G   0.05302   0.04706   0.09015    0.1902        21       640: 100%|█| 47/47 [00:18<00:00,  2.48it/s\n",
      "               Class     Images     Labels          P          R     mAP@.5 mAP@.5:.95: 100%|█| 2/2 [00:00<00:00,  2.48\n"
     ]
    },
    {
     "name": "stdout",
     "output_type": "stream",
     "text": [
      "                 all         60        163      0.524      0.441       0.42      0.144\n"
     ]
    },
    {
     "name": "stderr",
     "output_type": "stream",
     "text": [
      "\n",
      "     Epoch   gpu_mem       box       obj       cls     total    labels  img_size\n",
      "   126/299     15.4G   0.05334   0.04839   0.07852    0.1802        15       640: 100%|█| 47/47 [00:18<00:00,  2.49it/s\n",
      "               Class     Images     Labels          P          R     mAP@.5 mAP@.5:.95: 100%|█| 2/2 [00:00<00:00,  2.32\n"
     ]
    },
    {
     "name": "stdout",
     "output_type": "stream",
     "text": [
      "                 all         60        163      0.384      0.467      0.382      0.152\n"
     ]
    },
    {
     "name": "stderr",
     "output_type": "stream",
     "text": [
      "\n",
      "     Epoch   gpu_mem       box       obj       cls     total    labels  img_size\n",
      "   127/299     15.4G   0.05243   0.04935   0.07817      0.18        22       640: 100%|█| 47/47 [00:19<00:00,  2.43it/s\n",
      "               Class     Images     Labels          P          R     mAP@.5 mAP@.5:.95: 100%|█| 2/2 [00:00<00:00,  2.31\n"
     ]
    },
    {
     "name": "stdout",
     "output_type": "stream",
     "text": [
      "                 all         60        163      0.498      0.457      0.448      0.183\n"
     ]
    },
    {
     "name": "stderr",
     "output_type": "stream",
     "text": [
      "\n",
      "     Epoch   gpu_mem       box       obj       cls     total    labels  img_size\n",
      "   128/299     15.4G   0.05358   0.04774   0.09349    0.1948        23       640: 100%|█| 47/47 [00:19<00:00,  2.46it/s\n",
      "               Class     Images     Labels          P          R     mAP@.5 mAP@.5:.95: 100%|█| 2/2 [00:00<00:00,  2.40\n"
     ]
    },
    {
     "name": "stdout",
     "output_type": "stream",
     "text": [
      "                 all         60        163      0.488      0.482      0.447      0.172\n"
     ]
    },
    {
     "name": "stderr",
     "output_type": "stream",
     "text": [
      "\n",
      "     Epoch   gpu_mem       box       obj       cls     total    labels  img_size\n",
      "   129/299     15.4G   0.05432    0.0471   0.08035    0.1818        13       640: 100%|█| 47/47 [00:19<00:00,  2.46it/s\n",
      "               Class     Images     Labels          P          R     mAP@.5 mAP@.5:.95: 100%|█| 2/2 [00:00<00:00,  2.42\n"
     ]
    },
    {
     "name": "stdout",
     "output_type": "stream",
     "text": [
      "                 all         60        163       0.51      0.537      0.466      0.176\n"
     ]
    },
    {
     "name": "stderr",
     "output_type": "stream",
     "text": [
      "\n",
      "     Epoch   gpu_mem       box       obj       cls     total    labels  img_size\n",
      "   130/299     15.4G   0.05326   0.04981    0.0666    0.1697        37       640: 100%|█| 47/47 [00:19<00:00,  2.47it/s\n",
      "               Class     Images     Labels          P          R     mAP@.5 mAP@.5:.95: 100%|█| 2/2 [00:00<00:00,  2.45\n"
     ]
    },
    {
     "name": "stdout",
     "output_type": "stream",
     "text": [
      "                 all         60        163      0.636      0.421      0.462      0.172\n"
     ]
    },
    {
     "name": "stderr",
     "output_type": "stream",
     "text": [
      "\n",
      "     Epoch   gpu_mem       box       obj       cls     total    labels  img_size\n",
      "   131/299     15.4G    0.0543   0.04857   0.06754    0.1704        27       640: 100%|█| 47/47 [00:19<00:00,  2.46it/s\n",
      "               Class     Images     Labels          P          R     mAP@.5 mAP@.5:.95: 100%|█| 2/2 [00:00<00:00,  2.44\n"
     ]
    },
    {
     "name": "stdout",
     "output_type": "stream",
     "text": [
      "                 all         60        163      0.557      0.424      0.448      0.195\n"
     ]
    },
    {
     "name": "stderr",
     "output_type": "stream",
     "text": [
      "\n",
      "     Epoch   gpu_mem       box       obj       cls     total    labels  img_size\n",
      "   132/299     15.4G    0.0522   0.04905   0.07773     0.179        24       640: 100%|█| 47/47 [00:19<00:00,  2.46it/s\n",
      "               Class     Images     Labels          P          R     mAP@.5 mAP@.5:.95: 100%|█| 2/2 [00:00<00:00,  2.38\n"
     ]
    },
    {
     "name": "stdout",
     "output_type": "stream",
     "text": [
      "                 all         60        163       0.76      0.374      0.402      0.149\n"
     ]
    },
    {
     "name": "stderr",
     "output_type": "stream",
     "text": [
      "\n",
      "     Epoch   gpu_mem       box       obj       cls     total    labels  img_size\n",
      "   133/299     15.4G   0.05365    0.0469   0.07755    0.1781        19       640: 100%|█| 47/47 [00:19<00:00,  2.47it/s\n",
      "               Class     Images     Labels          P          R     mAP@.5 mAP@.5:.95: 100%|█| 2/2 [00:00<00:00,  2.43\n"
     ]
    },
    {
     "name": "stdout",
     "output_type": "stream",
     "text": [
      "                 all         60        163       0.64      0.414       0.45      0.172\n"
     ]
    },
    {
     "name": "stderr",
     "output_type": "stream",
     "text": [
      "\n",
      "     Epoch   gpu_mem       box       obj       cls     total    labels  img_size\n",
      "   134/299     15.4G   0.05289   0.04773   0.07635     0.177        26       640: 100%|█| 47/47 [00:19<00:00,  2.47it/s\n",
      "               Class     Images     Labels          P          R     mAP@.5 mAP@.5:.95: 100%|█| 2/2 [00:00<00:00,  2.41\n"
     ]
    },
    {
     "name": "stdout",
     "output_type": "stream",
     "text": [
      "                 all         60        163      0.539      0.501      0.459      0.166\n"
     ]
    },
    {
     "name": "stderr",
     "output_type": "stream",
     "text": [
      "\n",
      "     Epoch   gpu_mem       box       obj       cls     total    labels  img_size\n",
      "   135/299     15.4G   0.05218   0.04676   0.08646    0.1854        12       640: 100%|█| 47/47 [00:18<00:00,  2.48it/s\n",
      "               Class     Images     Labels          P          R     mAP@.5 mAP@.5:.95: 100%|█| 2/2 [00:00<00:00,  2.39\n"
     ]
    },
    {
     "name": "stdout",
     "output_type": "stream",
     "text": [
      "                 all         60        163      0.681      0.359      0.418      0.169\n"
     ]
    },
    {
     "name": "stderr",
     "output_type": "stream",
     "text": [
      "\n",
      "     Epoch   gpu_mem       box       obj       cls     total    labels  img_size\n",
      "   136/299     15.4G   0.05386   0.04587    0.0754    0.1751        32       640: 100%|█| 47/47 [00:19<00:00,  2.47it/s\n",
      "               Class     Images     Labels          P          R     mAP@.5 mAP@.5:.95: 100%|█| 2/2 [00:00<00:00,  2.44\n"
     ]
    },
    {
     "name": "stdout",
     "output_type": "stream",
     "text": [
      "                 all         60        163      0.673      0.357      0.452      0.174\n"
     ]
    },
    {
     "name": "stderr",
     "output_type": "stream",
     "text": [
      "\n",
      "     Epoch   gpu_mem       box       obj       cls     total    labels  img_size\n",
      "   137/299     15.4G   0.05368   0.04841   0.07797    0.1801        20       640: 100%|█| 47/47 [00:19<00:00,  2.47it/s\n",
      "               Class     Images     Labels          P          R     mAP@.5 mAP@.5:.95: 100%|█| 2/2 [00:00<00:00,  2.45\n"
     ]
    },
    {
     "name": "stdout",
     "output_type": "stream",
     "text": [
      "                 all         60        163      0.475      0.416      0.398      0.159\n"
     ]
    },
    {
     "name": "stderr",
     "output_type": "stream",
     "text": [
      "\n",
      "     Epoch   gpu_mem       box       obj       cls     total    labels  img_size\n",
      "   138/299     15.4G   0.05243   0.04853    0.0712    0.1722        19       640: 100%|█| 47/47 [00:19<00:00,  2.47it/s\n",
      "               Class     Images     Labels          P          R     mAP@.5 mAP@.5:.95: 100%|█| 2/2 [00:00<00:00,  2.46\n"
     ]
    },
    {
     "name": "stdout",
     "output_type": "stream",
     "text": [
      "                 all         60        163      0.436      0.483       0.43       0.17\n"
     ]
    },
    {
     "name": "stderr",
     "output_type": "stream",
     "text": [
      "\n",
      "     Epoch   gpu_mem       box       obj       cls     total    labels  img_size\n",
      "   139/299     15.4G   0.05249   0.04691   0.07618    0.1756        19       640: 100%|█| 47/47 [00:19<00:00,  2.47it/s\n",
      "               Class     Images     Labels          P          R     mAP@.5 mAP@.5:.95: 100%|█| 2/2 [00:00<00:00,  2.40\n"
     ]
    },
    {
     "name": "stdout",
     "output_type": "stream",
     "text": [
      "                 all         60        163      0.703      0.375      0.442      0.176\n"
     ]
    },
    {
     "name": "stderr",
     "output_type": "stream",
     "text": [
      "\n",
      "     Epoch   gpu_mem       box       obj       cls     total    labels  img_size\n",
      "   140/299     15.4G   0.05225   0.04569   0.07103     0.169        20       640: 100%|█| 47/47 [00:18<00:00,  2.48it/s\n",
      "               Class     Images     Labels          P          R     mAP@.5 mAP@.5:.95: 100%|█| 2/2 [00:00<00:00,  2.50\n"
     ]
    },
    {
     "name": "stdout",
     "output_type": "stream",
     "text": [
      "                 all         60        163      0.491       0.46      0.427      0.157\n"
     ]
    },
    {
     "name": "stderr",
     "output_type": "stream",
     "text": [
      "\n",
      "     Epoch   gpu_mem       box       obj       cls     total    labels  img_size\n",
      "   141/299     15.4G   0.05176   0.04857    0.0646    0.1649        22       640: 100%|█| 47/47 [00:18<00:00,  2.48it/s\n",
      "               Class     Images     Labels          P          R     mAP@.5 mAP@.5:.95: 100%|█| 2/2 [00:00<00:00,  2.51\n"
     ]
    },
    {
     "name": "stdout",
     "output_type": "stream",
     "text": [
      "                 all         60        163       0.57      0.426      0.428       0.16\n"
     ]
    },
    {
     "name": "stderr",
     "output_type": "stream",
     "text": [
      "\n",
      "     Epoch   gpu_mem       box       obj       cls     total    labels  img_size\n",
      "   142/299     15.4G   0.05195     0.046   0.06685    0.1648        20       640: 100%|█| 47/47 [00:18<00:00,  2.49it/s\n",
      "               Class     Images     Labels          P          R     mAP@.5 mAP@.5:.95: 100%|█| 2/2 [00:00<00:00,  2.50\n"
     ]
    },
    {
     "name": "stdout",
     "output_type": "stream",
     "text": [
      "                 all         60        163      0.448      0.496      0.453      0.175\n"
     ]
    },
    {
     "name": "stderr",
     "output_type": "stream",
     "text": [
      "\n",
      "     Epoch   gpu_mem       box       obj       cls     total    labels  img_size\n",
      "   143/299     15.4G   0.05159   0.04714   0.07292    0.1717        12       640: 100%|█| 47/47 [00:19<00:00,  2.46it/s\n",
      "               Class     Images     Labels          P          R     mAP@.5 mAP@.5:.95: 100%|█| 2/2 [00:00<00:00,  2.37\n"
     ]
    },
    {
     "name": "stdout",
     "output_type": "stream",
     "text": [
      "                 all         60        163      0.466      0.483      0.458      0.184\n"
     ]
    },
    {
     "name": "stderr",
     "output_type": "stream",
     "text": [
      "\n",
      "     Epoch   gpu_mem       box       obj       cls     total    labels  img_size\n",
      "   144/299     15.4G   0.05152   0.04535   0.06337    0.1602        26       640: 100%|█| 47/47 [00:18<00:00,  2.48it/s\n",
      "               Class     Images     Labels          P          R     mAP@.5 mAP@.5:.95: 100%|█| 2/2 [00:00<00:00,  2.50\n"
     ]
    },
    {
     "name": "stdout",
     "output_type": "stream",
     "text": [
      "                 all         60        163      0.576      0.464      0.466      0.189\n"
     ]
    },
    {
     "name": "stderr",
     "output_type": "stream",
     "text": [
      "\n",
      "     Epoch   gpu_mem       box       obj       cls     total    labels  img_size\n",
      "   145/299     15.4G   0.05126    0.0472   0.05848    0.1569        14       640: 100%|█| 47/47 [00:18<00:00,  2.48it/s\n",
      "               Class     Images     Labels          P          R     mAP@.5 mAP@.5:.95: 100%|█| 2/2 [00:00<00:00,  2.46\n"
     ]
    },
    {
     "name": "stdout",
     "output_type": "stream",
     "text": [
      "                 all         60        163      0.684      0.429      0.482      0.199\n"
     ]
    },
    {
     "name": "stderr",
     "output_type": "stream",
     "text": [
      "\n",
      "     Epoch   gpu_mem       box       obj       cls     total    labels  img_size\n",
      "   146/299     15.4G   0.05183   0.04634   0.06417    0.1623        20       640: 100%|█| 47/47 [00:18<00:00,  2.48it/s\n",
      "               Class     Images     Labels          P          R     mAP@.5 mAP@.5:.95: 100%|█| 2/2 [00:00<00:00,  2.44\n"
     ]
    },
    {
     "name": "stdout",
     "output_type": "stream",
     "text": [
      "                 all         60        163      0.522      0.471      0.475      0.183\n"
     ]
    },
    {
     "name": "stderr",
     "output_type": "stream",
     "text": [
      "\n",
      "     Epoch   gpu_mem       box       obj       cls     total    labels  img_size\n",
      "   147/299     15.4G   0.05059   0.04712   0.06595    0.1637        15       640: 100%|█| 47/47 [00:18<00:00,  2.48it/s\n",
      "               Class     Images     Labels          P          R     mAP@.5 mAP@.5:.95: 100%|█| 2/2 [00:00<00:00,  2.46\n"
     ]
    },
    {
     "name": "stdout",
     "output_type": "stream",
     "text": [
      "                 all         60        163      0.534      0.419      0.451      0.185\n"
     ]
    },
    {
     "name": "stderr",
     "output_type": "stream",
     "text": [
      "\n",
      "     Epoch   gpu_mem       box       obj       cls     total    labels  img_size\n",
      "   148/299     15.4G   0.05017   0.04709   0.06713    0.1644         9       640: 100%|█| 47/47 [00:18<00:00,  2.47it/s\n",
      "               Class     Images     Labels          P          R     mAP@.5 mAP@.5:.95: 100%|█| 2/2 [00:00<00:00,  2.51\n"
     ]
    },
    {
     "name": "stdout",
     "output_type": "stream",
     "text": [
      "                 all         60        163      0.636      0.404       0.49       0.21\n"
     ]
    },
    {
     "name": "stderr",
     "output_type": "stream",
     "text": [
      "\n",
      "     Epoch   gpu_mem       box       obj       cls     total    labels  img_size\n",
      "   149/299     15.4G   0.05117   0.04669   0.06985    0.1677        19       640: 100%|█| 47/47 [00:18<00:00,  2.48it/s\n",
      "               Class     Images     Labels          P          R     mAP@.5 mAP@.5:.95: 100%|█| 2/2 [00:03<00:00,  1.69\n"
     ]
    },
    {
     "name": "stdout",
     "output_type": "stream",
     "text": [
      "                 all         60        163      0.558       0.45      0.476      0.194\n"
     ]
    },
    {
     "name": "stderr",
     "output_type": "stream",
     "text": [
      "\n",
      "     Epoch   gpu_mem       box       obj       cls     total    labels  img_size\n",
      "   150/299     15.4G   0.05081   0.04708    0.0554    0.1533        17       640: 100%|█| 47/47 [00:18<00:00,  2.48it/s\n",
      "               Class     Images     Labels          P          R     mAP@.5 mAP@.5:.95: 100%|█| 2/2 [00:00<00:00,  2.47\n"
     ]
    },
    {
     "name": "stdout",
     "output_type": "stream",
     "text": [
      "                 all         60        163      0.498      0.538      0.493       0.19\n"
     ]
    },
    {
     "name": "stderr",
     "output_type": "stream",
     "text": [
      "\n",
      "     Epoch   gpu_mem       box       obj       cls     total    labels  img_size\n",
      "   151/299     15.4G   0.05184    0.0469   0.07088    0.1696        10       640: 100%|█| 47/47 [00:18<00:00,  2.47it/s\n",
      "               Class     Images     Labels          P          R     mAP@.5 mAP@.5:.95: 100%|█| 2/2 [00:00<00:00,  2.44\n"
     ]
    },
    {
     "name": "stdout",
     "output_type": "stream",
     "text": [
      "                 all         60        163      0.515      0.526       0.48       0.19\n"
     ]
    },
    {
     "name": "stderr",
     "output_type": "stream",
     "text": [
      "\n",
      "     Epoch   gpu_mem       box       obj       cls     total    labels  img_size\n",
      "   152/299     15.4G   0.05071    0.0464   0.06353    0.1606        27       640: 100%|█| 47/47 [00:18<00:00,  2.48it/s\n",
      "               Class     Images     Labels          P          R     mAP@.5 mAP@.5:.95: 100%|█| 2/2 [00:00<00:00,  2.50\n"
     ]
    },
    {
     "name": "stdout",
     "output_type": "stream",
     "text": [
      "                 all         60        163      0.479      0.408      0.435      0.175\n"
     ]
    },
    {
     "name": "stderr",
     "output_type": "stream",
     "text": [
      "\n",
      "     Epoch   gpu_mem       box       obj       cls     total    labels  img_size\n",
      "   153/299     15.4G   0.04936   0.04673   0.05242    0.1485        22       640: 100%|█| 47/47 [00:18<00:00,  2.48it/s\n",
      "               Class     Images     Labels          P          R     mAP@.5 mAP@.5:.95: 100%|█| 2/2 [00:00<00:00,  2.50\n"
     ]
    },
    {
     "name": "stdout",
     "output_type": "stream",
     "text": [
      "                 all         60        163      0.651       0.39      0.454      0.203\n"
     ]
    },
    {
     "name": "stderr",
     "output_type": "stream",
     "text": [
      "\n",
      "     Epoch   gpu_mem       box       obj       cls     total    labels  img_size\n",
      "   154/299     15.4G   0.05057   0.04552   0.05045    0.1465        14       640: 100%|█| 47/47 [00:18<00:00,  2.48it/s\n",
      "               Class     Images     Labels          P          R     mAP@.5 mAP@.5:.95: 100%|█| 2/2 [00:00<00:00,  2.37\n"
     ]
    },
    {
     "name": "stdout",
     "output_type": "stream",
     "text": [
      "                 all         60        163      0.539      0.448      0.447       0.19\n"
     ]
    },
    {
     "name": "stderr",
     "output_type": "stream",
     "text": [
      "\n",
      "     Epoch   gpu_mem       box       obj       cls     total    labels  img_size\n",
      "   155/299     15.4G   0.04953   0.04694   0.05452     0.151        15       640: 100%|█| 47/47 [00:18<00:00,  2.48it/s\n",
      "               Class     Images     Labels          P          R     mAP@.5 mAP@.5:.95: 100%|█| 2/2 [00:00<00:00,  2.51\n"
     ]
    },
    {
     "name": "stdout",
     "output_type": "stream",
     "text": [
      "                 all         60        163      0.619      0.467      0.489        0.2\n"
     ]
    },
    {
     "name": "stderr",
     "output_type": "stream",
     "text": [
      "\n",
      "     Epoch   gpu_mem       box       obj       cls     total    labels  img_size\n",
      "   156/299     15.4G   0.04969   0.04662   0.05994    0.1562        16       640: 100%|█| 47/47 [00:19<00:00,  2.46it/s\n",
      "               Class     Images     Labels          P          R     mAP@.5 mAP@.5:.95: 100%|█| 2/2 [00:00<00:00,  2.52\n"
     ]
    },
    {
     "name": "stdout",
     "output_type": "stream",
     "text": [
      "                 all         60        163      0.544      0.502      0.461      0.207\n"
     ]
    },
    {
     "name": "stderr",
     "output_type": "stream",
     "text": [
      "\n",
      "     Epoch   gpu_mem       box       obj       cls     total    labels  img_size\n",
      "   157/299     15.4G   0.04874   0.04543   0.06031    0.1545         8       640: 100%|█| 47/47 [00:18<00:00,  2.49it/s\n",
      "               Class     Images     Labels          P          R     mAP@.5 mAP@.5:.95: 100%|█| 2/2 [00:00<00:00,  2.55\n"
     ]
    },
    {
     "name": "stdout",
     "output_type": "stream",
     "text": [
      "                 all         60        163      0.468      0.438       0.43      0.179\n"
     ]
    },
    {
     "name": "stderr",
     "output_type": "stream",
     "text": [
      "\n",
      "     Epoch   gpu_mem       box       obj       cls     total    labels  img_size\n",
      "   158/299     15.4G   0.05103   0.04706   0.05257    0.1507        22       640: 100%|█| 47/47 [00:18<00:00,  2.50it/s\n",
      "               Class     Images     Labels          P          R     mAP@.5 mAP@.5:.95: 100%|█| 2/2 [00:00<00:00,  2.55\n"
     ]
    },
    {
     "name": "stdout",
     "output_type": "stream",
     "text": [
      "                 all         60        163      0.539      0.462      0.462      0.203\n"
     ]
    },
    {
     "name": "stderr",
     "output_type": "stream",
     "text": [
      "\n",
      "     Epoch   gpu_mem       box       obj       cls     total    labels  img_size\n",
      "   159/299     15.4G   0.04979   0.04521   0.06658    0.1616        21       640: 100%|█| 47/47 [00:18<00:00,  2.48it/s\n",
      "               Class     Images     Labels          P          R     mAP@.5 mAP@.5:.95: 100%|█| 2/2 [00:00<00:00,  2.46\n"
     ]
    },
    {
     "name": "stdout",
     "output_type": "stream",
     "text": [
      "                 all         60        163      0.462      0.538      0.489       0.22\n"
     ]
    },
    {
     "name": "stderr",
     "output_type": "stream",
     "text": [
      "\n",
      "     Epoch   gpu_mem       box       obj       cls     total    labels  img_size\n",
      "   160/299     15.4G   0.04968   0.04457   0.05825    0.1525        17       640: 100%|█| 47/47 [00:19<00:00,  2.47it/s\n",
      "               Class     Images     Labels          P          R     mAP@.5 mAP@.5:.95: 100%|█| 2/2 [00:00<00:00,  2.50\n"
     ]
    },
    {
     "name": "stdout",
     "output_type": "stream",
     "text": [
      "                 all         60        163      0.549      0.481      0.496      0.219\n"
     ]
    },
    {
     "name": "stderr",
     "output_type": "stream",
     "text": [
      "\n",
      "     Epoch   gpu_mem       box       obj       cls     total    labels  img_size\n",
      "   161/299     15.4G   0.05043   0.04698   0.07456     0.172        18       640: 100%|█| 47/47 [00:19<00:00,  2.47it/s\n",
      "               Class     Images     Labels          P          R     mAP@.5 mAP@.5:.95: 100%|█| 2/2 [00:00<00:00,  2.50\n"
     ]
    },
    {
     "name": "stdout",
     "output_type": "stream",
     "text": [
      "                 all         60        163       0.62      0.455      0.493      0.209\n"
     ]
    },
    {
     "name": "stderr",
     "output_type": "stream",
     "text": [
      "\n",
      "     Epoch   gpu_mem       box       obj       cls     total    labels  img_size\n",
      "   162/299     15.4G   0.04932   0.04472    0.0635    0.1575        19       640: 100%|█| 47/47 [00:18<00:00,  2.49it/s\n",
      "               Class     Images     Labels          P          R     mAP@.5 mAP@.5:.95: 100%|█| 2/2 [00:00<00:00,  2.48\n"
     ]
    },
    {
     "name": "stdout",
     "output_type": "stream",
     "text": [
      "                 all         60        163      0.532      0.504      0.491      0.219\n"
     ]
    },
    {
     "name": "stderr",
     "output_type": "stream",
     "text": [
      "\n",
      "     Epoch   gpu_mem       box       obj       cls     total    labels  img_size\n",
      "   163/299     15.4G   0.04985    0.0464   0.05695    0.1532        22       640: 100%|█| 47/47 [00:19<00:00,  2.47it/s\n",
      "               Class     Images     Labels          P          R     mAP@.5 mAP@.5:.95: 100%|█| 2/2 [00:00<00:00,  2.39\n"
     ]
    },
    {
     "name": "stdout",
     "output_type": "stream",
     "text": [
      "                 all         60        163      0.497      0.553      0.472      0.193\n"
     ]
    },
    {
     "name": "stderr",
     "output_type": "stream",
     "text": [
      "\n",
      "     Epoch   gpu_mem       box       obj       cls     total    labels  img_size\n",
      "   164/299     15.4G   0.05009   0.04587     0.066     0.162        14       640: 100%|█| 47/47 [00:19<00:00,  2.47it/s\n",
      "               Class     Images     Labels          P          R     mAP@.5 mAP@.5:.95: 100%|█| 2/2 [00:00<00:00,  2.42\n"
     ]
    },
    {
     "name": "stdout",
     "output_type": "stream",
     "text": [
      "                 all         60        163      0.611      0.462      0.472       0.17\n"
     ]
    },
    {
     "name": "stderr",
     "output_type": "stream",
     "text": [
      "\n",
      "     Epoch   gpu_mem       box       obj       cls     total    labels  img_size\n",
      "   165/299     15.4G   0.04972    0.0455   0.05792    0.1531        14       640: 100%|█| 47/47 [00:19<00:00,  2.47it/s\n",
      "               Class     Images     Labels          P          R     mAP@.5 mAP@.5:.95: 100%|█| 2/2 [00:00<00:00,  2.41\n"
     ]
    },
    {
     "name": "stdout",
     "output_type": "stream",
     "text": [
      "                 all         60        163      0.502      0.548      0.489      0.204\n"
     ]
    },
    {
     "name": "stderr",
     "output_type": "stream",
     "text": [
      "\n",
      "     Epoch   gpu_mem       box       obj       cls     total    labels  img_size\n",
      "   166/299     15.4G    0.0493    0.0465   0.06367    0.1595        21       640: 100%|█| 47/47 [00:18<00:00,  2.48it/s\n",
      "               Class     Images     Labels          P          R     mAP@.5 mAP@.5:.95: 100%|█| 2/2 [00:00<00:00,  2.41\n"
     ]
    },
    {
     "name": "stdout",
     "output_type": "stream",
     "text": [
      "                 all         60        163      0.505       0.48      0.494      0.194\n"
     ]
    },
    {
     "name": "stderr",
     "output_type": "stream",
     "text": [
      "\n",
      "     Epoch   gpu_mem       box       obj       cls     total    labels  img_size\n",
      "   167/299     15.4G   0.05012   0.04698   0.05374    0.1508        26       640: 100%|█| 47/47 [00:18<00:00,  2.47it/s\n",
      "               Class     Images     Labels          P          R     mAP@.5 mAP@.5:.95: 100%|█| 2/2 [00:00<00:00,  2.43\n"
     ]
    },
    {
     "name": "stdout",
     "output_type": "stream",
     "text": [
      "                 all         60        163      0.485      0.511      0.462      0.175\n"
     ]
    },
    {
     "name": "stderr",
     "output_type": "stream",
     "text": [
      "\n",
      "     Epoch   gpu_mem       box       obj       cls     total    labels  img_size\n",
      "   168/299     15.4G   0.04975   0.04522   0.04764    0.1426        20       640: 100%|█| 47/47 [00:18<00:00,  2.48it/s\n",
      "               Class     Images     Labels          P          R     mAP@.5 mAP@.5:.95: 100%|█| 2/2 [00:00<00:00,  2.41\n"
     ]
    },
    {
     "name": "stdout",
     "output_type": "stream",
     "text": [
      "                 all         60        163      0.633      0.412      0.466      0.193\n"
     ]
    },
    {
     "name": "stderr",
     "output_type": "stream",
     "text": [
      "\n",
      "     Epoch   gpu_mem       box       obj       cls     total    labels  img_size\n",
      "   169/299     15.4G    0.0489   0.04571   0.05891    0.1535        15       640: 100%|█| 47/47 [00:19<00:00,  2.47it/s\n",
      "               Class     Images     Labels          P          R     mAP@.5 mAP@.5:.95: 100%|█| 2/2 [00:00<00:00,  2.54\n"
     ]
    },
    {
     "name": "stdout",
     "output_type": "stream",
     "text": [
      "                 all         60        163      0.642      0.462      0.507      0.208\n"
     ]
    },
    {
     "name": "stderr",
     "output_type": "stream",
     "text": [
      "\n",
      "     Epoch   gpu_mem       box       obj       cls     total    labels  img_size\n",
      "   170/299     15.4G   0.04836   0.04585   0.05722    0.1514        16       640: 100%|█| 47/47 [00:18<00:00,  2.49it/s\n",
      "               Class     Images     Labels          P          R     mAP@.5 mAP@.5:.95: 100%|█| 2/2 [00:00<00:00,  2.46\n"
     ]
    },
    {
     "name": "stdout",
     "output_type": "stream",
     "text": [
      "                 all         60        163      0.553      0.467      0.475      0.181\n"
     ]
    },
    {
     "name": "stderr",
     "output_type": "stream",
     "text": [
      "\n",
      "     Epoch   gpu_mem       box       obj       cls     total    labels  img_size\n",
      "   171/299     15.4G   0.04777   0.04716   0.04556    0.1405        21       640: 100%|█| 47/47 [00:19<00:00,  2.47it/s\n",
      "               Class     Images     Labels          P          R     mAP@.5 mAP@.5:.95: 100%|█| 2/2 [00:00<00:00,  2.44\n"
     ]
    },
    {
     "name": "stdout",
     "output_type": "stream",
     "text": [
      "                 all         60        163      0.554      0.505      0.488      0.192\n"
     ]
    },
    {
     "name": "stderr",
     "output_type": "stream",
     "text": [
      "\n",
      "     Epoch   gpu_mem       box       obj       cls     total    labels  img_size\n",
      "   172/299     15.4G   0.04797   0.04608   0.06144    0.1555        17       640: 100%|█| 47/47 [00:18<00:00,  2.48it/s\n",
      "               Class     Images     Labels          P          R     mAP@.5 mAP@.5:.95: 100%|█| 2/2 [00:00<00:00,  2.48\n"
     ]
    },
    {
     "name": "stdout",
     "output_type": "stream",
     "text": [
      "                 all         60        163      0.668      0.447        0.5      0.205\n"
     ]
    },
    {
     "name": "stderr",
     "output_type": "stream",
     "text": [
      "\n",
      "     Epoch   gpu_mem       box       obj       cls     total    labels  img_size\n",
      "   173/299     15.4G   0.04828    0.0452   0.06509    0.1586        10       640: 100%|█| 47/47 [00:18<00:00,  2.48it/s\n",
      "               Class     Images     Labels          P          R     mAP@.5 mAP@.5:.95: 100%|█| 2/2 [00:00<00:00,  2.61\n"
     ]
    },
    {
     "name": "stdout",
     "output_type": "stream",
     "text": [
      "                 all         60        163       0.57       0.49      0.508      0.206\n"
     ]
    },
    {
     "name": "stderr",
     "output_type": "stream",
     "text": [
      "\n",
      "     Epoch   gpu_mem       box       obj       cls     total    labels  img_size\n",
      "   174/299     15.4G   0.04947   0.04712   0.04902    0.1456        19       640: 100%|█| 47/47 [00:18<00:00,  2.50it/s\n",
      "               Class     Images     Labels          P          R     mAP@.5 mAP@.5:.95: 100%|█| 2/2 [00:00<00:00,  2.51\n"
     ]
    },
    {
     "name": "stdout",
     "output_type": "stream",
     "text": [
      "                 all         60        163      0.559      0.447      0.455      0.186\n"
     ]
    },
    {
     "name": "stderr",
     "output_type": "stream",
     "text": [
      "\n",
      "     Epoch   gpu_mem       box       obj       cls     total    labels  img_size\n",
      "   175/299     15.4G   0.04839   0.04632   0.06122    0.1559        26       640: 100%|█| 47/47 [00:18<00:00,  2.48it/s\n",
      "               Class     Images     Labels          P          R     mAP@.5 mAP@.5:.95: 100%|█| 2/2 [00:00<00:00,  2.49\n"
     ]
    },
    {
     "name": "stdout",
     "output_type": "stream",
     "text": [
      "                 all         60        163      0.569      0.408      0.432      0.194\n"
     ]
    },
    {
     "name": "stderr",
     "output_type": "stream",
     "text": [
      "\n",
      "     Epoch   gpu_mem       box       obj       cls     total    labels  img_size\n",
      "   176/299     15.4G   0.04863   0.04595   0.04925    0.1438        23       640: 100%|█| 47/47 [00:19<00:00,  2.47it/s\n",
      "               Class     Images     Labels          P          R     mAP@.5 mAP@.5:.95: 100%|█| 2/2 [00:00<00:00,  2.44\n"
     ]
    },
    {
     "name": "stdout",
     "output_type": "stream",
     "text": [
      "                 all         60        163       0.49      0.481      0.471      0.206\n"
     ]
    },
    {
     "name": "stderr",
     "output_type": "stream",
     "text": [
      "\n",
      "     Epoch   gpu_mem       box       obj       cls     total    labels  img_size\n",
      "   177/299     15.4G   0.04809   0.04478   0.05772    0.1506        20       640: 100%|█| 47/47 [00:19<00:00,  2.47it/s\n",
      "               Class     Images     Labels          P          R     mAP@.5 mAP@.5:.95: 100%|█| 2/2 [00:00<00:00,  2.58\n"
     ]
    },
    {
     "name": "stdout",
     "output_type": "stream",
     "text": [
      "                 all         60        163      0.717      0.456      0.516      0.211\n"
     ]
    },
    {
     "name": "stderr",
     "output_type": "stream",
     "text": [
      "\n",
      "     Epoch   gpu_mem       box       obj       cls     total    labels  img_size\n",
      "   178/299     15.4G   0.04758   0.04381   0.06527    0.1567        19       640: 100%|█| 47/47 [00:18<00:00,  2.54it/s\n",
      "               Class     Images     Labels          P          R     mAP@.5 mAP@.5:.95: 100%|█| 2/2 [00:00<00:00,  2.47\n"
     ]
    },
    {
     "name": "stdout",
     "output_type": "stream",
     "text": [
      "                 all         60        163      0.571      0.476      0.465      0.196\n"
     ]
    },
    {
     "name": "stderr",
     "output_type": "stream",
     "text": [
      "\n",
      "     Epoch   gpu_mem       box       obj       cls     total    labels  img_size\n",
      "   179/299     15.4G   0.04696   0.04517   0.04359    0.1357        23       640: 100%|█| 47/47 [00:19<00:00,  2.46it/s\n",
      "               Class     Images     Labels          P          R     mAP@.5 mAP@.5:.95: 100%|█| 2/2 [00:03<00:00,  1.66\n"
     ]
    },
    {
     "name": "stdout",
     "output_type": "stream",
     "text": [
      "                 all         60        163      0.549      0.534      0.513       0.22\n"
     ]
    },
    {
     "name": "stderr",
     "output_type": "stream",
     "text": [
      "\n",
      "     Epoch   gpu_mem       box       obj       cls     total    labels  img_size\n",
      "   180/299     15.4G   0.04681   0.04557   0.05154    0.1439        18       640: 100%|█| 47/47 [00:19<00:00,  2.47it/s\n",
      "               Class     Images     Labels          P          R     mAP@.5 mAP@.5:.95: 100%|█| 2/2 [00:00<00:00,  2.46\n"
     ]
    },
    {
     "name": "stdout",
     "output_type": "stream",
     "text": [
      "                 all         60        163      0.639      0.483      0.499      0.205\n"
     ]
    },
    {
     "name": "stderr",
     "output_type": "stream",
     "text": [
      "\n",
      "     Epoch   gpu_mem       box       obj       cls     total    labels  img_size\n",
      "   181/299     15.4G   0.04692   0.04426   0.04287    0.1341        12       640: 100%|█| 47/47 [00:18<00:00,  2.47it/s\n",
      "               Class     Images     Labels          P          R     mAP@.5 mAP@.5:.95: 100%|█| 2/2 [00:00<00:00,  2.53\n"
     ]
    },
    {
     "name": "stdout",
     "output_type": "stream",
     "text": [
      "                 all         60        163      0.691      0.422      0.496      0.198\n"
     ]
    },
    {
     "name": "stderr",
     "output_type": "stream",
     "text": [
      "\n",
      "     Epoch   gpu_mem       box       obj       cls     total    labels  img_size\n",
      "   182/299     15.4G   0.04818   0.04569   0.04736    0.1412        25       640: 100%|█| 47/47 [00:18<00:00,  2.49it/s\n",
      "               Class     Images     Labels          P          R     mAP@.5 mAP@.5:.95: 100%|█| 2/2 [00:00<00:00,  2.49\n"
     ]
    },
    {
     "name": "stdout",
     "output_type": "stream",
     "text": [
      "                 all         60        163      0.652      0.435      0.507      0.206\n"
     ]
    },
    {
     "name": "stderr",
     "output_type": "stream",
     "text": [
      "\n",
      "     Epoch   gpu_mem       box       obj       cls     total    labels  img_size\n",
      "   183/299     15.4G   0.04747   0.04616   0.04652    0.1402        23       640: 100%|█| 47/47 [00:18<00:00,  2.48it/s\n",
      "               Class     Images     Labels          P          R     mAP@.5 mAP@.5:.95: 100%|█| 2/2 [00:00<00:00,  2.47\n"
     ]
    },
    {
     "name": "stdout",
     "output_type": "stream",
     "text": [
      "                 all         60        163      0.489      0.488      0.471      0.191\n"
     ]
    },
    {
     "name": "stderr",
     "output_type": "stream",
     "text": [
      "\n",
      "     Epoch   gpu_mem       box       obj       cls     total    labels  img_size\n",
      "   184/299     15.4G   0.04687   0.04668   0.03759    0.1311        21       640: 100%|█| 47/47 [00:18<00:00,  2.48it/s\n",
      "               Class     Images     Labels          P          R     mAP@.5 mAP@.5:.95: 100%|█| 2/2 [00:00<00:00,  2.48\n"
     ]
    },
    {
     "name": "stdout",
     "output_type": "stream",
     "text": [
      "                 all         60        163      0.497      0.534      0.512      0.233\n"
     ]
    },
    {
     "name": "stderr",
     "output_type": "stream",
     "text": [
      "\n",
      "     Epoch   gpu_mem       box       obj       cls     total    labels  img_size\n",
      "   185/299     15.4G   0.04719   0.04568   0.04244    0.1353        15       640: 100%|█| 47/47 [00:19<00:00,  2.47it/s\n",
      "               Class     Images     Labels          P          R     mAP@.5 mAP@.5:.95: 100%|█| 2/2 [00:00<00:00,  2.51\n"
     ]
    },
    {
     "name": "stdout",
     "output_type": "stream",
     "text": [
      "                 all         60        163       0.51      0.525       0.49      0.233\n"
     ]
    },
    {
     "name": "stderr",
     "output_type": "stream",
     "text": [
      "\n",
      "     Epoch   gpu_mem       box       obj       cls     total    labels  img_size\n",
      "   186/299     15.4G   0.04635   0.04383   0.05217    0.1424        20       640: 100%|█| 47/47 [00:18<00:00,  2.49it/s\n",
      "               Class     Images     Labels          P          R     mAP@.5 mAP@.5:.95: 100%|█| 2/2 [00:00<00:00,  2.52\n"
     ]
    },
    {
     "name": "stdout",
     "output_type": "stream",
     "text": [
      "                 all         60        163      0.563       0.46      0.491      0.213\n"
     ]
    },
    {
     "name": "stderr",
     "output_type": "stream",
     "text": [
      "\n",
      "     Epoch   gpu_mem       box       obj       cls     total    labels  img_size\n",
      "   187/299     15.4G   0.04693   0.04631   0.04816    0.1414        30       640: 100%|█| 47/47 [00:19<00:00,  2.47it/s\n",
      "               Class     Images     Labels          P          R     mAP@.5 mAP@.5:.95: 100%|█| 2/2 [00:00<00:00,  2.49\n"
     ]
    },
    {
     "name": "stdout",
     "output_type": "stream",
     "text": [
      "                 all         60        163      0.539      0.494      0.492      0.198\n"
     ]
    },
    {
     "name": "stderr",
     "output_type": "stream",
     "text": [
      "\n",
      "     Epoch   gpu_mem       box       obj       cls     total    labels  img_size\n",
      "   188/299     15.4G   0.04635   0.04393    0.0586    0.1489        15       640: 100%|█| 47/47 [00:19<00:00,  2.47it/s\n",
      "               Class     Images     Labels          P          R     mAP@.5 mAP@.5:.95: 100%|█| 2/2 [00:00<00:00,  2.48\n"
     ]
    },
    {
     "name": "stdout",
     "output_type": "stream",
     "text": [
      "                 all         60        163      0.506        0.5      0.475      0.197\n"
     ]
    },
    {
     "name": "stderr",
     "output_type": "stream",
     "text": [
      "\n",
      "     Epoch   gpu_mem       box       obj       cls     total    labels  img_size\n",
      "   189/299     15.4G   0.04755   0.04632   0.05398    0.1478        21       640: 100%|█| 47/47 [00:19<00:00,  2.47it/s\n",
      "               Class     Images     Labels          P          R     mAP@.5 mAP@.5:.95: 100%|█| 2/2 [00:00<00:00,  2.50\n"
     ]
    },
    {
     "name": "stdout",
     "output_type": "stream",
     "text": [
      "                 all         60        163      0.447      0.532      0.465      0.197\n"
     ]
    },
    {
     "name": "stderr",
     "output_type": "stream",
     "text": [
      "\n",
      "     Epoch   gpu_mem       box       obj       cls     total    labels  img_size\n",
      "   190/299     15.4G   0.04762   0.04475   0.05635    0.1487        27       640: 100%|█| 47/47 [00:18<00:00,  2.49it/s\n",
      "               Class     Images     Labels          P          R     mAP@.5 mAP@.5:.95: 100%|█| 2/2 [00:00<00:00,  2.50\n"
     ]
    },
    {
     "name": "stdout",
     "output_type": "stream",
     "text": [
      "                 all         60        163      0.623      0.473      0.511      0.228\n"
     ]
    },
    {
     "name": "stderr",
     "output_type": "stream",
     "text": [
      "\n",
      "     Epoch   gpu_mem       box       obj       cls     total    labels  img_size\n",
      "   191/299     15.4G   0.04593   0.04702   0.04458    0.1375        28       640: 100%|█| 47/47 [00:18<00:00,  2.48it/s\n",
      "               Class     Images     Labels          P          R     mAP@.5 mAP@.5:.95: 100%|█| 2/2 [00:00<00:00,  2.48\n"
     ]
    },
    {
     "name": "stdout",
     "output_type": "stream",
     "text": [
      "                 all         60        163      0.602      0.498       0.53       0.22\n"
     ]
    },
    {
     "name": "stderr",
     "output_type": "stream",
     "text": [
      "\n",
      "     Epoch   gpu_mem       box       obj       cls     total    labels  img_size\n",
      "   192/299     15.4G   0.04609   0.04663   0.04487    0.1376        27       640: 100%|█| 47/47 [00:18<00:00,  2.49it/s\n",
      "               Class     Images     Labels          P          R     mAP@.5 mAP@.5:.95: 100%|█| 2/2 [00:00<00:00,  2.57\n"
     ]
    },
    {
     "name": "stdout",
     "output_type": "stream",
     "text": [
      "                 all         60        163       0.59      0.469      0.492      0.222\n"
     ]
    },
    {
     "name": "stderr",
     "output_type": "stream",
     "text": [
      "\n",
      "     Epoch   gpu_mem       box       obj       cls     total    labels  img_size\n",
      "   193/299     15.4G   0.04581   0.04456   0.05894    0.1493        13       640: 100%|█| 47/47 [00:19<00:00,  2.47it/s\n",
      "               Class     Images     Labels          P          R     mAP@.5 mAP@.5:.95: 100%|█| 2/2 [00:00<00:00,  2.49\n"
     ]
    },
    {
     "name": "stdout",
     "output_type": "stream",
     "text": [
      "                 all         60        163      0.576      0.472      0.486      0.205\n"
     ]
    },
    {
     "name": "stderr",
     "output_type": "stream",
     "text": [
      "\n",
      "     Epoch   gpu_mem       box       obj       cls     total    labels  img_size\n",
      "   194/299     15.4G   0.04632   0.04353   0.04827    0.1381        28       640: 100%|█| 47/47 [00:18<00:00,  2.49it/s\n",
      "               Class     Images     Labels          P          R     mAP@.5 mAP@.5:.95: 100%|█| 2/2 [00:00<00:00,  2.48\n"
     ]
    },
    {
     "name": "stdout",
     "output_type": "stream",
     "text": [
      "                 all         60        163      0.519      0.461      0.447      0.197\n"
     ]
    },
    {
     "name": "stderr",
     "output_type": "stream",
     "text": [
      "\n",
      "     Epoch   gpu_mem       box       obj       cls     total    labels  img_size\n",
      "   195/299     15.4G   0.04592   0.04538   0.04478    0.1361        17       640: 100%|█| 47/47 [00:19<00:00,  2.47it/s\n",
      "               Class     Images     Labels          P          R     mAP@.5 mAP@.5:.95: 100%|█| 2/2 [00:00<00:00,  2.50\n"
     ]
    },
    {
     "name": "stdout",
     "output_type": "stream",
     "text": [
      "                 all         60        163      0.618       0.49      0.504      0.223\n"
     ]
    },
    {
     "name": "stderr",
     "output_type": "stream",
     "text": [
      "\n",
      "     Epoch   gpu_mem       box       obj       cls     total    labels  img_size\n",
      "   196/299     15.4G   0.04636   0.04416   0.05645     0.147        25       640: 100%|█| 47/47 [00:19<00:00,  2.47it/s\n",
      "               Class     Images     Labels          P          R     mAP@.5 mAP@.5:.95: 100%|█| 2/2 [00:00<00:00,  2.53\n"
     ]
    },
    {
     "name": "stdout",
     "output_type": "stream",
     "text": [
      "                 all         60        163      0.554        0.5      0.497      0.215\n"
     ]
    },
    {
     "name": "stderr",
     "output_type": "stream",
     "text": [
      "\n",
      "     Epoch   gpu_mem       box       obj       cls     total    labels  img_size\n",
      "   197/299     15.4G    0.0461   0.04335   0.04382    0.1333        11       640: 100%|█| 47/47 [00:19<00:00,  2.47it/s\n",
      "               Class     Images     Labels          P          R     mAP@.5 mAP@.5:.95: 100%|█| 2/2 [00:00<00:00,  2.53\n"
     ]
    },
    {
     "name": "stdout",
     "output_type": "stream",
     "text": [
      "                 all         60        163      0.675      0.431      0.506      0.217\n"
     ]
    },
    {
     "name": "stderr",
     "output_type": "stream",
     "text": [
      "\n",
      "     Epoch   gpu_mem       box       obj       cls     total    labels  img_size\n",
      "   198/299     15.4G   0.04557   0.04516   0.03864    0.1294        26       640: 100%|█| 47/47 [00:18<00:00,  2.48it/s\n",
      "               Class     Images     Labels          P          R     mAP@.5 mAP@.5:.95: 100%|█| 2/2 [00:00<00:00,  2.52\n"
     ]
    },
    {
     "name": "stdout",
     "output_type": "stream",
     "text": [
      "                 all         60        163      0.588      0.497      0.504      0.222\n"
     ]
    },
    {
     "name": "stderr",
     "output_type": "stream",
     "text": [
      "\n",
      "     Epoch   gpu_mem       box       obj       cls     total    labels  img_size\n",
      "   199/299     15.4G   0.04585    0.0437   0.03399    0.1235        10       640: 100%|█| 47/47 [00:19<00:00,  2.46it/s\n",
      "               Class     Images     Labels          P          R     mAP@.5 mAP@.5:.95: 100%|█| 2/2 [00:00<00:00,  2.46\n"
     ]
    },
    {
     "name": "stdout",
     "output_type": "stream",
     "text": [
      "                 all         60        163       0.59      0.499      0.518      0.223\n"
     ]
    },
    {
     "name": "stderr",
     "output_type": "stream",
     "text": [
      "\n",
      "     Epoch   gpu_mem       box       obj       cls     total    labels  img_size\n",
      "   200/299     15.4G   0.04568   0.04596   0.04274    0.1344        13       640: 100%|█| 47/47 [00:19<00:00,  2.47it/s\n",
      "               Class     Images     Labels          P          R     mAP@.5 mAP@.5:.95: 100%|█| 2/2 [00:00<00:00,  2.52\n"
     ]
    },
    {
     "name": "stdout",
     "output_type": "stream",
     "text": [
      "                 all         60        163      0.617      0.478      0.506      0.225\n"
     ]
    },
    {
     "name": "stderr",
     "output_type": "stream",
     "text": [
      "\n",
      "     Epoch   gpu_mem       box       obj       cls     total    labels  img_size\n",
      "   201/299     15.4G   0.04517   0.04472   0.03274    0.1226        18       640: 100%|█| 47/47 [00:19<00:00,  2.47it/s\n",
      "               Class     Images     Labels          P          R     mAP@.5 mAP@.5:.95: 100%|█| 2/2 [00:00<00:00,  2.45\n"
     ]
    },
    {
     "name": "stdout",
     "output_type": "stream",
     "text": [
      "                 all         60        163      0.598      0.544      0.535      0.238\n"
     ]
    },
    {
     "name": "stderr",
     "output_type": "stream",
     "text": [
      "\n",
      "     Epoch   gpu_mem       box       obj       cls     total    labels  img_size\n",
      "   202/299     15.4G   0.04388   0.04442   0.03304    0.1213        20       640: 100%|█| 47/47 [00:18<00:00,  2.49it/s\n",
      "               Class     Images     Labels          P          R     mAP@.5 mAP@.5:.95: 100%|█| 2/2 [00:00<00:00,  2.52\n"
     ]
    },
    {
     "name": "stdout",
     "output_type": "stream",
     "text": [
      "                 all         60        163      0.484       0.56      0.505       0.23\n"
     ]
    },
    {
     "name": "stderr",
     "output_type": "stream",
     "text": [
      "\n",
      "     Epoch   gpu_mem       box       obj       cls     total    labels  img_size\n",
      "   203/299     15.4G   0.04482   0.04434   0.03798    0.1271        15       640: 100%|█| 47/47 [00:19<00:00,  2.47it/s\n",
      "               Class     Images     Labels          P          R     mAP@.5 mAP@.5:.95: 100%|█| 2/2 [00:00<00:00,  2.48\n"
     ]
    },
    {
     "name": "stdout",
     "output_type": "stream",
     "text": [
      "                 all         60        163      0.497      0.523      0.481      0.215\n"
     ]
    },
    {
     "name": "stderr",
     "output_type": "stream",
     "text": [
      "\n",
      "     Epoch   gpu_mem       box       obj       cls     total    labels  img_size\n",
      "   204/299     15.4G   0.04554   0.04418   0.03571    0.1254        12       640: 100%|█| 47/47 [00:19<00:00,  2.47it/s\n",
      "               Class     Images     Labels          P          R     mAP@.5 mAP@.5:.95: 100%|█| 2/2 [00:00<00:00,  2.55\n"
     ]
    },
    {
     "name": "stdout",
     "output_type": "stream",
     "text": [
      "                 all         60        163      0.616      0.495      0.508      0.225\n"
     ]
    },
    {
     "name": "stderr",
     "output_type": "stream",
     "text": [
      "\n",
      "     Epoch   gpu_mem       box       obj       cls     total    labels  img_size\n",
      "   205/299     15.4G    0.0428   0.04454   0.03142    0.1188         8       640: 100%|█| 47/47 [00:18<00:00,  2.47it/s\n",
      "               Class     Images     Labels          P          R     mAP@.5 mAP@.5:.95: 100%|█| 2/2 [00:00<00:00,  2.39\n"
     ]
    },
    {
     "name": "stdout",
     "output_type": "stream",
     "text": [
      "                 all         60        163      0.627      0.467      0.503      0.227\n"
     ]
    },
    {
     "name": "stderr",
     "output_type": "stream",
     "text": [
      "\n",
      "     Epoch   gpu_mem       box       obj       cls     total    labels  img_size\n",
      "   206/299     15.4G   0.04462   0.04339   0.04896     0.137        12       640: 100%|█| 47/47 [00:18<00:00,  2.49it/s\n",
      "               Class     Images     Labels          P          R     mAP@.5 mAP@.5:.95: 100%|█| 2/2 [00:00<00:00,  2.53\n"
     ]
    },
    {
     "name": "stdout",
     "output_type": "stream",
     "text": [
      "                 all         60        163      0.598      0.481      0.492      0.226\n"
     ]
    },
    {
     "name": "stderr",
     "output_type": "stream",
     "text": [
      "\n",
      "     Epoch   gpu_mem       box       obj       cls     total    labels  img_size\n",
      "   207/299     15.4G   0.04415   0.04351   0.03061    0.1183        17       640: 100%|█| 47/47 [00:18<00:00,  2.48it/s\n",
      "               Class     Images     Labels          P          R     mAP@.5 mAP@.5:.95: 100%|█| 2/2 [00:00<00:00,  2.52\n"
     ]
    },
    {
     "name": "stdout",
     "output_type": "stream",
     "text": [
      "                 all         60        163      0.576      0.574      0.527      0.237\n"
     ]
    },
    {
     "name": "stderr",
     "output_type": "stream",
     "text": [
      "\n",
      "     Epoch   gpu_mem       box       obj       cls     total    labels  img_size\n",
      "   208/299     15.4G   0.04502   0.04483   0.04026    0.1301        24       640: 100%|█| 47/47 [00:18<00:00,  2.48it/s\n",
      "               Class     Images     Labels          P          R     mAP@.5 mAP@.5:.95: 100%|█| 2/2 [00:00<00:00,  2.55\n"
     ]
    },
    {
     "name": "stdout",
     "output_type": "stream",
     "text": [
      "                 all         60        163      0.644      0.492      0.508      0.232\n"
     ]
    },
    {
     "name": "stderr",
     "output_type": "stream",
     "text": [
      "\n",
      "     Epoch   gpu_mem       box       obj       cls     total    labels  img_size\n",
      "   209/299     15.4G   0.04506   0.04386   0.03837    0.1273        17       640: 100%|█| 47/47 [00:19<00:00,  2.47it/s\n",
      "               Class     Images     Labels          P          R     mAP@.5 mAP@.5:.95: 100%|█| 2/2 [00:03<00:00,  1.70\n"
     ]
    },
    {
     "name": "stdout",
     "output_type": "stream",
     "text": [
      "                 all         60        163      0.653      0.523      0.533      0.246\n"
     ]
    },
    {
     "name": "stderr",
     "output_type": "stream",
     "text": [
      "\n",
      "     Epoch   gpu_mem       box       obj       cls     total    labels  img_size\n",
      "   210/299     15.4G   0.04436   0.04417   0.03294    0.1215        13       640: 100%|█| 47/47 [00:18<00:00,  2.48it/s\n",
      "               Class     Images     Labels          P          R     mAP@.5 mAP@.5:.95: 100%|█| 2/2 [00:00<00:00,  2.43\n"
     ]
    },
    {
     "name": "stdout",
     "output_type": "stream",
     "text": [
      "                 all         60        163      0.606       0.48      0.503      0.231\n"
     ]
    },
    {
     "name": "stderr",
     "output_type": "stream",
     "text": [
      "\n",
      "     Epoch   gpu_mem       box       obj       cls     total    labels  img_size\n",
      "   211/299     15.4G   0.04373   0.04254   0.05334    0.1396        14       640: 100%|█| 47/47 [00:19<00:00,  2.45it/s\n",
      "               Class     Images     Labels          P          R     mAP@.5 mAP@.5:.95: 100%|█| 2/2 [00:00<00:00,  2.51\n"
     ]
    },
    {
     "name": "stdout",
     "output_type": "stream",
     "text": [
      "                 all         60        163      0.585      0.535      0.509      0.212\n"
     ]
    },
    {
     "name": "stderr",
     "output_type": "stream",
     "text": [
      "\n",
      "     Epoch   gpu_mem       box       obj       cls     total    labels  img_size\n",
      "   212/299     15.4G   0.04442   0.04407   0.04828    0.1368        15       640: 100%|█| 47/47 [00:19<00:00,  2.47it/s\n",
      "               Class     Images     Labels          P          R     mAP@.5 mAP@.5:.95: 100%|█| 2/2 [00:00<00:00,  2.48\n"
     ]
    },
    {
     "name": "stdout",
     "output_type": "stream",
     "text": [
      "                 all         60        163      0.576      0.487      0.479      0.216\n"
     ]
    },
    {
     "name": "stderr",
     "output_type": "stream",
     "text": [
      "\n",
      "     Epoch   gpu_mem       box       obj       cls     total    labels  img_size\n",
      "   213/299     15.4G   0.04447   0.04357   0.03377    0.1218        25       640: 100%|█| 47/47 [00:19<00:00,  2.45it/s\n",
      "               Class     Images     Labels          P          R     mAP@.5 mAP@.5:.95: 100%|█| 2/2 [00:00<00:00,  2.55\n"
     ]
    },
    {
     "name": "stdout",
     "output_type": "stream",
     "text": [
      "                 all         60        163      0.582      0.529      0.521      0.235\n"
     ]
    },
    {
     "name": "stderr",
     "output_type": "stream",
     "text": [
      "\n",
      "     Epoch   gpu_mem       box       obj       cls     total    labels  img_size\n",
      "   214/299     15.4G   0.04399   0.04213   0.04007    0.1262        15       640: 100%|█| 47/47 [00:18<00:00,  2.49it/s\n",
      "               Class     Images     Labels          P          R     mAP@.5 mAP@.5:.95: 100%|█| 2/2 [00:00<00:00,  2.45\n"
     ]
    },
    {
     "name": "stdout",
     "output_type": "stream",
     "text": [
      "                 all         60        163      0.638      0.505      0.527      0.245\n"
     ]
    },
    {
     "name": "stderr",
     "output_type": "stream",
     "text": [
      "\n",
      "     Epoch   gpu_mem       box       obj       cls     total    labels  img_size\n",
      "   215/299     15.4G   0.04289    0.0422   0.03517    0.1203        16       640: 100%|█| 47/47 [00:19<00:00,  2.47it/s\n",
      "               Class     Images     Labels          P          R     mAP@.5 mAP@.5:.95: 100%|█| 2/2 [00:00<00:00,  2.58\n"
     ]
    },
    {
     "name": "stdout",
     "output_type": "stream",
     "text": [
      "                 all         60        163      0.648      0.504      0.541      0.244\n"
     ]
    },
    {
     "name": "stderr",
     "output_type": "stream",
     "text": [
      "\n",
      "     Epoch   gpu_mem       box       obj       cls     total    labels  img_size\n",
      "   216/299     15.4G   0.04356   0.04201   0.03364    0.1192        16       640: 100%|█| 47/47 [00:19<00:00,  2.47it/s\n",
      "               Class     Images     Labels          P          R     mAP@.5 mAP@.5:.95: 100%|█| 2/2 [00:00<00:00,  2.50\n"
     ]
    },
    {
     "name": "stdout",
     "output_type": "stream",
     "text": [
      "                 all         60        163      0.593      0.537      0.533      0.242\n"
     ]
    },
    {
     "name": "stderr",
     "output_type": "stream",
     "text": [
      "\n",
      "     Epoch   gpu_mem       box       obj       cls     total    labels  img_size\n",
      "   217/299     15.4G   0.04404   0.04353   0.03119    0.1188        13       640: 100%|█| 47/47 [00:19<00:00,  2.46it/s\n",
      "               Class     Images     Labels          P          R     mAP@.5 mAP@.5:.95: 100%|█| 2/2 [00:00<00:00,  2.57\n"
     ]
    },
    {
     "name": "stdout",
     "output_type": "stream",
     "text": [
      "                 all         60        163      0.588      0.496      0.514      0.228\n"
     ]
    },
    {
     "name": "stderr",
     "output_type": "stream",
     "text": [
      "\n",
      "     Epoch   gpu_mem       box       obj       cls     total    labels  img_size\n",
      "   218/299     15.4G    0.0431   0.04255   0.02912    0.1148         8       640: 100%|█| 47/47 [00:18<00:00,  2.48it/s\n",
      "               Class     Images     Labels          P          R     mAP@.5 mAP@.5:.95: 100%|█| 2/2 [00:00<00:00,  2.56\n"
     ]
    },
    {
     "name": "stdout",
     "output_type": "stream",
     "text": [
      "                 all         60        163      0.583      0.517      0.521       0.23\n"
     ]
    },
    {
     "name": "stderr",
     "output_type": "stream",
     "text": [
      "\n",
      "     Epoch   gpu_mem       box       obj       cls     total    labels  img_size\n",
      "   219/299     15.4G   0.04405   0.04451   0.03303    0.1216        22       640: 100%|█| 47/47 [00:18<00:00,  2.47it/s\n",
      "               Class     Images     Labels          P          R     mAP@.5 mAP@.5:.95: 100%|█| 2/2 [00:00<00:00,  2.55\n"
     ]
    },
    {
     "name": "stdout",
     "output_type": "stream",
     "text": [
      "                 all         60        163       0.62      0.516      0.523       0.24\n"
     ]
    },
    {
     "name": "stderr",
     "output_type": "stream",
     "text": [
      "\n",
      "     Epoch   gpu_mem       box       obj       cls     total    labels  img_size\n",
      "   220/299     15.4G   0.04372   0.04306   0.03377    0.1206        28       640: 100%|█| 47/47 [00:18<00:00,  2.48it/s\n",
      "               Class     Images     Labels          P          R     mAP@.5 mAP@.5:.95: 100%|█| 2/2 [00:00<00:00,  2.45\n"
     ]
    },
    {
     "name": "stdout",
     "output_type": "stream",
     "text": [
      "                 all         60        163      0.528      0.554      0.513      0.249\n"
     ]
    },
    {
     "name": "stderr",
     "output_type": "stream",
     "text": [
      "\n",
      "     Epoch   gpu_mem       box       obj       cls     total    labels  img_size\n",
      "   221/299     15.4G   0.04179   0.04367   0.02349     0.109        21       640: 100%|█| 47/47 [00:19<00:00,  2.47it/s\n",
      "               Class     Images     Labels          P          R     mAP@.5 mAP@.5:.95: 100%|█| 2/2 [00:00<00:00,  2.53\n"
     ]
    },
    {
     "name": "stdout",
     "output_type": "stream",
     "text": [
      "                 all         60        163      0.538      0.537      0.527      0.255\n"
     ]
    },
    {
     "name": "stderr",
     "output_type": "stream",
     "text": [
      "\n",
      "     Epoch   gpu_mem       box       obj       cls     total    labels  img_size\n",
      "   222/299     15.4G   0.04368    0.0438   0.02928    0.1167        13       640: 100%|█| 47/47 [00:18<00:00,  2.48it/s\n",
      "               Class     Images     Labels          P          R     mAP@.5 mAP@.5:.95: 100%|█| 2/2 [00:00<00:00,  2.53\n"
     ]
    },
    {
     "name": "stdout",
     "output_type": "stream",
     "text": [
      "                 all         60        163      0.651      0.495      0.512      0.251\n"
     ]
    },
    {
     "name": "stderr",
     "output_type": "stream",
     "text": [
      "\n",
      "     Epoch   gpu_mem       box       obj       cls     total    labels  img_size\n",
      "   223/299     15.4G   0.04275   0.04339   0.02602    0.1121        18       640: 100%|█| 47/47 [00:18<00:00,  2.48it/s\n",
      "               Class     Images     Labels          P          R     mAP@.5 mAP@.5:.95: 100%|█| 2/2 [00:00<00:00,  2.54\n"
     ]
    },
    {
     "name": "stdout",
     "output_type": "stream",
     "text": [
      "                 all         60        163      0.575      0.484      0.483      0.219\n"
     ]
    },
    {
     "name": "stderr",
     "output_type": "stream",
     "text": [
      "\n",
      "     Epoch   gpu_mem       box       obj       cls     total    labels  img_size\n",
      "   224/299     15.4G    0.0425   0.04291   0.02726    0.1127        14       640: 100%|█| 47/47 [00:18<00:00,  2.48it/s\n",
      "               Class     Images     Labels          P          R     mAP@.5 mAP@.5:.95: 100%|█| 2/2 [00:00<00:00,  2.57\n"
     ]
    },
    {
     "name": "stdout",
     "output_type": "stream",
     "text": [
      "                 all         60        163      0.593      0.512      0.513      0.237\n"
     ]
    },
    {
     "name": "stderr",
     "output_type": "stream",
     "text": [
      "\n",
      "     Epoch   gpu_mem       box       obj       cls     total    labels  img_size\n",
      "   225/299     15.4G   0.04215   0.04426   0.02778    0.1142        25       640: 100%|█| 47/47 [00:18<00:00,  2.48it/s\n",
      "               Class     Images     Labels          P          R     mAP@.5 mAP@.5:.95: 100%|█| 2/2 [00:00<00:00,  2.60\n"
     ]
    },
    {
     "name": "stdout",
     "output_type": "stream",
     "text": [
      "                 all         60        163      0.596      0.543      0.529      0.256\n"
     ]
    },
    {
     "name": "stderr",
     "output_type": "stream",
     "text": [
      "\n",
      "     Epoch   gpu_mem       box       obj       cls     total    labels  img_size\n",
      "   226/299     15.4G    0.0433   0.04262   0.02882    0.1147        14       640: 100%|█| 47/47 [00:18<00:00,  2.48it/s\n",
      "               Class     Images     Labels          P          R     mAP@.5 mAP@.5:.95: 100%|█| 2/2 [00:00<00:00,  2.51\n"
     ]
    },
    {
     "name": "stdout",
     "output_type": "stream",
     "text": [
      "                 all         60        163      0.541      0.606      0.556       0.25\n"
     ]
    },
    {
     "name": "stderr",
     "output_type": "stream",
     "text": [
      "\n",
      "     Epoch   gpu_mem       box       obj       cls     total    labels  img_size\n",
      "   227/299     15.4G   0.04289   0.04205   0.03337    0.1183        12       640: 100%|█| 47/47 [00:18<00:00,  2.48it/s\n",
      "               Class     Images     Labels          P          R     mAP@.5 mAP@.5:.95: 100%|█| 2/2 [00:00<00:00,  2.53\n"
     ]
    },
    {
     "name": "stdout",
     "output_type": "stream",
     "text": [
      "                 all         60        163      0.562      0.503      0.512       0.25\n"
     ]
    },
    {
     "name": "stderr",
     "output_type": "stream",
     "text": [
      "\n",
      "     Epoch   gpu_mem       box       obj       cls     total    labels  img_size\n",
      "   228/299     15.4G   0.04257   0.04209   0.03724    0.1219        13       640: 100%|█| 47/47 [00:18<00:00,  2.48it/s\n",
      "               Class     Images     Labels          P          R     mAP@.5 mAP@.5:.95: 100%|█| 2/2 [00:00<00:00,  2.57\n"
     ]
    },
    {
     "name": "stdout",
     "output_type": "stream",
     "text": [
      "                 all         60        163      0.531      0.523      0.497      0.233\n"
     ]
    },
    {
     "name": "stderr",
     "output_type": "stream",
     "text": [
      "\n",
      "     Epoch   gpu_mem       box       obj       cls     total    labels  img_size\n",
      "   229/299     15.4G   0.04258   0.04141   0.03367    0.1177        10       640: 100%|█| 47/47 [00:18<00:00,  2.48it/s\n",
      "               Class     Images     Labels          P          R     mAP@.5 mAP@.5:.95: 100%|█| 2/2 [00:00<00:00,  2.58\n"
     ]
    },
    {
     "name": "stdout",
     "output_type": "stream",
     "text": [
      "                 all         60        163      0.529      0.571       0.51      0.248\n"
     ]
    },
    {
     "name": "stderr",
     "output_type": "stream",
     "text": [
      "\n",
      "     Epoch   gpu_mem       box       obj       cls     total    labels  img_size\n",
      "   230/299     15.4G   0.04294   0.04341   0.02827    0.1146        15       640: 100%|█| 47/47 [00:18<00:00,  2.49it/s\n",
      "               Class     Images     Labels          P          R     mAP@.5 mAP@.5:.95: 100%|█| 2/2 [00:00<00:00,  2.49\n"
     ]
    },
    {
     "name": "stdout",
     "output_type": "stream",
     "text": [
      "                 all         60        163      0.665      0.496      0.517      0.253\n"
     ]
    },
    {
     "name": "stderr",
     "output_type": "stream",
     "text": [
      "\n",
      "     Epoch   gpu_mem       box       obj       cls     total    labels  img_size\n",
      "   231/299     15.4G   0.04217   0.04182   0.02925    0.1132        12       640: 100%|█| 47/47 [00:19<00:00,  2.47it/s\n",
      "               Class     Images     Labels          P          R     mAP@.5 mAP@.5:.95: 100%|█| 2/2 [00:00<00:00,  2.55\n"
     ]
    },
    {
     "name": "stdout",
     "output_type": "stream",
     "text": [
      "                 all         60        163      0.589      0.543      0.528      0.244\n"
     ]
    },
    {
     "name": "stderr",
     "output_type": "stream",
     "text": [
      "\n",
      "     Epoch   gpu_mem       box       obj       cls     total    labels  img_size\n",
      "   232/299     15.4G   0.04344   0.04254   0.03114    0.1171        14       640: 100%|█| 47/47 [00:18<00:00,  2.47it/s\n",
      "               Class     Images     Labels          P          R     mAP@.5 mAP@.5:.95: 100%|█| 2/2 [00:00<00:00,  2.54\n"
     ]
    },
    {
     "name": "stdout",
     "output_type": "stream",
     "text": [
      "                 all         60        163      0.571      0.562      0.533      0.255\n"
     ]
    },
    {
     "name": "stderr",
     "output_type": "stream",
     "text": [
      "\n",
      "     Epoch   gpu_mem       box       obj       cls     total    labels  img_size\n",
      "   233/299     15.4G   0.04252   0.04246   0.03063    0.1156        14       640: 100%|█| 47/47 [00:19<00:00,  2.47it/s\n",
      "               Class     Images     Labels          P          R     mAP@.5 mAP@.5:.95: 100%|█| 2/2 [00:00<00:00,  2.51\n"
     ]
    },
    {
     "name": "stdout",
     "output_type": "stream",
     "text": [
      "                 all         60        163      0.684      0.492      0.539      0.261\n"
     ]
    },
    {
     "name": "stderr",
     "output_type": "stream",
     "text": [
      "\n",
      "     Epoch   gpu_mem       box       obj       cls     total    labels  img_size\n",
      "   234/299     15.4G   0.04288   0.04371   0.03481    0.1214        17       640: 100%|█| 47/47 [00:19<00:00,  2.47it/s\n",
      "               Class     Images     Labels          P          R     mAP@.5 mAP@.5:.95: 100%|█| 2/2 [00:00<00:00,  2.50\n"
     ]
    },
    {
     "name": "stdout",
     "output_type": "stream",
     "text": [
      "                 all         60        163      0.651       0.48      0.538      0.262\n"
     ]
    },
    {
     "name": "stderr",
     "output_type": "stream",
     "text": [
      "\n",
      "     Epoch   gpu_mem       box       obj       cls     total    labels  img_size\n",
      "   235/299     15.4G   0.04217   0.04113     0.033    0.1163        16       640: 100%|█| 47/47 [00:19<00:00,  2.46it/s\n",
      "               Class     Images     Labels          P          R     mAP@.5 mAP@.5:.95: 100%|█| 2/2 [00:00<00:00,  2.48\n"
     ]
    },
    {
     "name": "stdout",
     "output_type": "stream",
     "text": [
      "                 all         60        163      0.655      0.518      0.531      0.252\n"
     ]
    },
    {
     "name": "stderr",
     "output_type": "stream",
     "text": [
      "\n",
      "     Epoch   gpu_mem       box       obj       cls     total    labels  img_size\n",
      "   236/299     15.4G   0.04251   0.04232   0.03932    0.1242        19       640: 100%|█| 47/47 [00:18<00:00,  2.48it/s\n",
      "               Class     Images     Labels          P          R     mAP@.5 mAP@.5:.95: 100%|█| 2/2 [00:00<00:00,  2.50\n"
     ]
    },
    {
     "name": "stdout",
     "output_type": "stream",
     "text": [
      "                 all         60        163      0.687      0.503      0.554      0.266\n"
     ]
    },
    {
     "name": "stderr",
     "output_type": "stream",
     "text": [
      "\n",
      "     Epoch   gpu_mem       box       obj       cls     total    labels  img_size\n",
      "   237/299     15.4G   0.04452   0.04397   0.02769    0.1162        18       640: 100%|█| 47/47 [00:18<00:00,  2.47it/s\n",
      "               Class     Images     Labels          P          R     mAP@.5 mAP@.5:.95: 100%|█| 2/2 [00:00<00:00,  2.50\n"
     ]
    },
    {
     "name": "stdout",
     "output_type": "stream",
     "text": [
      "                 all         60        163      0.711      0.521      0.559       0.28\n"
     ]
    },
    {
     "name": "stderr",
     "output_type": "stream",
     "text": [
      "\n",
      "     Epoch   gpu_mem       box       obj       cls     total    labels  img_size\n",
      "   238/299     15.4G   0.04149   0.04262   0.02367    0.1078        22       640: 100%|█| 47/47 [00:18<00:00,  2.49it/s\n",
      "               Class     Images     Labels          P          R     mAP@.5 mAP@.5:.95: 100%|█| 2/2 [00:00<00:00,  2.55\n"
     ]
    },
    {
     "name": "stdout",
     "output_type": "stream",
     "text": [
      "                 all         60        163      0.657      0.503      0.535       0.26\n"
     ]
    },
    {
     "name": "stderr",
     "output_type": "stream",
     "text": [
      "\n",
      "     Epoch   gpu_mem       box       obj       cls     total    labels  img_size\n",
      "   239/299     15.4G     0.042   0.04106   0.03352    0.1166        11       640: 100%|█| 47/47 [00:18<00:00,  2.48it/s\n",
      "               Class     Images     Labels          P          R     mAP@.5 mAP@.5:.95: 100%|█| 2/2 [00:03<00:00,  1.60\n"
     ]
    },
    {
     "name": "stdout",
     "output_type": "stream",
     "text": [
      "                 all         60        163      0.672      0.513      0.538      0.242\n"
     ]
    },
    {
     "name": "stderr",
     "output_type": "stream",
     "text": [
      "\n",
      "     Epoch   gpu_mem       box       obj       cls     total    labels  img_size\n",
      "   240/299     15.4G   0.04193   0.04282   0.02383    0.1086        25       640: 100%|█| 47/47 [00:18<00:00,  2.49it/s\n",
      "               Class     Images     Labels          P          R     mAP@.5 mAP@.5:.95: 100%|█| 2/2 [00:00<00:00,  2.59\n"
     ]
    },
    {
     "name": "stdout",
     "output_type": "stream",
     "text": [
      "                 all         60        163       0.64       0.53      0.553       0.25\n"
     ]
    },
    {
     "name": "stderr",
     "output_type": "stream",
     "text": [
      "\n",
      "     Epoch   gpu_mem       box       obj       cls     total    labels  img_size\n",
      "   241/299     15.4G   0.04173   0.04197   0.02824    0.1119        19       640: 100%|█| 47/47 [00:18<00:00,  2.48it/s\n",
      "               Class     Images     Labels          P          R     mAP@.5 mAP@.5:.95: 100%|█| 2/2 [00:00<00:00,  2.61\n"
     ]
    },
    {
     "name": "stdout",
     "output_type": "stream",
     "text": [
      "                 all         60        163       0.63      0.523      0.536      0.263\n"
     ]
    },
    {
     "name": "stderr",
     "output_type": "stream",
     "text": [
      "\n",
      "     Epoch   gpu_mem       box       obj       cls     total    labels  img_size\n",
      "   242/299     15.4G   0.04167   0.04167   0.03027    0.1136        21       640: 100%|█| 47/47 [00:18<00:00,  2.48it/s\n",
      "               Class     Images     Labels          P          R     mAP@.5 mAP@.5:.95: 100%|█| 2/2 [00:00<00:00,  2.53\n"
     ]
    },
    {
     "name": "stdout",
     "output_type": "stream",
     "text": [
      "                 all         60        163      0.692      0.543      0.561      0.263\n"
     ]
    },
    {
     "name": "stderr",
     "output_type": "stream",
     "text": [
      "\n",
      "     Epoch   gpu_mem       box       obj       cls     total    labels  img_size\n",
      "   243/299     15.4G   0.04042   0.04247    0.0303    0.1132        28       640: 100%|█| 47/47 [00:18<00:00,  2.48it/s\n",
      "               Class     Images     Labels          P          R     mAP@.5 mAP@.5:.95: 100%|█| 2/2 [00:00<00:00,  2.54\n"
     ]
    },
    {
     "name": "stdout",
     "output_type": "stream",
     "text": [
      "                 all         60        163      0.774      0.503      0.555       0.24\n"
     ]
    },
    {
     "name": "stderr",
     "output_type": "stream",
     "text": [
      "\n",
      "     Epoch   gpu_mem       box       obj       cls     total    labels  img_size\n",
      "   244/299     15.4G   0.04164   0.04216   0.03071    0.1145        18       640: 100%|█| 47/47 [00:18<00:00,  2.48it/s\n",
      "               Class     Images     Labels          P          R     mAP@.5 mAP@.5:.95: 100%|█| 2/2 [00:00<00:00,  2.57\n"
     ]
    },
    {
     "name": "stdout",
     "output_type": "stream",
     "text": [
      "                 all         60        163      0.627      0.554      0.559      0.265\n"
     ]
    },
    {
     "name": "stderr",
     "output_type": "stream",
     "text": [
      "\n",
      "     Epoch   gpu_mem       box       obj       cls     total    labels  img_size\n",
      "   245/299     15.4G   0.04112   0.03982   0.03076    0.1117        20       640: 100%|█| 47/47 [00:18<00:00,  2.47it/s\n",
      "               Class     Images     Labels          P          R     mAP@.5 mAP@.5:.95: 100%|█| 2/2 [00:00<00:00,  2.55\n"
     ]
    },
    {
     "name": "stdout",
     "output_type": "stream",
     "text": [
      "                 all         60        163      0.681      0.539      0.551      0.264\n"
     ]
    },
    {
     "name": "stderr",
     "output_type": "stream",
     "text": [
      "\n",
      "     Epoch   gpu_mem       box       obj       cls     total    labels  img_size\n",
      "   246/299     15.4G   0.04148   0.04187   0.03201    0.1154        19       640: 100%|█| 47/47 [00:18<00:00,  2.49it/s\n",
      "               Class     Images     Labels          P          R     mAP@.5 mAP@.5:.95: 100%|█| 2/2 [00:00<00:00,  2.54\n"
     ]
    },
    {
     "name": "stdout",
     "output_type": "stream",
     "text": [
      "                 all         60        163      0.674      0.516      0.535      0.252\n"
     ]
    },
    {
     "name": "stderr",
     "output_type": "stream",
     "text": [
      "\n",
      "     Epoch   gpu_mem       box       obj       cls     total    labels  img_size\n",
      "   247/299     15.4G   0.04106   0.04128   0.02171    0.1041        21       640: 100%|█| 47/47 [00:19<00:00,  2.47it/s\n",
      "               Class     Images     Labels          P          R     mAP@.5 mAP@.5:.95: 100%|█| 2/2 [00:00<00:00,  2.57\n"
     ]
    },
    {
     "name": "stdout",
     "output_type": "stream",
     "text": [
      "                 all         60        163      0.616      0.549      0.553      0.262\n"
     ]
    },
    {
     "name": "stderr",
     "output_type": "stream",
     "text": [
      "\n",
      "     Epoch   gpu_mem       box       obj       cls     total    labels  img_size\n",
      "   248/299     15.4G    0.0407    0.0432   0.03376    0.1177        25       640: 100%|█| 47/47 [00:19<00:00,  2.47it/s\n",
      "               Class     Images     Labels          P          R     mAP@.5 mAP@.5:.95: 100%|█| 2/2 [00:00<00:00,  2.55\n"
     ]
    },
    {
     "name": "stdout",
     "output_type": "stream",
     "text": [
      "                 all         60        163      0.681      0.536      0.564       0.27\n"
     ]
    },
    {
     "name": "stderr",
     "output_type": "stream",
     "text": [
      "\n",
      "     Epoch   gpu_mem       box       obj       cls     total    labels  img_size\n",
      "   249/299     15.4G   0.04207    0.0433   0.03347    0.1188        12       640: 100%|█| 47/47 [00:18<00:00,  2.47it/s\n",
      "               Class     Images     Labels          P          R     mAP@.5 mAP@.5:.95: 100%|█| 2/2 [00:00<00:00,  2.54\n"
     ]
    },
    {
     "name": "stdout",
     "output_type": "stream",
     "text": [
      "                 all         60        163      0.564      0.544      0.533      0.232\n"
     ]
    },
    {
     "name": "stderr",
     "output_type": "stream",
     "text": [
      "\n",
      "     Epoch   gpu_mem       box       obj       cls     total    labels  img_size\n",
      "   250/299     15.4G   0.04096   0.04284   0.02511    0.1089        13       640: 100%|█| 47/47 [00:19<00:00,  2.47it/s\n",
      "               Class     Images     Labels          P          R     mAP@.5 mAP@.5:.95: 100%|█| 2/2 [00:00<00:00,  2.54\n"
     ]
    },
    {
     "name": "stdout",
     "output_type": "stream",
     "text": [
      "                 all         60        163      0.516      0.583      0.537      0.254\n"
     ]
    },
    {
     "name": "stderr",
     "output_type": "stream",
     "text": [
      "\n",
      "     Epoch   gpu_mem       box       obj       cls     total    labels  img_size\n",
      "   251/299     15.4G   0.04093   0.04261   0.03244     0.116        17       640: 100%|█| 47/47 [00:18<00:00,  2.48it/s\n",
      "               Class     Images     Labels          P          R     mAP@.5 mAP@.5:.95: 100%|█| 2/2 [00:00<00:00,  2.53\n"
     ]
    },
    {
     "name": "stdout",
     "output_type": "stream",
     "text": [
      "                 all         60        163      0.632      0.546       0.54      0.273\n"
     ]
    },
    {
     "name": "stderr",
     "output_type": "stream",
     "text": [
      "\n",
      "     Epoch   gpu_mem       box       obj       cls     total    labels  img_size\n",
      "   252/299     15.4G   0.04119   0.04301   0.02592    0.1101        18       640: 100%|█| 47/47 [00:18<00:00,  2.48it/s\n",
      "               Class     Images     Labels          P          R     mAP@.5 mAP@.5:.95: 100%|█| 2/2 [00:00<00:00,  2.57\n"
     ]
    },
    {
     "name": "stdout",
     "output_type": "stream",
     "text": [
      "                 all         60        163      0.657      0.507       0.55      0.269\n"
     ]
    },
    {
     "name": "stderr",
     "output_type": "stream",
     "text": [
      "\n",
      "     Epoch   gpu_mem       box       obj       cls     total    labels  img_size\n",
      "   253/299     15.4G   0.04097   0.04359   0.02513    0.1097        22       640: 100%|█| 47/47 [00:18<00:00,  2.52it/s\n",
      "               Class     Images     Labels          P          R     mAP@.5 mAP@.5:.95: 100%|█| 2/2 [00:00<00:00,  2.55\n"
     ]
    },
    {
     "name": "stdout",
     "output_type": "stream",
     "text": [
      "                 all         60        163       0.69      0.525      0.545      0.262\n"
     ]
    },
    {
     "name": "stderr",
     "output_type": "stream",
     "text": [
      "\n",
      "     Epoch   gpu_mem       box       obj       cls     total    labels  img_size\n",
      "   254/299     15.4G    0.0402   0.04027   0.02899    0.1095        17       640: 100%|█| 47/47 [00:18<00:00,  2.49it/s\n",
      "               Class     Images     Labels          P          R     mAP@.5 mAP@.5:.95: 100%|█| 2/2 [00:00<00:00,  2.51\n"
     ]
    },
    {
     "name": "stdout",
     "output_type": "stream",
     "text": [
      "                 all         60        163      0.669      0.539       0.56      0.271\n"
     ]
    },
    {
     "name": "stderr",
     "output_type": "stream",
     "text": [
      "\n",
      "     Epoch   gpu_mem       box       obj       cls     total    labels  img_size\n",
      "   255/299     15.4G   0.04147   0.04239   0.02741    0.1113        18       640: 100%|█| 47/47 [00:18<00:00,  2.47it/s\n",
      "               Class     Images     Labels          P          R     mAP@.5 mAP@.5:.95: 100%|█| 2/2 [00:00<00:00,  2.55\n"
     ]
    },
    {
     "name": "stdout",
     "output_type": "stream",
     "text": [
      "                 all         60        163      0.685       0.49       0.53       0.26\n"
     ]
    },
    {
     "name": "stderr",
     "output_type": "stream",
     "text": [
      "\n",
      "     Epoch   gpu_mem       box       obj       cls     total    labels  img_size\n",
      "   256/299     15.4G    0.0399   0.04106   0.02917    0.1101        20       640: 100%|█| 47/47 [00:18<00:00,  2.49it/s\n",
      "               Class     Images     Labels          P          R     mAP@.5 mAP@.5:.95: 100%|█| 2/2 [00:00<00:00,  2.58\n"
     ]
    },
    {
     "name": "stdout",
     "output_type": "stream",
     "text": [
      "                 all         60        163       0.65      0.504      0.515      0.254\n"
     ]
    },
    {
     "name": "stderr",
     "output_type": "stream",
     "text": [
      "\n",
      "     Epoch   gpu_mem       box       obj       cls     total    labels  img_size\n",
      "   257/299     15.4G   0.04018   0.04228   0.02654     0.109        14       640: 100%|█| 47/47 [00:18<00:00,  2.48it/s\n",
      "               Class     Images     Labels          P          R     mAP@.5 mAP@.5:.95: 100%|█| 2/2 [00:00<00:00,  2.57\n"
     ]
    },
    {
     "name": "stdout",
     "output_type": "stream",
     "text": [
      "                 all         60        163      0.726      0.494      0.519      0.261\n"
     ]
    },
    {
     "name": "stderr",
     "output_type": "stream",
     "text": [
      "\n",
      "     Epoch   gpu_mem       box       obj       cls     total    labels  img_size\n",
      "   258/299     15.4G   0.04079   0.04159   0.02802    0.1104        11       640: 100%|█| 47/47 [00:18<00:00,  2.48it/s\n",
      "               Class     Images     Labels          P          R     mAP@.5 mAP@.5:.95: 100%|█| 2/2 [00:00<00:00,  2.43\n"
     ]
    },
    {
     "name": "stdout",
     "output_type": "stream",
     "text": [
      "                 all         60        163      0.654      0.488      0.516      0.253\n"
     ]
    },
    {
     "name": "stderr",
     "output_type": "stream",
     "text": [
      "\n",
      "     Epoch   gpu_mem       box       obj       cls     total    labels  img_size\n",
      "   259/299     15.4G   0.04072   0.04137   0.02559    0.1077        18       640: 100%|█| 47/47 [00:19<00:00,  2.47it/s\n",
      "               Class     Images     Labels          P          R     mAP@.5 mAP@.5:.95: 100%|█| 2/2 [00:00<00:00,  2.53\n"
     ]
    },
    {
     "name": "stdout",
     "output_type": "stream",
     "text": [
      "                 all         60        163      0.632      0.474       0.49      0.225\n"
     ]
    },
    {
     "name": "stderr",
     "output_type": "stream",
     "text": [
      "\n",
      "     Epoch   gpu_mem       box       obj       cls     total    labels  img_size\n",
      "   260/299     15.4G   0.04023    0.0408   0.02294     0.104        11       640: 100%|█| 47/47 [00:19<00:00,  2.46it/s\n",
      "               Class     Images     Labels          P          R     mAP@.5 mAP@.5:.95: 100%|█| 2/2 [00:00<00:00,  2.56\n"
     ]
    },
    {
     "name": "stdout",
     "output_type": "stream",
     "text": [
      "                 all         60        163      0.629      0.482      0.492      0.243\n"
     ]
    },
    {
     "name": "stderr",
     "output_type": "stream",
     "text": [
      "\n",
      "     Epoch   gpu_mem       box       obj       cls     total    labels  img_size\n",
      "   261/299     15.4G   0.04035   0.03967   0.03405    0.1141        17       640: 100%|█| 47/47 [00:19<00:00,  2.47it/s\n",
      "               Class     Images     Labels          P          R     mAP@.5 mAP@.5:.95: 100%|█| 2/2 [00:00<00:00,  2.58\n"
     ]
    },
    {
     "name": "stdout",
     "output_type": "stream",
     "text": [
      "                 all         60        163      0.633      0.491      0.506      0.241\n"
     ]
    },
    {
     "name": "stderr",
     "output_type": "stream",
     "text": [
      "\n",
      "     Epoch   gpu_mem       box       obj       cls     total    labels  img_size\n",
      "   262/299     15.4G   0.04148   0.04264   0.02169    0.1058        21       640: 100%|█| 47/47 [00:18<00:00,  2.49it/s\n",
      "               Class     Images     Labels          P          R     mAP@.5 mAP@.5:.95: 100%|█| 2/2 [00:00<00:00,  2.56\n"
     ]
    },
    {
     "name": "stdout",
     "output_type": "stream",
     "text": [
      "                 all         60        163      0.662      0.514      0.529      0.264\n"
     ]
    },
    {
     "name": "stderr",
     "output_type": "stream",
     "text": [
      "\n",
      "     Epoch   gpu_mem       box       obj       cls     total    labels  img_size\n",
      "   263/299     15.4G   0.04058   0.04128   0.02435    0.1062        17       640: 100%|█| 47/47 [00:19<00:00,  2.47it/s\n",
      "               Class     Images     Labels          P          R     mAP@.5 mAP@.5:.95: 100%|█| 2/2 [00:00<00:00,  2.40\n"
     ]
    },
    {
     "name": "stdout",
     "output_type": "stream",
     "text": [
      "                 all         60        163      0.631      0.522       0.53      0.259\n"
     ]
    },
    {
     "name": "stderr",
     "output_type": "stream",
     "text": [
      "\n",
      "     Epoch   gpu_mem       box       obj       cls     total    labels  img_size\n",
      "   264/299     15.4G   0.03943   0.04024   0.01872    0.0984        17       640: 100%|█| 47/47 [00:19<00:00,  2.47it/s\n",
      "               Class     Images     Labels          P          R     mAP@.5 mAP@.5:.95: 100%|█| 2/2 [00:00<00:00,  2.53\n"
     ]
    },
    {
     "name": "stdout",
     "output_type": "stream",
     "text": [
      "                 all         60        163      0.705      0.518      0.534      0.253\n"
     ]
    },
    {
     "name": "stderr",
     "output_type": "stream",
     "text": [
      "\n",
      "     Epoch   gpu_mem       box       obj       cls     total    labels  img_size\n",
      "   265/299     15.4G      0.04   0.04201   0.02252    0.1045        16       640: 100%|█| 47/47 [00:19<00:00,  2.47it/s\n",
      "               Class     Images     Labels          P          R     mAP@.5 mAP@.5:.95: 100%|█| 2/2 [00:00<00:00,  2.54\n"
     ]
    },
    {
     "name": "stdout",
     "output_type": "stream",
     "text": [
      "                 all         60        163      0.762      0.491      0.548      0.264\n"
     ]
    },
    {
     "name": "stderr",
     "output_type": "stream",
     "text": [
      "\n",
      "     Epoch   gpu_mem       box       obj       cls     total    labels  img_size\n",
      "   266/299     15.4G   0.03852    0.0403   0.02221     0.101        15       640: 100%|█| 47/47 [00:19<00:00,  2.47it/s\n",
      "               Class     Images     Labels          P          R     mAP@.5 mAP@.5:.95: 100%|█| 2/2 [00:00<00:00,  2.51\n"
     ]
    },
    {
     "name": "stdout",
     "output_type": "stream",
     "text": [
      "                 all         60        163      0.731      0.526      0.543      0.263\n"
     ]
    },
    {
     "name": "stderr",
     "output_type": "stream",
     "text": [
      "\n",
      "     Epoch   gpu_mem       box       obj       cls     total    labels  img_size\n",
      "   267/299     15.4G   0.04025   0.04108   0.03123    0.1126        15       640: 100%|█| 47/47 [00:19<00:00,  2.47it/s\n",
      "               Class     Images     Labels          P          R     mAP@.5 mAP@.5:.95: 100%|█| 2/2 [00:00<00:00,  2.55\n"
     ]
    },
    {
     "name": "stdout",
     "output_type": "stream",
     "text": [
      "                 all         60        163      0.724      0.521       0.55       0.26\n"
     ]
    },
    {
     "name": "stderr",
     "output_type": "stream",
     "text": [
      "\n",
      "     Epoch   gpu_mem       box       obj       cls     total    labels  img_size\n",
      "   268/299     15.4G    0.0393   0.04215   0.02871    0.1102        16       640: 100%|█| 47/47 [00:19<00:00,  2.47it/s\n",
      "               Class     Images     Labels          P          R     mAP@.5 mAP@.5:.95: 100%|█| 2/2 [00:00<00:00,  2.53\n"
     ]
    },
    {
     "name": "stdout",
     "output_type": "stream",
     "text": [
      "                 all         60        163      0.753      0.511      0.538      0.247\n"
     ]
    },
    {
     "name": "stderr",
     "output_type": "stream",
     "text": [
      "\n",
      "     Epoch   gpu_mem       box       obj       cls     total    labels  img_size\n",
      "   269/299     15.4G    0.0388   0.04105   0.02652    0.1064        20       640: 100%|█| 47/47 [00:19<00:00,  2.47it/s\n",
      "               Class     Images     Labels          P          R     mAP@.5 mAP@.5:.95: 100%|█| 2/2 [00:03<00:00,  1.61\n"
     ]
    },
    {
     "name": "stdout",
     "output_type": "stream",
     "text": [
      "                 all         60        163      0.742      0.537      0.551      0.268\n"
     ]
    },
    {
     "name": "stderr",
     "output_type": "stream",
     "text": [
      "\n",
      "     Epoch   gpu_mem       box       obj       cls     total    labels  img_size\n",
      "   270/299     15.4G   0.03899   0.03982   0.02213    0.1009        14       640: 100%|█| 47/47 [00:19<00:00,  2.47it/s\n",
      "               Class     Images     Labels          P          R     mAP@.5 mAP@.5:.95: 100%|█| 2/2 [00:00<00:00,  2.52\n"
     ]
    },
    {
     "name": "stdout",
     "output_type": "stream",
     "text": [
      "                 all         60        163      0.693      0.553      0.547      0.278\n"
     ]
    },
    {
     "name": "stderr",
     "output_type": "stream",
     "text": [
      "\n",
      "     Epoch   gpu_mem       box       obj       cls     total    labels  img_size\n",
      "   271/299     15.4G   0.03874   0.04047   0.02599    0.1052         9       640: 100%|█| 47/47 [00:18<00:00,  2.47it/s\n",
      "               Class     Images     Labels          P          R     mAP@.5 mAP@.5:.95: 100%|█| 2/2 [00:00<00:00,  2.57\n"
     ]
    },
    {
     "name": "stdout",
     "output_type": "stream",
     "text": [
      "                 all         60        163      0.635      0.532       0.54      0.262\n"
     ]
    },
    {
     "name": "stderr",
     "output_type": "stream",
     "text": [
      "\n",
      "     Epoch   gpu_mem       box       obj       cls     total    labels  img_size\n",
      "   272/299     15.4G   0.04033   0.04203   0.02341    0.1058        18       640: 100%|█| 47/47 [00:19<00:00,  2.46it/s\n",
      "               Class     Images     Labels          P          R     mAP@.5 mAP@.5:.95: 100%|█| 2/2 [00:00<00:00,  2.57\n"
     ]
    },
    {
     "name": "stdout",
     "output_type": "stream",
     "text": [
      "                 all         60        163      0.697      0.477      0.527      0.257\n"
     ]
    },
    {
     "name": "stderr",
     "output_type": "stream",
     "text": [
      "\n",
      "     Epoch   gpu_mem       box       obj       cls     total    labels  img_size\n",
      "   273/299     15.4G   0.04009   0.04217   0.02395    0.1062        25       640: 100%|█| 47/47 [00:18<00:00,  2.49it/s\n",
      "               Class     Images     Labels          P          R     mAP@.5 mAP@.5:.95: 100%|█| 2/2 [00:00<00:00,  2.62\n"
     ]
    },
    {
     "name": "stdout",
     "output_type": "stream",
     "text": [
      "                 all         60        163      0.762      0.516      0.549       0.28\n"
     ]
    },
    {
     "name": "stderr",
     "output_type": "stream",
     "text": [
      "\n",
      "     Epoch   gpu_mem       box       obj       cls     total    labels  img_size\n",
      "   274/299     15.4G    0.0397   0.04112   0.02765    0.1085        14       640: 100%|█| 47/47 [00:18<00:00,  2.48it/s\n",
      "               Class     Images     Labels          P          R     mAP@.5 mAP@.5:.95: 100%|█| 2/2 [00:00<00:00,  2.58\n"
     ]
    },
    {
     "name": "stdout",
     "output_type": "stream",
     "text": [
      "                 all         60        163      0.704      0.536      0.554      0.276\n"
     ]
    },
    {
     "name": "stderr",
     "output_type": "stream",
     "text": [
      "\n",
      "     Epoch   gpu_mem       box       obj       cls     total    labels  img_size\n",
      "   275/299     15.4G    0.0391   0.04129    0.0181   0.09849        31       640: 100%|█| 47/47 [00:19<00:00,  2.47it/s\n",
      "               Class     Images     Labels          P          R     mAP@.5 mAP@.5:.95: 100%|█| 2/2 [00:00<00:00,  2.51\n"
     ]
    },
    {
     "name": "stdout",
     "output_type": "stream",
     "text": [
      "                 all         60        163      0.734      0.542      0.548      0.271\n"
     ]
    },
    {
     "name": "stderr",
     "output_type": "stream",
     "text": [
      "\n",
      "     Epoch   gpu_mem       box       obj       cls     total    labels  img_size\n",
      "   276/299     15.4G   0.03943   0.03995   0.02396    0.1033        21       640: 100%|█| 47/47 [00:19<00:00,  2.46it/s\n",
      "               Class     Images     Labels          P          R     mAP@.5 mAP@.5:.95: 100%|█| 2/2 [00:00<00:00,  2.54\n"
     ]
    },
    {
     "name": "stdout",
     "output_type": "stream",
     "text": [
      "                 all         60        163      0.751      0.533      0.549      0.273\n"
     ]
    },
    {
     "name": "stderr",
     "output_type": "stream",
     "text": [
      "\n",
      "     Epoch   gpu_mem       box       obj       cls     total    labels  img_size\n",
      "   277/299     15.4G   0.03963   0.04179   0.02304    0.1045        21       640: 100%|█| 47/47 [00:18<00:00,  2.48it/s\n",
      "               Class     Images     Labels          P          R     mAP@.5 mAP@.5:.95: 100%|█| 2/2 [00:00<00:00,  2.60\n"
     ]
    },
    {
     "name": "stdout",
     "output_type": "stream",
     "text": [
      "                 all         60        163      0.707      0.546      0.555      0.266\n"
     ]
    },
    {
     "name": "stderr",
     "output_type": "stream",
     "text": [
      "\n",
      "     Epoch   gpu_mem       box       obj       cls     total    labels  img_size\n",
      "   278/299     15.4G   0.03963   0.04113   0.02589    0.1066        18       640: 100%|█| 47/47 [00:18<00:00,  2.48it/s\n",
      "               Class     Images     Labels          P          R     mAP@.5 mAP@.5:.95: 100%|█| 2/2 [00:00<00:00,  2.51\n"
     ]
    },
    {
     "name": "stdout",
     "output_type": "stream",
     "text": [
      "                 all         60        163      0.657      0.545      0.546      0.253\n"
     ]
    },
    {
     "name": "stderr",
     "output_type": "stream",
     "text": [
      "\n",
      "     Epoch   gpu_mem       box       obj       cls     total    labels  img_size\n",
      "   279/299     15.4G   0.03893   0.04102   0.02133    0.1013        28       640: 100%|█| 47/47 [00:19<00:00,  2.47it/s\n",
      "               Class     Images     Labels          P          R     mAP@.5 mAP@.5:.95: 100%|█| 2/2 [00:00<00:00,  2.55\n"
     ]
    },
    {
     "name": "stdout",
     "output_type": "stream",
     "text": [
      "                 all         60        163      0.712      0.547       0.55      0.257\n"
     ]
    },
    {
     "name": "stderr",
     "output_type": "stream",
     "text": [
      "\n",
      "     Epoch   gpu_mem       box       obj       cls     total    labels  img_size\n",
      "   280/299     15.4G   0.03992   0.04247   0.02298    0.1054        22       640: 100%|█| 47/47 [00:19<00:00,  2.46it/s\n",
      "               Class     Images     Labels          P          R     mAP@.5 mAP@.5:.95: 100%|█| 2/2 [00:00<00:00,  2.49\n"
     ]
    },
    {
     "name": "stdout",
     "output_type": "stream",
     "text": [
      "                 all         60        163      0.733       0.54      0.559      0.264\n"
     ]
    },
    {
     "name": "stderr",
     "output_type": "stream",
     "text": [
      "\n",
      "     Epoch   gpu_mem       box       obj       cls     total    labels  img_size\n",
      "   281/299     15.4G   0.03913   0.04112   0.02102    0.1013        30       640: 100%|█| 47/47 [00:19<00:00,  2.47it/s\n",
      "               Class     Images     Labels          P          R     mAP@.5 mAP@.5:.95: 100%|█| 2/2 [00:00<00:00,  2.49\n"
     ]
    },
    {
     "name": "stdout",
     "output_type": "stream",
     "text": [
      "                 all         60        163      0.715      0.568      0.561      0.268\n"
     ]
    },
    {
     "name": "stderr",
     "output_type": "stream",
     "text": [
      "\n",
      "     Epoch   gpu_mem       box       obj       cls     total    labels  img_size\n",
      "   282/299     15.4G   0.03945   0.04197   0.02341    0.1048        19       640: 100%|█| 47/47 [00:18<00:00,  2.48it/s\n",
      "               Class     Images     Labels          P          R     mAP@.5 mAP@.5:.95: 100%|█| 2/2 [00:00<00:00,  2.56\n"
     ]
    },
    {
     "name": "stdout",
     "output_type": "stream",
     "text": [
      "                 all         60        163      0.724       0.55      0.555       0.27\n"
     ]
    },
    {
     "name": "stderr",
     "output_type": "stream",
     "text": [
      "\n",
      "     Epoch   gpu_mem       box       obj       cls     total    labels  img_size\n",
      "   283/299     15.4G   0.03869   0.04239   0.02094     0.102        19       640: 100%|█| 47/47 [00:19<00:00,  2.47it/s\n",
      "               Class     Images     Labels          P          R     mAP@.5 mAP@.5:.95: 100%|█| 2/2 [00:00<00:00,  2.53\n"
     ]
    },
    {
     "name": "stdout",
     "output_type": "stream",
     "text": [
      "                 all         60        163      0.663      0.537      0.549      0.276\n"
     ]
    },
    {
     "name": "stderr",
     "output_type": "stream",
     "text": [
      "\n",
      "     Epoch   gpu_mem       box       obj       cls     total    labels  img_size\n",
      "   284/299     15.4G    0.0392   0.04025   0.02773    0.1072         8       640: 100%|█| 47/47 [00:18<00:00,  2.48it/s\n",
      "               Class     Images     Labels          P          R     mAP@.5 mAP@.5:.95: 100%|█| 2/2 [00:00<00:00,  2.54\n"
     ]
    },
    {
     "name": "stdout",
     "output_type": "stream",
     "text": [
      "                 all         60        163       0.69      0.505      0.535      0.267\n"
     ]
    },
    {
     "name": "stderr",
     "output_type": "stream",
     "text": [
      "\n",
      "     Epoch   gpu_mem       box       obj       cls     total    labels  img_size\n",
      "   285/299     15.4G   0.03929   0.03971   0.02785    0.1068        22       640: 100%|█| 47/47 [00:19<00:00,  2.47it/s\n",
      "               Class     Images     Labels          P          R     mAP@.5 mAP@.5:.95: 100%|█| 2/2 [00:00<00:00,  2.57\n"
     ]
    },
    {
     "name": "stdout",
     "output_type": "stream",
     "text": [
      "                 all         60        163      0.676      0.524      0.527      0.252\n"
     ]
    },
    {
     "name": "stderr",
     "output_type": "stream",
     "text": [
      "\n",
      "     Epoch   gpu_mem       box       obj       cls     total    labels  img_size\n",
      "   286/299     15.4G   0.03983   0.03972   0.02275    0.1023        14       640: 100%|█| 47/47 [00:19<00:00,  2.47it/s\n",
      "               Class     Images     Labels          P          R     mAP@.5 mAP@.5:.95: 100%|█| 2/2 [00:00<00:00,  2.57\n"
     ]
    },
    {
     "name": "stdout",
     "output_type": "stream",
     "text": [
      "                 all         60        163      0.761      0.492      0.548      0.261\n"
     ]
    },
    {
     "name": "stderr",
     "output_type": "stream",
     "text": [
      "\n",
      "     Epoch   gpu_mem       box       obj       cls     total    labels  img_size\n",
      "   287/299     15.4G   0.03948   0.04189   0.02331    0.1047        31       640: 100%|█| 47/47 [00:19<00:00,  2.47it/s\n",
      "               Class     Images     Labels          P          R     mAP@.5 mAP@.5:.95: 100%|█| 2/2 [00:00<00:00,  2.54\n"
     ]
    },
    {
     "name": "stdout",
     "output_type": "stream",
     "text": [
      "                 all         60        163       0.64      0.533      0.531       0.26\n"
     ]
    },
    {
     "name": "stderr",
     "output_type": "stream",
     "text": [
      "\n",
      "     Epoch   gpu_mem       box       obj       cls     total    labels  img_size\n",
      "   288/299     15.4G    0.0385    0.0413   0.02631    0.1061        15       640: 100%|█| 47/47 [00:19<00:00,  2.46it/s\n",
      "               Class     Images     Labels          P          R     mAP@.5 mAP@.5:.95: 100%|█| 2/2 [00:00<00:00,  2.56\n"
     ]
    },
    {
     "name": "stdout",
     "output_type": "stream",
     "text": [
      "                 all         60        163      0.673      0.498      0.531      0.248\n"
     ]
    },
    {
     "name": "stderr",
     "output_type": "stream",
     "text": [
      "\n",
      "     Epoch   gpu_mem       box       obj       cls     total    labels  img_size\n",
      "   289/299     15.4G   0.03886   0.04174   0.02495    0.1055        23       640: 100%|█| 47/47 [00:18<00:00,  2.48it/s\n",
      "               Class     Images     Labels          P          R     mAP@.5 mAP@.5:.95: 100%|█| 2/2 [00:00<00:00,  2.65\n"
     ]
    },
    {
     "name": "stdout",
     "output_type": "stream",
     "text": [
      "                 all         60        163       0.69      0.516      0.533      0.251\n"
     ]
    },
    {
     "name": "stderr",
     "output_type": "stream",
     "text": [
      "\n",
      "     Epoch   gpu_mem       box       obj       cls     total    labels  img_size\n",
      "   290/299     15.4G    0.0388   0.04093   0.02588    0.1056        20       640: 100%|█| 47/47 [00:18<00:00,  2.48it/s\n",
      "               Class     Images     Labels          P          R     mAP@.5 mAP@.5:.95: 100%|█| 2/2 [00:00<00:00,  2.58\n"
     ]
    },
    {
     "name": "stdout",
     "output_type": "stream",
     "text": [
      "                 all         60        163      0.693      0.554      0.546      0.258\n"
     ]
    },
    {
     "name": "stderr",
     "output_type": "stream",
     "text": [
      "\n",
      "     Epoch   gpu_mem       box       obj       cls     total    labels  img_size\n",
      "   291/299     15.4G   0.03836   0.03877   0.02565    0.1028         8       640: 100%|█| 47/47 [00:18<00:00,  2.48it/s\n",
      "               Class     Images     Labels          P          R     mAP@.5 mAP@.5:.95: 100%|█| 2/2 [00:00<00:00,  2.54\n"
     ]
    },
    {
     "name": "stdout",
     "output_type": "stream",
     "text": [
      "                 all         60        163      0.625      0.589      0.556      0.261\n"
     ]
    },
    {
     "name": "stderr",
     "output_type": "stream",
     "text": [
      "\n",
      "     Epoch   gpu_mem       box       obj       cls     total    labels  img_size\n",
      "   292/299     15.4G   0.03817   0.03968    0.0332    0.1111        18       640: 100%|█| 47/47 [00:19<00:00,  2.45it/s\n",
      "               Class     Images     Labels          P          R     mAP@.5 mAP@.5:.95: 100%|█| 2/2 [00:00<00:00,  2.61\n"
     ]
    },
    {
     "name": "stdout",
     "output_type": "stream",
     "text": [
      "                 all         60        163      0.679      0.543      0.546      0.264\n"
     ]
    },
    {
     "name": "stderr",
     "output_type": "stream",
     "text": [
      "\n",
      "     Epoch   gpu_mem       box       obj       cls     total    labels  img_size\n",
      "   293/299     15.4G   0.03875   0.04023   0.02877    0.1078        19       640: 100%|█| 47/47 [00:18<00:00,  2.48it/s\n",
      "               Class     Images     Labels          P          R     mAP@.5 mAP@.5:.95: 100%|█| 2/2 [00:00<00:00,  2.55\n"
     ]
    },
    {
     "name": "stdout",
     "output_type": "stream",
     "text": [
      "                 all         60        163      0.672      0.543      0.557      0.277\n"
     ]
    },
    {
     "name": "stderr",
     "output_type": "stream",
     "text": [
      "\n",
      "     Epoch   gpu_mem       box       obj       cls     total    labels  img_size\n",
      "   294/299     15.4G   0.03848   0.04205   0.01834   0.09886        31       640: 100%|█| 47/47 [00:19<00:00,  2.47it/s\n",
      "               Class     Images     Labels          P          R     mAP@.5 mAP@.5:.95: 100%|█| 2/2 [00:00<00:00,  2.55\n"
     ]
    },
    {
     "name": "stdout",
     "output_type": "stream",
     "text": [
      "                 all         60        163      0.704      0.535      0.555      0.274\n"
     ]
    },
    {
     "name": "stderr",
     "output_type": "stream",
     "text": [
      "\n",
      "     Epoch   gpu_mem       box       obj       cls     total    labels  img_size\n",
      "   295/299     15.4G   0.03819   0.04311   0.01979    0.1011        35       640: 100%|█| 47/47 [00:19<00:00,  2.47it/s\n",
      "               Class     Images     Labels          P          R     mAP@.5 mAP@.5:.95: 100%|█| 2/2 [00:00<00:00,  2.49\n"
     ]
    },
    {
     "name": "stdout",
     "output_type": "stream",
     "text": [
      "                 all         60        163      0.726      0.547      0.571      0.284\n"
     ]
    },
    {
     "name": "stderr",
     "output_type": "stream",
     "text": [
      "\n",
      "     Epoch   gpu_mem       box       obj       cls     total    labels  img_size\n",
      "   296/299     15.4G   0.03818   0.04054   0.01955   0.09827        29       640: 100%|█| 47/47 [00:18<00:00,  2.48it/s\n",
      "               Class     Images     Labels          P          R     mAP@.5 mAP@.5:.95: 100%|█| 2/2 [00:00<00:00,  2.56\n"
     ]
    },
    {
     "name": "stdout",
     "output_type": "stream",
     "text": [
      "                 all         60        163      0.671      0.549      0.557      0.279\n"
     ]
    },
    {
     "name": "stderr",
     "output_type": "stream",
     "text": [
      "\n",
      "     Epoch   gpu_mem       box       obj       cls     total    labels  img_size\n",
      "   297/299     15.4G   0.03845   0.04028   0.02294    0.1017        22       640: 100%|█| 47/47 [00:19<00:00,  2.47it/s\n",
      "               Class     Images     Labels          P          R     mAP@.5 mAP@.5:.95: 100%|█| 2/2 [00:00<00:00,  2.47\n"
     ]
    },
    {
     "name": "stdout",
     "output_type": "stream",
     "text": [
      "                 all         60        163      0.723      0.554      0.592       0.29\n"
     ]
    },
    {
     "name": "stderr",
     "output_type": "stream",
     "text": [
      "\n",
      "     Epoch   gpu_mem       box       obj       cls     total    labels  img_size\n",
      "   298/299     15.4G    0.0385   0.04169   0.02867    0.1089        15       640: 100%|█| 47/47 [00:19<00:00,  2.47it/s\n",
      "               Class     Images     Labels          P          R     mAP@.5 mAP@.5:.95: 100%|█| 2/2 [00:00<00:00,  2.53\n"
     ]
    },
    {
     "name": "stdout",
     "output_type": "stream",
     "text": [
      "                 all         60        163      0.684      0.565      0.564      0.281\n"
     ]
    },
    {
     "name": "stderr",
     "output_type": "stream",
     "text": [
      "\n",
      "     Epoch   gpu_mem       box       obj       cls     total    labels  img_size\n",
      "   299/299     15.4G   0.03824   0.04105   0.01849   0.09778        20       640: 100%|█| 47/47 [00:19<00:00,  2.46it/s\n",
      "               Class     Images     Labels          P          R     mAP@.5 mAP@.5:.95: 100%|█| 2/2 [00:03<00:00,  1.94\n"
     ]
    },
    {
     "name": "stdout",
     "output_type": "stream",
     "text": [
      "                 all         60        163      0.656      0.571      0.567      0.274\n",
      "                carp         60         22      0.624      0.455      0.419      0.134\n",
      "           cranebird         60         53      0.609      0.623      0.662      0.269\n",
      "                deer         60         25      0.714       0.72      0.658      0.301\n",
      "         lotusflower         60         27      0.884      0.889      0.947      0.594\n",
      "              turtle         60         36      0.447      0.167      0.148     0.0705\n"
     ]
    },
    {
     "name": "stderr",
     "output_type": "stream",
     "text": [
      "300 epochs completed in 2.014 hours.\n",
      "\n"
     ]
    },
    {
     "name": "stdout",
     "output_type": "stream",
     "text": [
      "Optimizer stripped from runs\\train\\exp\\weights\\last.pt, 175.1MB\n",
      "Optimizer stripped from runs\\train\\exp\\weights\\best.pt, 175.1MB\n"
     ]
    },
    {
     "data": {
      "text/html": [
       "<br/>Waiting for W&B process to finish, PID 4920<br/>Program ended successfully."
      ],
      "text/plain": [
       "<IPython.core.display.HTML object>"
      ]
     },
     "metadata": {},
     "output_type": "display_data"
    },
    {
     "data": {
      "application/vnd.jupyter.widget-view+json": {
       "model_id": "",
       "version_major": 2,
       "version_minor": 0
      },
      "text/plain": [
       "VBox(children=(Label(value=' 169.55MB of 170.46MB uploaded (0.00MB deduped)\\r'), FloatProgress(value=0.9946737…"
      ]
     },
     "metadata": {},
     "output_type": "display_data"
    },
    {
     "data": {
      "text/html": [
       "Find user logs for this run at: <code>D:\\Jupyter\\museong\\1. oriental_v3\\3. yolov5\\4. rhf_b41\\wandb\\run-20210808_235919-1hah7qga\\logs\\debug.log</code>"
      ],
      "text/plain": [
       "<IPython.core.display.HTML object>"
      ]
     },
     "metadata": {},
     "output_type": "display_data"
    },
    {
     "data": {
      "text/html": [
       "Find internal logs for this run at: <code>D:\\Jupyter\\museong\\1. oriental_v3\\3. yolov5\\4. rhf_b41\\wandb\\run-20210808_235919-1hah7qga\\logs\\debug-internal.log</code>"
      ],
      "text/plain": [
       "<IPython.core.display.HTML object>"
      ]
     },
     "metadata": {},
     "output_type": "display_data"
    },
    {
     "data": {
      "text/html": [
       "<h3>Run summary:</h3><br/><style>\n",
       "    table.wandb td:nth-child(1) { padding: 0 10px; text-align: right }\n",
       "    </style><table class=\"wandb\">\n",
       "<tr><td>train/box_loss</td><td>0.03824</td></tr><tr><td>train/obj_loss</td><td>0.04105</td></tr><tr><td>train/cls_loss</td><td>0.01849</td></tr><tr><td>metrics/precision</td><td>0.6555</td></tr><tr><td>metrics/recall</td><td>0.57055</td></tr><tr><td>metrics/mAP_0.5</td><td>0.56666</td></tr><tr><td>metrics/mAP_0.5:0.95</td><td>0.27385</td></tr><tr><td>val/box_loss</td><td>0.05361</td></tr><tr><td>val/obj_loss</td><td>0.02126</td></tr><tr><td>val/cls_loss</td><td>0.44391</td></tr><tr><td>x/lr0</td><td>0.002</td></tr><tr><td>x/lr1</td><td>0.002</td></tr><tr><td>x/lr2</td><td>0.002</td></tr><tr><td>_runtime</td><td>7341</td></tr><tr><td>_timestamp</td><td>1628442100</td></tr><tr><td>_step</td><td>300</td></tr></table>"
      ],
      "text/plain": [
       "<IPython.core.display.HTML object>"
      ]
     },
     "metadata": {},
     "output_type": "display_data"
    },
    {
     "data": {
      "text/html": [
       "<h3>Run history:</h3><br/><style>\n",
       "    table.wandb td:nth-child(1) { padding: 0 10px; text-align: right }\n",
       "    </style><table class=\"wandb\">\n",
       "<tr><td>train/box_loss</td><td>▆▇██▇▇▆▆▆▅▅▅▅▄▄▄▄▄▄▃▄▃▃▃▃▂▂▂▂▂▂▂▁▂▁▁▁▁▁▁</td></tr><tr><td>train/obj_loss</td><td>██████▇▇▇▇▅▆▇▆▇▆▄▆▅▅▅▄▅▅▅▅▃▃▃▃▃▂▃▃▂▂▂▃▁▂</td></tr><tr><td>train/cls_loss</td><td>▇▇█▇▇▅▄▃▃▃▃▃▂▂▃▃▂▂▂▂▂▂▂▂▁▁▁▁▁▁▁▁▁▁▁▁▁▁▁▁</td></tr><tr><td>metrics/precision</td><td>▆▁▇▁▅▄▁▂▃▃▄▄▅▆▄▅▆▆▇▆▅▅▅▆▅▆▆▆▇▆▆▇█▇▇▇█▇▇▇</td></tr><tr><td>metrics/recall</td><td>▂▅▁▃▂▃▄▄▅▄▅▄▅▃▅▅▅▆▅▆▇▇▇▆▇▇▇█▇▇▇▇▇▇▇▇▇▇██</td></tr><tr><td>metrics/mAP_0.5</td><td>▁▂▁▁▁▂▂▃▄▄▅▅▅▄▅▅▆▇▆▇▇▇▇▆▇█▇██▇▇███▇█████</td></tr><tr><td>metrics/mAP_0.5:0.95</td><td>▁▁▁▁▁▂▂▃▃▃▃▄▃▃▄▄▅▆▅▆▆▇▅▆▆▇▇▇▇▇▇▇▇█▇█████</td></tr><tr><td>val/box_loss</td><td>▇███▇▅▅▄▄▄▃▃▃▄▃▄▂▂▂▂▂▂▂▂▂▁▁▁▁▁▁▁▁▁▁▂▁▂▂▂</td></tr><tr><td>val/obj_loss</td><td>▂█▄▃▂▁▁▁▁▁▁▁▁▁▁▁▁▁▁▁▁▁▁▁▁▁▁▁▁▁▁▁▁▁▁▁▁▁▁▁</td></tr><tr><td>val/cls_loss</td><td>▆▅▄█▃▁▂▂▂▂▂▂▂▂▁▁▂▂▂▁▁▂▂▂▂▁▁▁▂▂▂▂▁▂▁▂▂▁▂▂</td></tr><tr><td>x/lr0</td><td>▁▃▆█████▇▇▇▇▇▆▆▆▆▅▅▅▅▄▄▄▃▃▃▃▂▂▂▂▂▂▁▁▁▁▁▁</td></tr><tr><td>x/lr1</td><td>▁▃▆█████▇▇▇▇▇▆▆▆▆▅▅▅▅▄▄▄▃▃▃▃▂▂▂▂▂▂▁▁▁▁▁▁</td></tr><tr><td>x/lr2</td><td>█▇▄▂▂▂▂▂▂▂▂▂▂▂▁▁▁▁▁▁▁▁▁▁▁▁▁▁▁▁▁▁▁▁▁▁▁▁▁▁</td></tr><tr><td>_runtime</td><td>▁▁▁▁▂▂▂▂▂▃▃▃▃▃▃▄▄▄▄▄▅▅▅▅▅▅▆▆▆▆▆▇▇▇▇▇▇███</td></tr><tr><td>_timestamp</td><td>▁▁▁▁▂▂▂▂▂▃▃▃▃▃▃▄▄▄▄▄▅▅▅▅▅▅▆▆▆▆▆▇▇▇▇▇▇███</td></tr><tr><td>_step</td><td>▁▁▁▁▂▂▂▂▂▃▃▃▃▃▃▄▄▄▄▄▅▅▅▅▅▅▆▆▆▆▆▆▇▇▇▇▇███</td></tr></table><br/>"
      ],
      "text/plain": [
       "<IPython.core.display.HTML object>"
      ]
     },
     "metadata": {},
     "output_type": "display_data"
    },
    {
     "data": {
      "text/html": [
       "Synced 6 W&B file(s), 335 media file(s), 1 artifact file(s) and 0 other file(s)"
      ],
      "text/plain": [
       "<IPython.core.display.HTML object>"
      ]
     },
     "metadata": {},
     "output_type": "display_data"
    },
    {
     "data": {
      "text/html": [
       "\n",
       "                    <br/>Synced <strong style=\"color:#cdcd00\">exp</strong>: <a href=\"https://wandb.ai/museong/train/runs/1hah7qga\" target=\"_blank\">https://wandb.ai/museong/train/runs/1hah7qga</a><br/>\n",
       "                "
      ],
      "text/plain": [
       "<IPython.core.display.HTML object>"
      ]
     },
     "metadata": {},
     "output_type": "display_data"
    }
   ],
   "source": [
    "if __name__ == \"__main__\":\n",
    "    #opt = parse_opt()\n",
    "    main(opt)"
   ]
  },
  {
   "cell_type": "code",
   "execution_count": null,
   "id": "0405bbb7",
   "metadata": {},
   "outputs": [],
   "source": []
  }
 ],
 "metadata": {
  "kernelspec": {
   "display_name": "Python 3",
   "language": "python",
   "name": "python3"
  },
  "language_info": {
   "codemirror_mode": {
    "name": "ipython",
    "version": 3
   },
   "file_extension": ".py",
   "mimetype": "text/x-python",
   "name": "python",
   "nbconvert_exporter": "python",
   "pygments_lexer": "ipython3",
   "version": "3.7.10"
  }
 },
 "nbformat": 4,
 "nbformat_minor": 5
}
