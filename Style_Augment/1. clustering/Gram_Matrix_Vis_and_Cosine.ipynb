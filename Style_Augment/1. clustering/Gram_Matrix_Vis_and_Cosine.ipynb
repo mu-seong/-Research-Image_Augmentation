{
 "cells": [
  {
   "cell_type": "markdown",
   "metadata": {},
   "source": [
    "# Library Load"
   ]
  },
  {
   "cell_type": "code",
   "execution_count": 1,
   "metadata": {
    "executionInfo": {
     "elapsed": 3889,
     "status": "ok",
     "timestamp": 1622534496368,
     "user": {
      "displayName": "‍김무성(대학원생-비즈니스IT전공)",
      "photoUrl": "",
      "userId": "00417310241714095037"
     },
     "user_tz": -540
    },
    "id": "3L7D0g9dndsi"
   },
   "outputs": [],
   "source": [
    "# 필요한 PyTorch 라이브러리 불러오기\n",
    "import os\n",
    "from tqdm import tqdm\n",
    "\n",
    "import torch\n",
    "import torch.nn as nn\n",
    "import torch.nn.functional as F\n",
    "import torch.optim as optim\n",
    "import torchvision.transforms as transforms\n",
    "import torchvision.models as models\n",
    "from torchvision.utils import save_image\n",
    "from torch.autograd import Variable\n",
    "\n",
    "import PIL\n",
    "from PIL import Image\n",
    "import matplotlib.pyplot as plt\n",
    "\n",
    "import cv2\n",
    "import numpy as np\n",
    "import pandas as pd\n",
    "\n",
    "import copy\n",
    "\n",
    "from sklearn.cluster import KMeans\n",
    "from sklearn.decomposition import PCA\n",
    "from sklearn.preprocessing import MinMaxScaler"
   ]
  },
  {
   "cell_type": "code",
   "execution_count": 2,
   "metadata": {},
   "outputs": [],
   "source": [
    "np.random.seed(42)"
   ]
  },
  {
   "cell_type": "code",
   "execution_count": 3,
   "metadata": {
    "executionInfo": {
     "elapsed": 4,
     "status": "ok",
     "timestamp": 1622534496368,
     "user": {
      "displayName": "‍김무성(대학원생-비즈니스IT전공)",
      "photoUrl": "",
      "userId": "00417310241714095037"
     },
     "user_tz": -540
    },
    "id": "Lig6Kantnmgc"
   },
   "outputs": [],
   "source": [
    "os.environ['CUDA_VISIBLE_DEVICES'] = '0'"
   ]
  },
  {
   "cell_type": "code",
   "execution_count": 4,
   "metadata": {},
   "outputs": [
    {
     "data": {
      "text/plain": [
       "device(type='cuda')"
      ]
     },
     "execution_count": 4,
     "metadata": {},
     "output_type": "execute_result"
    }
   ],
   "source": [
    "# GPU 장치 사용 설정\n",
    "device = torch.device(\"cuda\" if torch.cuda.is_available() else \"cpu\")\n",
    "device"
   ]
  },
  {
   "cell_type": "markdown",
   "metadata": {},
   "source": [
    "# Data Load"
   ]
  },
  {
   "cell_type": "code",
   "execution_count": 5,
   "metadata": {},
   "outputs": [
    {
     "data": {
      "text/plain": [
       "114"
      ]
     },
     "execution_count": 5,
     "metadata": {},
     "output_type": "execute_result"
    }
   ],
   "source": [
    "# Style Image Path\n",
    "style_img_path = './style_img/'\n",
    "style_img_list = os.listdir(style_img_path)\n",
    "len(style_img_list)"
   ]
  },
  {
   "cell_type": "code",
   "execution_count": 6,
   "metadata": {},
   "outputs": [
    {
     "data": {
      "text/plain": [
       "['b01.jpg',\n",
       " 'b02.jpg',\n",
       " 'b03.jpg',\n",
       " 'b04.jpg',\n",
       " 'b05.jpg',\n",
       " 'b06.jpg',\n",
       " 'b07.jpg',\n",
       " 'b08.jpg',\n",
       " 'b09.jpg',\n",
       " 'b10.jpg',\n",
       " 'b100.jpg',\n",
       " 'b101.jpg',\n",
       " 'b102.jpg',\n",
       " 'b103.jpg',\n",
       " 'b104.jpg',\n",
       " 'b105.jpg',\n",
       " 'b106.jpg',\n",
       " 'b107.jpg',\n",
       " 'b108.jpg',\n",
       " 'b109.jpg',\n",
       " 'b11.jpg',\n",
       " 'b110.jpg',\n",
       " 'b111.jpg',\n",
       " 'b112.jpg',\n",
       " 'b113.jpg',\n",
       " 'b114.jpg',\n",
       " 'b12.jpg',\n",
       " 'b13.jpg',\n",
       " 'b14.jpg',\n",
       " 'b15.jpg',\n",
       " 'b16.jpg',\n",
       " 'b17.jpg',\n",
       " 'b18.jpg',\n",
       " 'b19.jpg',\n",
       " 'b20.jpg',\n",
       " 'b21고누놀이.jpg',\n",
       " 'b22금강사군첩.jpg',\n",
       " 'b23기와이기.jpg',\n",
       " 'b24길쌈.jpg',\n",
       " 'b25나들이.jpg',\n",
       " 'b26나룻배.jpg',\n",
       " 'b27논갈이.jpg',\n",
       " 'b28늦은 밤 피리부는 선인.jpg',\n",
       " 'b29담배썰기.jpg',\n",
       " 'b30대장간.jpg',\n",
       " 'b31벼타작.jpg',\n",
       " 'b32병진년화첩-옥순봉도.jpg',\n",
       " 'b33빨래터.jpg',\n",
       " 'b34소림명월도.jpg',\n",
       " 'b35송호도.jpg',\n",
       " 'b36신선과 사슴.jpg',\n",
       " 'b37신행길.jpg',\n",
       " 'b38연광정연회도.jpg',\n",
       " 'b39자리짜기.jpg',\n",
       " 'b40장터길.jpg',\n",
       " 'b41점심.jpg',\n",
       " 'b42주막.jpg',\n",
       " 'b43처용무.jpg',\n",
       " 'b44편자박기.jpg',\n",
       " 'b45하화청정도.jpg',\n",
       " 'b46행상.jpg',\n",
       " 'b47활쏘기.jpg',\n",
       " 'b48황묘농접도.jpg',\n",
       " 'b49.jpg',\n",
       " 'b50.jpg',\n",
       " 'b51.jpg',\n",
       " 'b52.jpg',\n",
       " 'b53.jpg',\n",
       " 'b54.jpg',\n",
       " 'b55.jpg',\n",
       " 'b56.jpg',\n",
       " 'b57.jpg',\n",
       " 'b58.jpg',\n",
       " 'b59.jpg',\n",
       " 'b60.jpg',\n",
       " 'b61.jpg',\n",
       " 'b62.jpg',\n",
       " 'b63.jpg',\n",
       " 'b64.jpg',\n",
       " 'b65.jpg',\n",
       " 'b66.jpg',\n",
       " 'b67.jpg',\n",
       " 'b68.jpg',\n",
       " 'b69.jpg',\n",
       " 'b70.jpg',\n",
       " 'b71.jpg',\n",
       " 'b72.jpg',\n",
       " 'b73.jpg',\n",
       " 'b74.jpg',\n",
       " 'b75.jpg',\n",
       " 'b76.jpg',\n",
       " 'b77.jpg',\n",
       " 'b78.jpg',\n",
       " 'b79.jpg',\n",
       " 'b80.jpg',\n",
       " 'b81.jpg',\n",
       " 'b82.jpg',\n",
       " 'b83.jpg',\n",
       " 'b84.jpg',\n",
       " 'b85.jpg',\n",
       " 'b86.jpg',\n",
       " 'b87.jpg',\n",
       " 'b88.jpg',\n",
       " 'b89.jpg',\n",
       " 'b90.jpg',\n",
       " 'b91.jpg',\n",
       " 'b92.jpg',\n",
       " 'b93.jpg',\n",
       " 'b94.jpg',\n",
       " 'b95.jpg',\n",
       " 'b96.jpg',\n",
       " 'b97.jpg',\n",
       " 'b98.jpg',\n",
       " 'b99.jpg']"
      ]
     },
     "execution_count": 6,
     "metadata": {},
     "output_type": "execute_result"
    }
   ],
   "source": [
    "style_img_list"
   ]
  },
  {
   "cell_type": "markdown",
   "metadata": {},
   "source": [
    "# Gram Matrix Extraction"
   ]
  },
  {
   "cell_type": "code",
   "execution_count": 7,
   "metadata": {
    "colab": {
     "base_uri": "https://localhost:8080/",
     "height": 787,
     "referenced_widgets": [
      "805490ad77ed40a5a8d9993b3022683b",
      "d7158fe4f6994ebbbc5c95f8b13ab39e",
      "24ed850881244f9388ea338db8f195f4",
      "6955974ab95a4c2a8e30887866a75e16",
      "1f66648237da4556bb7bb009144577b4",
      "bf6c5be226da47009e297adad8bcdefa",
      "d19c742e24104f76a7392e5a7144ecbc",
      "8171b035af734ff78bca73db5bb395a7"
     ]
    },
    "executionInfo": {
     "elapsed": 10078,
     "status": "ok",
     "timestamp": 1622534589075,
     "user": {
      "displayName": "‍김무성(대학원생-비즈니스IT전공)",
      "photoUrl": "",
      "userId": "00417310241714095037"
     },
     "user_tz": -540
    },
    "id": "MZdB8_owc7l0",
    "outputId": "aad51841-7dec-4623-8333-2726999a3642",
    "scrolled": true
   },
   "outputs": [
    {
     "name": "stdout",
     "output_type": "stream",
     "text": [
      "Sequential(\n",
      "  (0): Conv2d(3, 64, kernel_size=(3, 3), stride=(1, 1), padding=(1, 1))\n",
      "  (1): ReLU(inplace=True)\n",
      "  (2): Conv2d(64, 64, kernel_size=(3, 3), stride=(1, 1), padding=(1, 1))\n",
      "  (3): ReLU(inplace=True)\n",
      "  (4): MaxPool2d(kernel_size=2, stride=2, padding=0, dilation=1, ceil_mode=False)\n",
      "  (5): Conv2d(64, 128, kernel_size=(3, 3), stride=(1, 1), padding=(1, 1))\n",
      "  (6): ReLU(inplace=True)\n",
      "  (7): Conv2d(128, 128, kernel_size=(3, 3), stride=(1, 1), padding=(1, 1))\n",
      "  (8): ReLU(inplace=True)\n",
      "  (9): MaxPool2d(kernel_size=2, stride=2, padding=0, dilation=1, ceil_mode=False)\n",
      "  (10): Conv2d(128, 256, kernel_size=(3, 3), stride=(1, 1), padding=(1, 1))\n",
      "  (11): ReLU(inplace=True)\n",
      "  (12): Conv2d(256, 256, kernel_size=(3, 3), stride=(1, 1), padding=(1, 1))\n",
      "  (13): ReLU(inplace=True)\n",
      "  (14): Conv2d(256, 256, kernel_size=(3, 3), stride=(1, 1), padding=(1, 1))\n",
      "  (15): ReLU(inplace=True)\n",
      "  (16): Conv2d(256, 256, kernel_size=(3, 3), stride=(1, 1), padding=(1, 1))\n",
      "  (17): ReLU(inplace=True)\n",
      "  (18): MaxPool2d(kernel_size=2, stride=2, padding=0, dilation=1, ceil_mode=False)\n",
      "  (19): Conv2d(256, 512, kernel_size=(3, 3), stride=(1, 1), padding=(1, 1))\n",
      "  (20): ReLU(inplace=True)\n",
      "  (21): Conv2d(512, 512, kernel_size=(3, 3), stride=(1, 1), padding=(1, 1))\n",
      "  (22): ReLU(inplace=True)\n",
      "  (23): Conv2d(512, 512, kernel_size=(3, 3), stride=(1, 1), padding=(1, 1))\n",
      "  (24): ReLU(inplace=True)\n",
      "  (25): Conv2d(512, 512, kernel_size=(3, 3), stride=(1, 1), padding=(1, 1))\n",
      "  (26): ReLU(inplace=True)\n",
      "  (27): MaxPool2d(kernel_size=2, stride=2, padding=0, dilation=1, ceil_mode=False)\n",
      "  (28): Conv2d(512, 512, kernel_size=(3, 3), stride=(1, 1), padding=(1, 1))\n",
      "  (29): ReLU(inplace=True)\n",
      "  (30): Conv2d(512, 512, kernel_size=(3, 3), stride=(1, 1), padding=(1, 1))\n",
      "  (31): ReLU(inplace=True)\n",
      "  (32): Conv2d(512, 512, kernel_size=(3, 3), stride=(1, 1), padding=(1, 1))\n",
      "  (33): ReLU(inplace=True)\n",
      "  (34): Conv2d(512, 512, kernel_size=(3, 3), stride=(1, 1), padding=(1, 1))\n",
      "  (35): ReLU(inplace=True)\n",
      "  (36): MaxPool2d(kernel_size=2, stride=2, padding=0, dilation=1, ceil_mode=False)\n",
      ")\n"
     ]
    }
   ],
   "source": [
    "# 뉴럴 네트워크 모델을 불러옵니다.\n",
    "cnn = models.vgg19(pretrained=True).features.to(device).eval()\n",
    "print(cnn)"
   ]
  },
  {
   "cell_type": "code",
   "execution_count": 8,
   "metadata": {
    "executionInfo": {
     "elapsed": 4,
     "status": "ok",
     "timestamp": 1622534496368,
     "user": {
      "displayName": "‍김무성(대학원생-비즈니스IT전공)",
      "photoUrl": "",
      "userId": "00417310241714095037"
     },
     "user_tz": -540
    },
    "id": "I5_fG2ndnCLK"
   },
   "outputs": [],
   "source": [
    "# 이미지를 불러와 다운받아 텐서(Tensor) 객체로 변환하는 함수\n",
    "def image_loader(img_path, imsize):\n",
    "    loader = transforms.Compose([\n",
    "        transforms.Resize(imsize), # 이미지의 크기를 변경\n",
    "        transforms.ToTensor() # torch.Tensor 형식으로 변경 [0, 255] → [0, 1]\n",
    "    ])\n",
    "    image = PIL.Image.open(img_path)\n",
    "    # 네트워크 입력에 들어갈 이미지에 배치 목적의 차원(dimension) 추가\n",
    "    image = loader(image).unsqueeze(0)\n",
    "    return image.to(device, torch.float) # GPU로 올리기\n",
    "\n",
    "\n",
    "# torch.Tensor 형태의 이미지를 화면에 출력하는 함수\n",
    "def imshow(tensor):\n",
    "    # matplotlib는 CPU 기반이므로 CPU로 옮기기\n",
    "    image = tensor.cpu().clone()\n",
    "    # torch.Tensor에서 사용되는 배치 목적의 차원(dimension) 제거\n",
    "    image = image.squeeze(0)\n",
    "    # PIL 객체로 변경 \n",
    "    image = transforms.ToPILImage()(image)\n",
    "    # 이미지를 화면에 출력(matplotlib는 [0, 1] 사이의 값이라고 해도 정상적으로 처리)\n",
    "    plt.imshow(image)\n",
    "    plt.show()"
   ]
  },
  {
   "cell_type": "code",
   "execution_count": 9,
   "metadata": {
    "executionInfo": {
     "elapsed": 5,
     "status": "ok",
     "timestamp": 1622534589075,
     "user": {
      "displayName": "‍김무성(대학원생-비즈니스IT전공)",
      "photoUrl": "",
      "userId": "00417310241714095037"
     },
     "user_tz": -540
    },
    "id": "0TXkVsobc9J6"
   },
   "outputs": [],
   "source": [
    "# 입력 정규화(Normalization)를 위한 초기화\n",
    "cnn_normalization_mean = torch.tensor([0.485, 0.456, 0.406]).to(device)\n",
    "cnn_normalization_std = torch.tensor([0.229, 0.224, 0.225]).to(device)\n",
    "\n",
    "class Normalization(nn.Module):\n",
    "    def __init__(self, mean, std):\n",
    "        super(Normalization, self).__init__()\n",
    "        self.mean = mean.clone().view(-1, 1, 1)\n",
    "        self.std = std.clone().view(-1, 1, 1)\n",
    "\n",
    "    def forward(self, img):\n",
    "        return (img - self.mean) / self.std"
   ]
  },
  {
   "cell_type": "code",
   "execution_count": 10,
   "metadata": {},
   "outputs": [],
   "source": [
    "def gram_matrix(input):\n",
    "    # a는 배치 크기, b는 특징 맵의 개수, (c, d)는 특징 맵의 차원을 의미\n",
    "    a, b, c, d = input.size()\n",
    "    # 논문에서는 i = 특징 맵의 개수, j = 각 위치(position)\n",
    "    features = input.view(a * b, c * d)\n",
    "    # 행렬 곱으로 한 번에 Gram 내적 계산 가능\n",
    "    G = torch.mm(features, features.t())\n",
    "    # Normalize 목적으로 값 나누기\n",
    "    return G.div(a * b * c * d)"
   ]
  },
  {
   "cell_type": "code",
   "execution_count": 11,
   "metadata": {},
   "outputs": [
    {
     "name": "stdout",
     "output_type": "stream",
     "text": [
      "Sequential(\n",
      "  (0): Normalization()\n",
      "  (conv_1): Conv2d(3, 64, kernel_size=(3, 3), stride=(1, 1), padding=(1, 1))\n",
      ")\n",
      "============================================================\n",
      "Sequential(\n",
      "  (0): Normalization()\n",
      "  (conv_1): Conv2d(3, 64, kernel_size=(3, 3), stride=(1, 1), padding=(1, 1))\n",
      "  (relu_1): ReLU()\n",
      ")\n",
      "============================================================\n",
      "Sequential(\n",
      "  (0): Normalization()\n",
      "  (conv_1): Conv2d(3, 64, kernel_size=(3, 3), stride=(1, 1), padding=(1, 1))\n",
      "  (relu_1): ReLU()\n",
      "  (conv_2): Conv2d(64, 64, kernel_size=(3, 3), stride=(1, 1), padding=(1, 1))\n",
      ")\n",
      "============================================================\n",
      "Sequential(\n",
      "  (0): Normalization()\n",
      "  (conv_1): Conv2d(3, 64, kernel_size=(3, 3), stride=(1, 1), padding=(1, 1))\n",
      "  (relu_1): ReLU()\n",
      "  (conv_2): Conv2d(64, 64, kernel_size=(3, 3), stride=(1, 1), padding=(1, 1))\n",
      "  (relu_2): ReLU()\n",
      ")\n",
      "============================================================\n",
      "Sequential(\n",
      "  (0): Normalization()\n",
      "  (conv_1): Conv2d(3, 64, kernel_size=(3, 3), stride=(1, 1), padding=(1, 1))\n",
      "  (relu_1): ReLU()\n",
      "  (conv_2): Conv2d(64, 64, kernel_size=(3, 3), stride=(1, 1), padding=(1, 1))\n",
      "  (relu_2): ReLU()\n",
      "  (pool_2): MaxPool2d(kernel_size=2, stride=2, padding=0, dilation=1, ceil_mode=False)\n",
      ")\n",
      "============================================================\n",
      "Sequential(\n",
      "  (0): Normalization()\n",
      "  (conv_1): Conv2d(3, 64, kernel_size=(3, 3), stride=(1, 1), padding=(1, 1))\n",
      "  (relu_1): ReLU()\n",
      "  (conv_2): Conv2d(64, 64, kernel_size=(3, 3), stride=(1, 1), padding=(1, 1))\n",
      "  (relu_2): ReLU()\n",
      "  (pool_2): MaxPool2d(kernel_size=2, stride=2, padding=0, dilation=1, ceil_mode=False)\n",
      "  (conv_3): Conv2d(64, 128, kernel_size=(3, 3), stride=(1, 1), padding=(1, 1))\n",
      ")\n",
      "============================================================\n",
      "Sequential(\n",
      "  (0): Normalization()\n",
      "  (conv_1): Conv2d(3, 64, kernel_size=(3, 3), stride=(1, 1), padding=(1, 1))\n",
      "  (relu_1): ReLU()\n",
      "  (conv_2): Conv2d(64, 64, kernel_size=(3, 3), stride=(1, 1), padding=(1, 1))\n",
      "  (relu_2): ReLU()\n",
      "  (pool_2): MaxPool2d(kernel_size=2, stride=2, padding=0, dilation=1, ceil_mode=False)\n",
      "  (conv_3): Conv2d(64, 128, kernel_size=(3, 3), stride=(1, 1), padding=(1, 1))\n",
      "  (relu_3): ReLU()\n",
      ")\n",
      "============================================================\n",
      "Sequential(\n",
      "  (0): Normalization()\n",
      "  (conv_1): Conv2d(3, 64, kernel_size=(3, 3), stride=(1, 1), padding=(1, 1))\n",
      "  (relu_1): ReLU()\n",
      "  (conv_2): Conv2d(64, 64, kernel_size=(3, 3), stride=(1, 1), padding=(1, 1))\n",
      "  (relu_2): ReLU()\n",
      "  (pool_2): MaxPool2d(kernel_size=2, stride=2, padding=0, dilation=1, ceil_mode=False)\n",
      "  (conv_3): Conv2d(64, 128, kernel_size=(3, 3), stride=(1, 1), padding=(1, 1))\n",
      "  (relu_3): ReLU()\n",
      "  (conv_4): Conv2d(128, 128, kernel_size=(3, 3), stride=(1, 1), padding=(1, 1))\n",
      ")\n",
      "============================================================\n",
      "Sequential(\n",
      "  (0): Normalization()\n",
      "  (conv_1): Conv2d(3, 64, kernel_size=(3, 3), stride=(1, 1), padding=(1, 1))\n",
      "  (relu_1): ReLU()\n",
      "  (conv_2): Conv2d(64, 64, kernel_size=(3, 3), stride=(1, 1), padding=(1, 1))\n",
      "  (relu_2): ReLU()\n",
      "  (pool_2): MaxPool2d(kernel_size=2, stride=2, padding=0, dilation=1, ceil_mode=False)\n",
      "  (conv_3): Conv2d(64, 128, kernel_size=(3, 3), stride=(1, 1), padding=(1, 1))\n",
      "  (relu_3): ReLU()\n",
      "  (conv_4): Conv2d(128, 128, kernel_size=(3, 3), stride=(1, 1), padding=(1, 1))\n",
      "  (relu_4): ReLU()\n",
      ")\n",
      "============================================================\n",
      "Sequential(\n",
      "  (0): Normalization()\n",
      "  (conv_1): Conv2d(3, 64, kernel_size=(3, 3), stride=(1, 1), padding=(1, 1))\n",
      "  (relu_1): ReLU()\n",
      "  (conv_2): Conv2d(64, 64, kernel_size=(3, 3), stride=(1, 1), padding=(1, 1))\n",
      "  (relu_2): ReLU()\n",
      "  (pool_2): MaxPool2d(kernel_size=2, stride=2, padding=0, dilation=1, ceil_mode=False)\n",
      "  (conv_3): Conv2d(64, 128, kernel_size=(3, 3), stride=(1, 1), padding=(1, 1))\n",
      "  (relu_3): ReLU()\n",
      "  (conv_4): Conv2d(128, 128, kernel_size=(3, 3), stride=(1, 1), padding=(1, 1))\n",
      "  (relu_4): ReLU()\n",
      "  (pool_4): MaxPool2d(kernel_size=2, stride=2, padding=0, dilation=1, ceil_mode=False)\n",
      ")\n",
      "============================================================\n",
      "Sequential(\n",
      "  (0): Normalization()\n",
      "  (conv_1): Conv2d(3, 64, kernel_size=(3, 3), stride=(1, 1), padding=(1, 1))\n",
      "  (relu_1): ReLU()\n",
      "  (conv_2): Conv2d(64, 64, kernel_size=(3, 3), stride=(1, 1), padding=(1, 1))\n",
      "  (relu_2): ReLU()\n",
      "  (pool_2): MaxPool2d(kernel_size=2, stride=2, padding=0, dilation=1, ceil_mode=False)\n",
      "  (conv_3): Conv2d(64, 128, kernel_size=(3, 3), stride=(1, 1), padding=(1, 1))\n",
      "  (relu_3): ReLU()\n",
      "  (conv_4): Conv2d(128, 128, kernel_size=(3, 3), stride=(1, 1), padding=(1, 1))\n",
      "  (relu_4): ReLU()\n",
      "  (pool_4): MaxPool2d(kernel_size=2, stride=2, padding=0, dilation=1, ceil_mode=False)\n",
      "  (conv_5): Conv2d(128, 256, kernel_size=(3, 3), stride=(1, 1), padding=(1, 1))\n",
      ")\n",
      "============================================================\n",
      "Sequential(\n",
      "  (0): Normalization()\n",
      "  (conv_1): Conv2d(3, 64, kernel_size=(3, 3), stride=(1, 1), padding=(1, 1))\n",
      "  (relu_1): ReLU()\n",
      "  (conv_2): Conv2d(64, 64, kernel_size=(3, 3), stride=(1, 1), padding=(1, 1))\n",
      "  (relu_2): ReLU()\n",
      "  (pool_2): MaxPool2d(kernel_size=2, stride=2, padding=0, dilation=1, ceil_mode=False)\n",
      "  (conv_3): Conv2d(64, 128, kernel_size=(3, 3), stride=(1, 1), padding=(1, 1))\n",
      "  (relu_3): ReLU()\n",
      "  (conv_4): Conv2d(128, 128, kernel_size=(3, 3), stride=(1, 1), padding=(1, 1))\n",
      "  (relu_4): ReLU()\n",
      "  (pool_4): MaxPool2d(kernel_size=2, stride=2, padding=0, dilation=1, ceil_mode=False)\n",
      "  (conv_5): Conv2d(128, 256, kernel_size=(3, 3), stride=(1, 1), padding=(1, 1))\n",
      "  (relu_5): ReLU()\n",
      ")\n",
      "============================================================\n",
      "Sequential(\n",
      "  (0): Normalization()\n",
      "  (conv_1): Conv2d(3, 64, kernel_size=(3, 3), stride=(1, 1), padding=(1, 1))\n",
      "  (relu_1): ReLU()\n",
      "  (conv_2): Conv2d(64, 64, kernel_size=(3, 3), stride=(1, 1), padding=(1, 1))\n",
      "  (relu_2): ReLU()\n",
      "  (pool_2): MaxPool2d(kernel_size=2, stride=2, padding=0, dilation=1, ceil_mode=False)\n",
      "  (conv_3): Conv2d(64, 128, kernel_size=(3, 3), stride=(1, 1), padding=(1, 1))\n",
      "  (relu_3): ReLU()\n",
      "  (conv_4): Conv2d(128, 128, kernel_size=(3, 3), stride=(1, 1), padding=(1, 1))\n",
      "  (relu_4): ReLU()\n",
      "  (pool_4): MaxPool2d(kernel_size=2, stride=2, padding=0, dilation=1, ceil_mode=False)\n",
      "  (conv_5): Conv2d(128, 256, kernel_size=(3, 3), stride=(1, 1), padding=(1, 1))\n",
      "  (relu_5): ReLU()\n",
      "  (conv_6): Conv2d(256, 256, kernel_size=(3, 3), stride=(1, 1), padding=(1, 1))\n",
      ")\n",
      "============================================================\n",
      "Sequential(\n",
      "  (0): Normalization()\n",
      "  (conv_1): Conv2d(3, 64, kernel_size=(3, 3), stride=(1, 1), padding=(1, 1))\n",
      "  (relu_1): ReLU()\n",
      "  (conv_2): Conv2d(64, 64, kernel_size=(3, 3), stride=(1, 1), padding=(1, 1))\n",
      "  (relu_2): ReLU()\n",
      "  (pool_2): MaxPool2d(kernel_size=2, stride=2, padding=0, dilation=1, ceil_mode=False)\n",
      "  (conv_3): Conv2d(64, 128, kernel_size=(3, 3), stride=(1, 1), padding=(1, 1))\n",
      "  (relu_3): ReLU()\n",
      "  (conv_4): Conv2d(128, 128, kernel_size=(3, 3), stride=(1, 1), padding=(1, 1))\n",
      "  (relu_4): ReLU()\n",
      "  (pool_4): MaxPool2d(kernel_size=2, stride=2, padding=0, dilation=1, ceil_mode=False)\n",
      "  (conv_5): Conv2d(128, 256, kernel_size=(3, 3), stride=(1, 1), padding=(1, 1))\n",
      "  (relu_5): ReLU()\n",
      "  (conv_6): Conv2d(256, 256, kernel_size=(3, 3), stride=(1, 1), padding=(1, 1))\n",
      "  (relu_6): ReLU()\n",
      ")\n",
      "============================================================\n",
      "Sequential(\n",
      "  (0): Normalization()\n",
      "  (conv_1): Conv2d(3, 64, kernel_size=(3, 3), stride=(1, 1), padding=(1, 1))\n",
      "  (relu_1): ReLU()\n",
      "  (conv_2): Conv2d(64, 64, kernel_size=(3, 3), stride=(1, 1), padding=(1, 1))\n",
      "  (relu_2): ReLU()\n",
      "  (pool_2): MaxPool2d(kernel_size=2, stride=2, padding=0, dilation=1, ceil_mode=False)\n",
      "  (conv_3): Conv2d(64, 128, kernel_size=(3, 3), stride=(1, 1), padding=(1, 1))\n",
      "  (relu_3): ReLU()\n",
      "  (conv_4): Conv2d(128, 128, kernel_size=(3, 3), stride=(1, 1), padding=(1, 1))\n",
      "  (relu_4): ReLU()\n",
      "  (pool_4): MaxPool2d(kernel_size=2, stride=2, padding=0, dilation=1, ceil_mode=False)\n",
      "  (conv_5): Conv2d(128, 256, kernel_size=(3, 3), stride=(1, 1), padding=(1, 1))\n",
      "  (relu_5): ReLU()\n",
      "  (conv_6): Conv2d(256, 256, kernel_size=(3, 3), stride=(1, 1), padding=(1, 1))\n",
      "  (relu_6): ReLU()\n",
      "  (conv_7): Conv2d(256, 256, kernel_size=(3, 3), stride=(1, 1), padding=(1, 1))\n",
      ")\n",
      "============================================================\n",
      "Sequential(\n",
      "  (0): Normalization()\n",
      "  (conv_1): Conv2d(3, 64, kernel_size=(3, 3), stride=(1, 1), padding=(1, 1))\n",
      "  (relu_1): ReLU()\n",
      "  (conv_2): Conv2d(64, 64, kernel_size=(3, 3), stride=(1, 1), padding=(1, 1))\n",
      "  (relu_2): ReLU()\n",
      "  (pool_2): MaxPool2d(kernel_size=2, stride=2, padding=0, dilation=1, ceil_mode=False)\n",
      "  (conv_3): Conv2d(64, 128, kernel_size=(3, 3), stride=(1, 1), padding=(1, 1))\n",
      "  (relu_3): ReLU()\n",
      "  (conv_4): Conv2d(128, 128, kernel_size=(3, 3), stride=(1, 1), padding=(1, 1))\n",
      "  (relu_4): ReLU()\n",
      "  (pool_4): MaxPool2d(kernel_size=2, stride=2, padding=0, dilation=1, ceil_mode=False)\n",
      "  (conv_5): Conv2d(128, 256, kernel_size=(3, 3), stride=(1, 1), padding=(1, 1))\n",
      "  (relu_5): ReLU()\n",
      "  (conv_6): Conv2d(256, 256, kernel_size=(3, 3), stride=(1, 1), padding=(1, 1))\n",
      "  (relu_6): ReLU()\n",
      "  (conv_7): Conv2d(256, 256, kernel_size=(3, 3), stride=(1, 1), padding=(1, 1))\n",
      "  (relu_7): ReLU()\n",
      ")\n",
      "============================================================\n",
      "Sequential(\n",
      "  (0): Normalization()\n",
      "  (conv_1): Conv2d(3, 64, kernel_size=(3, 3), stride=(1, 1), padding=(1, 1))\n",
      "  (relu_1): ReLU()\n",
      "  (conv_2): Conv2d(64, 64, kernel_size=(3, 3), stride=(1, 1), padding=(1, 1))\n",
      "  (relu_2): ReLU()\n",
      "  (pool_2): MaxPool2d(kernel_size=2, stride=2, padding=0, dilation=1, ceil_mode=False)\n",
      "  (conv_3): Conv2d(64, 128, kernel_size=(3, 3), stride=(1, 1), padding=(1, 1))\n",
      "  (relu_3): ReLU()\n",
      "  (conv_4): Conv2d(128, 128, kernel_size=(3, 3), stride=(1, 1), padding=(1, 1))\n",
      "  (relu_4): ReLU()\n",
      "  (pool_4): MaxPool2d(kernel_size=2, stride=2, padding=0, dilation=1, ceil_mode=False)\n",
      "  (conv_5): Conv2d(128, 256, kernel_size=(3, 3), stride=(1, 1), padding=(1, 1))\n",
      "  (relu_5): ReLU()\n",
      "  (conv_6): Conv2d(256, 256, kernel_size=(3, 3), stride=(1, 1), padding=(1, 1))\n",
      "  (relu_6): ReLU()\n",
      "  (conv_7): Conv2d(256, 256, kernel_size=(3, 3), stride=(1, 1), padding=(1, 1))\n",
      "  (relu_7): ReLU()\n",
      "  (conv_8): Conv2d(256, 256, kernel_size=(3, 3), stride=(1, 1), padding=(1, 1))\n",
      ")\n",
      "============================================================\n",
      "Sequential(\n",
      "  (0): Normalization()\n",
      "  (conv_1): Conv2d(3, 64, kernel_size=(3, 3), stride=(1, 1), padding=(1, 1))\n",
      "  (relu_1): ReLU()\n",
      "  (conv_2): Conv2d(64, 64, kernel_size=(3, 3), stride=(1, 1), padding=(1, 1))\n",
      "  (relu_2): ReLU()\n",
      "  (pool_2): MaxPool2d(kernel_size=2, stride=2, padding=0, dilation=1, ceil_mode=False)\n",
      "  (conv_3): Conv2d(64, 128, kernel_size=(3, 3), stride=(1, 1), padding=(1, 1))\n",
      "  (relu_3): ReLU()\n",
      "  (conv_4): Conv2d(128, 128, kernel_size=(3, 3), stride=(1, 1), padding=(1, 1))\n",
      "  (relu_4): ReLU()\n",
      "  (pool_4): MaxPool2d(kernel_size=2, stride=2, padding=0, dilation=1, ceil_mode=False)\n",
      "  (conv_5): Conv2d(128, 256, kernel_size=(3, 3), stride=(1, 1), padding=(1, 1))\n",
      "  (relu_5): ReLU()\n",
      "  (conv_6): Conv2d(256, 256, kernel_size=(3, 3), stride=(1, 1), padding=(1, 1))\n",
      "  (relu_6): ReLU()\n",
      "  (conv_7): Conv2d(256, 256, kernel_size=(3, 3), stride=(1, 1), padding=(1, 1))\n",
      "  (relu_7): ReLU()\n",
      "  (conv_8): Conv2d(256, 256, kernel_size=(3, 3), stride=(1, 1), padding=(1, 1))\n",
      "  (relu_8): ReLU()\n",
      ")\n",
      "============================================================\n",
      "Sequential(\n",
      "  (0): Normalization()\n",
      "  (conv_1): Conv2d(3, 64, kernel_size=(3, 3), stride=(1, 1), padding=(1, 1))\n",
      "  (relu_1): ReLU()\n",
      "  (conv_2): Conv2d(64, 64, kernel_size=(3, 3), stride=(1, 1), padding=(1, 1))\n",
      "  (relu_2): ReLU()\n",
      "  (pool_2): MaxPool2d(kernel_size=2, stride=2, padding=0, dilation=1, ceil_mode=False)\n",
      "  (conv_3): Conv2d(64, 128, kernel_size=(3, 3), stride=(1, 1), padding=(1, 1))\n",
      "  (relu_3): ReLU()\n",
      "  (conv_4): Conv2d(128, 128, kernel_size=(3, 3), stride=(1, 1), padding=(1, 1))\n",
      "  (relu_4): ReLU()\n",
      "  (pool_4): MaxPool2d(kernel_size=2, stride=2, padding=0, dilation=1, ceil_mode=False)\n",
      "  (conv_5): Conv2d(128, 256, kernel_size=(3, 3), stride=(1, 1), padding=(1, 1))\n",
      "  (relu_5): ReLU()\n",
      "  (conv_6): Conv2d(256, 256, kernel_size=(3, 3), stride=(1, 1), padding=(1, 1))\n",
      "  (relu_6): ReLU()\n",
      "  (conv_7): Conv2d(256, 256, kernel_size=(3, 3), stride=(1, 1), padding=(1, 1))\n",
      "  (relu_7): ReLU()\n",
      "  (conv_8): Conv2d(256, 256, kernel_size=(3, 3), stride=(1, 1), padding=(1, 1))\n",
      "  (relu_8): ReLU()\n",
      "  (pool_8): MaxPool2d(kernel_size=2, stride=2, padding=0, dilation=1, ceil_mode=False)\n",
      ")\n",
      "============================================================\n",
      "Sequential(\n",
      "  (0): Normalization()\n",
      "  (conv_1): Conv2d(3, 64, kernel_size=(3, 3), stride=(1, 1), padding=(1, 1))\n",
      "  (relu_1): ReLU()\n",
      "  (conv_2): Conv2d(64, 64, kernel_size=(3, 3), stride=(1, 1), padding=(1, 1))\n",
      "  (relu_2): ReLU()\n",
      "  (pool_2): MaxPool2d(kernel_size=2, stride=2, padding=0, dilation=1, ceil_mode=False)\n",
      "  (conv_3): Conv2d(64, 128, kernel_size=(3, 3), stride=(1, 1), padding=(1, 1))\n",
      "  (relu_3): ReLU()\n",
      "  (conv_4): Conv2d(128, 128, kernel_size=(3, 3), stride=(1, 1), padding=(1, 1))\n",
      "  (relu_4): ReLU()\n",
      "  (pool_4): MaxPool2d(kernel_size=2, stride=2, padding=0, dilation=1, ceil_mode=False)\n",
      "  (conv_5): Conv2d(128, 256, kernel_size=(3, 3), stride=(1, 1), padding=(1, 1))\n",
      "  (relu_5): ReLU()\n",
      "  (conv_6): Conv2d(256, 256, kernel_size=(3, 3), stride=(1, 1), padding=(1, 1))\n",
      "  (relu_6): ReLU()\n",
      "  (conv_7): Conv2d(256, 256, kernel_size=(3, 3), stride=(1, 1), padding=(1, 1))\n",
      "  (relu_7): ReLU()\n",
      "  (conv_8): Conv2d(256, 256, kernel_size=(3, 3), stride=(1, 1), padding=(1, 1))\n",
      "  (relu_8): ReLU()\n",
      "  (pool_8): MaxPool2d(kernel_size=2, stride=2, padding=0, dilation=1, ceil_mode=False)\n",
      "  (conv_9): Conv2d(256, 512, kernel_size=(3, 3), stride=(1, 1), padding=(1, 1))\n",
      ")\n",
      "============================================================\n",
      "Sequential(\n",
      "  (0): Normalization()\n",
      "  (conv_1): Conv2d(3, 64, kernel_size=(3, 3), stride=(1, 1), padding=(1, 1))\n",
      "  (relu_1): ReLU()\n",
      "  (conv_2): Conv2d(64, 64, kernel_size=(3, 3), stride=(1, 1), padding=(1, 1))\n",
      "  (relu_2): ReLU()\n",
      "  (pool_2): MaxPool2d(kernel_size=2, stride=2, padding=0, dilation=1, ceil_mode=False)\n",
      "  (conv_3): Conv2d(64, 128, kernel_size=(3, 3), stride=(1, 1), padding=(1, 1))\n",
      "  (relu_3): ReLU()\n",
      "  (conv_4): Conv2d(128, 128, kernel_size=(3, 3), stride=(1, 1), padding=(1, 1))\n",
      "  (relu_4): ReLU()\n",
      "  (pool_4): MaxPool2d(kernel_size=2, stride=2, padding=0, dilation=1, ceil_mode=False)\n",
      "  (conv_5): Conv2d(128, 256, kernel_size=(3, 3), stride=(1, 1), padding=(1, 1))\n",
      "  (relu_5): ReLU()\n",
      "  (conv_6): Conv2d(256, 256, kernel_size=(3, 3), stride=(1, 1), padding=(1, 1))\n",
      "  (relu_6): ReLU()\n",
      "  (conv_7): Conv2d(256, 256, kernel_size=(3, 3), stride=(1, 1), padding=(1, 1))\n",
      "  (relu_7): ReLU()\n",
      "  (conv_8): Conv2d(256, 256, kernel_size=(3, 3), stride=(1, 1), padding=(1, 1))\n",
      "  (relu_8): ReLU()\n",
      "  (pool_8): MaxPool2d(kernel_size=2, stride=2, padding=0, dilation=1, ceil_mode=False)\n",
      "  (conv_9): Conv2d(256, 512, kernel_size=(3, 3), stride=(1, 1), padding=(1, 1))\n",
      "  (relu_9): ReLU()\n",
      ")\n",
      "============================================================\n",
      "Sequential(\n",
      "  (0): Normalization()\n",
      "  (conv_1): Conv2d(3, 64, kernel_size=(3, 3), stride=(1, 1), padding=(1, 1))\n",
      "  (relu_1): ReLU()\n",
      "  (conv_2): Conv2d(64, 64, kernel_size=(3, 3), stride=(1, 1), padding=(1, 1))\n",
      "  (relu_2): ReLU()\n",
      "  (pool_2): MaxPool2d(kernel_size=2, stride=2, padding=0, dilation=1, ceil_mode=False)\n",
      "  (conv_3): Conv2d(64, 128, kernel_size=(3, 3), stride=(1, 1), padding=(1, 1))\n",
      "  (relu_3): ReLU()\n",
      "  (conv_4): Conv2d(128, 128, kernel_size=(3, 3), stride=(1, 1), padding=(1, 1))\n",
      "  (relu_4): ReLU()\n",
      "  (pool_4): MaxPool2d(kernel_size=2, stride=2, padding=0, dilation=1, ceil_mode=False)\n",
      "  (conv_5): Conv2d(128, 256, kernel_size=(3, 3), stride=(1, 1), padding=(1, 1))\n",
      "  (relu_5): ReLU()\n",
      "  (conv_6): Conv2d(256, 256, kernel_size=(3, 3), stride=(1, 1), padding=(1, 1))\n",
      "  (relu_6): ReLU()\n",
      "  (conv_7): Conv2d(256, 256, kernel_size=(3, 3), stride=(1, 1), padding=(1, 1))\n",
      "  (relu_7): ReLU()\n",
      "  (conv_8): Conv2d(256, 256, kernel_size=(3, 3), stride=(1, 1), padding=(1, 1))\n",
      "  (relu_8): ReLU()\n",
      "  (pool_8): MaxPool2d(kernel_size=2, stride=2, padding=0, dilation=1, ceil_mode=False)\n",
      "  (conv_9): Conv2d(256, 512, kernel_size=(3, 3), stride=(1, 1), padding=(1, 1))\n",
      "  (relu_9): ReLU()\n",
      "  (conv_10): Conv2d(512, 512, kernel_size=(3, 3), stride=(1, 1), padding=(1, 1))\n",
      ")\n",
      "============================================================\n",
      "Sequential(\n",
      "  (0): Normalization()\n",
      "  (conv_1): Conv2d(3, 64, kernel_size=(3, 3), stride=(1, 1), padding=(1, 1))\n",
      "  (relu_1): ReLU()\n",
      "  (conv_2): Conv2d(64, 64, kernel_size=(3, 3), stride=(1, 1), padding=(1, 1))\n",
      "  (relu_2): ReLU()\n",
      "  (pool_2): MaxPool2d(kernel_size=2, stride=2, padding=0, dilation=1, ceil_mode=False)\n",
      "  (conv_3): Conv2d(64, 128, kernel_size=(3, 3), stride=(1, 1), padding=(1, 1))\n",
      "  (relu_3): ReLU()\n",
      "  (conv_4): Conv2d(128, 128, kernel_size=(3, 3), stride=(1, 1), padding=(1, 1))\n",
      "  (relu_4): ReLU()\n",
      "  (pool_4): MaxPool2d(kernel_size=2, stride=2, padding=0, dilation=1, ceil_mode=False)\n",
      "  (conv_5): Conv2d(128, 256, kernel_size=(3, 3), stride=(1, 1), padding=(1, 1))\n",
      "  (relu_5): ReLU()\n",
      "  (conv_6): Conv2d(256, 256, kernel_size=(3, 3), stride=(1, 1), padding=(1, 1))\n",
      "  (relu_6): ReLU()\n",
      "  (conv_7): Conv2d(256, 256, kernel_size=(3, 3), stride=(1, 1), padding=(1, 1))\n",
      "  (relu_7): ReLU()\n",
      "  (conv_8): Conv2d(256, 256, kernel_size=(3, 3), stride=(1, 1), padding=(1, 1))\n",
      "  (relu_8): ReLU()\n",
      "  (pool_8): MaxPool2d(kernel_size=2, stride=2, padding=0, dilation=1, ceil_mode=False)\n",
      "  (conv_9): Conv2d(256, 512, kernel_size=(3, 3), stride=(1, 1), padding=(1, 1))\n",
      "  (relu_9): ReLU()\n",
      "  (conv_10): Conv2d(512, 512, kernel_size=(3, 3), stride=(1, 1), padding=(1, 1))\n",
      "  (relu_10): ReLU()\n",
      ")\n",
      "============================================================\n",
      "Sequential(\n",
      "  (0): Normalization()\n",
      "  (conv_1): Conv2d(3, 64, kernel_size=(3, 3), stride=(1, 1), padding=(1, 1))\n",
      "  (relu_1): ReLU()\n",
      "  (conv_2): Conv2d(64, 64, kernel_size=(3, 3), stride=(1, 1), padding=(1, 1))\n",
      "  (relu_2): ReLU()\n",
      "  (pool_2): MaxPool2d(kernel_size=2, stride=2, padding=0, dilation=1, ceil_mode=False)\n",
      "  (conv_3): Conv2d(64, 128, kernel_size=(3, 3), stride=(1, 1), padding=(1, 1))\n",
      "  (relu_3): ReLU()\n",
      "  (conv_4): Conv2d(128, 128, kernel_size=(3, 3), stride=(1, 1), padding=(1, 1))\n",
      "  (relu_4): ReLU()\n",
      "  (pool_4): MaxPool2d(kernel_size=2, stride=2, padding=0, dilation=1, ceil_mode=False)\n",
      "  (conv_5): Conv2d(128, 256, kernel_size=(3, 3), stride=(1, 1), padding=(1, 1))\n",
      "  (relu_5): ReLU()\n",
      "  (conv_6): Conv2d(256, 256, kernel_size=(3, 3), stride=(1, 1), padding=(1, 1))\n",
      "  (relu_6): ReLU()\n",
      "  (conv_7): Conv2d(256, 256, kernel_size=(3, 3), stride=(1, 1), padding=(1, 1))\n",
      "  (relu_7): ReLU()\n",
      "  (conv_8): Conv2d(256, 256, kernel_size=(3, 3), stride=(1, 1), padding=(1, 1))\n",
      "  (relu_8): ReLU()\n",
      "  (pool_8): MaxPool2d(kernel_size=2, stride=2, padding=0, dilation=1, ceil_mode=False)\n",
      "  (conv_9): Conv2d(256, 512, kernel_size=(3, 3), stride=(1, 1), padding=(1, 1))\n",
      "  (relu_9): ReLU()\n",
      "  (conv_10): Conv2d(512, 512, kernel_size=(3, 3), stride=(1, 1), padding=(1, 1))\n",
      "  (relu_10): ReLU()\n",
      "  (conv_11): Conv2d(512, 512, kernel_size=(3, 3), stride=(1, 1), padding=(1, 1))\n",
      ")\n",
      "============================================================\n",
      "Sequential(\n",
      "  (0): Normalization()\n",
      "  (conv_1): Conv2d(3, 64, kernel_size=(3, 3), stride=(1, 1), padding=(1, 1))\n",
      "  (relu_1): ReLU()\n",
      "  (conv_2): Conv2d(64, 64, kernel_size=(3, 3), stride=(1, 1), padding=(1, 1))\n",
      "  (relu_2): ReLU()\n",
      "  (pool_2): MaxPool2d(kernel_size=2, stride=2, padding=0, dilation=1, ceil_mode=False)\n",
      "  (conv_3): Conv2d(64, 128, kernel_size=(3, 3), stride=(1, 1), padding=(1, 1))\n",
      "  (relu_3): ReLU()\n",
      "  (conv_4): Conv2d(128, 128, kernel_size=(3, 3), stride=(1, 1), padding=(1, 1))\n",
      "  (relu_4): ReLU()\n",
      "  (pool_4): MaxPool2d(kernel_size=2, stride=2, padding=0, dilation=1, ceil_mode=False)\n",
      "  (conv_5): Conv2d(128, 256, kernel_size=(3, 3), stride=(1, 1), padding=(1, 1))\n",
      "  (relu_5): ReLU()\n",
      "  (conv_6): Conv2d(256, 256, kernel_size=(3, 3), stride=(1, 1), padding=(1, 1))\n",
      "  (relu_6): ReLU()\n",
      "  (conv_7): Conv2d(256, 256, kernel_size=(3, 3), stride=(1, 1), padding=(1, 1))\n",
      "  (relu_7): ReLU()\n",
      "  (conv_8): Conv2d(256, 256, kernel_size=(3, 3), stride=(1, 1), padding=(1, 1))\n",
      "  (relu_8): ReLU()\n",
      "  (pool_8): MaxPool2d(kernel_size=2, stride=2, padding=0, dilation=1, ceil_mode=False)\n",
      "  (conv_9): Conv2d(256, 512, kernel_size=(3, 3), stride=(1, 1), padding=(1, 1))\n",
      "  (relu_9): ReLU()\n",
      "  (conv_10): Conv2d(512, 512, kernel_size=(3, 3), stride=(1, 1), padding=(1, 1))\n",
      "  (relu_10): ReLU()\n",
      "  (conv_11): Conv2d(512, 512, kernel_size=(3, 3), stride=(1, 1), padding=(1, 1))\n",
      "  (relu_11): ReLU()\n",
      ")\n",
      "============================================================\n",
      "Sequential(\n",
      "  (0): Normalization()\n",
      "  (conv_1): Conv2d(3, 64, kernel_size=(3, 3), stride=(1, 1), padding=(1, 1))\n",
      "  (relu_1): ReLU()\n",
      "  (conv_2): Conv2d(64, 64, kernel_size=(3, 3), stride=(1, 1), padding=(1, 1))\n",
      "  (relu_2): ReLU()\n",
      "  (pool_2): MaxPool2d(kernel_size=2, stride=2, padding=0, dilation=1, ceil_mode=False)\n",
      "  (conv_3): Conv2d(64, 128, kernel_size=(3, 3), stride=(1, 1), padding=(1, 1))\n",
      "  (relu_3): ReLU()\n",
      "  (conv_4): Conv2d(128, 128, kernel_size=(3, 3), stride=(1, 1), padding=(1, 1))\n",
      "  (relu_4): ReLU()\n",
      "  (pool_4): MaxPool2d(kernel_size=2, stride=2, padding=0, dilation=1, ceil_mode=False)\n",
      "  (conv_5): Conv2d(128, 256, kernel_size=(3, 3), stride=(1, 1), padding=(1, 1))\n",
      "  (relu_5): ReLU()\n",
      "  (conv_6): Conv2d(256, 256, kernel_size=(3, 3), stride=(1, 1), padding=(1, 1))\n",
      "  (relu_6): ReLU()\n",
      "  (conv_7): Conv2d(256, 256, kernel_size=(3, 3), stride=(1, 1), padding=(1, 1))\n",
      "  (relu_7): ReLU()\n",
      "  (conv_8): Conv2d(256, 256, kernel_size=(3, 3), stride=(1, 1), padding=(1, 1))\n",
      "  (relu_8): ReLU()\n",
      "  (pool_8): MaxPool2d(kernel_size=2, stride=2, padding=0, dilation=1, ceil_mode=False)\n",
      "  (conv_9): Conv2d(256, 512, kernel_size=(3, 3), stride=(1, 1), padding=(1, 1))\n",
      "  (relu_9): ReLU()\n",
      "  (conv_10): Conv2d(512, 512, kernel_size=(3, 3), stride=(1, 1), padding=(1, 1))\n",
      "  (relu_10): ReLU()\n",
      "  (conv_11): Conv2d(512, 512, kernel_size=(3, 3), stride=(1, 1), padding=(1, 1))\n",
      "  (relu_11): ReLU()\n",
      "  (conv_12): Conv2d(512, 512, kernel_size=(3, 3), stride=(1, 1), padding=(1, 1))\n",
      ")\n",
      "============================================================\n",
      "Sequential(\n",
      "  (0): Normalization()\n",
      "  (conv_1): Conv2d(3, 64, kernel_size=(3, 3), stride=(1, 1), padding=(1, 1))\n",
      "  (relu_1): ReLU()\n",
      "  (conv_2): Conv2d(64, 64, kernel_size=(3, 3), stride=(1, 1), padding=(1, 1))\n",
      "  (relu_2): ReLU()\n",
      "  (pool_2): MaxPool2d(kernel_size=2, stride=2, padding=0, dilation=1, ceil_mode=False)\n",
      "  (conv_3): Conv2d(64, 128, kernel_size=(3, 3), stride=(1, 1), padding=(1, 1))\n",
      "  (relu_3): ReLU()\n",
      "  (conv_4): Conv2d(128, 128, kernel_size=(3, 3), stride=(1, 1), padding=(1, 1))\n",
      "  (relu_4): ReLU()\n",
      "  (pool_4): MaxPool2d(kernel_size=2, stride=2, padding=0, dilation=1, ceil_mode=False)\n",
      "  (conv_5): Conv2d(128, 256, kernel_size=(3, 3), stride=(1, 1), padding=(1, 1))\n",
      "  (relu_5): ReLU()\n",
      "  (conv_6): Conv2d(256, 256, kernel_size=(3, 3), stride=(1, 1), padding=(1, 1))\n",
      "  (relu_6): ReLU()\n",
      "  (conv_7): Conv2d(256, 256, kernel_size=(3, 3), stride=(1, 1), padding=(1, 1))\n",
      "  (relu_7): ReLU()\n",
      "  (conv_8): Conv2d(256, 256, kernel_size=(3, 3), stride=(1, 1), padding=(1, 1))\n",
      "  (relu_8): ReLU()\n",
      "  (pool_8): MaxPool2d(kernel_size=2, stride=2, padding=0, dilation=1, ceil_mode=False)\n",
      "  (conv_9): Conv2d(256, 512, kernel_size=(3, 3), stride=(1, 1), padding=(1, 1))\n",
      "  (relu_9): ReLU()\n",
      "  (conv_10): Conv2d(512, 512, kernel_size=(3, 3), stride=(1, 1), padding=(1, 1))\n",
      "  (relu_10): ReLU()\n",
      "  (conv_11): Conv2d(512, 512, kernel_size=(3, 3), stride=(1, 1), padding=(1, 1))\n",
      "  (relu_11): ReLU()\n",
      "  (conv_12): Conv2d(512, 512, kernel_size=(3, 3), stride=(1, 1), padding=(1, 1))\n",
      "  (relu_12): ReLU()\n",
      ")\n",
      "============================================================\n",
      "Sequential(\n",
      "  (0): Normalization()\n",
      "  (conv_1): Conv2d(3, 64, kernel_size=(3, 3), stride=(1, 1), padding=(1, 1))\n",
      "  (relu_1): ReLU()\n",
      "  (conv_2): Conv2d(64, 64, kernel_size=(3, 3), stride=(1, 1), padding=(1, 1))\n",
      "  (relu_2): ReLU()\n",
      "  (pool_2): MaxPool2d(kernel_size=2, stride=2, padding=0, dilation=1, ceil_mode=False)\n",
      "  (conv_3): Conv2d(64, 128, kernel_size=(3, 3), stride=(1, 1), padding=(1, 1))\n",
      "  (relu_3): ReLU()\n",
      "  (conv_4): Conv2d(128, 128, kernel_size=(3, 3), stride=(1, 1), padding=(1, 1))\n",
      "  (relu_4): ReLU()\n",
      "  (pool_4): MaxPool2d(kernel_size=2, stride=2, padding=0, dilation=1, ceil_mode=False)\n",
      "  (conv_5): Conv2d(128, 256, kernel_size=(3, 3), stride=(1, 1), padding=(1, 1))\n",
      "  (relu_5): ReLU()\n",
      "  (conv_6): Conv2d(256, 256, kernel_size=(3, 3), stride=(1, 1), padding=(1, 1))\n",
      "  (relu_6): ReLU()\n",
      "  (conv_7): Conv2d(256, 256, kernel_size=(3, 3), stride=(1, 1), padding=(1, 1))\n",
      "  (relu_7): ReLU()\n",
      "  (conv_8): Conv2d(256, 256, kernel_size=(3, 3), stride=(1, 1), padding=(1, 1))\n",
      "  (relu_8): ReLU()\n",
      "  (pool_8): MaxPool2d(kernel_size=2, stride=2, padding=0, dilation=1, ceil_mode=False)\n",
      "  (conv_9): Conv2d(256, 512, kernel_size=(3, 3), stride=(1, 1), padding=(1, 1))\n",
      "  (relu_9): ReLU()\n",
      "  (conv_10): Conv2d(512, 512, kernel_size=(3, 3), stride=(1, 1), padding=(1, 1))\n",
      "  (relu_10): ReLU()\n",
      "  (conv_11): Conv2d(512, 512, kernel_size=(3, 3), stride=(1, 1), padding=(1, 1))\n",
      "  (relu_11): ReLU()\n",
      "  (conv_12): Conv2d(512, 512, kernel_size=(3, 3), stride=(1, 1), padding=(1, 1))\n",
      "  (relu_12): ReLU()\n",
      "  (pool_12): MaxPool2d(kernel_size=2, stride=2, padding=0, dilation=1, ceil_mode=False)\n",
      ")\n",
      "============================================================\n",
      "Sequential(\n",
      "  (0): Normalization()\n",
      "  (conv_1): Conv2d(3, 64, kernel_size=(3, 3), stride=(1, 1), padding=(1, 1))\n",
      "  (relu_1): ReLU()\n",
      "  (conv_2): Conv2d(64, 64, kernel_size=(3, 3), stride=(1, 1), padding=(1, 1))\n",
      "  (relu_2): ReLU()\n",
      "  (pool_2): MaxPool2d(kernel_size=2, stride=2, padding=0, dilation=1, ceil_mode=False)\n",
      "  (conv_3): Conv2d(64, 128, kernel_size=(3, 3), stride=(1, 1), padding=(1, 1))\n",
      "  (relu_3): ReLU()\n",
      "  (conv_4): Conv2d(128, 128, kernel_size=(3, 3), stride=(1, 1), padding=(1, 1))\n",
      "  (relu_4): ReLU()\n",
      "  (pool_4): MaxPool2d(kernel_size=2, stride=2, padding=0, dilation=1, ceil_mode=False)\n",
      "  (conv_5): Conv2d(128, 256, kernel_size=(3, 3), stride=(1, 1), padding=(1, 1))\n",
      "  (relu_5): ReLU()\n",
      "  (conv_6): Conv2d(256, 256, kernel_size=(3, 3), stride=(1, 1), padding=(1, 1))\n",
      "  (relu_6): ReLU()\n",
      "  (conv_7): Conv2d(256, 256, kernel_size=(3, 3), stride=(1, 1), padding=(1, 1))\n",
      "  (relu_7): ReLU()\n",
      "  (conv_8): Conv2d(256, 256, kernel_size=(3, 3), stride=(1, 1), padding=(1, 1))\n",
      "  (relu_8): ReLU()\n",
      "  (pool_8): MaxPool2d(kernel_size=2, stride=2, padding=0, dilation=1, ceil_mode=False)\n",
      "  (conv_9): Conv2d(256, 512, kernel_size=(3, 3), stride=(1, 1), padding=(1, 1))\n",
      "  (relu_9): ReLU()\n",
      "  (conv_10): Conv2d(512, 512, kernel_size=(3, 3), stride=(1, 1), padding=(1, 1))\n",
      "  (relu_10): ReLU()\n",
      "  (conv_11): Conv2d(512, 512, kernel_size=(3, 3), stride=(1, 1), padding=(1, 1))\n",
      "  (relu_11): ReLU()\n",
      "  (conv_12): Conv2d(512, 512, kernel_size=(3, 3), stride=(1, 1), padding=(1, 1))\n",
      "  (relu_12): ReLU()\n",
      "  (pool_12): MaxPool2d(kernel_size=2, stride=2, padding=0, dilation=1, ceil_mode=False)\n",
      "  (conv_13): Conv2d(512, 512, kernel_size=(3, 3), stride=(1, 1), padding=(1, 1))\n",
      ")\n",
      "============================================================\n",
      "Sequential(\n",
      "  (0): Normalization()\n",
      "  (conv_1): Conv2d(3, 64, kernel_size=(3, 3), stride=(1, 1), padding=(1, 1))\n",
      "  (relu_1): ReLU()\n",
      "  (conv_2): Conv2d(64, 64, kernel_size=(3, 3), stride=(1, 1), padding=(1, 1))\n",
      "  (relu_2): ReLU()\n",
      "  (pool_2): MaxPool2d(kernel_size=2, stride=2, padding=0, dilation=1, ceil_mode=False)\n",
      "  (conv_3): Conv2d(64, 128, kernel_size=(3, 3), stride=(1, 1), padding=(1, 1))\n",
      "  (relu_3): ReLU()\n",
      "  (conv_4): Conv2d(128, 128, kernel_size=(3, 3), stride=(1, 1), padding=(1, 1))\n",
      "  (relu_4): ReLU()\n",
      "  (pool_4): MaxPool2d(kernel_size=2, stride=2, padding=0, dilation=1, ceil_mode=False)\n",
      "  (conv_5): Conv2d(128, 256, kernel_size=(3, 3), stride=(1, 1), padding=(1, 1))\n",
      "  (relu_5): ReLU()\n",
      "  (conv_6): Conv2d(256, 256, kernel_size=(3, 3), stride=(1, 1), padding=(1, 1))\n",
      "  (relu_6): ReLU()\n",
      "  (conv_7): Conv2d(256, 256, kernel_size=(3, 3), stride=(1, 1), padding=(1, 1))\n",
      "  (relu_7): ReLU()\n",
      "  (conv_8): Conv2d(256, 256, kernel_size=(3, 3), stride=(1, 1), padding=(1, 1))\n",
      "  (relu_8): ReLU()\n",
      "  (pool_8): MaxPool2d(kernel_size=2, stride=2, padding=0, dilation=1, ceil_mode=False)\n",
      "  (conv_9): Conv2d(256, 512, kernel_size=(3, 3), stride=(1, 1), padding=(1, 1))\n",
      "  (relu_9): ReLU()\n",
      "  (conv_10): Conv2d(512, 512, kernel_size=(3, 3), stride=(1, 1), padding=(1, 1))\n",
      "  (relu_10): ReLU()\n",
      "  (conv_11): Conv2d(512, 512, kernel_size=(3, 3), stride=(1, 1), padding=(1, 1))\n",
      "  (relu_11): ReLU()\n",
      "  (conv_12): Conv2d(512, 512, kernel_size=(3, 3), stride=(1, 1), padding=(1, 1))\n",
      "  (relu_12): ReLU()\n",
      "  (pool_12): MaxPool2d(kernel_size=2, stride=2, padding=0, dilation=1, ceil_mode=False)\n",
      "  (conv_13): Conv2d(512, 512, kernel_size=(3, 3), stride=(1, 1), padding=(1, 1))\n",
      "  (relu_13): ReLU()\n",
      ")\n",
      "============================================================\n",
      "Sequential(\n",
      "  (0): Normalization()\n",
      "  (conv_1): Conv2d(3, 64, kernel_size=(3, 3), stride=(1, 1), padding=(1, 1))\n",
      "  (relu_1): ReLU()\n",
      "  (conv_2): Conv2d(64, 64, kernel_size=(3, 3), stride=(1, 1), padding=(1, 1))\n",
      "  (relu_2): ReLU()\n",
      "  (pool_2): MaxPool2d(kernel_size=2, stride=2, padding=0, dilation=1, ceil_mode=False)\n",
      "  (conv_3): Conv2d(64, 128, kernel_size=(3, 3), stride=(1, 1), padding=(1, 1))\n",
      "  (relu_3): ReLU()\n",
      "  (conv_4): Conv2d(128, 128, kernel_size=(3, 3), stride=(1, 1), padding=(1, 1))\n",
      "  (relu_4): ReLU()\n",
      "  (pool_4): MaxPool2d(kernel_size=2, stride=2, padding=0, dilation=1, ceil_mode=False)\n",
      "  (conv_5): Conv2d(128, 256, kernel_size=(3, 3), stride=(1, 1), padding=(1, 1))\n",
      "  (relu_5): ReLU()\n",
      "  (conv_6): Conv2d(256, 256, kernel_size=(3, 3), stride=(1, 1), padding=(1, 1))\n",
      "  (relu_6): ReLU()\n",
      "  (conv_7): Conv2d(256, 256, kernel_size=(3, 3), stride=(1, 1), padding=(1, 1))\n",
      "  (relu_7): ReLU()\n",
      "  (conv_8): Conv2d(256, 256, kernel_size=(3, 3), stride=(1, 1), padding=(1, 1))\n",
      "  (relu_8): ReLU()\n",
      "  (pool_8): MaxPool2d(kernel_size=2, stride=2, padding=0, dilation=1, ceil_mode=False)\n",
      "  (conv_9): Conv2d(256, 512, kernel_size=(3, 3), stride=(1, 1), padding=(1, 1))\n",
      "  (relu_9): ReLU()\n",
      "  (conv_10): Conv2d(512, 512, kernel_size=(3, 3), stride=(1, 1), padding=(1, 1))\n",
      "  (relu_10): ReLU()\n",
      "  (conv_11): Conv2d(512, 512, kernel_size=(3, 3), stride=(1, 1), padding=(1, 1))\n",
      "  (relu_11): ReLU()\n",
      "  (conv_12): Conv2d(512, 512, kernel_size=(3, 3), stride=(1, 1), padding=(1, 1))\n",
      "  (relu_12): ReLU()\n",
      "  (pool_12): MaxPool2d(kernel_size=2, stride=2, padding=0, dilation=1, ceil_mode=False)\n",
      "  (conv_13): Conv2d(512, 512, kernel_size=(3, 3), stride=(1, 1), padding=(1, 1))\n",
      "  (relu_13): ReLU()\n",
      "  (conv_14): Conv2d(512, 512, kernel_size=(3, 3), stride=(1, 1), padding=(1, 1))\n",
      ")\n",
      "============================================================\n",
      "Sequential(\n",
      "  (0): Normalization()\n",
      "  (conv_1): Conv2d(3, 64, kernel_size=(3, 3), stride=(1, 1), padding=(1, 1))\n",
      "  (relu_1): ReLU()\n",
      "  (conv_2): Conv2d(64, 64, kernel_size=(3, 3), stride=(1, 1), padding=(1, 1))\n",
      "  (relu_2): ReLU()\n",
      "  (pool_2): MaxPool2d(kernel_size=2, stride=2, padding=0, dilation=1, ceil_mode=False)\n",
      "  (conv_3): Conv2d(64, 128, kernel_size=(3, 3), stride=(1, 1), padding=(1, 1))\n",
      "  (relu_3): ReLU()\n",
      "  (conv_4): Conv2d(128, 128, kernel_size=(3, 3), stride=(1, 1), padding=(1, 1))\n",
      "  (relu_4): ReLU()\n",
      "  (pool_4): MaxPool2d(kernel_size=2, stride=2, padding=0, dilation=1, ceil_mode=False)\n",
      "  (conv_5): Conv2d(128, 256, kernel_size=(3, 3), stride=(1, 1), padding=(1, 1))\n",
      "  (relu_5): ReLU()\n",
      "  (conv_6): Conv2d(256, 256, kernel_size=(3, 3), stride=(1, 1), padding=(1, 1))\n",
      "  (relu_6): ReLU()\n",
      "  (conv_7): Conv2d(256, 256, kernel_size=(3, 3), stride=(1, 1), padding=(1, 1))\n",
      "  (relu_7): ReLU()\n",
      "  (conv_8): Conv2d(256, 256, kernel_size=(3, 3), stride=(1, 1), padding=(1, 1))\n",
      "  (relu_8): ReLU()\n",
      "  (pool_8): MaxPool2d(kernel_size=2, stride=2, padding=0, dilation=1, ceil_mode=False)\n",
      "  (conv_9): Conv2d(256, 512, kernel_size=(3, 3), stride=(1, 1), padding=(1, 1))\n",
      "  (relu_9): ReLU()\n",
      "  (conv_10): Conv2d(512, 512, kernel_size=(3, 3), stride=(1, 1), padding=(1, 1))\n",
      "  (relu_10): ReLU()\n",
      "  (conv_11): Conv2d(512, 512, kernel_size=(3, 3), stride=(1, 1), padding=(1, 1))\n",
      "  (relu_11): ReLU()\n",
      "  (conv_12): Conv2d(512, 512, kernel_size=(3, 3), stride=(1, 1), padding=(1, 1))\n",
      "  (relu_12): ReLU()\n",
      "  (pool_12): MaxPool2d(kernel_size=2, stride=2, padding=0, dilation=1, ceil_mode=False)\n",
      "  (conv_13): Conv2d(512, 512, kernel_size=(3, 3), stride=(1, 1), padding=(1, 1))\n",
      "  (relu_13): ReLU()\n",
      "  (conv_14): Conv2d(512, 512, kernel_size=(3, 3), stride=(1, 1), padding=(1, 1))\n",
      "  (relu_14): ReLU()\n",
      ")\n",
      "============================================================\n",
      "Sequential(\n",
      "  (0): Normalization()\n",
      "  (conv_1): Conv2d(3, 64, kernel_size=(3, 3), stride=(1, 1), padding=(1, 1))\n",
      "  (relu_1): ReLU()\n",
      "  (conv_2): Conv2d(64, 64, kernel_size=(3, 3), stride=(1, 1), padding=(1, 1))\n",
      "  (relu_2): ReLU()\n",
      "  (pool_2): MaxPool2d(kernel_size=2, stride=2, padding=0, dilation=1, ceil_mode=False)\n",
      "  (conv_3): Conv2d(64, 128, kernel_size=(3, 3), stride=(1, 1), padding=(1, 1))\n",
      "  (relu_3): ReLU()\n",
      "  (conv_4): Conv2d(128, 128, kernel_size=(3, 3), stride=(1, 1), padding=(1, 1))\n",
      "  (relu_4): ReLU()\n",
      "  (pool_4): MaxPool2d(kernel_size=2, stride=2, padding=0, dilation=1, ceil_mode=False)\n",
      "  (conv_5): Conv2d(128, 256, kernel_size=(3, 3), stride=(1, 1), padding=(1, 1))\n",
      "  (relu_5): ReLU()\n",
      "  (conv_6): Conv2d(256, 256, kernel_size=(3, 3), stride=(1, 1), padding=(1, 1))\n",
      "  (relu_6): ReLU()\n",
      "  (conv_7): Conv2d(256, 256, kernel_size=(3, 3), stride=(1, 1), padding=(1, 1))\n",
      "  (relu_7): ReLU()\n",
      "  (conv_8): Conv2d(256, 256, kernel_size=(3, 3), stride=(1, 1), padding=(1, 1))\n",
      "  (relu_8): ReLU()\n",
      "  (pool_8): MaxPool2d(kernel_size=2, stride=2, padding=0, dilation=1, ceil_mode=False)\n",
      "  (conv_9): Conv2d(256, 512, kernel_size=(3, 3), stride=(1, 1), padding=(1, 1))\n",
      "  (relu_9): ReLU()\n",
      "  (conv_10): Conv2d(512, 512, kernel_size=(3, 3), stride=(1, 1), padding=(1, 1))\n",
      "  (relu_10): ReLU()\n",
      "  (conv_11): Conv2d(512, 512, kernel_size=(3, 3), stride=(1, 1), padding=(1, 1))\n",
      "  (relu_11): ReLU()\n",
      "  (conv_12): Conv2d(512, 512, kernel_size=(3, 3), stride=(1, 1), padding=(1, 1))\n",
      "  (relu_12): ReLU()\n",
      "  (pool_12): MaxPool2d(kernel_size=2, stride=2, padding=0, dilation=1, ceil_mode=False)\n",
      "  (conv_13): Conv2d(512, 512, kernel_size=(3, 3), stride=(1, 1), padding=(1, 1))\n",
      "  (relu_13): ReLU()\n",
      "  (conv_14): Conv2d(512, 512, kernel_size=(3, 3), stride=(1, 1), padding=(1, 1))\n",
      "  (relu_14): ReLU()\n",
      "  (conv_15): Conv2d(512, 512, kernel_size=(3, 3), stride=(1, 1), padding=(1, 1))\n",
      ")\n",
      "============================================================\n",
      "Sequential(\n",
      "  (0): Normalization()\n",
      "  (conv_1): Conv2d(3, 64, kernel_size=(3, 3), stride=(1, 1), padding=(1, 1))\n",
      "  (relu_1): ReLU()\n",
      "  (conv_2): Conv2d(64, 64, kernel_size=(3, 3), stride=(1, 1), padding=(1, 1))\n",
      "  (relu_2): ReLU()\n",
      "  (pool_2): MaxPool2d(kernel_size=2, stride=2, padding=0, dilation=1, ceil_mode=False)\n",
      "  (conv_3): Conv2d(64, 128, kernel_size=(3, 3), stride=(1, 1), padding=(1, 1))\n",
      "  (relu_3): ReLU()\n",
      "  (conv_4): Conv2d(128, 128, kernel_size=(3, 3), stride=(1, 1), padding=(1, 1))\n",
      "  (relu_4): ReLU()\n",
      "  (pool_4): MaxPool2d(kernel_size=2, stride=2, padding=0, dilation=1, ceil_mode=False)\n",
      "  (conv_5): Conv2d(128, 256, kernel_size=(3, 3), stride=(1, 1), padding=(1, 1))\n",
      "  (relu_5): ReLU()\n",
      "  (conv_6): Conv2d(256, 256, kernel_size=(3, 3), stride=(1, 1), padding=(1, 1))\n",
      "  (relu_6): ReLU()\n",
      "  (conv_7): Conv2d(256, 256, kernel_size=(3, 3), stride=(1, 1), padding=(1, 1))\n",
      "  (relu_7): ReLU()\n",
      "  (conv_8): Conv2d(256, 256, kernel_size=(3, 3), stride=(1, 1), padding=(1, 1))\n",
      "  (relu_8): ReLU()\n",
      "  (pool_8): MaxPool2d(kernel_size=2, stride=2, padding=0, dilation=1, ceil_mode=False)\n",
      "  (conv_9): Conv2d(256, 512, kernel_size=(3, 3), stride=(1, 1), padding=(1, 1))\n",
      "  (relu_9): ReLU()\n",
      "  (conv_10): Conv2d(512, 512, kernel_size=(3, 3), stride=(1, 1), padding=(1, 1))\n",
      "  (relu_10): ReLU()\n",
      "  (conv_11): Conv2d(512, 512, kernel_size=(3, 3), stride=(1, 1), padding=(1, 1))\n",
      "  (relu_11): ReLU()\n",
      "  (conv_12): Conv2d(512, 512, kernel_size=(3, 3), stride=(1, 1), padding=(1, 1))\n",
      "  (relu_12): ReLU()\n",
      "  (pool_12): MaxPool2d(kernel_size=2, stride=2, padding=0, dilation=1, ceil_mode=False)\n",
      "  (conv_13): Conv2d(512, 512, kernel_size=(3, 3), stride=(1, 1), padding=(1, 1))\n",
      "  (relu_13): ReLU()\n",
      "  (conv_14): Conv2d(512, 512, kernel_size=(3, 3), stride=(1, 1), padding=(1, 1))\n",
      "  (relu_14): ReLU()\n",
      "  (conv_15): Conv2d(512, 512, kernel_size=(3, 3), stride=(1, 1), padding=(1, 1))\n",
      "  (relu_15): ReLU()\n",
      ")\n",
      "============================================================\n",
      "Sequential(\n",
      "  (0): Normalization()\n",
      "  (conv_1): Conv2d(3, 64, kernel_size=(3, 3), stride=(1, 1), padding=(1, 1))\n",
      "  (relu_1): ReLU()\n",
      "  (conv_2): Conv2d(64, 64, kernel_size=(3, 3), stride=(1, 1), padding=(1, 1))\n",
      "  (relu_2): ReLU()\n",
      "  (pool_2): MaxPool2d(kernel_size=2, stride=2, padding=0, dilation=1, ceil_mode=False)\n",
      "  (conv_3): Conv2d(64, 128, kernel_size=(3, 3), stride=(1, 1), padding=(1, 1))\n",
      "  (relu_3): ReLU()\n",
      "  (conv_4): Conv2d(128, 128, kernel_size=(3, 3), stride=(1, 1), padding=(1, 1))\n",
      "  (relu_4): ReLU()\n",
      "  (pool_4): MaxPool2d(kernel_size=2, stride=2, padding=0, dilation=1, ceil_mode=False)\n",
      "  (conv_5): Conv2d(128, 256, kernel_size=(3, 3), stride=(1, 1), padding=(1, 1))\n",
      "  (relu_5): ReLU()\n",
      "  (conv_6): Conv2d(256, 256, kernel_size=(3, 3), stride=(1, 1), padding=(1, 1))\n",
      "  (relu_6): ReLU()\n",
      "  (conv_7): Conv2d(256, 256, kernel_size=(3, 3), stride=(1, 1), padding=(1, 1))\n",
      "  (relu_7): ReLU()\n",
      "  (conv_8): Conv2d(256, 256, kernel_size=(3, 3), stride=(1, 1), padding=(1, 1))\n",
      "  (relu_8): ReLU()\n",
      "  (pool_8): MaxPool2d(kernel_size=2, stride=2, padding=0, dilation=1, ceil_mode=False)\n",
      "  (conv_9): Conv2d(256, 512, kernel_size=(3, 3), stride=(1, 1), padding=(1, 1))\n",
      "  (relu_9): ReLU()\n",
      "  (conv_10): Conv2d(512, 512, kernel_size=(3, 3), stride=(1, 1), padding=(1, 1))\n",
      "  (relu_10): ReLU()\n",
      "  (conv_11): Conv2d(512, 512, kernel_size=(3, 3), stride=(1, 1), padding=(1, 1))\n",
      "  (relu_11): ReLU()\n",
      "  (conv_12): Conv2d(512, 512, kernel_size=(3, 3), stride=(1, 1), padding=(1, 1))\n",
      "  (relu_12): ReLU()\n",
      "  (pool_12): MaxPool2d(kernel_size=2, stride=2, padding=0, dilation=1, ceil_mode=False)\n",
      "  (conv_13): Conv2d(512, 512, kernel_size=(3, 3), stride=(1, 1), padding=(1, 1))\n",
      "  (relu_13): ReLU()\n",
      "  (conv_14): Conv2d(512, 512, kernel_size=(3, 3), stride=(1, 1), padding=(1, 1))\n",
      "  (relu_14): ReLU()\n",
      "  (conv_15): Conv2d(512, 512, kernel_size=(3, 3), stride=(1, 1), padding=(1, 1))\n",
      "  (relu_15): ReLU()\n",
      "  (conv_16): Conv2d(512, 512, kernel_size=(3, 3), stride=(1, 1), padding=(1, 1))\n",
      ")\n",
      "============================================================\n",
      "Sequential(\n",
      "  (0): Normalization()\n",
      "  (conv_1): Conv2d(3, 64, kernel_size=(3, 3), stride=(1, 1), padding=(1, 1))\n",
      "  (relu_1): ReLU()\n",
      "  (conv_2): Conv2d(64, 64, kernel_size=(3, 3), stride=(1, 1), padding=(1, 1))\n",
      "  (relu_2): ReLU()\n",
      "  (pool_2): MaxPool2d(kernel_size=2, stride=2, padding=0, dilation=1, ceil_mode=False)\n",
      "  (conv_3): Conv2d(64, 128, kernel_size=(3, 3), stride=(1, 1), padding=(1, 1))\n",
      "  (relu_3): ReLU()\n",
      "  (conv_4): Conv2d(128, 128, kernel_size=(3, 3), stride=(1, 1), padding=(1, 1))\n",
      "  (relu_4): ReLU()\n",
      "  (pool_4): MaxPool2d(kernel_size=2, stride=2, padding=0, dilation=1, ceil_mode=False)\n",
      "  (conv_5): Conv2d(128, 256, kernel_size=(3, 3), stride=(1, 1), padding=(1, 1))\n",
      "  (relu_5): ReLU()\n",
      "  (conv_6): Conv2d(256, 256, kernel_size=(3, 3), stride=(1, 1), padding=(1, 1))\n",
      "  (relu_6): ReLU()\n",
      "  (conv_7): Conv2d(256, 256, kernel_size=(3, 3), stride=(1, 1), padding=(1, 1))\n",
      "  (relu_7): ReLU()\n",
      "  (conv_8): Conv2d(256, 256, kernel_size=(3, 3), stride=(1, 1), padding=(1, 1))\n",
      "  (relu_8): ReLU()\n",
      "  (pool_8): MaxPool2d(kernel_size=2, stride=2, padding=0, dilation=1, ceil_mode=False)\n",
      "  (conv_9): Conv2d(256, 512, kernel_size=(3, 3), stride=(1, 1), padding=(1, 1))\n",
      "  (relu_9): ReLU()\n",
      "  (conv_10): Conv2d(512, 512, kernel_size=(3, 3), stride=(1, 1), padding=(1, 1))\n",
      "  (relu_10): ReLU()\n",
      "  (conv_11): Conv2d(512, 512, kernel_size=(3, 3), stride=(1, 1), padding=(1, 1))\n",
      "  (relu_11): ReLU()\n",
      "  (conv_12): Conv2d(512, 512, kernel_size=(3, 3), stride=(1, 1), padding=(1, 1))\n",
      "  (relu_12): ReLU()\n",
      "  (pool_12): MaxPool2d(kernel_size=2, stride=2, padding=0, dilation=1, ceil_mode=False)\n",
      "  (conv_13): Conv2d(512, 512, kernel_size=(3, 3), stride=(1, 1), padding=(1, 1))\n",
      "  (relu_13): ReLU()\n",
      "  (conv_14): Conv2d(512, 512, kernel_size=(3, 3), stride=(1, 1), padding=(1, 1))\n",
      "  (relu_14): ReLU()\n",
      "  (conv_15): Conv2d(512, 512, kernel_size=(3, 3), stride=(1, 1), padding=(1, 1))\n",
      "  (relu_15): ReLU()\n",
      "  (conv_16): Conv2d(512, 512, kernel_size=(3, 3), stride=(1, 1), padding=(1, 1))\n",
      "  (relu_16): ReLU()\n",
      ")\n",
      "============================================================\n",
      "Sequential(\n",
      "  (0): Normalization()\n",
      "  (conv_1): Conv2d(3, 64, kernel_size=(3, 3), stride=(1, 1), padding=(1, 1))\n",
      "  (relu_1): ReLU()\n",
      "  (conv_2): Conv2d(64, 64, kernel_size=(3, 3), stride=(1, 1), padding=(1, 1))\n",
      "  (relu_2): ReLU()\n",
      "  (pool_2): MaxPool2d(kernel_size=2, stride=2, padding=0, dilation=1, ceil_mode=False)\n",
      "  (conv_3): Conv2d(64, 128, kernel_size=(3, 3), stride=(1, 1), padding=(1, 1))\n",
      "  (relu_3): ReLU()\n",
      "  (conv_4): Conv2d(128, 128, kernel_size=(3, 3), stride=(1, 1), padding=(1, 1))\n",
      "  (relu_4): ReLU()\n",
      "  (pool_4): MaxPool2d(kernel_size=2, stride=2, padding=0, dilation=1, ceil_mode=False)\n",
      "  (conv_5): Conv2d(128, 256, kernel_size=(3, 3), stride=(1, 1), padding=(1, 1))\n",
      "  (relu_5): ReLU()\n",
      "  (conv_6): Conv2d(256, 256, kernel_size=(3, 3), stride=(1, 1), padding=(1, 1))\n",
      "  (relu_6): ReLU()\n",
      "  (conv_7): Conv2d(256, 256, kernel_size=(3, 3), stride=(1, 1), padding=(1, 1))\n",
      "  (relu_7): ReLU()\n",
      "  (conv_8): Conv2d(256, 256, kernel_size=(3, 3), stride=(1, 1), padding=(1, 1))\n",
      "  (relu_8): ReLU()\n",
      "  (pool_8): MaxPool2d(kernel_size=2, stride=2, padding=0, dilation=1, ceil_mode=False)\n",
      "  (conv_9): Conv2d(256, 512, kernel_size=(3, 3), stride=(1, 1), padding=(1, 1))\n",
      "  (relu_9): ReLU()\n",
      "  (conv_10): Conv2d(512, 512, kernel_size=(3, 3), stride=(1, 1), padding=(1, 1))\n",
      "  (relu_10): ReLU()\n",
      "  (conv_11): Conv2d(512, 512, kernel_size=(3, 3), stride=(1, 1), padding=(1, 1))\n",
      "  (relu_11): ReLU()\n",
      "  (conv_12): Conv2d(512, 512, kernel_size=(3, 3), stride=(1, 1), padding=(1, 1))\n",
      "  (relu_12): ReLU()\n",
      "  (pool_12): MaxPool2d(kernel_size=2, stride=2, padding=0, dilation=1, ceil_mode=False)\n",
      "  (conv_13): Conv2d(512, 512, kernel_size=(3, 3), stride=(1, 1), padding=(1, 1))\n",
      "  (relu_13): ReLU()\n",
      "  (conv_14): Conv2d(512, 512, kernel_size=(3, 3), stride=(1, 1), padding=(1, 1))\n",
      "  (relu_14): ReLU()\n",
      "  (conv_15): Conv2d(512, 512, kernel_size=(3, 3), stride=(1, 1), padding=(1, 1))\n",
      "  (relu_15): ReLU()\n",
      "  (conv_16): Conv2d(512, 512, kernel_size=(3, 3), stride=(1, 1), padding=(1, 1))\n",
      "  (relu_16): ReLU()\n",
      "  (pool_16): MaxPool2d(kernel_size=2, stride=2, padding=0, dilation=1, ceil_mode=False)\n",
      ")\n",
      "============================================================\n"
     ]
    }
   ],
   "source": [
    "cnn = copy.deepcopy(cnn)\n",
    "normalization = Normalization(cnn_normalization_mean, cnn_normalization_std).to(device)\n",
    "\n",
    "# 가장 먼저 입력 이미지가 입력 정규화(input normalization)를 수행하도록\n",
    "model = nn.Sequential(normalization)\n",
    "\n",
    "# 현재 CNN 모델에 포함되어 있는 모든 레이어를 확인하며\n",
    "i = 0\n",
    "for layer in cnn.children():\n",
    "    if isinstance(layer, nn.Conv2d):\n",
    "        i += 1\n",
    "        name = 'conv_{}'.format(i)\n",
    "    elif isinstance(layer, nn.ReLU):\n",
    "        name = 'relu_{}'.format(i)\n",
    "        layer = nn.ReLU(inplace=False)\n",
    "    elif isinstance(layer, nn.MaxPool2d):\n",
    "        name = 'pool_{}'.format(i)\n",
    "    elif isinstance(layer, nn.BatchNorm2d):\n",
    "        name = 'bn_{}'.format(i)\n",
    "    else:\n",
    "        raise RuntimeError('Unrecognized layer: {}'.format(layer.__class__.__name__))\n",
    "\n",
    "    model.add_module(name, layer)\n",
    "    print(model)\n",
    "    print('='*60)"
   ]
  },
  {
   "cell_type": "code",
   "execution_count": 12,
   "metadata": {},
   "outputs": [
    {
     "data": {
      "text/plain": [
       "Sequential(\n",
       "  (0): Normalization()\n",
       "  (conv_1): Conv2d(3, 64, kernel_size=(3, 3), stride=(1, 1), padding=(1, 1))\n",
       "  (relu_1): ReLU()\n",
       "  (conv_2): Conv2d(64, 64, kernel_size=(3, 3), stride=(1, 1), padding=(1, 1))\n",
       "  (relu_2): ReLU()\n",
       "  (pool_2): MaxPool2d(kernel_size=2, stride=2, padding=0, dilation=1, ceil_mode=False)\n",
       "  (conv_3): Conv2d(64, 128, kernel_size=(3, 3), stride=(1, 1), padding=(1, 1))\n",
       "  (relu_3): ReLU()\n",
       "  (conv_4): Conv2d(128, 128, kernel_size=(3, 3), stride=(1, 1), padding=(1, 1))\n",
       "  (relu_4): ReLU()\n",
       "  (pool_4): MaxPool2d(kernel_size=2, stride=2, padding=0, dilation=1, ceil_mode=False)\n",
       "  (conv_5): Conv2d(128, 256, kernel_size=(3, 3), stride=(1, 1), padding=(1, 1))\n",
       "  (relu_5): ReLU()\n",
       "  (conv_6): Conv2d(256, 256, kernel_size=(3, 3), stride=(1, 1), padding=(1, 1))\n",
       "  (relu_6): ReLU()\n",
       "  (conv_7): Conv2d(256, 256, kernel_size=(3, 3), stride=(1, 1), padding=(1, 1))\n",
       "  (relu_7): ReLU()\n",
       "  (conv_8): Conv2d(256, 256, kernel_size=(3, 3), stride=(1, 1), padding=(1, 1))\n",
       "  (relu_8): ReLU()\n",
       "  (pool_8): MaxPool2d(kernel_size=2, stride=2, padding=0, dilation=1, ceil_mode=False)\n",
       "  (conv_9): Conv2d(256, 512, kernel_size=(3, 3), stride=(1, 1), padding=(1, 1))\n",
       "  (relu_9): ReLU()\n",
       "  (conv_10): Conv2d(512, 512, kernel_size=(3, 3), stride=(1, 1), padding=(1, 1))\n",
       "  (relu_10): ReLU()\n",
       "  (conv_11): Conv2d(512, 512, kernel_size=(3, 3), stride=(1, 1), padding=(1, 1))\n",
       "  (relu_11): ReLU()\n",
       "  (conv_12): Conv2d(512, 512, kernel_size=(3, 3), stride=(1, 1), padding=(1, 1))\n",
       "  (relu_12): ReLU()\n",
       "  (pool_12): MaxPool2d(kernel_size=2, stride=2, padding=0, dilation=1, ceil_mode=False)\n",
       "  (conv_13): Conv2d(512, 512, kernel_size=(3, 3), stride=(1, 1), padding=(1, 1))\n",
       "  (relu_13): ReLU()\n",
       "  (conv_14): Conv2d(512, 512, kernel_size=(3, 3), stride=(1, 1), padding=(1, 1))\n",
       "  (relu_14): ReLU()\n",
       "  (conv_15): Conv2d(512, 512, kernel_size=(3, 3), stride=(1, 1), padding=(1, 1))\n",
       "  (relu_15): ReLU()\n",
       "  (conv_16): Conv2d(512, 512, kernel_size=(3, 3), stride=(1, 1), padding=(1, 1))\n",
       "  (relu_16): ReLU()\n",
       "  (pool_16): MaxPool2d(kernel_size=2, stride=2, padding=0, dilation=1, ceil_mode=False)\n",
       ")"
      ]
     },
     "execution_count": 12,
     "metadata": {},
     "output_type": "execute_result"
    }
   ],
   "source": [
    "model"
   ]
  },
  {
   "cell_type": "code",
   "execution_count": 13,
   "metadata": {},
   "outputs": [],
   "source": [
    "feature_model = model[:12]"
   ]
  },
  {
   "cell_type": "code",
   "execution_count": 14,
   "metadata": {},
   "outputs": [
    {
     "data": {
      "text/plain": [
       "Sequential(\n",
       "  (0): Normalization()\n",
       "  (conv_1): Conv2d(3, 64, kernel_size=(3, 3), stride=(1, 1), padding=(1, 1))\n",
       "  (relu_1): ReLU()\n",
       "  (conv_2): Conv2d(64, 64, kernel_size=(3, 3), stride=(1, 1), padding=(1, 1))\n",
       "  (relu_2): ReLU()\n",
       "  (pool_2): MaxPool2d(kernel_size=2, stride=2, padding=0, dilation=1, ceil_mode=False)\n",
       "  (conv_3): Conv2d(64, 128, kernel_size=(3, 3), stride=(1, 1), padding=(1, 1))\n",
       "  (relu_3): ReLU()\n",
       "  (conv_4): Conv2d(128, 128, kernel_size=(3, 3), stride=(1, 1), padding=(1, 1))\n",
       "  (relu_4): ReLU()\n",
       "  (pool_4): MaxPool2d(kernel_size=2, stride=2, padding=0, dilation=1, ceil_mode=False)\n",
       "  (conv_5): Conv2d(128, 256, kernel_size=(3, 3), stride=(1, 1), padding=(1, 1))\n",
       ")"
      ]
     },
     "execution_count": 14,
     "metadata": {},
     "output_type": "execute_result"
    }
   ],
   "source": [
    "feature_model"
   ]
  },
  {
   "cell_type": "code",
   "execution_count": 15,
   "metadata": {
    "scrolled": true
   },
   "outputs": [
    {
     "name": "stderr",
     "output_type": "stream",
     "text": [
      "\r",
      "  0%|                                                                                          | 0/114 [00:00<?, ?it/s]"
     ]
    },
    {
     "name": "stdout",
     "output_type": "stream",
     "text": [
      "torch.Size([1, 256, 500, 322])\n"
     ]
    },
    {
     "name": "stderr",
     "output_type": "stream",
     "text": [
      "  2%|█▍                                                                                | 2/114 [00:02<02:16,  1.22s/it]"
     ]
    },
    {
     "name": "stdout",
     "output_type": "stream",
     "text": [
      "torch.Size([256, 256])\n",
      "(256, 256)\n",
      "torch.Size([1, 256, 272, 500])\n",
      "torch.Size([256, 256])\n",
      "(256, 256)\n"
     ]
    },
    {
     "name": "stderr",
     "output_type": "stream",
     "text": [
      "\r",
      "  3%|██▏                                                                               | 3/114 [00:03<01:25,  1.31it/s]"
     ]
    },
    {
     "name": "stdout",
     "output_type": "stream",
     "text": [
      "torch.Size([1, 256, 356, 500])\n",
      "torch.Size([256, 256])\n",
      "(256, 256)\n"
     ]
    },
    {
     "name": "stderr",
     "output_type": "stream",
     "text": [
      "\r",
      "  4%|██▉                                                                               | 4/114 [00:03<01:00,  1.80it/s]"
     ]
    },
    {
     "name": "stdout",
     "output_type": "stream",
     "text": [
      "torch.Size([1, 256, 405, 500])\n",
      "torch.Size([256, 256])\n",
      "(256, 256)\n"
     ]
    },
    {
     "name": "stderr",
     "output_type": "stream",
     "text": [
      "\r",
      "  4%|███▌                                                                              | 5/114 [00:03<00:52,  2.09it/s]"
     ]
    },
    {
     "name": "stdout",
     "output_type": "stream",
     "text": [
      "torch.Size([1, 256, 500, 487])\n",
      "torch.Size([256, 256])\n",
      "(256, 256)\n",
      "torch.Size([1, 256, 500, 181])\n"
     ]
    },
    {
     "name": "stderr",
     "output_type": "stream",
     "text": [
      "  6%|█████                                                                             | 7/114 [00:03<00:32,  3.33it/s]"
     ]
    },
    {
     "name": "stdout",
     "output_type": "stream",
     "text": [
      "torch.Size([256, 256])\n",
      "(256, 256)\n",
      "torch.Size([1, 256, 500, 230])\n",
      "torch.Size([256, 256])\n",
      "(256, 256)\n"
     ]
    },
    {
     "name": "stderr",
     "output_type": "stream",
     "text": [
      "\r",
      "  7%|█████▊                                                                            | 8/114 [00:04<00:30,  3.45it/s]"
     ]
    },
    {
     "name": "stdout",
     "output_type": "stream",
     "text": [
      "torch.Size([1, 256, 426, 500])\n",
      "torch.Size([256, 256])\n",
      "(256, 256)\n"
     ]
    },
    {
     "name": "stderr",
     "output_type": "stream",
     "text": [
      "\r",
      "  8%|██████▍                                                                           | 9/114 [00:04<00:30,  3.48it/s]"
     ]
    },
    {
     "name": "stdout",
     "output_type": "stream",
     "text": [
      "torch.Size([1, 256, 425, 500])\n",
      "torch.Size([256, 256])\n",
      "(256, 256)\n"
     ]
    },
    {
     "name": "stderr",
     "output_type": "stream",
     "text": [
      "\r",
      "  9%|███████                                                                          | 10/114 [00:04<00:29,  3.55it/s]"
     ]
    },
    {
     "name": "stdout",
     "output_type": "stream",
     "text": [
      "torch.Size([1, 256, 431, 500])\n",
      "torch.Size([256, 256])\n",
      "(256, 256)\n",
      "torch.Size([1, 256, 500, 250])\n"
     ]
    },
    {
     "name": "stderr",
     "output_type": "stream",
     "text": [
      "\r",
      " 10%|███████▊                                                                         | 11/114 [00:04<00:25,  4.02it/s]"
     ]
    },
    {
     "name": "stdout",
     "output_type": "stream",
     "text": [
      "torch.Size([256, 256])\n",
      "(256, 256)\n"
     ]
    },
    {
     "name": "stderr",
     "output_type": "stream",
     "text": [
      "\r",
      " 11%|████████▌                                                                        | 12/114 [00:05<00:24,  4.09it/s]"
     ]
    },
    {
     "name": "stdout",
     "output_type": "stream",
     "text": [
      "torch.Size([1, 256, 349, 500])\n",
      "torch.Size([256, 256])\n",
      "(256, 256)\n"
     ]
    },
    {
     "name": "stderr",
     "output_type": "stream",
     "text": [
      "\r",
      " 11%|█████████▏                                                                       | 13/114 [00:05<00:25,  4.02it/s]"
     ]
    },
    {
     "name": "stdout",
     "output_type": "stream",
     "text": [
      "torch.Size([1, 256, 421, 500])\n",
      "torch.Size([256, 256])\n",
      "(256, 256)\n"
     ]
    },
    {
     "name": "stderr",
     "output_type": "stream",
     "text": [
      " 13%|██████████▋                                                                      | 15/114 [00:05<00:20,  4.80it/s]"
     ]
    },
    {
     "name": "stdout",
     "output_type": "stream",
     "text": [
      "torch.Size([1, 256, 348, 500])\n",
      "torch.Size([256, 256])\n",
      "(256, 256)\n",
      "torch.Size([1, 256, 177, 500])\n",
      "torch.Size([256, 256])\n",
      "(256, 256)\n"
     ]
    },
    {
     "name": "stderr",
     "output_type": "stream",
     "text": [
      "\r",
      " 14%|███████████▎                                                                     | 16/114 [00:06<00:20,  4.70it/s]"
     ]
    },
    {
     "name": "stdout",
     "output_type": "stream",
     "text": [
      "torch.Size([1, 256, 500, 362])\n",
      "torch.Size([256, 256])\n",
      "(256, 256)\n",
      "torch.Size([1, 256, 500, 229])\n"
     ]
    },
    {
     "name": "stderr",
     "output_type": "stream",
     "text": [
      "\r",
      " 15%|████████████                                                                     | 17/114 [00:06<00:19,  4.98it/s]"
     ]
    },
    {
     "name": "stdout",
     "output_type": "stream",
     "text": [
      "torch.Size([256, 256])\n",
      "(256, 256)\n"
     ]
    },
    {
     "name": "stderr",
     "output_type": "stream",
     "text": [
      "\r",
      " 16%|████████████▊                                                                    | 18/114 [00:06<00:21,  4.49it/s]"
     ]
    },
    {
     "name": "stdout",
     "output_type": "stream",
     "text": [
      "torch.Size([1, 256, 425, 500])\n",
      "torch.Size([256, 256])\n",
      "(256, 256)\n"
     ]
    },
    {
     "name": "stderr",
     "output_type": "stream",
     "text": [
      "\r",
      " 17%|█████████████▌                                                                   | 19/114 [00:06<00:22,  4.16it/s]"
     ]
    },
    {
     "name": "stdout",
     "output_type": "stream",
     "text": [
      "torch.Size([1, 256, 420, 500])\n",
      "torch.Size([256, 256])\n",
      "(256, 256)\n"
     ]
    },
    {
     "name": "stderr",
     "output_type": "stream",
     "text": [
      "\r",
      " 18%|██████████████▏                                                                  | 20/114 [00:07<00:23,  4.02it/s]"
     ]
    },
    {
     "name": "stdout",
     "output_type": "stream",
     "text": [
      "torch.Size([1, 256, 411, 500])\n",
      "torch.Size([256, 256])\n",
      "(256, 256)\n",
      "torch.Size([1, 256, 143, 123])\n",
      "torch.Size([256, 256])\n",
      "(256, 256)\n"
     ]
    },
    {
     "name": "stderr",
     "output_type": "stream",
     "text": [
      "\r",
      " 19%|███████████████▋                                                                 | 22/114 [00:07<00:17,  5.22it/s]"
     ]
    },
    {
     "name": "stdout",
     "output_type": "stream",
     "text": [
      "torch.Size([1, 256, 352, 500])\n",
      "torch.Size([256, 256])\n",
      "(256, 256)\n"
     ]
    },
    {
     "name": "stderr",
     "output_type": "stream",
     "text": [
      "\r",
      " 20%|████████████████▎                                                                | 23/114 [00:07<00:18,  4.91it/s]"
     ]
    },
    {
     "name": "stdout",
     "output_type": "stream",
     "text": [
      "torch.Size([1, 256, 343, 500])\n",
      "torch.Size([256, 256])\n",
      "(256, 256)\n"
     ]
    },
    {
     "name": "stderr",
     "output_type": "stream",
     "text": [
      " 24%|███████████████████▏                                                             | 27/114 [00:07<00:10,  8.14it/s]"
     ]
    },
    {
     "name": "stdout",
     "output_type": "stream",
     "text": [
      "torch.Size([1, 256, 424, 500])\n",
      "torch.Size([256, 256])\n",
      "(256, 256)\n",
      "torch.Size([1, 256, 158, 136])\n",
      "torch.Size([256, 256])\n",
      "(256, 256)\n",
      "torch.Size([1, 256, 152, 136])\n",
      "torch.Size([256, 256])\n",
      "(256, 256)\n",
      "torch.Size([1, 256, 170, 141])\n",
      "torch.Size([256, 256])\n",
      "(256, 256)\n",
      "torch.Size([1, 256, 132, 111])\n",
      "torch.Size([256, 256])\n",
      "(256, 256)\n"
     ]
    },
    {
     "name": "stderr",
     "output_type": "stream",
     "text": [
      "\r",
      " 25%|████████████████████▌                                                            | 29/114 [00:08<00:09,  8.92it/s]"
     ]
    },
    {
     "name": "stdout",
     "output_type": "stream",
     "text": [
      "torch.Size([1, 256, 261, 500])\n",
      "torch.Size([256, 256])\n",
      "(256, 256)\n",
      "torch.Size([1, 256, 417, 500])\n",
      "torch.Size([256, 256])\n",
      "(256, 256)\n"
     ]
    },
    {
     "name": "stderr",
     "output_type": "stream",
     "text": [
      "\r",
      " 27%|██████████████████████                                                           | 31/114 [00:08<00:13,  5.97it/s]"
     ]
    },
    {
     "name": "stdout",
     "output_type": "stream",
     "text": [
      "torch.Size([1, 256, 500, 418])\n",
      "torch.Size([256, 256])\n",
      "(256, 256)\n",
      "torch.Size([1, 256, 207, 500])\n",
      "torch.Size([256, 256])\n"
     ]
    },
    {
     "name": "stderr",
     "output_type": "stream",
     "text": [
      "\r",
      " 28%|██████████████████████▋                                                          | 32/114 [00:08<00:13,  6.15it/s]"
     ]
    },
    {
     "name": "stdout",
     "output_type": "stream",
     "text": [
      "(256, 256)\n"
     ]
    },
    {
     "name": "stderr",
     "output_type": "stream",
     "text": [
      "\r",
      " 29%|███████████████████████▍                                                         | 33/114 [00:09<00:15,  5.30it/s]"
     ]
    },
    {
     "name": "stdout",
     "output_type": "stream",
     "text": [
      "torch.Size([1, 256, 426, 500])\n",
      "torch.Size([256, 256])\n",
      "(256, 256)\n"
     ]
    },
    {
     "name": "stderr",
     "output_type": "stream",
     "text": [
      "\r",
      " 30%|████████████████████████▏                                                        | 34/114 [00:09<00:16,  4.85it/s]"
     ]
    },
    {
     "name": "stdout",
     "output_type": "stream",
     "text": [
      "torch.Size([1, 256, 426, 500])\n",
      "torch.Size([256, 256])\n",
      "(256, 256)\n"
     ]
    },
    {
     "name": "stderr",
     "output_type": "stream",
     "text": [
      " 44%|███████████████████████████████████▌                                             | 50/114 [00:09<00:02, 24.77it/s]"
     ]
    },
    {
     "name": "stdout",
     "output_type": "stream",
     "text": [
      "torch.Size([1, 256, 373, 500])\n",
      "torch.Size([256, 256])\n",
      "(256, 256)\n",
      "torch.Size([1, 256, 77, 67])\n",
      "torch.Size([256, 256])\n",
      "(256, 256)\n",
      "torch.Size([1, 256, 56, 78])\n",
      "torch.Size([256, 256])\n",
      "(256, 256)\n",
      "torch.Size([1, 256, 78, 67])\n",
      "torch.Size([256, 256])\n",
      "(256, 256)\n",
      "torch.Size([1, 256, 79, 67])\n",
      "torch.Size([256, 256])\n",
      "(256, 256)\n",
      "torch.Size([1, 256, 78, 67])\n",
      "torch.Size([256, 256])\n",
      "(256, 256)\n",
      "torch.Size([1, 256, 78, 67])\n",
      "torch.Size([256, 256])\n",
      "(256, 256)\n",
      "torch.Size([1, 256, 78, 67])\n",
      "torch.Size([256, 256])\n",
      "(256, 256)\n",
      "torch.Size([1, 256, 56, 78])\n",
      "torch.Size([256, 256])\n",
      "(256, 256)\n",
      "torch.Size([1, 256, 78, 67])\n",
      "torch.Size([256, 256])\n",
      "(256, 256)\n",
      "torch.Size([1, 256, 78, 67])\n",
      "torch.Size([256, 256])\n",
      "(256, 256)\n",
      "torch.Size([1, 256, 78, 67])\n",
      "torch.Size([256, 256])\n",
      "(256, 256)\n",
      "torch.Size([1, 256, 66, 78])\n",
      "torch.Size([256, 256])\n",
      "(256, 256)\n",
      "torch.Size([1, 256, 78, 67])\n",
      "torch.Size([256, 256])\n",
      "(256, 256)\n",
      "torch.Size([1, 256, 67, 78])\n",
      "torch.Size([256, 256])\n",
      "(256, 256)\n",
      "torch.Size([1, 256, 78, 67])\n",
      "torch.Size([256, 256])\n",
      "(256, 256)\n",
      "torch.Size([1, 256, 78, 47])\n",
      "torch.Size([256, 256])\n",
      "(256, 256)\n",
      "torch.Size([1, 256, 78, 67])\n"
     ]
    },
    {
     "name": "stderr",
     "output_type": "stream",
     "text": [
      "\r",
      " 55%|████████████████████████████████████████████▊                                    | 63/114 [00:09<00:01, 42.14it/s]"
     ]
    },
    {
     "name": "stdout",
     "output_type": "stream",
     "text": [
      "torch.Size([256, 256])\n",
      "(256, 256)\n",
      "torch.Size([1, 256, 43, 73])\n",
      "torch.Size([256, 256])\n",
      "(256, 256)\n",
      "torch.Size([1, 256, 78, 67])\n",
      "torch.Size([256, 256])\n",
      "(256, 256)\n",
      "torch.Size([1, 256, 56, 78])\n",
      "torch.Size([256, 256])\n",
      "(256, 256)\n",
      "torch.Size([1, 256, 79, 65])\n",
      "torch.Size([256, 256])\n",
      "(256, 256)\n",
      "torch.Size([1, 256, 78, 68])\n",
      "torch.Size([256, 256])\n",
      "(256, 256)\n",
      "torch.Size([1, 256, 79, 56])\n",
      "torch.Size([256, 256])\n",
      "(256, 256)\n",
      "torch.Size([1, 256, 79, 67])\n",
      "torch.Size([256, 256])\n",
      "(256, 256)\n",
      "torch.Size([1, 256, 67, 78])\n",
      "torch.Size([256, 256])\n",
      "(256, 256)\n",
      "torch.Size([1, 256, 78, 67])\n",
      "torch.Size([256, 256])\n",
      "(256, 256)\n",
      "torch.Size([1, 256, 78, 67])\n",
      "torch.Size([256, 256])\n",
      "(256, 256)\n",
      "torch.Size([1, 256, 53, 79])\n",
      "torch.Size([256, 256])\n",
      "(256, 256)\n",
      "torch.Size([1, 256, 175, 150])\n",
      "torch.Size([256, 256])\n",
      "(256, 256)\n",
      "torch.Size([1, 256, 428, 500])\n",
      "torch.Size([256, 256])\n",
      "(256, 256)\n",
      "torch.Size([1, 256, 175, 150])\n",
      "torch.Size([256, 256])\n",
      "(256, 256)\n",
      "torch.Size([1, 256, 500, 427])\n",
      "torch.Size([256, 256])\n",
      "(256, 256)\n",
      "torch.Size([1, 256, 500, 425])\n",
      "torch.Size([256, 256])\n",
      "(256, 256)\n",
      "torch.Size([1, 256, 422, 500])\n",
      "torch.Size([256, 256])\n",
      "(256, 256)\n"
     ]
    },
    {
     "name": "stderr",
     "output_type": "stream",
     "text": [
      "\r",
      " 61%|█████████████████████████████████████████████████▋                               | 70/114 [00:11<00:03, 13.58it/s]"
     ]
    },
    {
     "name": "stdout",
     "output_type": "stream",
     "text": [
      "torch.Size([1, 256, 424, 500])\n",
      "torch.Size([256, 256])\n",
      "(256, 256)\n",
      "torch.Size([1, 256, 500, 279])\n",
      "torch.Size([256, 256])\n",
      "(256, 256)\n",
      "torch.Size([1, 256, 500, 319])\n",
      "torch.Size([256, 256])\n",
      "(256, 256)\n",
      "torch.Size([1, 256, 129, 500])\n",
      "torch.Size([256, 256])\n",
      "(256, 256)\n",
      "torch.Size([1, 256, 397, 500])\n",
      "torch.Size([256, 256])\n",
      "(256, 256)\n"
     ]
    },
    {
     "name": "stderr",
     "output_type": "stream",
     "text": [
      "\r",
      " 67%|██████████████████████████████████████████████████████                           | 76/114 [00:12<00:03,  9.86it/s]"
     ]
    },
    {
     "name": "stdout",
     "output_type": "stream",
     "text": [
      "torch.Size([1, 256, 420, 500])\n",
      "torch.Size([256, 256])\n",
      "(256, 256)\n",
      "torch.Size([1, 256, 500, 188])\n",
      "torch.Size([256, 256])\n",
      "(256, 256)\n",
      "torch.Size([1, 256, 382, 500])\n",
      "torch.Size([256, 256])\n",
      "(256, 256)\n",
      "torch.Size([1, 256, 157, 500])\n",
      "torch.Size([256, 256])\n",
      "(256, 256)\n"
     ]
    },
    {
     "name": "stderr",
     "output_type": "stream",
     "text": [
      "\r",
      " 70%|████████████████████████████████████████████████████████▊                        | 80/114 [00:12<00:03,  9.01it/s]"
     ]
    },
    {
     "name": "stdout",
     "output_type": "stream",
     "text": [
      "torch.Size([1, 256, 500, 222])\n",
      "torch.Size([256, 256])\n",
      "(256, 256)\n",
      "torch.Size([1, 256, 182, 500])\n",
      "torch.Size([256, 256])\n",
      "(256, 256)\n",
      "torch.Size([1, 256, 500, 194])\n",
      "torch.Size([256, 256])\n",
      "(256, 256)\n",
      "torch.Size([1, 256, 263, 500])\n",
      "torch.Size([256, 256])\n",
      "(256, 256)\n"
     ]
    },
    {
     "name": "stderr",
     "output_type": "stream",
     "text": [
      "\r",
      " 73%|██████████████████████████████████████████████████████████▉                      | 83/114 [00:13<00:03,  8.40it/s]"
     ]
    },
    {
     "name": "stdout",
     "output_type": "stream",
     "text": [
      "torch.Size([1, 256, 500, 234])\n",
      "torch.Size([256, 256])\n",
      "(256, 256)\n",
      "torch.Size([1, 256, 500, 218])\n",
      "torch.Size([256, 256])\n",
      "(256, 256)\n",
      "torch.Size([1, 256, 185, 500])\n",
      "torch.Size([256, 256])\n",
      "(256, 256)\n"
     ]
    },
    {
     "name": "stderr",
     "output_type": "stream",
     "text": [
      "\r",
      " 75%|█████████████████████████████████████████████████████████████                    | 86/114 [00:13<00:03,  7.95it/s]"
     ]
    },
    {
     "name": "stdout",
     "output_type": "stream",
     "text": [
      "torch.Size([1, 256, 500, 253])\n",
      "torch.Size([256, 256])\n",
      "(256, 256)\n",
      "torch.Size([1, 256, 500, 208])\n",
      "torch.Size([256, 256])\n",
      "(256, 256)\n"
     ]
    },
    {
     "name": "stderr",
     "output_type": "stream",
     "text": [
      "\r",
      " 77%|██████████████████████████████████████████████████████████████▌                  | 88/114 [00:14<00:03,  7.42it/s]"
     ]
    },
    {
     "name": "stdout",
     "output_type": "stream",
     "text": [
      "torch.Size([1, 256, 347, 500])\n",
      "torch.Size([256, 256])\n",
      "(256, 256)\n",
      "torch.Size([1, 256, 500, 236])"
     ]
    },
    {
     "name": "stderr",
     "output_type": "stream",
     "text": [
      "\r",
      " 79%|███████████████████████████████████████████████████████████████▉                 | 90/114 [00:14<00:03,  7.34it/s]"
     ]
    },
    {
     "name": "stdout",
     "output_type": "stream",
     "text": [
      "\n",
      "torch.Size([256, 256])\n",
      "(256, 256)\n",
      "torch.Size([1, 256, 500, 191])\n",
      "torch.Size([256, 256])\n",
      "(256, 256)\n",
      "torch.Size([1, 256, 500, 403])\n",
      "torch.Size([256, 256])\n",
      "(256, 256)\n"
     ]
    },
    {
     "name": "stderr",
     "output_type": "stream",
     "text": [
      "\r",
      " 81%|█████████████████████████████████████████████████████████████████▎               | 92/114 [00:15<00:03,  6.20it/s]"
     ]
    },
    {
     "name": "stdout",
     "output_type": "stream",
     "text": [
      "torch.Size([1, 256, 355, 500])\n",
      "torch.Size([256, 256])\n",
      "(256, 256)\n"
     ]
    },
    {
     "name": "stderr",
     "output_type": "stream",
     "text": [
      "\r",
      " 82%|██████████████████████████████████████████████████████████████████               | 93/114 [00:15<00:03,  5.69it/s]"
     ]
    },
    {
     "name": "stdout",
     "output_type": "stream",
     "text": [
      "torch.Size([1, 256, 427, 500])\n",
      "torch.Size([256, 256])\n",
      "(256, 256)\n",
      "torch.Size([1, 256, 500, 226])\n",
      "torch.Size([256, 256])\n"
     ]
    },
    {
     "name": "stderr",
     "output_type": "stream",
     "text": [
      " 83%|███████████████████████████████████████████████████████████████████▌             | 95/114 [00:15<00:03,  5.83it/s]"
     ]
    },
    {
     "name": "stdout",
     "output_type": "stream",
     "text": [
      "(256, 256)\n",
      "torch.Size([1, 256, 454, 286])\n",
      "torch.Size([256, 256])\n",
      "(256, 256)\n"
     ]
    },
    {
     "name": "stderr",
     "output_type": "stream",
     "text": [
      "\r",
      " 84%|████████████████████████████████████████████████████████████████████▏            | 96/114 [00:15<00:03,  5.51it/s]"
     ]
    },
    {
     "name": "stdout",
     "output_type": "stream",
     "text": [
      "torch.Size([1, 256, 346, 500])\n",
      "torch.Size([256, 256])\n",
      "(256, 256)\n",
      "torch.Size([1, 256, 500, 226])\n",
      "torch.Size([256, 256])\n"
     ]
    },
    {
     "name": "stderr",
     "output_type": "stream",
     "text": [
      " 86%|█████████████████████████████████████████████████████████████████████▋           | 98/114 [00:16<00:02,  5.76it/s]"
     ]
    },
    {
     "name": "stdout",
     "output_type": "stream",
     "text": [
      "(256, 256)\n",
      "torch.Size([1, 256, 500, 241])\n",
      "torch.Size([256, 256])\n",
      "(256, 256)\n"
     ]
    },
    {
     "name": "stderr",
     "output_type": "stream",
     "text": [
      " 88%|██████████████████████████████████████████████████████████████████████▏         | 100/114 [00:16<00:02,  5.95it/s]"
     ]
    },
    {
     "name": "stdout",
     "output_type": "stream",
     "text": [
      "torch.Size([1, 256, 351, 500])\n",
      "torch.Size([256, 256])\n",
      "(256, 256)\n",
      "torch.Size([1, 256, 182, 500])\n",
      "torch.Size([256, 256])\n",
      "(256, 256)\n"
     ]
    },
    {
     "name": "stderr",
     "output_type": "stream",
     "text": [
      "\r",
      " 89%|██████████████████████████████████████████████████████████████████████▉         | 101/114 [00:16<00:02,  5.23it/s]"
     ]
    },
    {
     "name": "stdout",
     "output_type": "stream",
     "text": [
      "torch.Size([1, 256, 406, 500])\n",
      "torch.Size([256, 256])\n",
      "(256, 256)\n"
     ]
    },
    {
     "name": "stderr",
     "output_type": "stream",
     "text": [
      "\r",
      " 89%|███████████████████████████████████████████████████████████████████████▌        | 102/114 [00:16<00:02,  4.91it/s]"
     ]
    },
    {
     "name": "stdout",
     "output_type": "stream",
     "text": [
      "torch.Size([1, 256, 372, 500])\n",
      "torch.Size([256, 256])\n",
      "(256, 256)\n",
      "torch.Size([1, 256, 500, 214])\n",
      "torch.Size([256, 256])\n",
      "(256, 256)\n"
     ]
    },
    {
     "name": "stderr",
     "output_type": "stream",
     "text": [
      " 91%|████████████████████████████████████████████████████████████████████████▉       | 104/114 [00:17<00:02,  4.57it/s]"
     ]
    },
    {
     "name": "stdout",
     "output_type": "stream",
     "text": [
      "torch.Size([1, 256, 431, 500])\n",
      "torch.Size([256, 256])\n",
      "(256, 256)\n",
      "torch.Size([1, 256, 500, 246])\n"
     ]
    },
    {
     "name": "stderr",
     "output_type": "stream",
     "text": [
      "\r",
      " 92%|█████████████████████████████████████████████████████████████████████████▋      | 105/114 [00:17<00:01,  4.99it/s]"
     ]
    },
    {
     "name": "stdout",
     "output_type": "stream",
     "text": [
      "torch.Size([256, 256])\n",
      "(256, 256)\n"
     ]
    },
    {
     "name": "stderr",
     "output_type": "stream",
     "text": [
      "\r",
      " 93%|██████████████████████████████████████████████████████████████████████████▍     | 106/114 [00:17<00:01,  4.57it/s]"
     ]
    },
    {
     "name": "stdout",
     "output_type": "stream",
     "text": [
      "torch.Size([1, 256, 500, 388])\n",
      "torch.Size([256, 256])\n",
      "(256, 256)\n"
     ]
    },
    {
     "name": "stderr",
     "output_type": "stream",
     "text": [
      "\r",
      " 94%|███████████████████████████████████████████████████████████████████████████     | 107/114 [00:18<00:01,  4.20it/s]"
     ]
    },
    {
     "name": "stdout",
     "output_type": "stream",
     "text": [
      "torch.Size([1, 256, 500, 431])\n",
      "torch.Size([256, 256])\n",
      "(256, 256)\n",
      "torch.Size([1, 256, 500, 251])\n"
     ]
    },
    {
     "name": "stderr",
     "output_type": "stream",
     "text": [
      " 96%|████████████████████████████████████████████████████████████████████████████▍   | 109/114 [00:18<00:00,  5.05it/s]"
     ]
    },
    {
     "name": "stdout",
     "output_type": "stream",
     "text": [
      "torch.Size([256, 256])\n",
      "(256, 256)\n",
      "torch.Size([1, 256, 500, 229])\n",
      "torch.Size([256, 256])\n",
      "(256, 256)\n"
     ]
    },
    {
     "name": "stderr",
     "output_type": "stream",
     "text": [
      "\r",
      " 96%|█████████████████████████████████████████████████████████████████████████████▏  | 110/114 [00:18<00:00,  4.69it/s]"
     ]
    },
    {
     "name": "stdout",
     "output_type": "stream",
     "text": [
      "torch.Size([1, 256, 395, 500])\n",
      "torch.Size([256, 256])\n",
      "(256, 256)\n"
     ]
    },
    {
     "name": "stderr",
     "output_type": "stream",
     "text": [
      " 98%|██████████████████████████████████████████████████████████████████████████████▌ | 112/114 [00:19<00:00,  5.26it/s]"
     ]
    },
    {
     "name": "stdout",
     "output_type": "stream",
     "text": [
      "torch.Size([1, 256, 347, 500])\n",
      "torch.Size([256, 256])\n",
      "(256, 256)\n",
      "torch.Size([1, 256, 190, 500])\n",
      "torch.Size([256, 256])\n",
      "(256, 256)\n"
     ]
    },
    {
     "name": "stderr",
     "output_type": "stream",
     "text": [
      "\r",
      " 99%|███████████████████████████████████████████████████████████████████████████████▎| 113/114 [00:19<00:00,  4.74it/s]"
     ]
    },
    {
     "name": "stdout",
     "output_type": "stream",
     "text": [
      "torch.Size([1, 256, 404, 500])\n",
      "torch.Size([256, 256])\n",
      "(256, 256)\n"
     ]
    },
    {
     "name": "stderr",
     "output_type": "stream",
     "text": [
      "100%|████████████████████████████████████████████████████████████████████████████████| 114/114 [00:19<00:00,  5.85it/s]"
     ]
    },
    {
     "name": "stdout",
     "output_type": "stream",
     "text": [
      "torch.Size([1, 256, 500, 264])\n",
      "torch.Size([256, 256])\n",
      "(256, 256)\n"
     ]
    },
    {
     "name": "stderr",
     "output_type": "stream",
     "text": [
      "\n"
     ]
    }
   ],
   "source": [
    "gram_matrix_list = []\n",
    "\n",
    "for name in tqdm(style_img_list):\n",
    "    img_size = PIL.Image.open(style_img_path + name).size\n",
    "    style_img = image_loader(style_img_path + name, (img_size[1], img_size[0]))\n",
    "    \n",
    "    target_feature = feature_model(style_img).detach()\n",
    "    print(target_feature.shape)\n",
    "    \n",
    "    GRAM_MATRIX = gram_matrix(target_feature)\n",
    "    print(GRAM_MATRIX.shape)\n",
    "    GRAM_MATRIX = GRAM_MATRIX.to('cpu')\n",
    "    GRAM_MATRIX = GRAM_MATRIX.numpy()\n",
    "    print(GRAM_MATRIX.shape)\n",
    "    \n",
    "    gram_matrix_list.append(GRAM_MATRIX)"
   ]
  },
  {
   "cell_type": "code",
   "execution_count": 16,
   "metadata": {},
   "outputs": [
    {
     "data": {
      "text/plain": [
       "114"
      ]
     },
     "execution_count": 16,
     "metadata": {},
     "output_type": "execute_result"
    }
   ],
   "source": [
    "len(gram_matrix_list)"
   ]
  },
  {
   "cell_type": "markdown",
   "metadata": {},
   "source": [
    "# K-Means"
   ]
  },
  {
   "cell_type": "code",
   "execution_count": 17,
   "metadata": {},
   "outputs": [
    {
     "name": "stderr",
     "output_type": "stream",
     "text": [
      "114it [00:00, ?it/s]\n"
     ]
    }
   ],
   "source": [
    "data = {}\n",
    "\n",
    "for style, gram in tqdm(zip(style_img_list, gram_matrix_list)):\n",
    "    data[style] = gram"
   ]
  },
  {
   "cell_type": "code",
   "execution_count": 18,
   "metadata": {},
   "outputs": [
    {
     "data": {
      "text/plain": [
       "{'b01.jpg': array([[ 0.01665387, -0.00460237, -0.00438314, ..., -0.00327673,\n",
       "          0.00052889, -0.00252655],\n",
       "        [-0.00460237,  0.06756994,  0.01037986, ...,  0.00106901,\n",
       "         -0.00134396, -0.01411994],\n",
       "        [-0.00438314,  0.01037986,  0.01942222, ...,  0.0007324 ,\n",
       "         -0.00193583, -0.0069167 ],\n",
       "        ...,\n",
       "        [-0.00327673,  0.00106901,  0.0007324 , ...,  0.03768617,\n",
       "         -0.00150939,  0.00050153],\n",
       "        [ 0.00052889, -0.00134396, -0.00193583, ..., -0.00150939,\n",
       "          0.03574582, -0.00132985],\n",
       "        [-0.00252655, -0.01411994, -0.0069167 , ...,  0.00050153,\n",
       "         -0.00132985,  0.04403799]], dtype=float32),\n",
       " 'b02.jpg': array([[ 0.04221762, -0.00867174, -0.01583532, ..., -0.01158446,\n",
       "         -0.00271553, -0.00410667],\n",
       "        [-0.00867174,  0.06652595,  0.01046396, ...,  0.01522296,\n",
       "         -0.00684379,  0.02943474],\n",
       "        [-0.01583532,  0.01046396,  0.03385571, ...,  0.00698373,\n",
       "          0.00044413, -0.00103135],\n",
       "        ...,\n",
       "        [-0.01158446,  0.01522296,  0.00698373, ...,  0.09250748,\n",
       "         -0.00055844,  0.01231044],\n",
       "        [-0.00271553, -0.00684379,  0.00044413, ..., -0.00055844,\n",
       "          0.04541822, -0.00701043],\n",
       "        [-0.00410667,  0.02943474, -0.00103135, ...,  0.01231044,\n",
       "         -0.00701043,  0.06386766]], dtype=float32),\n",
       " 'b03.jpg': array([[ 0.03556467, -0.00724972, -0.02158603, ..., -0.0151024 ,\n",
       "         -0.00759898,  0.01948341],\n",
       "        [-0.00724972,  0.0384838 ,  0.01194291, ...,  0.00248586,\n",
       "         -0.00211898, -0.0009713 ],\n",
       "        [-0.02158603,  0.01194291,  0.04044668, ...,  0.0153881 ,\n",
       "          0.00594962, -0.02264878],\n",
       "        ...,\n",
       "        [-0.0151024 ,  0.00248586,  0.0153881 , ...,  0.06750692,\n",
       "          0.01138434, -0.01604328],\n",
       "        [-0.00759898, -0.00211898,  0.00594962, ...,  0.01138434,\n",
       "          0.03731155, -0.00831918],\n",
       "        [ 0.01948341, -0.0009713 , -0.02264878, ..., -0.01604328,\n",
       "         -0.00831918,  0.07062799]], dtype=float32),\n",
       " 'b04.jpg': array([[ 0.00782911, -0.00402199, -0.00175402, ..., -0.00193097,\n",
       "         -0.00036633, -0.00098599],\n",
       "        [-0.00402199,  0.02178796,  0.00214739, ...,  0.00094507,\n",
       "          0.00074131,  0.00361541],\n",
       "        [-0.00175402,  0.00214739,  0.00848323, ...,  0.00060472,\n",
       "         -0.00136959, -0.00505815],\n",
       "        ...,\n",
       "        [-0.00193097,  0.00094507,  0.00060472, ...,  0.02018746,\n",
       "         -0.00027889,  0.00012829],\n",
       "        [-0.00036633,  0.00074131, -0.00136959, ..., -0.00027889,\n",
       "          0.01528507,  0.00208271],\n",
       "        [-0.00098599,  0.00361541, -0.00505815, ...,  0.00012829,\n",
       "          0.00208271,  0.03073729]], dtype=float32),\n",
       " 'b05.jpg': array([[ 0.05222487,  0.00650052, -0.02301807, ..., -0.02437075,\n",
       "         -0.00975993,  0.00662036],\n",
       "        [ 0.00650052,  0.09079941,  0.00191471, ...,  0.00108422,\n",
       "          0.00751722, -0.0170008 ],\n",
       "        [-0.02301807,  0.00191471,  0.03885315, ...,  0.01879724,\n",
       "          0.00708669, -0.01031754],\n",
       "        ...,\n",
       "        [-0.02437075,  0.00108422,  0.01879724, ...,  0.09268718,\n",
       "          0.0117015 , -0.01535548],\n",
       "        [-0.00975993,  0.00751722,  0.00708669, ...,  0.0117015 ,\n",
       "          0.05838499, -0.00603463],\n",
       "        [ 0.00662036, -0.0170008 , -0.01031754, ..., -0.01535548,\n",
       "         -0.00603463,  0.06110029]], dtype=float32),\n",
       " 'b06.jpg': array([[ 0.03160266, -0.01153644, -0.0056294 , ..., -0.00382304,\n",
       "         -0.00094903, -0.00601827],\n",
       "        [-0.01153644,  0.06158762,  0.0071641 , ...,  0.00801968,\n",
       "         -0.0053623 ,  0.00759191],\n",
       "        [-0.0056294 ,  0.0071641 ,  0.03241127, ..., -0.00825315,\n",
       "         -0.00481181, -0.01403147],\n",
       "        ...,\n",
       "        [-0.00382304,  0.00801968, -0.00825315, ...,  0.08540455,\n",
       "          0.00238123,  0.01086885],\n",
       "        [-0.00094903, -0.0053623 , -0.00481181, ...,  0.00238123,\n",
       "          0.04309987, -0.00296223],\n",
       "        [-0.00601827,  0.00759191, -0.01403147, ...,  0.01086885,\n",
       "         -0.00296223,  0.06054183]], dtype=float32),\n",
       " 'b07.jpg': array([[ 0.06745157, -0.02046681, -0.03416761, ..., -0.01954788,\n",
       "          0.00714333, -0.01897175],\n",
       "        [-0.02046681,  0.06239602,  0.01729331, ...,  0.02545162,\n",
       "         -0.00762099,  0.03591176],\n",
       "        [-0.03416761,  0.01729331,  0.05767715, ...,  0.01715683,\n",
       "         -0.00065512,  0.00790612],\n",
       "        ...,\n",
       "        [-0.01954788,  0.02545162,  0.01715683, ...,  0.16508919,\n",
       "          0.00088793,  0.02923539],\n",
       "        [ 0.00714333, -0.00762099, -0.00065512, ...,  0.00088793,\n",
       "          0.06168524, -0.00482533],\n",
       "        [-0.01897175,  0.03591176,  0.00790612, ...,  0.02923539,\n",
       "         -0.00482533,  0.08395874]], dtype=float32),\n",
       " 'b08.jpg': array([[ 0.05263136, -0.00245871, -0.02505562, ..., -0.0140942 ,\n",
       "         -0.00200299, -0.00051993],\n",
       "        [-0.00245871,  0.04463957,  0.00699467, ...,  0.0041372 ,\n",
       "         -0.00183448,  0.01169717],\n",
       "        [-0.02505562,  0.00699467,  0.03689311, ...,  0.00998651,\n",
       "          0.00128721, -0.0014791 ],\n",
       "        ...,\n",
       "        [-0.0140942 ,  0.0041372 ,  0.00998651, ...,  0.08162917,\n",
       "          0.00122504,  0.00168834],\n",
       "        [-0.00200299, -0.00183448,  0.00128721, ...,  0.00122504,\n",
       "          0.03660688,  0.00288567],\n",
       "        [-0.00051993,  0.01169717, -0.0014791 , ...,  0.00168834,\n",
       "          0.00288567,  0.04951796]], dtype=float32),\n",
       " 'b09.jpg': array([[ 0.06157452, -0.00853318, -0.02886903, ..., -0.01439182,\n",
       "         -0.00174092, -0.00677319],\n",
       "        [-0.00853318,  0.06252503,  0.01385173, ...,  0.01601465,\n",
       "         -0.00635939,  0.01423357],\n",
       "        [-0.02886903,  0.01385173,  0.04734971, ...,  0.00962762,\n",
       "          0.00043548,  0.0006112 ],\n",
       "        ...,\n",
       "        [-0.01439182,  0.01601465,  0.00962762, ...,  0.11217188,\n",
       "          0.00080797,  0.01255888],\n",
       "        [-0.00174092, -0.00635939,  0.00043548, ...,  0.00080797,\n",
       "          0.05592795, -0.0004978 ],\n",
       "        [-0.00677319,  0.01423357,  0.0006112 , ...,  0.01255888,\n",
       "         -0.0004978 ,  0.06307619]], dtype=float32),\n",
       " 'b10.jpg': array([[ 0.04477945, -0.01057703, -0.01877547, ..., -0.01112147,\n",
       "         -0.00238437, -0.0103266 ],\n",
       "        [-0.01057703,  0.05696824,  0.01175168, ...,  0.01204093,\n",
       "         -0.00087612,  0.02194765],\n",
       "        [-0.01877547,  0.01175168,  0.04293714, ...,  0.00904896,\n",
       "          0.00285012,  0.0026208 ],\n",
       "        ...,\n",
       "        [-0.01112147,  0.01204093,  0.00904896, ...,  0.11141426,\n",
       "          0.00780004,  0.01464775],\n",
       "        [-0.00238437, -0.00087612,  0.00285012, ...,  0.00780004,\n",
       "          0.05613422,  0.0075608 ],\n",
       "        [-0.0103266 ,  0.02194765,  0.0026208 , ...,  0.01464775,\n",
       "          0.0075608 ,  0.07335705]], dtype=float32),\n",
       " 'b100.jpg': array([[ 2.54671257e-02, -7.72192143e-03, -1.03539275e-02, ...,\n",
       "          7.94437365e-04,  1.52611558e-03, -9.98601085e-04],\n",
       "        [-7.72192143e-03,  2.87603475e-02,  8.54032580e-03, ...,\n",
       "          2.56235595e-03,  1.17594143e-03, -3.75256618e-03],\n",
       "        [-1.03539275e-02,  8.54032580e-03,  2.27677077e-02, ...,\n",
       "         -4.06843028e-04,  8.93951874e-05, -6.74578245e-04],\n",
       "        ...,\n",
       "        [ 7.94437365e-04,  2.56235595e-03, -4.06843028e-04, ...,\n",
       "          4.07235846e-02,  6.04138337e-03, -1.64378365e-03],\n",
       "        [ 1.52611558e-03,  1.17594143e-03,  8.93951874e-05, ...,\n",
       "          6.04138337e-03,  3.25938091e-02, -3.70982755e-03],\n",
       "        [-9.98601085e-04, -3.75256618e-03, -6.74578245e-04, ...,\n",
       "         -1.64378365e-03, -3.70982755e-03,  2.44073421e-02]], dtype=float32),\n",
       " 'b101.jpg': array([[ 0.03956715, -0.00062541, -0.01400249, ..., -0.01169826,\n",
       "         -0.00029621,  0.00197766],\n",
       "        [-0.00062541,  0.0426362 ,  0.00432917, ..., -0.00110621,\n",
       "         -0.00939097, -0.00066455],\n",
       "        [-0.01400249,  0.00432917,  0.03551237, ..., -0.0012845 ,\n",
       "         -0.00719021, -0.01018188],\n",
       "        ...,\n",
       "        [-0.01169826, -0.00110621, -0.0012845 , ...,  0.06061742,\n",
       "          0.00891369,  0.0090916 ],\n",
       "        [-0.00029621, -0.00939097, -0.00719021, ...,  0.00891369,\n",
       "          0.04673343,  0.01305312],\n",
       "        [ 0.00197766, -0.00066455, -0.01018188, ...,  0.0090916 ,\n",
       "          0.01305312,  0.06086981]], dtype=float32),\n",
       " 'b102.jpg': array([[ 0.04567393,  0.00673896, -0.02213013, ..., -0.01124915,\n",
       "         -0.00608404, -0.00230986],\n",
       "        [ 0.00673896,  0.0509645 , -0.0026175 , ..., -0.00816307,\n",
       "         -0.00723169,  0.00124524],\n",
       "        [-0.02213013, -0.0026175 ,  0.04150912, ...,  0.01084624,\n",
       "          0.00610995, -0.00242276],\n",
       "        ...,\n",
       "        [-0.01124915, -0.00816307,  0.01084624, ...,  0.08606917,\n",
       "          0.00724057,  0.00226289],\n",
       "        [-0.00608404, -0.00723169,  0.00610995, ...,  0.00724057,\n",
       "          0.04505732,  0.00400824],\n",
       "        [-0.00230986,  0.00124524, -0.00242276, ...,  0.00226289,\n",
       "          0.00400824,  0.04845618]], dtype=float32),\n",
       " 'b103.jpg': array([[ 0.06339323, -0.0114933 , -0.02004023, ..., -0.01636716,\n",
       "         -0.00511617, -0.01554817],\n",
       "        [-0.0114933 ,  0.05627674,  0.00983399, ...,  0.00377417,\n",
       "         -0.00732738,  0.0090257 ],\n",
       "        [-0.02004023,  0.00983399,  0.04588078, ..., -0.00177975,\n",
       "         -0.00762764, -0.00973403],\n",
       "        ...,\n",
       "        [-0.01636716,  0.00377417, -0.00177975, ...,  0.09663586,\n",
       "          0.01142151,  0.02397755],\n",
       "        [-0.00511617, -0.00732738, -0.00762764, ...,  0.01142151,\n",
       "          0.06490424,  0.01876906],\n",
       "        [-0.01554817,  0.0090257 , -0.00973403, ...,  0.02397755,\n",
       "          0.01876906,  0.10147972]], dtype=float32),\n",
       " 'b104.jpg': array([[ 6.7615226e-02, -2.0989584e-02, -1.9964596e-02, ...,\n",
       "         -6.7255698e-04, -4.6556957e-05, -1.1504863e-02],\n",
       "        [-2.0989584e-02,  6.1182402e-02,  1.8515633e-02, ...,\n",
       "          1.2477759e-02, -3.0376714e-05,  1.4053054e-02],\n",
       "        [-1.9964596e-02,  1.8515633e-02,  4.2625640e-02, ...,\n",
       "          3.0666890e-03,  2.2589620e-03,  6.5994463e-03],\n",
       "        ...,\n",
       "        [-6.7255698e-04,  1.2477759e-02,  3.0666890e-03, ...,\n",
       "          9.0696029e-02,  4.1897194e-03,  4.8912028e-03],\n",
       "        [-4.6556957e-05, -3.0376714e-05,  2.2589620e-03, ...,\n",
       "          4.1897194e-03,  5.5945277e-02, -1.8396496e-04],\n",
       "        [-1.1504863e-02,  1.4053054e-02,  6.5994463e-03, ...,\n",
       "          4.8912028e-03, -1.8396496e-04,  4.7533121e-02]], dtype=float32),\n",
       " 'b105.jpg': array([[ 0.05249963, -0.01790532, -0.01451873, ..., -0.00513186,\n",
       "         -0.00472536, -0.01338707],\n",
       "        [-0.01790532,  0.04441239,  0.01143422, ...,  0.00531109,\n",
       "         -0.00167329,  0.01342106],\n",
       "        [-0.01451873,  0.01143422,  0.04008517, ..., -0.00332979,\n",
       "         -0.00575317, -0.00624706],\n",
       "        ...,\n",
       "        [-0.00513186,  0.00531109, -0.00332979, ...,  0.13480857,\n",
       "          0.00869469,  0.01232594],\n",
       "        [-0.00472536, -0.00167329, -0.00575317, ...,  0.00869469,\n",
       "          0.06197837,  0.00843309],\n",
       "        [-0.01338707,  0.01342106, -0.00624706, ...,  0.01232594,\n",
       "          0.00843309,  0.06144873]], dtype=float32),\n",
       " 'b106.jpg': array([[ 5.96922711e-02, -1.31054930e-02, -2.24919580e-02, ...,\n",
       "         -6.26639230e-03,  6.41677622e-03,  3.32005415e-03],\n",
       "        [-1.31054930e-02,  4.92669642e-02,  1.33346515e-02, ...,\n",
       "          8.42594076e-03, -9.95322596e-03,  9.01419949e-03],\n",
       "        [-2.24919580e-02,  1.33346515e-02,  5.20461537e-02, ...,\n",
       "          3.91344307e-03, -6.45641144e-03, -3.94964218e-03],\n",
       "        ...,\n",
       "        [-6.26639230e-03,  8.42594076e-03,  3.91344307e-03, ...,\n",
       "          1.41938895e-01, -2.66748302e-05,  1.20807467e-02],\n",
       "        [ 6.41677622e-03, -9.95322596e-03, -6.45641144e-03, ...,\n",
       "         -2.66748302e-05,  6.65751025e-02, -4.16490529e-03],\n",
       "        [ 3.32005415e-03,  9.01419949e-03, -3.94964218e-03, ...,\n",
       "          1.20807467e-02, -4.16490529e-03,  5.49394041e-02]], dtype=float32),\n",
       " 'b107.jpg': array([[ 4.4231482e-02, -8.4605077e-03, -1.9045625e-02, ...,\n",
       "         -5.1791691e-03, -2.5455044e-03, -5.8426387e-03],\n",
       "        [-8.4605077e-03,  7.8797914e-02,  1.4608062e-02, ...,\n",
       "          5.9016021e-03, -3.4186814e-05, -4.0284470e-03],\n",
       "        [-1.9045625e-02,  1.4608062e-02,  4.8020806e-02, ...,\n",
       "          7.9944944e-03,  5.4047294e-03,  1.6610597e-04],\n",
       "        ...,\n",
       "        [-5.1791691e-03,  5.9016021e-03,  7.9944944e-03, ...,\n",
       "          8.7477542e-02,  8.3462400e-03,  8.9041814e-03],\n",
       "        [-2.5455044e-03, -3.4186814e-05,  5.4047294e-03, ...,\n",
       "          8.3462400e-03,  6.4933613e-02,  1.0506652e-02],\n",
       "        [-5.8426387e-03, -4.0284470e-03,  1.6610597e-04, ...,\n",
       "          8.9041814e-03,  1.0506652e-02,  6.4964011e-02]], dtype=float32),\n",
       " 'b108.jpg': array([[ 0.03181655, -0.00413186, -0.01203304, ...,  0.00274289,\n",
       "          0.00095081, -0.0083496 ],\n",
       "        [-0.00413186,  0.0510677 ,  0.00401791, ...,  0.00386138,\n",
       "          0.00032748,  0.01060263],\n",
       "        [-0.01203304,  0.00401791,  0.02986144, ...,  0.00362999,\n",
       "          0.00295589, -0.00225642],\n",
       "        ...,\n",
       "        [ 0.00274289,  0.00386138,  0.00362999, ...,  0.06641375,\n",
       "          0.0065265 ,  0.00148512],\n",
       "        [ 0.00095081,  0.00032748,  0.00295589, ...,  0.0065265 ,\n",
       "          0.03719185,  0.00281541],\n",
       "        [-0.0083496 ,  0.01060263, -0.00225642, ...,  0.00148512,\n",
       "          0.00281541,  0.06069032]], dtype=float32),\n",
       " 'b109.jpg': array([[ 0.0521421 , -0.01249895, -0.01734792, ..., -0.00951794,\n",
       "         -0.01123885, -0.00106909],\n",
       "        [-0.01249895,  0.08783036,  0.01543535, ...,  0.00942169,\n",
       "          0.00811658,  0.01457669],\n",
       "        [-0.01734792,  0.01543535,  0.04043924, ...,  0.00058219,\n",
       "          0.00294459, -0.00702091],\n",
       "        ...,\n",
       "        [-0.00951794,  0.00942169,  0.00058219, ...,  0.10058656,\n",
       "          0.00615508,  0.00203938],\n",
       "        [-0.01123885,  0.00811658,  0.00294459, ...,  0.00615508,\n",
       "          0.05637561,  0.00052427],\n",
       "        [-0.00106909,  0.01457669, -0.00702091, ...,  0.00203938,\n",
       "          0.00052427,  0.06680441]], dtype=float32),\n",
       " 'b11.jpg': array([[ 0.0941799 , -0.01818745, -0.02449248, ..., -0.01772155,\n",
       "         -0.00532816, -0.02087459],\n",
       "        [-0.01818745,  0.08799095,  0.01050871, ...,  0.0272172 ,\n",
       "         -0.00304805,  0.05426745],\n",
       "        [-0.02449248,  0.01050871,  0.06658158, ..., -0.0010855 ,\n",
       "         -0.00507479, -0.0024784 ],\n",
       "        ...,\n",
       "        [-0.01772155,  0.0272172 , -0.0010855 , ...,  0.29666612,\n",
       "          0.00958282,  0.04727757],\n",
       "        [-0.00532816, -0.00304805, -0.00507479, ...,  0.00958282,\n",
       "          0.11517977,  0.00371136],\n",
       "        [-0.02087459,  0.05426745, -0.0024784 , ...,  0.04727757,\n",
       "          0.00371136,  0.14334293]], dtype=float32),\n",
       " 'b110.jpg': array([[ 0.0760149 ,  0.00705201, -0.03187851, ..., -0.02205965,\n",
       "         -0.00372209, -0.02389552],\n",
       "        [ 0.00705201,  0.05775484,  0.00328247, ..., -0.00342847,\n",
       "         -0.00429832, -0.00447966],\n",
       "        [-0.03187851,  0.00328247,  0.04954022, ...,  0.01117718,\n",
       "          0.00281346,  0.01279757],\n",
       "        ...,\n",
       "        [-0.02205965, -0.00342847,  0.01117718, ...,  0.09838941,\n",
       "          0.00741727,  0.01975977],\n",
       "        [-0.00372209, -0.00429832,  0.00281346, ...,  0.00741727,\n",
       "          0.06525094,  0.01669963],\n",
       "        [-0.02389552, -0.00447966,  0.01279757, ...,  0.01975977,\n",
       "          0.01669963,  0.07845538]], dtype=float32),\n",
       " 'b111.jpg': array([[ 0.06472155,  0.00690172, -0.02051213, ..., -0.02403845,\n",
       "         -0.00797222, -0.00870372],\n",
       "        [ 0.00690172,  0.05357144,  0.00657873, ..., -0.00780046,\n",
       "         -0.00951053, -0.00718149],\n",
       "        [-0.02051213,  0.00657873,  0.03910807, ...,  0.00430488,\n",
       "         -0.00129605, -0.00121906],\n",
       "        ...,\n",
       "        [-0.02403845, -0.00780046,  0.00430488, ...,  0.08801129,\n",
       "          0.00970545,  0.00823911],\n",
       "        [-0.00797222, -0.00951053, -0.00129605, ...,  0.00970545,\n",
       "          0.05453446,  0.00847628],\n",
       "        [-0.00870372, -0.00718149, -0.00121906, ...,  0.00823911,\n",
       "          0.00847628,  0.05386485]], dtype=float32),\n",
       " 'b112.jpg': array([[ 4.6219409e-02,  6.8754023e-03, -1.5857030e-02, ...,\n",
       "         -1.0551566e-02, -6.6955737e-04, -1.5330049e-03],\n",
       "        [ 6.8754023e-03,  6.8309315e-02, -1.3711677e-05, ...,\n",
       "         -1.0354627e-03, -7.7352687e-03,  4.5667798e-03],\n",
       "        [-1.5857030e-02, -1.3711677e-05,  3.0624084e-02, ...,\n",
       "          4.2777862e-03, -1.9399829e-03, -6.3787312e-03],\n",
       "        ...,\n",
       "        [-1.0551566e-02, -1.0354627e-03,  4.2777862e-03, ...,\n",
       "          8.4881499e-02,  9.5922332e-03,  5.4309266e-03],\n",
       "        [-6.6955737e-04, -7.7352687e-03, -1.9399829e-03, ...,\n",
       "          9.5922332e-03,  4.5120601e-02,  7.6983981e-03],\n",
       "        [-1.5330049e-03,  4.5667798e-03, -6.3787312e-03, ...,\n",
       "          5.4309266e-03,  7.6983981e-03,  5.8904156e-02]], dtype=float32),\n",
       " 'b113.jpg': array([[ 0.06406148, -0.01089327, -0.02471427, ..., -0.01110044,\n",
       "          0.00038828, -0.00441002],\n",
       "        [-0.01089327,  0.05549485,  0.01061426, ...,  0.00857501,\n",
       "         -0.00796832,  0.01619808],\n",
       "        [-0.02471427,  0.01061426,  0.05309028, ...,  0.000545  ,\n",
       "          0.00126867, -0.00233716],\n",
       "        ...,\n",
       "        [-0.01110044,  0.00857501,  0.000545  , ...,  0.16660224,\n",
       "          0.00289397,  0.01267254],\n",
       "        [ 0.00038828, -0.00796832,  0.00126867, ...,  0.00289397,\n",
       "          0.07222871,  0.00093831],\n",
       "        [-0.00441002,  0.01619808, -0.00233716, ...,  0.01267254,\n",
       "          0.00093831,  0.06854609]], dtype=float32),\n",
       " 'b114.jpg': array([[ 8.39842185e-02, -1.16934134e-02, -2.90305782e-02, ...,\n",
       "         -9.45008453e-03,  1.67608843e-04, -6.60685031e-03],\n",
       "        [-1.16934134e-02,  9.44669470e-02,  1.15069207e-02, ...,\n",
       "          2.35219467e-02, -1.37973065e-02,  6.35620058e-02],\n",
       "        [-2.90305782e-02,  1.15069207e-02,  7.59474635e-02, ...,\n",
       "         -7.36421254e-03, -1.64024078e-03, -1.20619349e-02],\n",
       "        ...,\n",
       "        [-9.45008453e-03,  2.35219467e-02, -7.36421254e-03, ...,\n",
       "          2.86486506e-01, -8.51484388e-03,  3.83054428e-02],\n",
       "        [ 1.67608843e-04, -1.37973065e-02, -1.64024078e-03, ...,\n",
       "         -8.51484388e-03,  1.11003861e-01, -1.15831215e-02],\n",
       "        [-6.60685031e-03,  6.35620058e-02, -1.20619349e-02, ...,\n",
       "          3.83054428e-02, -1.15831215e-02,  1.67698339e-01]], dtype=float32),\n",
       " 'b12.jpg': array([[ 0.11909823, -0.01547274, -0.0281069 , ..., -0.00642697,\n",
       "          0.00324357, -0.00794518],\n",
       "        [-0.01547274,  0.15940022,  0.01660419, ...,  0.04908235,\n",
       "         -0.03107259,  0.12650691],\n",
       "        [-0.0281069 ,  0.01660419,  0.12205567, ..., -0.01911209,\n",
       "         -0.01403768, -0.02712774],\n",
       "        ...,\n",
       "        [-0.00642697,  0.04908235, -0.01911209, ...,  0.5312442 ,\n",
       "         -0.01593516,  0.10751025],\n",
       "        [ 0.00324357, -0.03107259, -0.01403768, ..., -0.01593516,\n",
       "          0.20081039, -0.03071438],\n",
       "        [-0.00794518,  0.12650691, -0.02712774, ...,  0.10751025,\n",
       "         -0.03071438,  0.3123147 ]], dtype=float32),\n",
       " 'b13.jpg': array([[ 5.66707440e-02, -1.22565674e-02, -2.11361311e-02, ...,\n",
       "         -7.21530250e-06,  1.88310072e-03, -5.81617886e-03],\n",
       "        [-1.22565674e-02,  6.80262372e-02,  1.14219692e-02, ...,\n",
       "          1.29092550e-02, -1.01317065e-02,  4.59858216e-02],\n",
       "        [-2.11361311e-02,  1.14219692e-02,  5.31468764e-02, ...,\n",
       "         -4.17263014e-03, -1.19955780e-03, -6.19300781e-03],\n",
       "        ...,\n",
       "        [-7.21530250e-06,  1.29092550e-02, -4.17263014e-03, ...,\n",
       "          1.68307275e-01, -6.88322494e-03,  3.44399437e-02],\n",
       "        [ 1.88310072e-03, -1.01317065e-02, -1.19955780e-03, ...,\n",
       "         -6.88322494e-03,  7.50703216e-02, -6.49511488e-03],\n",
       "        [-5.81617886e-03,  4.59858216e-02, -6.19300781e-03, ...,\n",
       "          3.44399437e-02, -6.49511488e-03,  1.32558450e-01]], dtype=float32),\n",
       " 'b14.jpg': array([[ 2.9439569e-02, -8.6480910e-03, -7.0539140e-03, ...,\n",
       "          7.3197429e-05,  4.9841870e-03,  7.0232360e-05],\n",
       "        [-8.6480910e-03,  7.0835009e-02,  8.6964993e-03, ...,\n",
       "          1.5853221e-02, -1.0097384e-02,  3.4977987e-02],\n",
       "        [-7.0539140e-03,  8.6964993e-03,  2.5949961e-02, ...,\n",
       "         -2.3808682e-03, -1.2573515e-03, -9.0977745e-03],\n",
       "        ...,\n",
       "        [ 7.3197429e-05,  1.5853221e-02, -2.3808682e-03, ...,\n",
       "          8.3565988e-02,  1.2622800e-03,  1.8998554e-02],\n",
       "        [ 4.9841870e-03, -1.0097384e-02, -1.2573515e-03, ...,\n",
       "          1.2622800e-03,  3.7569661e-02, -9.4474904e-04],\n",
       "        [ 7.0232360e-05,  3.4977987e-02, -9.0977745e-03, ...,\n",
       "          1.8998554e-02, -9.4474904e-04,  7.7636510e-02]], dtype=float32),\n",
       " 'b15.jpg': array([[ 0.05093539,  0.0037917 , -0.02232423, ..., -0.00852434,\n",
       "          0.00491561,  0.00041289],\n",
       "        [ 0.0037917 ,  0.07380187,  0.00598878, ...,  0.00498585,\n",
       "         -0.00316687, -0.00137513],\n",
       "        [-0.02232423,  0.00598878,  0.0613648 , ...,  0.02526508,\n",
       "          0.00406786, -0.00576308],\n",
       "        ...,\n",
       "        [-0.00852434,  0.00498585,  0.02526508, ...,  0.10401439,\n",
       "          0.00517722, -0.00089937],\n",
       "        [ 0.00491561, -0.00316687,  0.00406786, ...,  0.00517722,\n",
       "          0.05277883, -0.00288883],\n",
       "        [ 0.00041289, -0.00137513, -0.00576308, ..., -0.00089937,\n",
       "         -0.00288883,  0.05976356]], dtype=float32),\n",
       " 'b16.jpg': array([[ 0.02907128, -0.00527121, -0.01436999, ..., -0.00393601,\n",
       "         -0.00330289, -0.00316069],\n",
       "        [-0.00527121,  0.04092965,  0.00341782, ...,  0.00329058,\n",
       "         -0.00250293,  0.0134123 ],\n",
       "        [-0.01436999,  0.00341782,  0.02821613, ...,  0.00154077,\n",
       "          0.00224454, -0.00485451],\n",
       "        ...,\n",
       "        [-0.00393601,  0.00329058,  0.00154077, ...,  0.05118543,\n",
       "          0.0024216 ,  0.00646291],\n",
       "        [-0.00330289, -0.00250293,  0.00224454, ...,  0.0024216 ,\n",
       "          0.03143463,  0.00190959],\n",
       "        [-0.00316069,  0.0134123 , -0.00485451, ...,  0.00646291,\n",
       "          0.00190959,  0.04917246]], dtype=float32),\n",
       " 'b17.jpg': array([[ 0.11891948, -0.0292889 , -0.02944195, ...,  0.00280112,\n",
       "          0.010082  , -0.02799405],\n",
       "        [-0.0292889 ,  0.08955245,  0.02761966, ...,  0.02156834,\n",
       "         -0.01015719,  0.04042945],\n",
       "        [-0.02944195,  0.02761966,  0.08266928, ...,  0.01260471,\n",
       "         -0.00287849,  0.01904013],\n",
       "        ...,\n",
       "        [ 0.00280112,  0.02156834,  0.01260471, ...,  0.15982768,\n",
       "         -0.00277584,  0.01804938],\n",
       "        [ 0.010082  , -0.01015719, -0.00287849, ..., -0.00277584,\n",
       "          0.10920115, -0.00308427],\n",
       "        [-0.02799405,  0.04042945,  0.01904013, ...,  0.01804938,\n",
       "         -0.00308427,  0.1058012 ]], dtype=float32),\n",
       " 'b18.jpg': array([[ 0.05451794, -0.00302808, -0.03020287, ..., -0.01891885,\n",
       "         -0.00027363,  0.00100571],\n",
       "        [-0.00302808,  0.04804187,  0.01049526, ...,  0.00921424,\n",
       "         -0.0030471 ,  0.00746902],\n",
       "        [-0.03020287,  0.01049526,  0.05419821, ...,  0.01803517,\n",
       "          0.00195959, -0.0002101 ],\n",
       "        ...,\n",
       "        [-0.01891885,  0.00921424,  0.01803517, ...,  0.10499927,\n",
       "          0.00361386,  0.00645809],\n",
       "        [-0.00027363, -0.0030471 ,  0.00195959, ...,  0.00361386,\n",
       "          0.04958664,  0.00177624],\n",
       "        [ 0.00100571,  0.00746902, -0.0002101 , ...,  0.00645809,\n",
       "          0.00177624,  0.05157691]], dtype=float32),\n",
       " 'b19.jpg': array([[ 0.05989806, -0.0038712 , -0.02739501, ..., -0.01808658,\n",
       "         -0.00139963,  0.00830714],\n",
       "        [-0.0038712 ,  0.04737734,  0.00787161, ...,  0.00757665,\n",
       "         -0.00265825,  0.01624678],\n",
       "        [-0.02739501,  0.00787161,  0.04234198, ...,  0.01765548,\n",
       "          0.00350413, -0.00677574],\n",
       "        ...,\n",
       "        [-0.01808658,  0.00757665,  0.01765548, ...,  0.10737719,\n",
       "          0.00548753, -0.00473882],\n",
       "        [-0.00139963, -0.00265825,  0.00350413, ...,  0.00548753,\n",
       "          0.04178688, -0.00194109],\n",
       "        [ 0.00830714,  0.01624678, -0.00677574, ..., -0.00473882,\n",
       "         -0.00194109,  0.05589105]], dtype=float32),\n",
       " 'b20.jpg': array([[ 0.03271514, -0.00958396, -0.0072601 , ..., -0.00831485,\n",
       "          0.00169846, -0.00127658],\n",
       "        [-0.00958396,  0.09087051,  0.01932854, ...,  0.01176841,\n",
       "         -0.00585048,  0.0070835 ],\n",
       "        [-0.0072601 ,  0.01932854,  0.04407194, ..., -0.00214356,\n",
       "         -0.00892853, -0.01418719],\n",
       "        ...,\n",
       "        [-0.00831485,  0.01176841, -0.00214356, ...,  0.11465873,\n",
       "          0.00302586,  0.01537903],\n",
       "        [ 0.00169846, -0.00585048, -0.00892853, ...,  0.00302586,\n",
       "          0.06353208,  0.00831647],\n",
       "        [-0.00127658,  0.0070835 , -0.01418719, ...,  0.01537903,\n",
       "          0.00831647,  0.08623102]], dtype=float32),\n",
       " 'b21고누놀이.jpg': array([[ 0.06233153, -0.01760397, -0.01870707, ..., -0.00611024,\n",
       "          0.01229347, -0.01470926],\n",
       "        [-0.01760397,  0.09885508,  0.01068007, ...,  0.04313921,\n",
       "         -0.02779207,  0.07727614],\n",
       "        [-0.01870707,  0.01068007,  0.06085823, ..., -0.00128869,\n",
       "         -0.00708244, -0.00438883],\n",
       "        ...,\n",
       "        [-0.00611024,  0.04313921, -0.00128869, ...,  0.28908435,\n",
       "         -0.01410337,  0.07182658],\n",
       "        [ 0.01229347, -0.02779207, -0.00708244, ..., -0.01410337,\n",
       "          0.10262021, -0.02585361],\n",
       "        [-0.01470926,  0.07727614, -0.00438883, ...,  0.07182658,\n",
       "         -0.02585361,  0.17881785]], dtype=float32),\n",
       " 'b22금강사군첩.jpg': array([[ 0.07013441, -0.02313089, -0.0252788 , ..., -0.0259012 ,\n",
       "          0.01038772, -0.01323678],\n",
       "        [-0.02313089,  0.0928112 ,  0.03533152, ...,  0.02300795,\n",
       "         -0.01008853,  0.04885904],\n",
       "        [-0.0252788 ,  0.03533152,  0.09134621, ...,  0.0144397 ,\n",
       "         -0.00388877,  0.01073182],\n",
       "        ...,\n",
       "        [-0.0259012 ,  0.02300795,  0.0144397 , ...,  0.25315523,\n",
       "         -0.00987569,  0.07287517],\n",
       "        [ 0.01038772, -0.01008853, -0.00388877, ..., -0.00987569,\n",
       "          0.09910566, -0.00933807],\n",
       "        [-0.01323678,  0.04885904,  0.01073182, ...,  0.07287517,\n",
       "         -0.00933807,  0.16572455]], dtype=float32),\n",
       " 'b23기와이기.jpg': array([[ 0.05941107, -0.01197196, -0.02037048, ..., -0.00580773,\n",
       "          0.00982573, -0.004507  ],\n",
       "        [-0.01197196,  0.09642059,  0.01425463, ...,  0.04207738,\n",
       "         -0.04184261,  0.08320408],\n",
       "        [-0.02037048,  0.01425463,  0.07049865, ..., -0.00276866,\n",
       "         -0.00337047, -0.00720648],\n",
       "        ...,\n",
       "        [-0.00580773,  0.04207738, -0.00276866, ...,  0.27115887,\n",
       "         -0.03014144,  0.06271724],\n",
       "        [ 0.00982573, -0.04184261, -0.00337047, ..., -0.03014144,\n",
       "          0.1209581 , -0.04936152],\n",
       "        [-0.004507  ,  0.08320408, -0.00720648, ...,  0.06271724,\n",
       "         -0.04936152,  0.16121528]], dtype=float32),\n",
       " 'b24길쌈.jpg': array([[ 0.05109869, -0.01516607, -0.0149873 , ..., -0.00153977,\n",
       "          0.01196379, -0.00242328],\n",
       "        [-0.01516607,  0.06916423,  0.01082509, ...,  0.02578848,\n",
       "         -0.03281508,  0.04493747],\n",
       "        [-0.0149873 ,  0.01082509,  0.05115899, ..., -0.00195981,\n",
       "         -0.00583214,  0.00094262],\n",
       "        ...,\n",
       "        [-0.00153977,  0.02578848, -0.00195981, ...,  0.18203293,\n",
       "         -0.02086411,  0.03495001],\n",
       "        [ 0.01196379, -0.03281508, -0.00583214, ..., -0.02086411,\n",
       "          0.08575505, -0.03063995],\n",
       "        [-0.00242328,  0.04493747,  0.00094262, ...,  0.03495001,\n",
       "         -0.03063995,  0.08976762]], dtype=float32),\n",
       " 'b25나들이.jpg': array([[ 0.05067228, -0.00549565, -0.01598202, ...,  0.00436935,\n",
       "          0.003659  ,  0.00036171],\n",
       "        [-0.00549565,  0.07992654,  0.01337383, ...,  0.03501829,\n",
       "         -0.02448755,  0.06233658],\n",
       "        [-0.01598202,  0.01337383,  0.05461347, ...,  0.00449793,\n",
       "         -0.00468384,  0.00200689],\n",
       "        ...,\n",
       "        [ 0.00436935,  0.03501829,  0.00449793, ...,  0.25275055,\n",
       "         -0.01681189,  0.05325407],\n",
       "        [ 0.003659  , -0.02448755, -0.00468384, ..., -0.01681189,\n",
       "          0.08837136, -0.03373196],\n",
       "        [ 0.00036171,  0.06233658,  0.00200689, ...,  0.05325407,\n",
       "         -0.03373196,  0.14435238]], dtype=float32),\n",
       " 'b26나룻배.jpg': array([[ 0.03672316, -0.01010365, -0.00815183, ..., -0.01124165,\n",
       "          0.00650939, -0.00356013],\n",
       "        [-0.01010365,  0.04630057,  0.01194892, ...,  0.01681633,\n",
       "         -0.01511414,  0.03382515],\n",
       "        [-0.00815183,  0.01194892,  0.04002683, ...,  0.00506623,\n",
       "         -0.00368073,  0.00586509],\n",
       "        ...,\n",
       "        [-0.01124165,  0.01681633,  0.00506623, ...,  0.1369182 ,\n",
       "         -0.00525334,  0.02869495],\n",
       "        [ 0.00650939, -0.01511414, -0.00368073, ..., -0.00525334,\n",
       "          0.06328879, -0.01851481],\n",
       "        [-0.00356013,  0.03382515,  0.00586509, ...,  0.02869495,\n",
       "         -0.01851481,  0.08672056]], dtype=float32),\n",
       " 'b27논갈이.jpg': array([[ 0.07427523,  0.00275777, -0.01776091, ...,  0.01983976,\n",
       "         -0.00154083,  0.02140597],\n",
       "        [ 0.00275777,  0.09181997,  0.00590564, ...,  0.05208114,\n",
       "         -0.03792672,  0.08629839],\n",
       "        [-0.01776091,  0.00590564,  0.05322829, ..., -0.00903097,\n",
       "         -0.00254688, -0.0121987 ],\n",
       "        ...,\n",
       "        [ 0.01983976,  0.05208114, -0.00903097, ...,  0.3444598 ,\n",
       "         -0.02907522,  0.08614826],\n",
       "        [-0.00154083, -0.03792672, -0.00254688, ..., -0.02907522,\n",
       "          0.09849019, -0.04596969],\n",
       "        [ 0.02140597,  0.08629839, -0.0121987 , ...,  0.08614826,\n",
       "         -0.04596969,  0.16421972]], dtype=float32),\n",
       " 'b28늦은 밤 피리부는 선인.jpg': array([[ 0.06407133, -0.00725643, -0.02142624, ...,  0.00591935,\n",
       "          0.0120641 ,  0.00393722],\n",
       "        [-0.00725643,  0.05377534,  0.01408887, ...,  0.0149269 ,\n",
       "         -0.01470302,  0.02487509],\n",
       "        [-0.02142624,  0.01408887,  0.06361729, ..., -0.00236972,\n",
       "         -0.00764482,  0.00229329],\n",
       "        ...,\n",
       "        [ 0.00591935,  0.0149269 , -0.00236972, ...,  0.20197156,\n",
       "         -0.0116045 ,  0.0422482 ],\n",
       "        [ 0.0120641 , -0.01470302, -0.00764482, ..., -0.0116045 ,\n",
       "          0.07827724, -0.01278656],\n",
       "        [ 0.00393722,  0.02487509,  0.00229329, ...,  0.0422482 ,\n",
       "         -0.01278656,  0.10269331]], dtype=float32),\n",
       " 'b29담배썰기.jpg': array([[ 0.0584447 , -0.00452068, -0.01441834, ...,  0.00849364,\n",
       "         -0.00246167,  0.00321889],\n",
       "        [-0.00452068,  0.0616095 ,  0.00886539, ...,  0.02369498,\n",
       "         -0.0290304 ,  0.04551251],\n",
       "        [-0.01441834,  0.00886539,  0.0437724 , ...,  0.00068278,\n",
       "         -0.0021681 , -0.00416904],\n",
       "        ...,\n",
       "        [ 0.00849364,  0.02369498,  0.00068278, ...,  0.215555  ,\n",
       "         -0.02670158,  0.03882079],\n",
       "        [-0.00246167, -0.0290304 , -0.0021681 , ..., -0.02670158,\n",
       "          0.08858403, -0.03678286],\n",
       "        [ 0.00321889,  0.04551251, -0.00416904, ...,  0.03882079,\n",
       "         -0.03678286,  0.09932597]], dtype=float32),\n",
       " 'b30대장간.jpg': array([[ 0.06345436, -0.00478068, -0.02028275, ...,  0.01243304,\n",
       "          0.00441816,  0.01192265],\n",
       "        [-0.00478068,  0.09010325,  0.00949392, ...,  0.04199451,\n",
       "         -0.04395172,  0.08409124],\n",
       "        [-0.02028275,  0.00949392,  0.06524788, ..., -0.00848662,\n",
       "         -0.00657722, -0.00667874],\n",
       "        ...,\n",
       "        [ 0.01243304,  0.04199451, -0.00848662, ...,  0.2910774 ,\n",
       "         -0.03106946,  0.07042033],\n",
       "        [ 0.00441816, -0.04395172, -0.00657722, ..., -0.03106946,\n",
       "          0.11136454, -0.05724072],\n",
       "        [ 0.01192265,  0.08409124, -0.00667874, ...,  0.07042033,\n",
       "         -0.05724072,  0.16375701]], dtype=float32),\n",
       " 'b31벼타작.jpg': array([[ 7.29849264e-02, -6.66803308e-03, -2.16719303e-02, ...,\n",
       "         -4.15157294e-03,  3.21352831e-03,  5.65275876e-03],\n",
       "        [-6.66803308e-03,  8.40847492e-02,  1.28338942e-02, ...,\n",
       "          4.52815108e-02, -4.27383222e-02,  6.80893883e-02],\n",
       "        [-2.16719303e-02,  1.28338942e-02,  6.81978539e-02, ...,\n",
       "          3.63258272e-03, -9.36635025e-03,  1.02810140e-04],\n",
       "        ...,\n",
       "        [-4.15157294e-03,  4.52815108e-02,  3.63258272e-03, ...,\n",
       "          3.44050527e-01, -2.14151032e-02,  6.73506856e-02],\n",
       "        [ 3.21352831e-03, -4.27383222e-02, -9.36635025e-03, ...,\n",
       "         -2.14151032e-02,  1.24625154e-01, -5.12739196e-02],\n",
       "        [ 5.65275876e-03,  6.80893883e-02,  1.02810140e-04, ...,\n",
       "          6.73506856e-02, -5.12739196e-02,  1.39457226e-01]], dtype=float32),\n",
       " 'b32병진년화첩-옥순봉도.jpg': array([[ 0.11195704, -0.0441959 , -0.04761494, ..., -0.0520324 ,\n",
       "          0.0331289 , -0.0408941 ],\n",
       "        [-0.0441959 ,  0.14240766,  0.04773691, ...,  0.04303178,\n",
       "         -0.0155287 ,  0.05214617],\n",
       "        [-0.04761494,  0.04773691,  0.12327441, ...,  0.01806005,\n",
       "         -0.02024477,  0.03826772],\n",
       "        ...,\n",
       "        [-0.0520324 ,  0.04303178,  0.01806005, ...,  0.23737024,\n",
       "         -0.0137366 ,  0.05937949],\n",
       "        [ 0.0331289 , -0.0155287 , -0.02024477, ..., -0.0137366 ,\n",
       "          0.17341566, -0.01390299],\n",
       "        [-0.0408941 ,  0.05214617,  0.03826772, ...,  0.05937949,\n",
       "         -0.01390299,  0.18118314]], dtype=float32),\n",
       " 'b33빨래터.jpg': array([[ 0.0525953 , -0.00743611, -0.01321151, ..., -0.00081624,\n",
       "          0.00432688,  0.00118823],\n",
       "        [-0.00743611,  0.07625256,  0.00820419, ...,  0.03965729,\n",
       "         -0.03189339,  0.06704741],\n",
       "        [-0.01321151,  0.00820419,  0.04627863, ...,  0.00215711,\n",
       "         -0.00727088, -0.0029515 ],\n",
       "        ...,\n",
       "        [-0.00081624,  0.03965729,  0.00215711, ...,  0.24549213,\n",
       "         -0.0244702 ,  0.06926376],\n",
       "        [ 0.00432688, -0.03189339, -0.00727088, ..., -0.0244702 ,\n",
       "          0.08938471, -0.03851973],\n",
       "        [ 0.00118823,  0.06704741, -0.0029515 , ...,  0.06926376,\n",
       "         -0.03851973,  0.13390034]], dtype=float32),\n",
       " 'b34소림명월도.jpg': array([[ 0.13165988, -0.04244509, -0.04739966, ..., -0.05668983,\n",
       "          0.03500219, -0.06479979],\n",
       "        [-0.04244509,  0.1017535 ,  0.04188222, ...,  0.04076063,\n",
       "         -0.02660288,  0.0922443 ],\n",
       "        [-0.04739966,  0.04188222,  0.12178008, ...,  0.02709909,\n",
       "         -0.02372577,  0.05501016],\n",
       "        ...,\n",
       "        [-0.05668983,  0.04076063,  0.02709909, ...,  0.43252936,\n",
       "         -0.02812432,  0.12480449],\n",
       "        [ 0.03500219, -0.02660288, -0.02372577, ..., -0.02812432,\n",
       "          0.16114484, -0.03602307],\n",
       "        [-0.06479979,  0.0922443 ,  0.05501016, ...,  0.12480449,\n",
       "         -0.03602307,  0.2703672 ]], dtype=float32),\n",
       " 'b35송호도.jpg': array([[ 0.07839731, -0.00283415, -0.02506274, ...,  0.00199366,\n",
       "         -0.01021691,  0.0227154 ],\n",
       "        [-0.00283415,  0.10000179,  0.00265339, ...,  0.0589749 ,\n",
       "         -0.02226661,  0.05133219],\n",
       "        [-0.02506274,  0.00265339,  0.08746852, ..., -0.02172412,\n",
       "         -0.00225942, -0.03343378],\n",
       "        ...,\n",
       "        [ 0.00199366,  0.0589749 , -0.02172412, ...,  0.2780039 ,\n",
       "         -0.02248471,  0.05492422],\n",
       "        [-0.01021691, -0.02226661, -0.00225942, ..., -0.02248471,\n",
       "          0.10800054, -0.02397683],\n",
       "        [ 0.0227154 ,  0.05133219, -0.03343378, ...,  0.05492422,\n",
       "         -0.02397683,  0.12437616]], dtype=float32),\n",
       " 'b36신선과 사슴.jpg': array([[ 0.055276  , -0.01499031, -0.01304615, ..., -0.00679409,\n",
       "          0.00241108, -0.00973933],\n",
       "        [-0.01499031,  0.06112083,  0.01349366, ...,  0.01510272,\n",
       "         -0.01129495,  0.02768942],\n",
       "        [-0.01304615,  0.01349366,  0.06180046, ..., -0.00649707,\n",
       "         -0.0082791 , -0.00175397],\n",
       "        ...,\n",
       "        [-0.00679409,  0.01510272, -0.00649707, ...,  0.16557713,\n",
       "         -0.00208633,  0.02737496],\n",
       "        [ 0.00241108, -0.01129495, -0.0082791 , ..., -0.00208633,\n",
       "          0.07101296, -0.00673232],\n",
       "        [-0.00973933,  0.02768942, -0.00175397, ...,  0.02737496,\n",
       "         -0.00673232,  0.0795503 ]], dtype=float32),\n",
       " 'b37신행길.jpg': array([[ 0.04746976, -0.01064954, -0.01719271, ..., -0.00056808,\n",
       "          0.00660035, -0.00233592],\n",
       "        [-0.01064954,  0.0725421 ,  0.0137172 , ...,  0.03396276,\n",
       "         -0.02348515,  0.04567723],\n",
       "        [-0.01719271,  0.0137172 ,  0.05777069, ...,  0.00457611,\n",
       "         -0.00823277,  0.00175203],\n",
       "        ...,\n",
       "        [-0.00056808,  0.03396276,  0.00457611, ...,  0.24336183,\n",
       "         -0.01851737,  0.04781906],\n",
       "        [ 0.00660035, -0.02348515, -0.00823277, ..., -0.01851737,\n",
       "          0.08893085, -0.02184376],\n",
       "        [-0.00233592,  0.04567723,  0.00175203, ...,  0.04781906,\n",
       "         -0.02184376,  0.12391463]], dtype=float32),\n",
       " 'b38연광정연회도.jpg': array([[ 0.16704312, -0.04432831, -0.05607446, ..., -0.02754652,\n",
       "          0.01994096, -0.04654495],\n",
       "        [-0.04432831,  0.19431965,  0.05989013, ...,  0.04271435,\n",
       "         -0.03147589,  0.0730389 ],\n",
       "        [-0.05607446,  0.05989013,  0.1725727 , ...,  0.01469767,\n",
       "         -0.00657578,  0.02561883],\n",
       "        ...,\n",
       "        [-0.02754652,  0.04271435,  0.01469767, ...,  0.38090566,\n",
       "         -0.01829778,  0.09770117],\n",
       "        [ 0.01994096, -0.03147589, -0.00657578, ..., -0.01829778,\n",
       "          0.18689552, -0.01764292],\n",
       "        [-0.04654495,  0.0730389 ,  0.02561883, ...,  0.09770117,\n",
       "         -0.01764292,  0.3204038 ]], dtype=float32),\n",
       " 'b39자리짜기.jpg': array([[ 0.05431883, -0.00903777, -0.01850883, ..., -0.00389279,\n",
       "          0.00928664, -0.00711098],\n",
       "        [-0.00903777,  0.07613314,  0.01184794, ...,  0.02996921,\n",
       "         -0.04126034,  0.07210382],\n",
       "        [-0.01850883,  0.01184794,  0.05661248, ...,  0.00101562,\n",
       "         -0.00895348,  0.00600835],\n",
       "        ...,\n",
       "        [-0.00389279,  0.02996921,  0.00101562, ...,  0.26599038,\n",
       "         -0.01588431,  0.05588587],\n",
       "        [ 0.00928664, -0.04126034, -0.00895348, ..., -0.01588431,\n",
       "          0.112058  , -0.0524851 ],\n",
       "        [-0.00711098,  0.07210382,  0.00600835, ...,  0.05588587,\n",
       "         -0.0524851 ,  0.14716955]], dtype=float32),\n",
       " 'b40장터길.jpg': array([[ 0.0496668 , -0.01015142, -0.01700866, ..., -0.00030519,\n",
       "          0.00892483, -0.00060219],\n",
       "        [-0.01015142,  0.06393985,  0.01652955, ...,  0.01809953,\n",
       "         -0.02115161,  0.04142787],\n",
       "        [-0.01700866,  0.01652955,  0.05823718, ..., -0.00264074,\n",
       "         -0.00615347,  0.00640177],\n",
       "        ...,\n",
       "        [-0.00030519,  0.01809953, -0.00264074, ...,  0.24813989,\n",
       "         -0.01430798,  0.04346162],\n",
       "        [ 0.00892483, -0.02115161, -0.00615347, ..., -0.01430798,\n",
       "          0.08992818, -0.02552901],\n",
       "        [-0.00060219,  0.04142787,  0.00640177, ...,  0.04346162,\n",
       "         -0.02552901,  0.12265372]], dtype=float32),\n",
       " 'b41점심.jpg': array([[ 0.05358682, -0.00335491, -0.01650239, ...,  0.00372661,\n",
       "          0.00112047,  0.00638578],\n",
       "        [-0.00335491,  0.06937371,  0.01071004, ...,  0.0311146 ,\n",
       "         -0.02566622,  0.04826358],\n",
       "        [-0.01650239,  0.01071004,  0.04785493, ...,  0.00355238,\n",
       "         -0.00741717,  0.00231606],\n",
       "        ...,\n",
       "        [ 0.00372661,  0.0311146 ,  0.00355238, ...,  0.22601289,\n",
       "         -0.0153442 ,  0.04790053],\n",
       "        [ 0.00112047, -0.02566622, -0.00741717, ..., -0.0153442 ,\n",
       "          0.08429445, -0.03431514],\n",
       "        [ 0.00638578,  0.04826358,  0.00231606, ...,  0.04790053,\n",
       "         -0.03431514,  0.10741151]], dtype=float32),\n",
       " 'b42주막.jpg': array([[ 0.05934454, -0.00913912, -0.0193496 , ..., -0.01191206,\n",
       "          0.00786608, -0.00323796],\n",
       "        [-0.00913912,  0.0806207 ,  0.02118706, ...,  0.03723816,\n",
       "         -0.03632443,  0.05514714],\n",
       "        [-0.0193496 ,  0.02118706,  0.07336548, ...,  0.01369886,\n",
       "         -0.01154255,  0.00604405],\n",
       "        ...,\n",
       "        [-0.01191206,  0.03723816,  0.01369886, ...,  0.26378426,\n",
       "         -0.0315796 ,  0.03781341],\n",
       "        [ 0.00786608, -0.03632443, -0.01154255, ..., -0.0315796 ,\n",
       "          0.11426385, -0.04003889],\n",
       "        [-0.00323796,  0.05514714,  0.00604405, ...,  0.03781341,\n",
       "         -0.04003889,  0.1241514 ]], dtype=float32),\n",
       " 'b43처용무.jpg': array([[ 0.11755507,  0.00424333, -0.01191797, ..., -0.00493583,\n",
       "          0.00649928, -0.00405713],\n",
       "        [ 0.00424333,  0.07808904,  0.02032243, ...,  0.01815765,\n",
       "         -0.00999581,  0.00429808],\n",
       "        [-0.01191797,  0.02032243,  0.07486919, ...,  0.01516171,\n",
       "         -0.00045218,  0.00628   ],\n",
       "        ...,\n",
       "        [-0.00493583,  0.01815765,  0.01516171, ...,  0.1838134 ,\n",
       "         -0.00856272,  0.02459087],\n",
       "        [ 0.00649928, -0.00999581, -0.00045218, ..., -0.00856272,\n",
       "          0.100887  , -0.00262708],\n",
       "        [-0.00405713,  0.00429808,  0.00628   , ...,  0.02459087,\n",
       "         -0.00262708,  0.06505309]], dtype=float32),\n",
       " 'b44편자박기.jpg': array([[ 0.04221532, -0.00953636, -0.01094623, ..., -0.00368574,\n",
       "          0.00476287, -0.00511773],\n",
       "        [-0.00953636,  0.06261738,  0.00942008, ...,  0.02203647,\n",
       "         -0.02003907,  0.05049731],\n",
       "        [-0.01094623,  0.00942008,  0.04460419, ..., -0.00075717,\n",
       "         -0.00297569, -0.00065337],\n",
       "        ...,\n",
       "        [-0.00368574,  0.02203647, -0.00075717, ...,  0.1782088 ,\n",
       "         -0.00823213,  0.03766737],\n",
       "        [ 0.00476287, -0.02003907, -0.00297569, ..., -0.00823213,\n",
       "          0.06596193, -0.02086952],\n",
       "        [-0.00511773,  0.05049731, -0.00065337, ...,  0.03766737,\n",
       "         -0.02086952,  0.1124123 ]], dtype=float32),\n",
       " 'b45하화청정도.jpg': array([[ 6.19880036e-02,  9.35227890e-03, -1.34300245e-02, ...,\n",
       "          2.63193380e-02, -1.83814624e-03,  1.55119235e-02],\n",
       "        [ 9.35227890e-03,  8.13689157e-02,  1.19779361e-02, ...,\n",
       "          2.63807550e-02, -2.68457625e-02,  4.87495884e-02],\n",
       "        [-1.34300245e-02,  1.19779361e-02,  4.53237630e-02, ...,\n",
       "         -1.08195841e-03, -1.17125288e-04, -1.27650332e-03],\n",
       "        ...,\n",
       "        [ 2.63193380e-02,  2.63807550e-02, -1.08195841e-03, ...,\n",
       "          2.04227060e-01, -9.90035571e-03,  2.88497787e-02],\n",
       "        [-1.83814624e-03, -2.68457625e-02, -1.17125288e-04, ...,\n",
       "         -9.90035571e-03,  8.05903822e-02, -2.77476255e-02],\n",
       "        [ 1.55119235e-02,  4.87495884e-02, -1.27650332e-03, ...,\n",
       "          2.88497787e-02, -2.77476255e-02,  9.49309170e-02]], dtype=float32),\n",
       " 'b46행상.jpg': array([[ 0.06062563, -0.00567995, -0.0205668 , ...,  0.0003786 ,\n",
       "          0.00311363,  0.00310337],\n",
       "        [-0.00567995,  0.0726021 ,  0.01240258, ...,  0.02761882,\n",
       "         -0.03377381,  0.06574791],\n",
       "        [-0.0205668 ,  0.01240258,  0.05535679, ...,  0.00246982,\n",
       "         -0.00583972,  0.00102978],\n",
       "        ...,\n",
       "        [ 0.0003786 ,  0.02761882,  0.00246982, ...,  0.26505798,\n",
       "         -0.01823034,  0.05246652],\n",
       "        [ 0.00311363, -0.03377381, -0.00583972, ..., -0.01823034,\n",
       "          0.0975832 , -0.04524018],\n",
       "        [ 0.00310337,  0.06574791,  0.00102978, ...,  0.05246652,\n",
       "         -0.04524018,  0.13703726]], dtype=float32),\n",
       " 'b47활쏘기.jpg': array([[ 0.06654469, -0.00811048, -0.02497942, ...,  0.00207444,\n",
       "          0.00630615,  0.00303448],\n",
       "        [-0.00811048,  0.10231118,  0.01311818, ...,  0.04035915,\n",
       "         -0.05123732,  0.09266168],\n",
       "        [-0.02497942,  0.01311818,  0.07378698, ..., -0.00600675,\n",
       "         -0.01043035, -0.0033919 ],\n",
       "        ...,\n",
       "        [ 0.00207444,  0.04035915, -0.00600675, ...,  0.33523825,\n",
       "         -0.03047604,  0.06814402],\n",
       "        [ 0.00630615, -0.05123732, -0.01043035, ..., -0.03047604,\n",
       "          0.13583905, -0.06684868],\n",
       "        [ 0.00303448,  0.09266168, -0.0033919 , ...,  0.06814402,\n",
       "         -0.06684868,  0.18240592]], dtype=float32),\n",
       " 'b48황묘농접도.jpg': array([[ 0.05835888, -0.00763276, -0.01768975, ..., -0.00599553,\n",
       "          0.00811875,  0.00180293],\n",
       "        [-0.00763276,  0.06188758,  0.01051303, ...,  0.01808541,\n",
       "         -0.02524237,  0.02819694],\n",
       "        [-0.01768975,  0.01051303,  0.05477585, ...,  0.00162861,\n",
       "         -0.00255529,  0.00134584],\n",
       "        ...,\n",
       "        [-0.00599553,  0.01808541,  0.00162861, ...,  0.15539579,\n",
       "         -0.01400465,  0.02695265],\n",
       "        [ 0.00811875, -0.02524237, -0.00255529, ..., -0.01400465,\n",
       "          0.08619043, -0.01916483],\n",
       "        [ 0.00180293,  0.02819694,  0.00134584, ...,  0.02695265,\n",
       "         -0.01916483,  0.0612869 ]], dtype=float32),\n",
       " 'b49.jpg': array([[ 0.04726758, -0.00740725, -0.01198398, ...,  0.00277471,\n",
       "          0.00070162, -0.00329565],\n",
       "        [-0.00740725,  0.04833491,  0.00556902, ...,  0.01147376,\n",
       "         -0.01358111,  0.0305063 ],\n",
       "        [-0.01198398,  0.00556902,  0.03396482, ..., -0.0025085 ,\n",
       "         -0.00182083, -0.0044034 ],\n",
       "        ...,\n",
       "        [ 0.00277471,  0.01147376, -0.0025085 , ...,  0.14091784,\n",
       "         -0.00491901,  0.02363336],\n",
       "        [ 0.00070162, -0.01358111, -0.00182083, ..., -0.00491901,\n",
       "          0.06246376, -0.0163293 ],\n",
       "        [-0.00329565,  0.0305063 , -0.0044034 , ...,  0.02363336,\n",
       "         -0.0163293 ,  0.07884934]], dtype=float32),\n",
       " 'b50.jpg': array([[ 0.03487732, -0.00251922, -0.0118755 , ..., -0.00796627,\n",
       "         -0.00384808, -0.00459499],\n",
       "        [-0.00251922,  0.07925594,  0.01480482, ...,  0.01473884,\n",
       "         -0.00047984,  0.00539072],\n",
       "        [-0.0118755 ,  0.01480482,  0.03376411, ...,  0.00614505,\n",
       "          0.00348292,  0.0010455 ],\n",
       "        ...,\n",
       "        [-0.00796627,  0.01473884,  0.00614505, ...,  0.08099555,\n",
       "          0.00528548,  0.00398659],\n",
       "        [-0.00384808, -0.00047984,  0.00348292, ...,  0.00528548,\n",
       "          0.05283139, -0.00151993],\n",
       "        [-0.00459499,  0.00539072,  0.0010455 , ...,  0.00398659,\n",
       "         -0.00151993,  0.05590523]], dtype=float32),\n",
       " 'b51.jpg': array([[ 0.04444989, -0.01008436, -0.01320302, ...,  0.00297634,\n",
       "          0.00277167, -0.00202571],\n",
       "        [-0.01008436,  0.06002646,  0.00880949, ...,  0.01499293,\n",
       "         -0.0123799 ,  0.03806715],\n",
       "        [-0.01320302,  0.00880949,  0.04228032, ..., -0.00675556,\n",
       "         -0.00323701, -0.01338827],\n",
       "        ...,\n",
       "        [ 0.00297634,  0.01499293, -0.00675556, ...,  0.15140049,\n",
       "         -0.00843238,  0.02518472],\n",
       "        [ 0.00277167, -0.0123799 , -0.00323701, ..., -0.00843238,\n",
       "          0.06548626, -0.01398243],\n",
       "        [-0.00202571,  0.03806715, -0.01338827, ...,  0.02518472,\n",
       "         -0.01398243,  0.09749755]], dtype=float32),\n",
       " 'b52.jpg': array([[ 0.03622833, -0.00047858, -0.01686863, ..., -0.00039592,\n",
       "          0.0014297 , -0.00566232],\n",
       "        [-0.00047858,  0.05244405, -0.00171239, ..., -0.0002167 ,\n",
       "         -0.01025861, -0.0032943 ],\n",
       "        [-0.01686863, -0.00171239,  0.03380623, ..., -0.00082861,\n",
       "         -0.00057754, -0.00281969],\n",
       "        ...,\n",
       "        [-0.00039592, -0.0002167 , -0.00082861, ...,  0.05623453,\n",
       "          0.00282024,  0.0042408 ],\n",
       "        [ 0.0014297 , -0.01025861, -0.00057754, ...,  0.00282024,\n",
       "          0.04653133,  0.00815933],\n",
       "        [-0.00566232, -0.0032943 , -0.00281969, ...,  0.0042408 ,\n",
       "          0.00815933,  0.05532304]], dtype=float32),\n",
       " 'b53.jpg': array([[ 0.03547398,  0.0033086 , -0.01941771, ..., -0.00127871,\n",
       "         -0.00074148, -0.00528273],\n",
       "        [ 0.0033086 ,  0.04699433, -0.0014081 , ...,  0.00097753,\n",
       "         -0.00392876, -0.00893433],\n",
       "        [-0.01941771, -0.0014081 ,  0.03100089, ...,  0.00036258,\n",
       "          0.00042902,  0.00105481],\n",
       "        ...,\n",
       "        [-0.00127871,  0.00097753,  0.00036258, ...,  0.03687162,\n",
       "          0.00029367, -0.00203991],\n",
       "        [-0.00074148, -0.00392876,  0.00042902, ...,  0.00029367,\n",
       "          0.04168912,  0.00449217],\n",
       "        [-0.00528273, -0.00893433,  0.00105481, ..., -0.00203991,\n",
       "          0.00449217,  0.04200333]], dtype=float32),\n",
       " 'b54.jpg': array([[ 0.03583076,  0.003506  , -0.01318089, ..., -0.00596484,\n",
       "         -0.0001015 , -0.00580042],\n",
       "        [ 0.003506  ,  0.05491347, -0.0005708 , ...,  0.00209449,\n",
       "         -0.00384885,  0.00936159],\n",
       "        [-0.01318089, -0.0005708 ,  0.02525914, ...,  0.00395362,\n",
       "          0.00053735, -0.00263002],\n",
       "        ...,\n",
       "        [-0.00596484,  0.00209449,  0.00395362, ...,  0.05971284,\n",
       "          0.00537767,  0.00131365],\n",
       "        [-0.0001015 , -0.00384885,  0.00053735, ...,  0.00537767,\n",
       "          0.03347068,  0.00129407],\n",
       "        [-0.00580042,  0.00936159, -0.00263002, ...,  0.00131365,\n",
       "          0.00129407,  0.05080691]], dtype=float32),\n",
       " 'b55.jpg': array([[ 0.03719694,  0.0046522 , -0.013896  , ..., -0.00908537,\n",
       "         -0.00312924, -0.00229876],\n",
       "        [ 0.0046522 ,  0.04781783,  0.00015187, ..., -0.00356559,\n",
       "         -0.00603816,  0.0077284 ],\n",
       "        [-0.013896  ,  0.00015187,  0.02871224, ...,  0.00492161,\n",
       "          0.0012915 , -0.00475015],\n",
       "        ...,\n",
       "        [-0.00908537, -0.00356559,  0.00492161, ...,  0.07445256,\n",
       "          0.00689722, -0.00034478],\n",
       "        [-0.00312924, -0.00603816,  0.0012915 , ...,  0.00689722,\n",
       "          0.04333161,  0.00588212],\n",
       "        [-0.00229876,  0.0077284 , -0.00475015, ..., -0.00034478,\n",
       "          0.00588212,  0.05855843]], dtype=float32),\n",
       " 'b56.jpg': array([[ 2.5143901e-02,  9.3767897e-04, -1.2668245e-02, ...,\n",
       "         -7.8377628e-04, -3.5956856e-03, -6.6881366e-03],\n",
       "        [ 9.3767897e-04,  4.0893745e-02,  7.0625870e-04, ...,\n",
       "          9.3446552e-06, -8.4883310e-03, -1.1378709e-02],\n",
       "        [-1.2668245e-02,  7.0625870e-04,  2.7582711e-02, ...,\n",
       "         -2.6932787e-04,  6.0968865e-03,  4.4337753e-03],\n",
       "        ...,\n",
       "        [-7.8377628e-04,  9.3446552e-06, -2.6932787e-04, ...,\n",
       "          3.7004706e-02,  1.6297491e-03, -4.1409335e-04],\n",
       "        [-3.5956856e-03, -8.4883310e-03,  6.0968865e-03, ...,\n",
       "          1.6297491e-03,  4.3181852e-02,  6.7880400e-03],\n",
       "        [-6.6881366e-03, -1.1378709e-02,  4.4337753e-03, ...,\n",
       "         -4.1409335e-04,  6.7880400e-03,  3.5010852e-02]], dtype=float32),\n",
       " 'b57.jpg': array([[ 0.02408795, -0.0055453 , -0.00789192, ..., -0.0069683 ,\n",
       "         -0.00513313, -0.00191509],\n",
       "        [-0.0055453 ,  0.02599198,  0.00347294, ...,  0.00371506,\n",
       "         -0.00024722,  0.00355464],\n",
       "        [-0.00789192,  0.00347294,  0.01753906, ...,  0.00101046,\n",
       "          0.00120432, -0.0022523 ],\n",
       "        ...,\n",
       "        [-0.0069683 ,  0.00371506,  0.00101046, ...,  0.05139402,\n",
       "          0.0059872 ,  0.00068716],\n",
       "        [-0.00513313, -0.00024722,  0.00120432, ...,  0.0059872 ,\n",
       "          0.02949509, -0.00027891],\n",
       "        [-0.00191509,  0.00355464, -0.0022523 , ...,  0.00068716,\n",
       "         -0.00027891,  0.03060181]], dtype=float32),\n",
       " 'b58.jpg': array([[ 0.03696724, -0.01193274, -0.01365113, ..., -0.00367556,\n",
       "          0.00436705, -0.00638705],\n",
       "        [-0.01193274,  0.03803735,  0.00830343, ...,  0.006516  ,\n",
       "         -0.00345187,  0.01436976],\n",
       "        [-0.01365113,  0.00830343,  0.03520304, ...,  0.00257678,\n",
       "         -0.00079134,  0.00054242],\n",
       "        ...,\n",
       "        [-0.00367556,  0.006516  ,  0.00257678, ...,  0.09079804,\n",
       "          0.00587541,  0.0230166 ],\n",
       "        [ 0.00436705, -0.00345187, -0.00079134, ...,  0.00587541,\n",
       "          0.04829415,  0.00691806],\n",
       "        [-0.00638705,  0.01436976,  0.00054242, ...,  0.0230166 ,\n",
       "          0.00691806,  0.06993371]], dtype=float32),\n",
       " 'b59.jpg': array([[ 0.03234418,  0.00112105, -0.01044285, ..., -0.00933375,\n",
       "         -0.00568291,  0.0033695 ],\n",
       "        [ 0.00112105,  0.03462102,  0.00162157, ...,  0.00168685,\n",
       "          0.00103467,  0.01119691],\n",
       "        [-0.01044285,  0.00162157,  0.01868626, ...,  0.0039942 ,\n",
       "          0.00263521, -0.00650838],\n",
       "        ...,\n",
       "        [-0.00933375,  0.00168685,  0.0039942 , ...,  0.05888934,\n",
       "          0.00775869, -0.00132743],\n",
       "        [-0.00568291,  0.00103467,  0.00263521, ...,  0.00775869,\n",
       "          0.03550042,  0.00584332],\n",
       "        [ 0.0033695 ,  0.01119691, -0.00650838, ..., -0.00132743,\n",
       "          0.00584332,  0.05263719]], dtype=float32),\n",
       " 'b60.jpg': array([[ 0.04170825,  0.00730612, -0.01789166, ..., -0.00887175,\n",
       "         -0.00117336, -0.0044587 ],\n",
       "        [ 0.00730612,  0.04962756, -0.00333956, ..., -0.00042109,\n",
       "         -0.00513842,  0.00731291],\n",
       "        [-0.01789166, -0.00333956,  0.03011874, ...,  0.00727938,\n",
       "          0.00270224, -0.0008251 ],\n",
       "        ...,\n",
       "        [-0.00887175, -0.00042109,  0.00727938, ...,  0.05934991,\n",
       "          0.00373315,  0.00324923],\n",
       "        [-0.00117336, -0.00513842,  0.00270224, ...,  0.00373315,\n",
       "          0.03286671,  0.00212472],\n",
       "        [-0.0044587 ,  0.00731291, -0.0008251 , ...,  0.00324923,\n",
       "          0.00212472,  0.04726603]], dtype=float32),\n",
       " 'b61.jpg': array([[ 0.0347633 , -0.00510291, -0.013127  , ...,  0.00246682,\n",
       "          0.00072969,  0.00180678],\n",
       "        [-0.00510291,  0.05155265,  0.01486825, ...,  0.00710611,\n",
       "         -0.00221551,  0.00548176],\n",
       "        [-0.013127  ,  0.01486825,  0.04013987, ...,  0.00280117,\n",
       "          0.00528355,  0.00233849],\n",
       "        ...,\n",
       "        [ 0.00246682,  0.00710611,  0.00280117, ...,  0.06828531,\n",
       "          0.00322338,  0.0078837 ],\n",
       "        [ 0.00072969, -0.00221551,  0.00528355, ...,  0.00322338,\n",
       "          0.04451663, -0.00233881],\n",
       "        [ 0.00180678,  0.00548176,  0.00233849, ...,  0.0078837 ,\n",
       "         -0.00233881,  0.04706883]], dtype=float32),\n",
       " 'b62.jpg': array([[ 0.03826546, -0.00677207, -0.01424393, ..., -0.00347798,\n",
       "          0.00291507, -0.00629184],\n",
       "        [-0.00677207,  0.08083124,  0.00478777, ...,  0.00664943,\n",
       "         -0.00584246,  0.02768254],\n",
       "        [-0.01424393,  0.00478777,  0.03238936, ...,  0.0012079 ,\n",
       "         -0.00224246, -0.00981438],\n",
       "        ...,\n",
       "        [-0.00347798,  0.00664943,  0.0012079 , ...,  0.07256802,\n",
       "          0.00195981,  0.0130805 ],\n",
       "        [ 0.00291507, -0.00584246, -0.00224246, ...,  0.00195981,\n",
       "          0.03940682,  0.00093577],\n",
       "        [-0.00629184,  0.02768254, -0.00981438, ...,  0.0130805 ,\n",
       "          0.00093577,  0.08530496]], dtype=float32),\n",
       " 'b63.jpg': array([[ 0.02784488, -0.00922267, -0.01327083, ...,  0.00043341,\n",
       "          0.00224028, -0.00377088],\n",
       "        [-0.00922267,  0.03538175,  0.0116266 , ...,  0.00464261,\n",
       "         -0.00127688,  0.00203792],\n",
       "        [-0.01327083,  0.0116266 ,  0.03399308, ...,  0.00165837,\n",
       "          0.0012748 ,  0.00405006],\n",
       "        ...,\n",
       "        [ 0.00043341,  0.00464261,  0.00165837, ...,  0.05664144,\n",
       "          0.00401766,  0.0078114 ],\n",
       "        [ 0.00224028, -0.00127688,  0.0012748 , ...,  0.00401766,\n",
       "          0.03955837,  0.00535263],\n",
       "        [-0.00377088,  0.00203792,  0.00405006, ...,  0.0078114 ,\n",
       "          0.00535263,  0.04483121]], dtype=float32),\n",
       " 'b64.jpg': array([[ 0.03888264, -0.00982271, -0.01729049, ..., -0.01970945,\n",
       "         -0.01382328,  0.00748714],\n",
       "        [-0.00982271,  0.0283462 ,  0.00813771, ...,  0.00526044,\n",
       "          0.0024179 ,  0.0004112 ],\n",
       "        [-0.01729049,  0.00813771,  0.02901092, ...,  0.01011672,\n",
       "          0.00796116, -0.00713865],\n",
       "        ...,\n",
       "        [-0.01970945,  0.00526044,  0.01011672, ...,  0.08070905,\n",
       "          0.01643132, -0.00851525],\n",
       "        [-0.01382328,  0.0024179 ,  0.00796116, ...,  0.01643132,\n",
       "          0.04931038, -0.00689692],\n",
       "        [ 0.00748714,  0.0004112 , -0.00713865, ..., -0.00851525,\n",
       "         -0.00689692,  0.04221546]], dtype=float32),\n",
       " 'b65.jpg': array([[ 0.05482339, -0.01557139, -0.01786112, ..., -0.00397962,\n",
       "          0.00345509, -0.00890871],\n",
       "        [-0.01557139,  0.0590905 ,  0.01607281, ...,  0.0149954 ,\n",
       "         -0.00114324,  0.00951396],\n",
       "        [-0.01786112,  0.01607281,  0.04428754, ...,  0.00288399,\n",
       "         -0.00269277,  0.00328117],\n",
       "        ...,\n",
       "        [-0.00397962,  0.0149954 ,  0.00288399, ...,  0.09417326,\n",
       "          0.00350314,  0.00826803],\n",
       "        [ 0.00345509, -0.00114324, -0.00269277, ...,  0.00350314,\n",
       "          0.05920146,  0.00352624],\n",
       "        [-0.00890871,  0.00951396,  0.00328117, ...,  0.00826803,\n",
       "          0.00352624,  0.05744348]], dtype=float32),\n",
       " 'b66.jpg': array([[ 0.02509701, -0.00594278, -0.01216167, ..., -0.00055698,\n",
       "          0.0027231 ,  0.0004222 ],\n",
       "        [-0.00594278,  0.02460252,  0.0056062 , ..., -0.00118647,\n",
       "         -0.00475145, -0.0006745 ],\n",
       "        [-0.01216167,  0.0056062 ,  0.03899833, ...,  0.00685377,\n",
       "          0.00575881,  0.0038597 ],\n",
       "        ...,\n",
       "        [-0.00055698, -0.00118647,  0.00685377, ...,  0.0496856 ,\n",
       "          0.00529431,  0.00402871],\n",
       "        [ 0.0027231 , -0.00475145,  0.00575881, ...,  0.00529431,\n",
       "          0.03291638,  0.00175841],\n",
       "        [ 0.0004222 , -0.0006745 ,  0.0038597 , ...,  0.00402871,\n",
       "          0.00175841,  0.02603075]], dtype=float32),\n",
       " 'b67.jpg': array([[ 0.03258155, -0.01260523, -0.0140209 , ...,  0.00018958,\n",
       "          0.00189573, -0.00014745],\n",
       "        [-0.01260523,  0.04023708,  0.00976794, ...,  0.00358822,\n",
       "         -0.00661102,  0.0062813 ],\n",
       "        [-0.0140209 ,  0.00976794,  0.02857353, ..., -0.00042014,\n",
       "          0.00183269, -0.0016125 ],\n",
       "        ...,\n",
       "        [ 0.00018958,  0.00358822, -0.00042014, ...,  0.04267772,\n",
       "         -0.00136456, -0.00109422],\n",
       "        [ 0.00189573, -0.00661102,  0.00183269, ..., -0.00136456,\n",
       "          0.03343601, -0.00531315],\n",
       "        [-0.00014745,  0.0062813 , -0.0016125 , ..., -0.00109422,\n",
       "         -0.00531315,  0.0248923 ]], dtype=float32),\n",
       " 'b68.jpg': array([[ 0.03671077, -0.00747862, -0.01872802, ..., -0.00948271,\n",
       "         -0.00799131,  0.00351907],\n",
       "        [-0.00747862,  0.02818072,  0.00853334, ...,  0.00569584,\n",
       "          0.00039353, -0.00158663],\n",
       "        [-0.01872802,  0.00853334,  0.03317424, ...,  0.00428285,\n",
       "          0.00613962, -0.00536527],\n",
       "        ...,\n",
       "        [-0.00948271,  0.00569584,  0.00428285, ...,  0.06690166,\n",
       "          0.00375007, -0.0018022 ],\n",
       "        [-0.00799131,  0.00039353,  0.00613962, ...,  0.00375007,\n",
       "          0.04064206, -0.0044416 ],\n",
       "        [ 0.00351907, -0.00158663, -0.00536527, ..., -0.0018022 ,\n",
       "         -0.0044416 ,  0.03412059]], dtype=float32),\n",
       " 'b69.jpg': array([[ 0.02104819, -0.00835776, -0.00856871, ..., -0.0006351 ,\n",
       "          0.00542912,  0.00042235],\n",
       "        [-0.00835776,  0.03878526,  0.00959763, ...,  0.00345284,\n",
       "         -0.00352577, -0.00520143],\n",
       "        [-0.00856871,  0.00959763,  0.0252241 , ..., -0.003521  ,\n",
       "         -0.00564545, -0.00556079],\n",
       "        ...,\n",
       "        [-0.0006351 ,  0.00345284, -0.003521  , ...,  0.0469536 ,\n",
       "          0.00085421,  0.00239587],\n",
       "        [ 0.00542912, -0.00352577, -0.00564545, ...,  0.00085421,\n",
       "          0.03853357, -0.0034612 ],\n",
       "        [ 0.00042235, -0.00520143, -0.00556079, ...,  0.00239587,\n",
       "         -0.0034612 ,  0.03055109]], dtype=float32),\n",
       " 'b70.jpg': array([[ 0.07150896, -0.01304977, -0.018052  , ...,  0.0085826 ,\n",
       "          0.01371506,  0.00161321],\n",
       "        [-0.01304977,  0.08579258,  0.01939279, ...,  0.01854347,\n",
       "         -0.00491461,  0.02524621],\n",
       "        [-0.018052  ,  0.01939279,  0.06115019, ..., -0.00063726,\n",
       "         -0.0006537 , -0.00422521],\n",
       "        ...,\n",
       "        [ 0.0085826 ,  0.01854347, -0.00063726, ...,  0.16834836,\n",
       "          0.00081891,  0.02192868],\n",
       "        [ 0.01371506, -0.00491461, -0.0006537 , ...,  0.00081891,\n",
       "          0.0909458 ,  0.00053129],\n",
       "        [ 0.00161321,  0.02524621, -0.00422521, ...,  0.02192868,\n",
       "          0.00053129,  0.09265918]], dtype=float32),\n",
       " 'b71.jpg': array([[ 4.3986216e-02, -4.5314147e-03, -1.5511497e-02, ...,\n",
       "          1.0528807e-02,  7.0740137e-04,  7.9498915e-03],\n",
       "        [-4.5314147e-03,  7.1642123e-02,  1.5383186e-02, ...,\n",
       "          1.4385967e-02, -5.4278667e-03,  2.9211251e-02],\n",
       "        [-1.5511497e-02,  1.5383186e-02,  4.6127219e-02, ...,\n",
       "         -1.0245970e-03,  3.3201180e-05, -2.4757814e-03],\n",
       "        ...,\n",
       "        [ 1.0528807e-02,  1.4385967e-02, -1.0245970e-03, ...,\n",
       "          1.2525773e-01,  2.3497913e-03,  2.7610708e-02],\n",
       "        [ 7.0740137e-04, -5.4278667e-03,  3.3201180e-05, ...,\n",
       "          2.3497913e-03,  5.5991605e-02,  2.0186505e-03],\n",
       "        [ 7.9498915e-03,  2.9211251e-02, -2.4757814e-03, ...,\n",
       "          2.7610708e-02,  2.0186505e-03,  9.3594126e-02]], dtype=float32),\n",
       " 'b72.jpg': array([[ 0.03360783, -0.0069411 , -0.01436443, ...,  0.00087254,\n",
       "          0.0011299 , -0.00145128],\n",
       "        [-0.0069411 ,  0.03289649,  0.00929793, ...,  0.00349754,\n",
       "         -0.00481583,  0.00653752],\n",
       "        [-0.01436443,  0.00929793,  0.03067921, ...,  0.00030366,\n",
       "          0.00027477, -0.00174447],\n",
       "        ...,\n",
       "        [ 0.00087254,  0.00349754,  0.00030366, ...,  0.05986678,\n",
       "          0.00089121,  0.00513427],\n",
       "        [ 0.0011299 , -0.00481583,  0.00027477, ...,  0.00089121,\n",
       "          0.03209999, -0.00305065],\n",
       "        [-0.00145128,  0.00653752, -0.00174447, ...,  0.00513427,\n",
       "         -0.00305065,  0.03335674]], dtype=float32),\n",
       " 'b73.jpg': array([[ 0.05936369,  0.0002965 , -0.01863738, ..., -0.01662336,\n",
       "         -0.00448487, -0.01177357],\n",
       "        [ 0.0002965 ,  0.06516812,  0.00917135, ...,  0.00012255,\n",
       "         -0.00688417,  0.00017781],\n",
       "        [-0.01863738,  0.00917135,  0.05017376, ...,  0.00500545,\n",
       "         -0.00077655,  0.00269695],\n",
       "        ...,\n",
       "        [-0.01662336,  0.00012255,  0.00500545, ...,  0.11833727,\n",
       "          0.01381513,  0.02176765],\n",
       "        [-0.00448487, -0.00688417, -0.00077655, ...,  0.01381513,\n",
       "          0.07985502,  0.02444517],\n",
       "        [-0.01177357,  0.00017781,  0.00269695, ...,  0.02176765,\n",
       "          0.02444517,  0.08924157]], dtype=float32),\n",
       " 'b74.jpg': array([[ 2.7459219e-02, -8.0347080e-03, -5.9347185e-03, ...,\n",
       "         -4.2330436e-03, -8.7301881e-04, -5.5650156e-03],\n",
       "        [-8.0347080e-03,  5.2048214e-02,  8.3961487e-03, ...,\n",
       "          3.5358395e-03, -1.7442489e-03, -7.1393704e-05],\n",
       "        [-5.9347185e-03,  8.3961487e-03,  2.6713060e-02, ...,\n",
       "         -1.9559378e-03, -2.9315006e-03, -8.3177108e-03],\n",
       "        ...,\n",
       "        [-4.2330436e-03,  3.5358395e-03, -1.9559378e-03, ...,\n",
       "          8.0306351e-02,  9.2650566e-04,  5.1218225e-03],\n",
       "        [-8.7301881e-04, -1.7442489e-03, -2.9315006e-03, ...,\n",
       "          9.2650566e-04,  5.5458955e-02,  7.2691473e-03],\n",
       "        [-5.5650156e-03, -7.1393704e-05, -8.3177108e-03, ...,\n",
       "          5.1218225e-03,  7.2691473e-03,  6.0300797e-02]], dtype=float32),\n",
       " 'b75.jpg': array([[ 0.07335545, -0.02434602, -0.02872522, ..., -0.00040318,\n",
       "          0.01163621, -0.0044631 ],\n",
       "        [-0.02434602,  0.06560192,  0.02216753, ...,  0.01759315,\n",
       "         -0.00984847,  0.02666611],\n",
       "        [-0.02872522,  0.02216753,  0.06572044, ...,  0.00078179,\n",
       "         -0.0070066 , -0.00033164],\n",
       "        ...,\n",
       "        [-0.00040318,  0.01759315,  0.00078179, ...,  0.1591794 ,\n",
       "          0.00144167,  0.03665279],\n",
       "        [ 0.01163621, -0.00984847, -0.0070066 , ...,  0.00144167,\n",
       "          0.08281565,  0.00059708],\n",
       "        [-0.0044631 ,  0.02666611, -0.00033164, ...,  0.03665279,\n",
       "          0.00059708,  0.10786768]], dtype=float32),\n",
       " 'b76.jpg': array([[ 0.04311698, -0.01268455, -0.01475031, ...,  0.00341495,\n",
       "          0.00786622, -0.0049921 ],\n",
       "        [-0.01268455,  0.04369783,  0.01548368, ...,  0.0011407 ,\n",
       "         -0.00483751,  0.00289956],\n",
       "        [-0.01475031,  0.01548368,  0.04906392, ...,  0.00699956,\n",
       "          0.00422793,  0.01507245],\n",
       "        ...,\n",
       "        [ 0.00341495,  0.0011407 ,  0.00699956, ...,  0.06878558,\n",
       "          0.00508807,  0.01243221],\n",
       "        [ 0.00786622, -0.00483751,  0.00422793, ...,  0.00508807,\n",
       "          0.05101755,  0.0076295 ],\n",
       "        [-0.0049921 ,  0.00289956,  0.01507245, ...,  0.01243221,\n",
       "          0.0076295 ,  0.0544039 ]], dtype=float32),\n",
       " 'b77.jpg': array([[ 0.07779075, -0.00667004, -0.02804455, ..., -0.0197249 ,\n",
       "          0.00064693, -0.01112051],\n",
       "        [-0.00667004,  0.07256999,  0.01409821, ...,  0.00926354,\n",
       "         -0.00244459,  0.0018527 ],\n",
       "        [-0.02804455,  0.01409821,  0.0532536 , ...,  0.01202657,\n",
       "          0.00188828,  0.00425236],\n",
       "        ...,\n",
       "        [-0.0197249 ,  0.00926354,  0.01202657, ...,  0.13335273,\n",
       "          0.00927022,  0.02054881],\n",
       "        [ 0.00064693, -0.00244459,  0.00188828, ...,  0.00927022,\n",
       "          0.07272213,  0.01418182],\n",
       "        [-0.01112051,  0.0018527 ,  0.00425236, ...,  0.02054881,\n",
       "          0.01418182,  0.07704303]], dtype=float32),\n",
       " 'b78.jpg': array([[ 0.03968914, -0.00457134, -0.01388627, ..., -0.0052817 ,\n",
       "         -0.00425219, -0.00760469],\n",
       "        [-0.00457134,  0.0655165 ,  0.01006581, ...,  0.00274114,\n",
       "          0.00293709,  0.02153256],\n",
       "        [-0.01388627,  0.01006581,  0.03431486, ...,  0.00315953,\n",
       "          0.00424661, -0.00296884],\n",
       "        ...,\n",
       "        [-0.0052817 ,  0.00274114,  0.00315953, ...,  0.08487534,\n",
       "          0.00845352,  0.00900664],\n",
       "        [-0.00425219,  0.00293709,  0.00424661, ...,  0.00845352,\n",
       "          0.0470027 ,  0.01363148],\n",
       "        [-0.00760469,  0.02153256, -0.00296884, ...,  0.00900664,\n",
       "          0.01363148,  0.09206543]], dtype=float32),\n",
       " 'b79.jpg': array([[ 0.01575404, -0.0017473 , -0.00657582, ..., -0.00067777,\n",
       "         -0.00091908,  0.00196737],\n",
       "        [-0.0017473 ,  0.01832369,  0.0026358 , ...,  0.00029528,\n",
       "         -0.00118784,  0.00338728],\n",
       "        [-0.00657582,  0.0026358 ,  0.01306228, ..., -0.00085337,\n",
       "          0.00036974, -0.00272702],\n",
       "        ...,\n",
       "        [-0.00067777,  0.00029528, -0.00085337, ...,  0.03426505,\n",
       "          0.00153966, -0.0038836 ],\n",
       "        [-0.00091908, -0.00118784,  0.00036974, ...,  0.00153966,\n",
       "          0.02083431, -0.00565886],\n",
       "        [ 0.00196737,  0.00338728, -0.00272702, ..., -0.0038836 ,\n",
       "         -0.00565886,  0.02799581]], dtype=float32),\n",
       " 'b80.jpg': array([[ 0.03230432,  0.01006596, -0.02125004, ...,  0.00101783,\n",
       "         -0.00120584, -0.00070706],\n",
       "        [ 0.01006596,  0.03913416, -0.01131037, ...,  0.00237858,\n",
       "         -0.00818217, -0.00414745],\n",
       "        [-0.02125004, -0.01131037,  0.04524368, ..., -0.00223699,\n",
       "          0.0063637 , -0.00703944],\n",
       "        ...,\n",
       "        [ 0.00101783,  0.00237858, -0.00223699, ...,  0.03899649,\n",
       "         -0.00022283, -0.0020005 ],\n",
       "        [-0.00120584, -0.00818217,  0.0063637 , ..., -0.00022283,\n",
       "          0.0464571 , -0.00113696],\n",
       "        [-0.00070706, -0.00414745, -0.00703944, ..., -0.0020005 ,\n",
       "         -0.00113696,  0.03481078]], dtype=float32),\n",
       " 'b81.jpg': array([[ 0.06011058, -0.00951497, -0.01520274, ..., -0.01380971,\n",
       "          0.00190868, -0.01195539],\n",
       "        [-0.00951497,  0.08285858,  0.01673941, ...,  0.00151662,\n",
       "         -0.01319923, -0.0069575 ],\n",
       "        [-0.01520274,  0.01673941,  0.05128152, ..., -0.00319444,\n",
       "         -0.01194703, -0.00902704],\n",
       "        ...,\n",
       "        [-0.01380971,  0.00151662, -0.00319444, ...,  0.11456593,\n",
       "          0.01156649,  0.02825825],\n",
       "        [ 0.00190868, -0.01319923, -0.01194703, ...,  0.01156649,\n",
       "          0.08464284,  0.02502524],\n",
       "        [-0.01195539, -0.0069575 , -0.00902704, ...,  0.02825825,\n",
       "          0.02502524,  0.0954183 ]], dtype=float32),\n",
       " 'b82.jpg': array([[ 0.03001357, -0.00683649, -0.01017114, ...,  0.00299607,\n",
       "          0.00444764,  0.00024618],\n",
       "        [-0.00683649,  0.03477428,  0.00545761, ...,  0.0033207 ,\n",
       "         -0.00375588,  0.00846622],\n",
       "        [-0.01017114,  0.00545761,  0.02989601, ...,  0.00186514,\n",
       "          0.00021453, -0.00245744],\n",
       "        ...,\n",
       "        [ 0.00299607,  0.0033207 ,  0.00186514, ...,  0.06732718,\n",
       "          0.00368452,  0.01127083],\n",
       "        [ 0.00444764, -0.00375588,  0.00021453, ...,  0.00368452,\n",
       "          0.035831  ,  0.00268237],\n",
       "        [ 0.00024618,  0.00846622, -0.00245744, ...,  0.01127083,\n",
       "          0.00268237,  0.04575374]], dtype=float32),\n",
       " 'b83.jpg': array([[ 2.8108006e-02, -4.7362847e-03, -9.1637624e-03, ...,\n",
       "          2.5780571e-03,  2.7095922e-03, -3.1002439e-03],\n",
       "        [-4.7362847e-03,  3.2812469e-02,  7.6413122e-03, ...,\n",
       "          3.2740771e-03,  3.0083964e-03, -3.3081467e-03],\n",
       "        [-9.1637624e-03,  7.6413122e-03,  2.5030278e-02, ...,\n",
       "         -1.0618874e-03,  1.1022202e-03, -2.6427472e-03],\n",
       "        ...,\n",
       "        [ 2.5780571e-03,  3.2740771e-03, -1.0618874e-03, ...,\n",
       "          5.9850272e-02,  1.0019956e-02,  1.6667476e-03],\n",
       "        [ 2.7095922e-03,  3.0083964e-03,  1.1022202e-03, ...,\n",
       "          1.0019956e-02,  4.3227348e-02,  7.3558484e-05],\n",
       "        [-3.1002439e-03, -3.3081467e-03, -2.6427472e-03, ...,\n",
       "          1.6667476e-03,  7.3558484e-05,  3.0148122e-02]], dtype=float32),\n",
       " 'b84.jpg': array([[ 0.06057442, -0.01347045, -0.02185152, ..., -0.00368232,\n",
       "          0.00204306, -0.00569268],\n",
       "        [-0.01347045,  0.08692368,  0.01996583, ...,  0.00217341,\n",
       "         -0.011482  ,  0.00052501],\n",
       "        [-0.02185152,  0.01996583,  0.06802484, ...,  0.00192501,\n",
       "         -0.0025874 , -0.00077077],\n",
       "        ...,\n",
       "        [-0.00368232,  0.00217341,  0.00192501, ...,  0.14990813,\n",
       "          0.0103866 ,  0.0312659 ],\n",
       "        [ 0.00204306, -0.011482  , -0.0025874 , ...,  0.0103866 ,\n",
       "          0.09230559,  0.02429019],\n",
       "        [-0.00569268,  0.00052501, -0.00077077, ...,  0.0312659 ,\n",
       "          0.02429019,  0.12200043]], dtype=float32),\n",
       " 'b85.jpg': array([[ 0.02745695, -0.00890945, -0.0100171 , ..., -0.00438133,\n",
       "         -0.00470953,  0.00015329],\n",
       "        [-0.00890945,  0.03148412,  0.00911227, ...,  0.00188378,\n",
       "         -0.00215351, -0.00308017],\n",
       "        [-0.0100171 ,  0.00911227,  0.02287396, ..., -0.00113199,\n",
       "         -0.00102737, -0.00344885],\n",
       "        ...,\n",
       "        [-0.00438133,  0.00188378, -0.00113199, ...,  0.0463515 ,\n",
       "          0.00460235,  0.0002285 ],\n",
       "        [-0.00470953, -0.00215351, -0.00102737, ...,  0.00460235,\n",
       "          0.02870233, -0.00203637],\n",
       "        [ 0.00015329, -0.00308017, -0.00344885, ...,  0.0002285 ,\n",
       "         -0.00203637,  0.02682044]], dtype=float32),\n",
       " 'b86.jpg': array([[ 0.0242029 , -0.00470243, -0.00779704, ..., -0.00149251,\n",
       "         -0.0025012 , -0.00097014],\n",
       "        [-0.00470243,  0.03074833,  0.00668693, ...,  0.0006357 ,\n",
       "         -0.00177632,  0.00522229],\n",
       "        [-0.00779704,  0.00668693,  0.02393692, ...,  0.0005609 ,\n",
       "          0.00299494, -0.00265235],\n",
       "        ...,\n",
       "        [-0.00149251,  0.0006357 ,  0.0005609 , ...,  0.06709994,\n",
       "          0.00903391,  0.00047131],\n",
       "        [-0.0025012 , -0.00177632,  0.00299494, ...,  0.00903391,\n",
       "          0.04023752,  0.00038464],\n",
       "        [-0.00097014,  0.00522229, -0.00265235, ...,  0.00047131,\n",
       "          0.00038464,  0.03682158]], dtype=float32),\n",
       " 'b87.jpg': array([[ 0.06049879,  0.01186607, -0.04682927, ..., -0.00688081,\n",
       "         -0.02333478, -0.00012978],\n",
       "        [ 0.01186607,  0.04798432, -0.01175966, ..., -0.00420236,\n",
       "         -0.01596576,  0.00066731],\n",
       "        [-0.04682927, -0.01175966,  0.08540511, ...,  0.00910507,\n",
       "          0.03779511, -0.00045733],\n",
       "        ...,\n",
       "        [-0.00688081, -0.00420236,  0.00910507, ...,  0.06831331,\n",
       "          0.006509  , -0.00195888],\n",
       "        [-0.02333478, -0.01596576,  0.03779511, ...,  0.006509  ,\n",
       "          0.07758632,  0.00373425],\n",
       "        [-0.00012978,  0.00066731, -0.00045733, ..., -0.00195888,\n",
       "          0.00373425,  0.04234337]], dtype=float32),\n",
       " 'b88.jpg': array([[ 0.02275371, -0.00362279, -0.0100789 , ..., -0.00103422,\n",
       "          0.00174873, -0.00031482],\n",
       "        [-0.00362279,  0.02677747,  0.00309727, ...,  0.00243896,\n",
       "         -0.00451041,  0.00528569],\n",
       "        [-0.0100789 ,  0.00309727,  0.02730074, ...,  0.00256575,\n",
       "          0.00259283, -0.0001401 ],\n",
       "        ...,\n",
       "        [-0.00103422,  0.00243896,  0.00256575, ...,  0.04994459,\n",
       "          0.00342922,  0.00682708],\n",
       "        [ 0.00174873, -0.00451041,  0.00259283, ...,  0.00342922,\n",
       "          0.03169969,  0.00234272],\n",
       "        [-0.00031482,  0.00528569, -0.0001401 , ...,  0.00682708,\n",
       "          0.00234272,  0.03473901]], dtype=float32),\n",
       " 'b89.jpg': array([[ 0.03477744, -0.0023451 , -0.01259559, ..., -0.00297831,\n",
       "          0.00192095, -0.00331405],\n",
       "        [-0.0023451 ,  0.05768734,  0.00807234, ...,  0.00661765,\n",
       "         -0.00366784,  0.00993883],\n",
       "        [-0.01259559,  0.00807234,  0.03220703, ...,  0.00574626,\n",
       "          0.00054221, -0.00286129],\n",
       "        ...,\n",
       "        [-0.00297831,  0.00661765,  0.00574626, ...,  0.07137894,\n",
       "          0.00554812,  0.00402413],\n",
       "        [ 0.00192095, -0.00366784,  0.00054221, ...,  0.00554812,\n",
       "          0.04016472,  0.00060307],\n",
       "        [-0.00331405,  0.00993883, -0.00286129, ...,  0.00402413,\n",
       "          0.00060307,  0.05360179]], dtype=float32),\n",
       " 'b90.jpg': array([[ 2.2386754e-02, -6.2514078e-03, -9.7490577e-03, ...,\n",
       "         -3.0698636e-04, -2.0067386e-05, -1.9519298e-03],\n",
       "        [-6.2514078e-03,  2.8849345e-02,  7.4118087e-03, ...,\n",
       "          1.9352578e-03,  4.8938193e-05, -4.3593156e-03],\n",
       "        [-9.7490577e-03,  7.4118087e-03,  2.2755869e-02, ...,\n",
       "          3.6428258e-04,  2.3582603e-03, -1.4573352e-03],\n",
       "        ...,\n",
       "        [-3.0698636e-04,  1.9352578e-03,  3.6428258e-04, ...,\n",
       "          4.6322949e-02,  5.4258583e-03, -9.0359960e-04],\n",
       "        [-2.0067386e-05,  4.8938193e-05,  2.3582603e-03, ...,\n",
       "          5.4258583e-03,  3.4471095e-02, -3.2076258e-03],\n",
       "        [-1.9519298e-03, -4.3593156e-03, -1.4573352e-03, ...,\n",
       "         -9.0359960e-04, -3.2076258e-03,  2.6886221e-02]], dtype=float32),\n",
       " 'b91.jpg': array([[ 0.0549318 , -0.00749717, -0.01936658, ..., -0.00503415,\n",
       "         -0.00547277, -0.02397783],\n",
       "        [-0.00749717,  0.08256267,  0.01120396, ...,  0.00380672,\n",
       "         -0.005628  ,  0.0066051 ],\n",
       "        [-0.01936658,  0.01120396,  0.05708266, ...,  0.00863239,\n",
       "          0.00833379,  0.01531082],\n",
       "        ...,\n",
       "        [-0.00503415,  0.00380672,  0.00863239, ...,  0.13021648,\n",
       "          0.01087727,  0.02617493],\n",
       "        [-0.00547277, -0.005628  ,  0.00833379, ...,  0.01087727,\n",
       "          0.0890078 ,  0.03274965],\n",
       "        [-0.02397783,  0.0066051 ,  0.01531082, ...,  0.02617493,\n",
       "          0.03274965,  0.12490411]], dtype=float32),\n",
       " 'b92.jpg': array([[ 0.03874031, -0.0043106 , -0.0176377 , ..., -0.00773242,\n",
       "         -0.00384324, -0.01238238],\n",
       "        [-0.0043106 ,  0.05811867,  0.00270608, ..., -0.000838  ,\n",
       "         -0.00091341,  0.0201551 ],\n",
       "        [-0.0176377 ,  0.00270608,  0.04330463, ...,  0.01227554,\n",
       "          0.00634313,  0.00394927],\n",
       "        ...,\n",
       "        [-0.00773242, -0.000838  ,  0.01227554, ...,  0.09859677,\n",
       "          0.0032107 ,  0.0165199 ],\n",
       "        [-0.00384324, -0.00091341,  0.00634313, ...,  0.0032107 ,\n",
       "          0.05023143,  0.00852107],\n",
       "        [-0.01238238,  0.0201551 ,  0.00394927, ...,  0.0165199 ,\n",
       "          0.00852107,  0.0820074 ]], dtype=float32),\n",
       " 'b93.jpg': array([[ 0.02715091, -0.00466525, -0.00764969, ...,  0.00195926,\n",
       "          0.00041089, -0.0015096 ],\n",
       "        [-0.00466525,  0.05791098,  0.00710043, ...,  0.00501567,\n",
       "          0.0004206 ,  0.00584491],\n",
       "        [-0.00764969,  0.00710043,  0.03181125, ..., -0.00561531,\n",
       "         -0.00680893, -0.01648338],\n",
       "        ...,\n",
       "        [ 0.00195926,  0.00501567, -0.00561531, ...,  0.08010967,\n",
       "          0.00227289,  0.00709579],\n",
       "        [ 0.00041089,  0.0004206 , -0.00680893, ...,  0.00227289,\n",
       "          0.04923189,  0.01114555],\n",
       "        [-0.0015096 ,  0.00584491, -0.01648338, ...,  0.00709579,\n",
       "          0.01114555,  0.07758583]], dtype=float32),\n",
       " 'b94.jpg': array([[ 0.0379381 , -0.0058561 , -0.01805663, ..., -0.01089138,\n",
       "         -0.0088623 ,  0.0061505 ],\n",
       "        [-0.0058561 ,  0.02213646,  0.0066644 , ...,  0.003282  ,\n",
       "         -0.00173204, -0.00147032],\n",
       "        [-0.01805663,  0.0066644 ,  0.02794692, ...,  0.00386006,\n",
       "          0.00517734, -0.00558669],\n",
       "        ...,\n",
       "        [-0.01089138,  0.003282  ,  0.00386006, ...,  0.05267977,\n",
       "          0.00444504, -0.00300722],\n",
       "        [-0.0088623 , -0.00173204,  0.00517734, ...,  0.00444504,\n",
       "          0.03414446, -0.00729672],\n",
       "        [ 0.0061505 , -0.00147032, -0.00558669, ..., -0.00300722,\n",
       "         -0.00729672,  0.02984006]], dtype=float32),\n",
       " 'b95.jpg': array([[ 4.01585922e-02, -2.56794016e-03, -1.17919035e-02, ...,\n",
       "         -4.92324540e-03,  6.65136395e-06, -8.90948903e-03],\n",
       "        [-2.56794016e-03,  7.80529752e-02,  6.30549388e-03, ...,\n",
       "          1.54008446e-02,  2.91822082e-03,  2.45021954e-02],\n",
       "        [-1.17919035e-02,  6.30549388e-03,  3.12630236e-02, ...,\n",
       "          3.38348770e-03,  3.18470853e-03, -1.89405575e-03],\n",
       "        ...,\n",
       "        [-4.92324540e-03,  1.54008446e-02,  3.38348770e-03, ...,\n",
       "          9.76593271e-02,  4.05084947e-03,  7.98513927e-03],\n",
       "        [ 6.65136395e-06,  2.91822082e-03,  3.18470853e-03, ...,\n",
       "          4.05084947e-03,  5.65014891e-02,  4.32447909e-04],\n",
       "        [-8.90948903e-03,  2.45021954e-02, -1.89405575e-03, ...,\n",
       "          7.98513927e-03,  4.32447909e-04,  8.02233815e-02]], dtype=float32),\n",
       " 'b96.jpg': array([[ 0.06749131, -0.02200065, -0.02162434, ..., -0.01221659,\n",
       "          0.00304933, -0.00980981],\n",
       "        [-0.02200065,  0.09948934,  0.02478234, ...,  0.00876062,\n",
       "         -0.01197304,  0.00560916],\n",
       "        [-0.02162434,  0.02478234,  0.06544026, ..., -0.0014485 ,\n",
       "         -0.01284538, -0.01384928],\n",
       "        ...,\n",
       "        [-0.01221659,  0.00876062, -0.0014485 , ...,  0.14950106,\n",
       "          0.0092695 ,  0.03400294],\n",
       "        [ 0.00304933, -0.01197304, -0.01284538, ...,  0.0092695 ,\n",
       "          0.10023814,  0.02391764],\n",
       "        [-0.00980981,  0.00560916, -0.01384928, ...,  0.03400294,\n",
       "          0.02391764,  0.12697043]], dtype=float32),\n",
       " 'b97.jpg': array([[ 0.06302974, -0.01253425, -0.02057274, ...,  0.00104043,\n",
       "          0.00606066, -0.01112713],\n",
       "        [-0.01253425,  0.0806862 ,  0.0210707 , ...,  0.01623991,\n",
       "         -0.00067606,  0.01732321],\n",
       "        [-0.02057274,  0.0210707 ,  0.05711599, ...,  0.00467018,\n",
       "         -0.0029316 ,  0.00910923],\n",
       "        ...,\n",
       "        [ 0.00104043,  0.01623991,  0.00467018, ...,  0.108032  ,\n",
       "          0.00027127,  0.01249315],\n",
       "        [ 0.00606066, -0.00067606, -0.0029316 , ...,  0.00027127,\n",
       "          0.07176521,  0.00339298],\n",
       "        [-0.01112713,  0.01732321,  0.00910923, ...,  0.01249315,\n",
       "          0.00339298,  0.07645185]], dtype=float32),\n",
       " 'b98.jpg': array([[ 0.03318965, -0.00270147, -0.01480293, ..., -0.0044996 ,\n",
       "         -0.00062504, -0.00126022],\n",
       "        [-0.00270147,  0.05212079,  0.00683188, ...,  0.0033444 ,\n",
       "         -0.00572   ,  0.00970474],\n",
       "        [-0.01480293,  0.00683188,  0.03130432, ...,  0.0045579 ,\n",
       "          0.00034498, -0.00271553],\n",
       "        ...,\n",
       "        [-0.0044996 ,  0.0033444 ,  0.0045579 , ...,  0.07085208,\n",
       "          0.00479556,  0.00757613],\n",
       "        [-0.00062504, -0.00572   ,  0.00034498, ...,  0.00479556,\n",
       "          0.03867948,  0.00229289],\n",
       "        [-0.00126022,  0.00970474, -0.00271553, ...,  0.00757613,\n",
       "          0.00229289,  0.05730438]], dtype=float32),\n",
       " 'b99.jpg': array([[ 0.03741265, -0.01172652, -0.01503608, ...,  0.00297851,\n",
       "          0.00576439, -0.00395859],\n",
       "        [-0.01172652,  0.05608998,  0.00978466, ..., -0.00156707,\n",
       "         -0.01387868, -0.01468327],\n",
       "        [-0.01503608,  0.00978466,  0.04536773, ..., -0.00031978,\n",
       "          0.00533159,  0.00604418],\n",
       "        ...,\n",
       "        [ 0.00297851, -0.00156707, -0.00031978, ...,  0.06652724,\n",
       "          0.00468291,  0.00536285],\n",
       "        [ 0.00576439, -0.01387868,  0.00533159, ...,  0.00468291,\n",
       "          0.06538418,  0.01713853],\n",
       "        [-0.00395859, -0.01468327,  0.00604418, ...,  0.00536285,\n",
       "          0.01713853,  0.06636463]], dtype=float32)}"
      ]
     },
     "execution_count": 18,
     "metadata": {},
     "output_type": "execute_result"
    }
   ],
   "source": [
    "data"
   ]
  },
  {
   "cell_type": "code",
   "execution_count": 19,
   "metadata": {},
   "outputs": [
    {
     "name": "stdout",
     "output_type": "stream",
     "text": [
      "(114,)\n",
      "(114, 256, 256)\n",
      "(114, 65536)\n"
     ]
    }
   ],
   "source": [
    "# get a list of the filenames\n",
    "filenames = np.array(list(data.keys()))\n",
    "print(filenames.shape)\n",
    "\n",
    "# get a list of just the features\n",
    "feat = np.array(list(data.values()))\n",
    "print(feat.shape)\n",
    "\n",
    "feat_resh = feat.reshape(114, -1)\n",
    "print(feat_resh.shape)"
   ]
  },
  {
   "cell_type": "code",
   "execution_count": 20,
   "metadata": {},
   "outputs": [
    {
     "name": "stderr",
     "output_type": "stream",
     "text": [
      "D:\\Anaconda3\\envs\\oriental_v1\\lib\\site-packages\\sklearn\\cluster\\_kmeans.py:793: FutureWarning: 'n_jobs' was deprecated in version 0.23 and will be removed in 1.0 (renaming of 0.25).\n",
      "  \" removed in 1.0 (renaming of 0.25).\", FutureWarning)\n"
     ]
    },
    {
     "data": {
      "text/plain": [
       "KMeans(n_clusters=3, n_jobs=8, random_state=42)"
      ]
     },
     "execution_count": 20,
     "metadata": {},
     "output_type": "execute_result"
    }
   ],
   "source": [
    "#kmeans = KMeans(n_clusters=3, n_jobs=8, random_state=42, max_iter=100)\n",
    "kmeans = KMeans(n_clusters=3, n_jobs=8, random_state=42)\n",
    "kmeans.fit(feat_resh)"
   ]
  },
  {
   "cell_type": "code",
   "execution_count": 21,
   "metadata": {},
   "outputs": [
    {
     "data": {
      "text/plain": [
       "array([0, 0, 0, 0, 0, 0, 2, 0, 0, 0, 0, 0, 0, 0, 0, 0, 0, 0, 0, 0, 2, 0,\n",
       "       0, 0, 0, 2, 1, 2, 0, 0, 0, 2, 0, 0, 0, 2, 2, 2, 2, 2, 2, 2, 2, 2,\n",
       "       2, 2, 1, 2, 1, 2, 2, 2, 1, 2, 2, 2, 2, 2, 2, 2, 2, 2, 2, 0, 0, 0,\n",
       "       0, 0, 0, 0, 0, 0, 0, 0, 0, 0, 0, 0, 0, 0, 0, 0, 0, 0, 0, 0, 0, 0,\n",
       "       0, 2, 0, 0, 0, 0, 0, 0, 0, 0, 0, 0, 0, 0, 0, 0, 0, 0, 0, 0, 0, 0,\n",
       "       0, 0, 0, 0])"
      ]
     },
     "execution_count": 21,
     "metadata": {},
     "output_type": "execute_result"
    }
   ],
   "source": [
    "kmeans.labels_"
   ]
  },
  {
   "cell_type": "code",
   "execution_count": 22,
   "metadata": {},
   "outputs": [
    {
     "data": {
      "text/plain": [
       "114"
      ]
     },
     "execution_count": 22,
     "metadata": {},
     "output_type": "execute_result"
    }
   ],
   "source": [
    "len(kmeans.labels_)"
   ]
  },
  {
   "cell_type": "code",
   "execution_count": 23,
   "metadata": {},
   "outputs": [
    {
     "data": {
      "text/plain": [
       "array([[ 0.04166927, -0.00539597, -0.01604619, ...,  0.00773096,\n",
       "         0.00355729,  0.05958238],\n",
       "       [ 0.13243957, -0.03661051, -0.04479899, ...,  0.09734885,\n",
       "        -0.02457084,  0.27106723],\n",
       "       [ 0.06503568, -0.00984312, -0.01953047, ...,  0.04698005,\n",
       "        -0.02642296,  0.12430751]], dtype=float32)"
      ]
     },
     "execution_count": 23,
     "metadata": {},
     "output_type": "execute_result"
    }
   ],
   "source": [
    "kmeans.cluster_centers_"
   ]
  },
  {
   "cell_type": "code",
   "execution_count": 24,
   "metadata": {},
   "outputs": [
    {
     "data": {
      "text/plain": [
       "(3, 65536)"
      ]
     },
     "execution_count": 24,
     "metadata": {},
     "output_type": "execute_result"
    }
   ],
   "source": [
    "kmeans.cluster_centers_.shape"
   ]
  },
  {
   "cell_type": "code",
   "execution_count": 25,
   "metadata": {},
   "outputs": [
    {
     "data": {
      "text/plain": [
       "(65536,)"
      ]
     },
     "execution_count": 25,
     "metadata": {},
     "output_type": "execute_result"
    }
   ],
   "source": [
    "kmeans.cluster_centers_[0].shape"
   ]
  },
  {
   "cell_type": "code",
   "execution_count": 26,
   "metadata": {},
   "outputs": [
    {
     "data": {
      "text/plain": [
       "(65536,)"
      ]
     },
     "execution_count": 26,
     "metadata": {},
     "output_type": "execute_result"
    }
   ],
   "source": [
    "gram_matrix_list[0].reshape(-1, ).shape"
   ]
  },
  {
   "cell_type": "markdown",
   "metadata": {},
   "source": [
    "## dissimilarity style extraction"
   ]
  },
  {
   "cell_type": "markdown",
   "metadata": {},
   "source": [
    "## cluster & image mapping"
   ]
  },
  {
   "cell_type": "code",
   "execution_count": 27,
   "metadata": {},
   "outputs": [],
   "source": [
    "groups = {}\n",
    "\n",
    "for file, cluster in zip(filenames, kmeans.labels_):\n",
    "    if cluster not in groups.keys():\n",
    "        groups[cluster] = []\n",
    "        groups[cluster].append(file)\n",
    "    else:\n",
    "        groups[cluster].append(file)"
   ]
  },
  {
   "cell_type": "code",
   "execution_count": 28,
   "metadata": {},
   "outputs": [
    {
     "data": {
      "text/plain": [
       "{0: ['b01.jpg',\n",
       "  'b02.jpg',\n",
       "  'b03.jpg',\n",
       "  'b04.jpg',\n",
       "  'b05.jpg',\n",
       "  'b06.jpg',\n",
       "  'b08.jpg',\n",
       "  'b09.jpg',\n",
       "  'b10.jpg',\n",
       "  'b100.jpg',\n",
       "  'b101.jpg',\n",
       "  'b102.jpg',\n",
       "  'b103.jpg',\n",
       "  'b104.jpg',\n",
       "  'b105.jpg',\n",
       "  'b106.jpg',\n",
       "  'b107.jpg',\n",
       "  'b108.jpg',\n",
       "  'b109.jpg',\n",
       "  'b110.jpg',\n",
       "  'b111.jpg',\n",
       "  'b112.jpg',\n",
       "  'b113.jpg',\n",
       "  'b14.jpg',\n",
       "  'b15.jpg',\n",
       "  'b16.jpg',\n",
       "  'b18.jpg',\n",
       "  'b19.jpg',\n",
       "  'b20.jpg',\n",
       "  'b49.jpg',\n",
       "  'b50.jpg',\n",
       "  'b51.jpg',\n",
       "  'b52.jpg',\n",
       "  'b53.jpg',\n",
       "  'b54.jpg',\n",
       "  'b55.jpg',\n",
       "  'b56.jpg',\n",
       "  'b57.jpg',\n",
       "  'b58.jpg',\n",
       "  'b59.jpg',\n",
       "  'b60.jpg',\n",
       "  'b61.jpg',\n",
       "  'b62.jpg',\n",
       "  'b63.jpg',\n",
       "  'b64.jpg',\n",
       "  'b65.jpg',\n",
       "  'b66.jpg',\n",
       "  'b67.jpg',\n",
       "  'b68.jpg',\n",
       "  'b69.jpg',\n",
       "  'b70.jpg',\n",
       "  'b71.jpg',\n",
       "  'b72.jpg',\n",
       "  'b73.jpg',\n",
       "  'b74.jpg',\n",
       "  'b76.jpg',\n",
       "  'b77.jpg',\n",
       "  'b78.jpg',\n",
       "  'b79.jpg',\n",
       "  'b80.jpg',\n",
       "  'b81.jpg',\n",
       "  'b82.jpg',\n",
       "  'b83.jpg',\n",
       "  'b84.jpg',\n",
       "  'b85.jpg',\n",
       "  'b86.jpg',\n",
       "  'b87.jpg',\n",
       "  'b88.jpg',\n",
       "  'b89.jpg',\n",
       "  'b90.jpg',\n",
       "  'b91.jpg',\n",
       "  'b92.jpg',\n",
       "  'b93.jpg',\n",
       "  'b94.jpg',\n",
       "  'b95.jpg',\n",
       "  'b96.jpg',\n",
       "  'b97.jpg',\n",
       "  'b98.jpg',\n",
       "  'b99.jpg'],\n",
       " 2: ['b07.jpg',\n",
       "  'b11.jpg',\n",
       "  'b114.jpg',\n",
       "  'b13.jpg',\n",
       "  'b17.jpg',\n",
       "  'b21고누놀이.jpg',\n",
       "  'b22금강사군첩.jpg',\n",
       "  'b23기와이기.jpg',\n",
       "  'b24길쌈.jpg',\n",
       "  'b25나들이.jpg',\n",
       "  'b26나룻배.jpg',\n",
       "  'b27논갈이.jpg',\n",
       "  'b28늦은 밤 피리부는 선인.jpg',\n",
       "  'b29담배썰기.jpg',\n",
       "  'b30대장간.jpg',\n",
       "  'b31벼타작.jpg',\n",
       "  'b33빨래터.jpg',\n",
       "  'b35송호도.jpg',\n",
       "  'b36신선과 사슴.jpg',\n",
       "  'b37신행길.jpg',\n",
       "  'b39자리짜기.jpg',\n",
       "  'b40장터길.jpg',\n",
       "  'b41점심.jpg',\n",
       "  'b42주막.jpg',\n",
       "  'b43처용무.jpg',\n",
       "  'b44편자박기.jpg',\n",
       "  'b45하화청정도.jpg',\n",
       "  'b46행상.jpg',\n",
       "  'b47활쏘기.jpg',\n",
       "  'b48황묘농접도.jpg',\n",
       "  'b75.jpg'],\n",
       " 1: ['b12.jpg', 'b32병진년화첩-옥순봉도.jpg', 'b34소림명월도.jpg', 'b38연광정연회도.jpg']}"
      ]
     },
     "execution_count": 28,
     "metadata": {},
     "output_type": "execute_result"
    }
   ],
   "source": [
    "groups"
   ]
  },
  {
   "cell_type": "markdown",
   "metadata": {},
   "source": [
    "## centroid style extraction"
   ]
  },
  {
   "cell_type": "code",
   "execution_count": 29,
   "metadata": {},
   "outputs": [
    {
     "name": "stderr",
     "output_type": "stream",
     "text": [
      "3it [00:00, 16.50it/s]"
     ]
    },
    {
     "name": "stdout",
     "output_type": "stream",
     "text": [
      "197.824\n",
      "89.88291\n",
      "324.87793\n",
      "631.7533\n",
      "-244.2816\n",
      "-76.58911\n",
      "-242.11395\n",
      "125.979126\n",
      "-118.919075\n",
      "-114.054535\n",
      "407.3142\n",
      "13.081387\n",
      "-168.21231\n",
      "-343.04218\n",
      "-39.09998\n",
      "-380.98758\n",
      "-372.42065\n",
      "-148.83722\n",
      "243.27103\n",
      "-253.3353\n",
      "-1099.2821\n",
      "-518.3844\n",
      "-295.53943\n",
      "-70.560745\n",
      "-467.98743\n",
      "-1138.2684\n",
      "-2516.9224\n",
      "-493.81412\n",
      "103.52665\n",
      "-257.35614\n",
      "345.1112\n",
      "-811.23804\n",
      "-139.11995\n",
      "0.4272051\n",
      "-370.98877\n",
      "-804.53253\n",
      "-929.4994\n",
      "-711.15765\n",
      "-206.22925\n",
      "-470.64972\n",
      "-81.80892\n",
      "-794.2007\n",
      "-437.90167\n",
      "-333.09656\n",
      "-635.94794\n",
      "-753.892\n",
      "-1575.6559\n",
      "-515.76074\n",
      "-2270.3364\n",
      "-1010.5954\n",
      "-314.2752\n",
      "-522.3168\n",
      "-2601.5273\n",
      "-485.8455\n",
      "-514.8056\n",
      "-317.93018\n",
      "-590.08\n",
      "-687.82324\n",
      "-193.61421\n",
      "-388.6844\n",
      "-561.28424\n",
      "-908.5882\n",
      "-230.44827\n",
      "-31.964474\n",
      "41.395264\n",
      "-106.97782\n",
      "116.27478\n",
      "323.05225\n",
      "241.257\n",
      "43.4732\n",
      "267.0238\n",
      "401.35513\n",
      "62.277126\n",
      "259.63388\n",
      "195.35803\n",
      "219.66165\n",
      "141.62079\n",
      "324.43997\n",
      "199.04826\n",
      "-57.779514\n",
      "368.20914\n",
      "442.006\n",
      "226.646\n",
      "326.94724\n",
      "-568.23914\n",
      "-96.833496\n",
      "343.93265\n",
      "-582.99054\n",
      "16.4707\n",
      "-531.501\n",
      "97.70852\n",
      "-671.0437\n",
      "-16.19382\n",
      "566.04205\n",
      "248.271\n",
      "-632.5845\n",
      "250.02121\n",
      "228.25455\n",
      "-744.10345\n",
      "401.94632\n",
      "177.47832\n",
      "-484.4312\n",
      "385.10205\n",
      "134.03249\n",
      "345.76373\n",
      "-707.0567\n",
      "-95.73037\n",
      "-9.843685\n",
      "337.91342\n",
      "-19.315754\n",
      "-840.70776\n",
      "-246.27881\n",
      "158.61572\n",
      "-82.49106\n",
      "112\n",
      "2438.9343\n",
      "2330.9934\n",
      "2565.9883\n",
      "2872.8638\n",
      "1996.829\n",
      "2164.5215\n",
      "1998.9965\n",
      "2367.0896\n",
      "2122.1914\n",
      "2127.0562\n",
      "2648.4248\n",
      "2254.192\n",
      "2072.8982\n",
      "1898.0682\n",
      "2202.0105\n",
      "1860.123\n",
      "1868.6898\n",
      "2092.2734\n",
      "2484.3816\n",
      "1987.7753\n",
      "1141.8285\n",
      "1722.7263\n",
      "1945.571\n",
      "2170.5498\n",
      "1773.1232\n",
      "1102.842\n",
      "-275.8118\n",
      "1747.2964\n",
      "2344.637\n",
      "1983.7544\n",
      "2586.2217\n",
      "1429.8726\n",
      "2101.9905\n",
      "2241.5378\n",
      "1870.1218\n",
      "1436.5781\n",
      "1311.6111\n",
      "1529.9529\n",
      "2034.8813\n",
      "1770.4608\n",
      "2159.3015\n",
      "1446.9098\n",
      "1803.2089\n",
      "1908.0139\n",
      "1605.1626\n",
      "1487.2185\n",
      "665.4547\n",
      "1725.3497\n",
      "-29.225979\n",
      "1230.5151\n",
      "1926.8354\n",
      "1718.794\n",
      "-360.41693\n",
      "1755.265\n",
      "1726.3049\n",
      "1923.1804\n",
      "1651.0304\n",
      "1553.2874\n",
      "2047.4963\n",
      "1852.4263\n",
      "1679.8263\n",
      "1332.5223\n",
      "2010.6622\n",
      "2209.146\n",
      "2282.5056\n",
      "2134.1328\n",
      "2357.3853\n",
      "2564.1628\n",
      "2482.3677\n",
      "2284.5837\n",
      "2508.1343\n",
      "2642.4656\n",
      "2303.3875\n",
      "2500.7446\n",
      "2436.4688\n",
      "2460.772\n",
      "2382.7314\n",
      "2565.5503\n",
      "2440.1587\n",
      "2183.331\n",
      "2609.3196\n",
      "2683.1165\n",
      "2467.7568\n",
      "2568.0576\n",
      "1672.8713\n",
      "2144.2769\n",
      "2585.0432\n",
      "1658.12\n",
      "2257.5813\n",
      "1709.6096\n",
      "2338.8188\n",
      "1570.0669\n",
      "2224.9167\n",
      "2807.1526\n",
      "2489.3818\n",
      "1608.526\n",
      "2491.1318\n",
      "2469.3652\n",
      "1497.0071\n",
      "2643.0566\n",
      "2418.5889\n",
      "1756.6793\n",
      "2626.213\n",
      "2375.143\n",
      "2586.8745\n",
      "1534.0538\n",
      "2145.3801\n",
      "2231.2668\n",
      "2579.024\n",
      "2221.7947\n",
      "1400.4028\n",
      "1994.8317\n",
      "2399.7263\n",
      "2158.6196\n",
      "48\n",
      "769.34607\n",
      "661.40497\n",
      "896.4\n",
      "1203.2754\n",
      "327.24057\n",
      "494.933\n",
      "329.40817\n",
      "697.5013\n",
      "452.603\n",
      "457.4676\n",
      "978.8363\n",
      "584.60345\n",
      "403.3098\n",
      "228.47998\n",
      "532.4222\n",
      "190.53456\n",
      "199.10152\n",
      "422.6849\n",
      "814.7931\n",
      "318.1868\n",
      "-527.7599\n",
      "53.137753\n",
      "275.9827\n",
      "500.96136\n",
      "103.53471\n",
      "-566.7464\n",
      "-1945.4003\n",
      "77.70798\n",
      "675.04877\n",
      "314.166\n",
      "916.6334\n",
      "-239.71593\n",
      "432.40216\n",
      "571.94934\n",
      "200.53336\n",
      "-233.01039\n",
      "-357.97733\n",
      "-139.63556\n",
      "365.2929\n",
      "100.87241\n",
      "489.71323\n",
      "-222.67856\n",
      "133.62042\n",
      "238.42557\n",
      "-64.42583\n",
      "-182.36989\n",
      "-1004.13367\n",
      "55.76135\n",
      "-1698.8145\n",
      "-439.0733\n",
      "257.24692\n",
      "49.205338\n",
      "-2030.0052\n",
      "85.67664\n",
      "56.716515\n",
      "253.59195\n",
      "-18.557947\n",
      "-116.301056\n",
      "377.9079\n",
      "182.83772\n",
      "10.237894\n",
      "-337.0661\n",
      "341.07382\n",
      "539.5576\n",
      "612.91736\n",
      "464.5443\n",
      "687.7969\n",
      "894.5744\n",
      "812.7791\n",
      "614.9953\n",
      "838.5459\n",
      "972.8773\n",
      "633.7993\n",
      "831.156\n",
      "766.8801\n",
      "791.1837\n",
      "713.1429\n",
      "895.96204\n",
      "770.5704\n",
      "513.74255\n",
      "939.7313\n",
      "1013.5281\n",
      "798.1681\n",
      "898.46936\n",
      "3.2830124\n",
      "474.68863\n",
      "915.4547\n",
      "-11.468441\n",
      "587.9928\n",
      "40.02118\n",
      "669.23065\n",
      "-99.521545\n",
      "555.32825\n",
      "1137.5643\n",
      "819.7931\n",
      "-61.062332\n",
      "821.5433\n",
      "799.7766\n",
      "-172.58134\n",
      "973.4685\n",
      "749.0004\n",
      "87.090904\n",
      "956.6242\n",
      "705.55457\n",
      "917.2858\n",
      "-135.53458\n",
      "475.79175\n",
      "561.67847\n",
      "909.43555\n",
      "552.20636\n",
      "-269.18555\n",
      "325.2433\n",
      "730.1378\n",
      "489.03107\n",
      "55\n"
     ]
    },
    {
     "name": "stderr",
     "output_type": "stream",
     "text": [
      "\n"
     ]
    }
   ],
   "source": [
    "dissim_img_idx = []\n",
    "\n",
    "for idx, cen in tqdm(enumerate(kmeans.cluster_centers_)):\n",
    "    tmp_list = []\n",
    "    for gram in feat_resh:\n",
    "        tmp_list.append(abs((cen - gram)).sum())\n",
    "        print((cen - gram).sum())\n",
    "    print(np.argmin(tmp_list))\n",
    "    dissim_img_idx.append(np.argmin(tmp_list))"
   ]
  },
  {
   "cell_type": "code",
   "execution_count": 30,
   "metadata": {},
   "outputs": [
    {
     "data": {
      "text/plain": [
       "[112, 48, 55]"
      ]
     },
     "execution_count": 30,
     "metadata": {},
     "output_type": "execute_result"
    }
   ],
   "source": [
    "dissim_img_idx"
   ]
  },
  {
   "cell_type": "code",
   "execution_count": 31,
   "metadata": {},
   "outputs": [
    {
     "name": "stdout",
     "output_type": "stream",
     "text": [
      "b98.jpg\n",
      "b34소림명월도.jpg\n",
      "b41점심.jpg\n"
     ]
    }
   ],
   "source": [
    "dissim_style_name = []\n",
    "\n",
    "for dis in dissim_img_idx:\n",
    "    dissim_style_name.append(style_img_list[dis])\n",
    "    print(style_img_list[dis])"
   ]
  },
  {
   "cell_type": "markdown",
   "metadata": {},
   "source": [
    "## cluster & center image mapping"
   ]
  },
  {
   "cell_type": "code",
   "execution_count": 32,
   "metadata": {},
   "outputs": [],
   "source": [
    "dissim_center_img = {}\n",
    "\n",
    "for name in dissim_style_name:\n",
    "    for key, value in groups.items():\n",
    "        if name in value:\n",
    "            dissim_center_img[name] = key\n",
    "        else:\n",
    "            pass"
   ]
  },
  {
   "cell_type": "code",
   "execution_count": 33,
   "metadata": {},
   "outputs": [
    {
     "data": {
      "text/plain": [
       "{'b98.jpg': 0, 'b34소림명월도.jpg': 1, 'b41점심.jpg': 2}"
      ]
     },
     "execution_count": 33,
     "metadata": {},
     "output_type": "execute_result"
    }
   ],
   "source": [
    "dissim_center_img"
   ]
  },
  {
   "cell_type": "markdown",
   "metadata": {},
   "source": [
    "## vis"
   ]
  },
  {
   "cell_type": "code",
   "execution_count": 34,
   "metadata": {},
   "outputs": [
    {
     "data": {
      "text/plain": [
       "(114, 65536)"
      ]
     },
     "execution_count": 34,
     "metadata": {},
     "output_type": "execute_result"
    }
   ],
   "source": [
    "feat_resh.shape"
   ]
  },
  {
   "cell_type": "code",
   "execution_count": 35,
   "metadata": {},
   "outputs": [
    {
     "data": {
      "text/plain": [
       "numpy.ndarray"
      ]
     },
     "execution_count": 35,
     "metadata": {},
     "output_type": "execute_result"
    }
   ],
   "source": [
    "type(feat_resh)"
   ]
  },
  {
   "cell_type": "code",
   "execution_count": 36,
   "metadata": {},
   "outputs": [
    {
     "data": {
      "text/plain": [
       "(3, 65536)"
      ]
     },
     "execution_count": 36,
     "metadata": {},
     "output_type": "execute_result"
    }
   ],
   "source": [
    "kmeans.cluster_centers_.shape"
   ]
  },
  {
   "cell_type": "code",
   "execution_count": 37,
   "metadata": {},
   "outputs": [
    {
     "data": {
      "text/plain": [
       "numpy.ndarray"
      ]
     },
     "execution_count": 37,
     "metadata": {},
     "output_type": "execute_result"
    }
   ],
   "source": [
    "type(kmeans.cluster_centers_)"
   ]
  },
  {
   "cell_type": "code",
   "execution_count": 38,
   "metadata": {},
   "outputs": [],
   "source": [
    "arr = np.empty((0, 65536), float)\n",
    "arr = np.append(arr, feat_resh, axis=0)\n",
    "arr = np.append(arr, kmeans.cluster_centers_, axis=0)"
   ]
  },
  {
   "cell_type": "code",
   "execution_count": 39,
   "metadata": {},
   "outputs": [
    {
     "data": {
      "text/plain": [
       "(117, 65536)"
      ]
     },
     "execution_count": 39,
     "metadata": {},
     "output_type": "execute_result"
    }
   ],
   "source": [
    "arr.shape"
   ]
  },
  {
   "cell_type": "code",
   "execution_count": 40,
   "metadata": {},
   "outputs": [
    {
     "data": {
      "text/plain": [
       "array([[0.05542707, 0.7069379 , 0.95159966, ..., 0.11746591, 0.65783058,\n",
       "        0.06632055],\n",
       "       [0.21598921, 0.63452193, 0.74077335, ..., 0.20130751, 0.60079568,\n",
       "        0.13331347],\n",
       "       [0.17420304, 0.65982727, 0.63490705, ..., 0.        , 0.58765543,\n",
       "        0.15615271],\n",
       "       ...,\n",
       "       [0.21254514, 0.69281544, 0.73689152, ..., 0.16879387, 0.70689906,\n",
       "        0.11883601],\n",
       "       [0.78266014, 0.13734113, 0.20757323, ..., 0.80506867, 0.4244834 ,\n",
       "        0.83332037],\n",
       "       [0.35930613, 0.61367683, 0.67274847, ..., 0.44745703, 0.40588751,\n",
       "        0.3375046 ]])"
      ]
     },
     "execution_count": 40,
     "metadata": {},
     "output_type": "execute_result"
    }
   ],
   "source": [
    "scaler = MinMaxScaler()\n",
    "arr_scale = scaler.fit_transform(arr)\n",
    "arr_scale"
   ]
  },
  {
   "cell_type": "code",
   "execution_count": 41,
   "metadata": {},
   "outputs": [],
   "source": [
    "pca = PCA(n_components=2)"
   ]
  },
  {
   "cell_type": "code",
   "execution_count": 42,
   "metadata": {},
   "outputs": [
    {
     "data": {
      "text/plain": [
       "array([[-2.74430428e+01, -5.54830229e+00],\n",
       "       [-8.80376726e+00, -9.81060434e+00],\n",
       "       [-2.03224942e+01, -7.23371449e+00],\n",
       "       [-2.83575831e+01, -1.75932554e+01],\n",
       "       [-2.10762550e+01,  1.42747833e+01],\n",
       "       [-1.45513775e+01, -1.69049554e+00],\n",
       "       [ 9.85146449e+00, -9.41501312e+00],\n",
       "       [-1.56952749e+01, -3.22981947e+00],\n",
       "       [-9.36861981e+00,  3.86492009e+00],\n",
       "       [-6.14559135e+00, -1.38630180e-01],\n",
       "       [-2.62186240e+01, -8.98726297e+00],\n",
       "       [-1.94098764e+01,  8.51642948e+00],\n",
       "       [-1.84982458e+01,  1.10552902e+01],\n",
       "       [-9.83095604e+00,  2.07875385e+01],\n",
       "       [-1.26391213e+01, -9.99679086e-01],\n",
       "       [-6.06906548e+00,  1.12987296e+01],\n",
       "       [-1.62493975e+00,  6.33890185e+00],\n",
       "       [-1.42710874e+01,  9.27425427e+00],\n",
       "       [-1.78984538e+01, -7.38385958e+00],\n",
       "       [-1.60570850e+01,  7.55228668e+00],\n",
       "       [ 2.26142835e+01,  2.81180551e+01],\n",
       "       [-9.88924681e+00,  3.31481726e+01],\n",
       "       [-1.29906413e+01,  2.24074362e+01],\n",
       "       [-1.60171594e+01,  3.95194863e+00],\n",
       "       [-1.72448923e+00,  1.28214373e+01],\n",
       "       [ 3.01180808e+01,  1.92012118e+01],\n",
       "       [ 7.94106706e+01,  3.94377179e+01],\n",
       "       [ 1.11845693e+01,  4.34512501e+00],\n",
       "       [-1.45856515e+01, -9.02413266e+00],\n",
       "       [-1.45376521e+01,  8.74963881e+00],\n",
       "       [-2.00651166e+01, -1.13584032e+01],\n",
       "       [ 1.20315733e+01,  1.50735801e+01],\n",
       "       [-1.03044606e+01,  4.45351326e+00],\n",
       "       [-1.18543193e+01, -2.21017062e+00],\n",
       "       [-1.30561763e+01,  9.80335877e+00],\n",
       "       [ 4.14110652e+01, -1.38188225e+01],\n",
       "       [ 3.82617356e+01,  5.62006950e-01],\n",
       "       [ 4.35195796e+01, -1.85461631e+01],\n",
       "       [ 1.84347662e+01, -1.94632401e+01],\n",
       "       [ 3.06513181e+01, -2.07861398e+01],\n",
       "       [ 9.24112412e+00, -1.28424080e+01],\n",
       "       [ 4.70888490e+01, -2.68356206e+01],\n",
       "       [ 2.36071159e+01, -1.16783741e+01],\n",
       "       [ 2.24921187e+01, -2.06214292e+01],\n",
       "       [ 4.32243359e+01, -2.54223365e+01],\n",
       "       [ 4.95054893e+01, -2.56001084e+01],\n",
       "       [ 5.95214628e+01,  2.31170830e+01],\n",
       "       [ 3.15586085e+01, -2.06492653e+01],\n",
       "       [ 9.22429296e+01,  1.71638367e+01],\n",
       "       [ 3.98078604e+01, -7.24457289e+00],\n",
       "       [ 9.14607633e+00, -4.63829280e+00],\n",
       "       [ 2.95186652e+01, -1.48981694e+01],\n",
       "       [ 6.18087131e+01,  4.35270743e+01],\n",
       "       [ 3.35902473e+01, -2.16998715e+01],\n",
       "       [ 2.63435418e+01, -1.59867991e+01],\n",
       "       [ 2.11877318e+01, -1.94249991e+01],\n",
       "       [ 3.64265372e+01, -1.69610354e+01],\n",
       "       [ 1.63098117e+01,  2.75006383e+00],\n",
       "       [ 1.69954396e+01, -1.90417123e+01],\n",
       "       [ 1.68939198e+01, -1.98555789e+01],\n",
       "       [ 3.67031120e+01, -2.10012717e+01],\n",
       "       [ 5.69710995e+01, -2.67888391e+01],\n",
       "       [ 8.01627933e+00, -1.12104871e+01],\n",
       "       [ 1.38695676e+00, -1.15198299e+01],\n",
       "       [-1.88254557e+01,  5.97371956e-02],\n",
       "       [ 5.06836608e+00, -9.60046326e+00],\n",
       "       [-2.25689328e+01,  1.74290895e+00],\n",
       "       [-2.47692664e+01, -3.19279128e+00],\n",
       "       [-2.12216995e+01, -5.68878096e+00],\n",
       "       [-2.04364819e+01,  3.18942900e+00],\n",
       "       [-2.61422827e+01, -1.52340231e+00],\n",
       "       [-2.21999449e+01, -1.06048149e+01],\n",
       "       [-4.29185021e+00, -7.24280867e+00],\n",
       "       [-2.20382084e+01, -5.82935312e+00],\n",
       "       [-1.94554992e+01, -5.23962963e+00],\n",
       "       [-1.79789887e+01, -6.59169576e+00],\n",
       "       [-1.55604357e+01, -4.90419172e+00],\n",
       "       [-1.82757892e+01, -8.67047475e+00],\n",
       "       [-1.74473386e+01, -1.71548351e-01],\n",
       "       [-1.22700658e+01, -1.07890832e+00],\n",
       "       [-2.28531966e+01, -6.34019121e+00],\n",
       "       [-2.21879152e+01, -1.17896702e+01],\n",
       "       [-1.94395676e+01, -3.95256737e+00],\n",
       "       [-2.37572877e+01, -7.74302309e+00],\n",
       "       [-3.82762895e+00,  2.10349674e+01],\n",
       "       [-7.09472310e+00, -1.76595844e+00],\n",
       "       [-1.74208085e+01, -1.25226208e+01],\n",
       "       [-7.20399376e+00,  3.24633309e+01],\n",
       "       [-1.92718308e+01,  1.38940476e+00],\n",
       "       [ 1.20678979e+01,  8.53884516e+00],\n",
       "       [-1.78675837e+01,  2.78442832e+00],\n",
       "       [-3.84344045e+00,  3.43704110e+01],\n",
       "       [-1.65560500e+01,  1.83821331e+00],\n",
       "       [-2.63332461e+01, -1.55628014e+01],\n",
       "       [-2.45633356e+01, -1.95582933e+00],\n",
       "       [-5.25386299e+00,  3.37857550e+01],\n",
       "       [-1.68642004e+01, -7.08112900e+00],\n",
       "       [-2.37274955e+01, -3.47149338e+00],\n",
       "       [ 8.30339775e-01,  3.12949791e+01],\n",
       "       [-2.35922541e+01, -9.84881509e+00],\n",
       "       [-2.26447384e+01, -3.68872626e+00],\n",
       "       [-1.05459299e+01,  4.36480798e+01],\n",
       "       [-2.06139333e+01, -1.02746879e+01],\n",
       "       [-1.90406020e+01, -2.97245199e+00],\n",
       "       [-2.64758479e+01, -6.71711878e+00],\n",
       "       [-6.91418945e+00,  3.00973767e+01],\n",
       "       [-1.40120691e+01,  4.49354595e+00],\n",
       "       [-2.05958565e+01, -3.89922773e-01],\n",
       "       [-2.23695106e+01, -6.21673702e+00],\n",
       "       [-1.36189431e+01, -2.61848133e+00],\n",
       "       [ 2.32573311e+00,  3.74543823e+01],\n",
       "       [-8.56336658e+00,  5.99752233e+00],\n",
       "       [-1.87918887e+01, -3.94734882e+00],\n",
       "       [-2.37541003e+01,  1.23874308e+01],\n",
       "       [-1.54781854e+01,  2.53675887e+00],\n",
       "       [ 7.32459440e+01,  3.08114280e+01],\n",
       "       [ 2.72507830e+01, -1.11561823e+01]])"
      ]
     },
     "execution_count": 42,
     "metadata": {},
     "output_type": "execute_result"
    }
   ],
   "source": [
    "arr_pca = pca.fit_transform(arr_scale)\n",
    "arr_pca"
   ]
  },
  {
   "cell_type": "code",
   "execution_count": 43,
   "metadata": {},
   "outputs": [],
   "source": [
    "feat_resh = arr_pca[:-3, :]"
   ]
  },
  {
   "cell_type": "code",
   "execution_count": 44,
   "metadata": {},
   "outputs": [],
   "source": [
    "centroids = arr_pca[-3:, :]"
   ]
  },
  {
   "cell_type": "code",
   "execution_count": 45,
   "metadata": {},
   "outputs": [
    {
     "data": {
      "image/png": "[encoded data removed]",
      "text/plain": [
       "<Figure size 432x432 with 1 Axes>"
      ]
     },
     "metadata": {
      "needs_background": "light"
     },
     "output_type": "display_data"
    }
   ],
   "source": [
    "# Plot the clustered data\n",
    "fig, ax = plt.subplots(figsize=(6, 6))\n",
    "plt.scatter(feat_resh[kmeans.labels_ == 0, 0], feat_resh[kmeans.labels_ == 0, 1],\n",
    "            c='green', label='cluster 0')\n",
    "plt.scatter(feat_resh[kmeans.labels_ == 1, 0], feat_resh[kmeans.labels_ == 1, 1],\n",
    "            c='blue', label='cluster 1')\n",
    "plt.scatter(feat_resh[kmeans.labels_ == 2, 0], feat_resh[kmeans.labels_ == 2, 1],\n",
    "            c='yellow', label='cluster 2')\n",
    "plt.scatter(centroids[:, 0], centroids[:, 1], marker='D',\n",
    "            c='r', label='centroid')\n",
    "plt.legend()\n",
    "#plt.xlim([-100, 150])\n",
    "#plt.ylim([-50, 100])\n",
    "#plt.xlabel('Eruption time in mins')\n",
    "#plt.ylabel('Waiting time to next eruption')\n",
    "#plt.title('Visualization of clustered data', fontweight='bold')\n",
    "#ax.set_aspect('equal')\n",
    "plt.savefig('./clustering_vis.png')"
   ]
  },
  {
   "cell_type": "code",
   "execution_count": 46,
   "metadata": {},
   "outputs": [
    {
     "data": {
      "text/plain": [
       "\"n_iter = 9\\nfig, ax = plt.subplots(3, 3, figsize=(16, 16))\\nax = np.ravel(ax)\\ncenters = []\\nfor i in range(n_iter):\\n    # Run local implementation of kmeans\\n    km = Kmeans(n_clusters=2,\\n                max_iter=3,\\n                random_state=np.random.randint(0, 1000, size=1))\\n    km.fit(X_std)\\n    centroids = km.centroids\\n    centers.append(centroids)\\n    ax[i].scatter(X_std[km.labels == 0, 0], X_std[km.labels == 0, 1],\\n                  c='green', label='cluster 1')\\n    ax[i].scatter(X_std[km.labels == 1, 0], X_std[km.labels == 1, 1],\\n                  c='blue', label='cluster 2')\\n    ax[i].scatter(centroids[:, 0], centroids[:, 1],\\n                  c='r', marker='*', s=300, label='centroid')\\n    ax[i].set_xlim([-2, 2])\\n    ax[i].set_ylim([-2, 2])\\n    ax[i].legend(loc='lower right')\\n    ax[i].set_title(f'{km.error:.4f}')\\n    ax[i].set_aspect('equal')\\nplt.tight_layout()\\nplt.savefig('./training_clustering_vis.png')\""
      ]
     },
     "execution_count": 46,
     "metadata": {},
     "output_type": "execute_result"
    }
   ],
   "source": [
    "\"\"\"n_iter = 9\n",
    "fig, ax = plt.subplots(3, 3, figsize=(16, 16))\n",
    "ax = np.ravel(ax)\n",
    "centers = []\n",
    "for i in range(n_iter):\n",
    "    # Run local implementation of kmeans\n",
    "    km = Kmeans(n_clusters=2,\n",
    "                max_iter=3,\n",
    "                random_state=np.random.randint(0, 1000, size=1))\n",
    "    km.fit(X_std)\n",
    "    centroids = km.centroids\n",
    "    centers.append(centroids)\n",
    "    ax[i].scatter(X_std[km.labels == 0, 0], X_std[km.labels == 0, 1],\n",
    "                  c='green', label='cluster 1')\n",
    "    ax[i].scatter(X_std[km.labels == 1, 0], X_std[km.labels == 1, 1],\n",
    "                  c='blue', label='cluster 2')\n",
    "    ax[i].scatter(centroids[:, 0], centroids[:, 1],\n",
    "                  c='r', marker='*', s=300, label='centroid')\n",
    "    ax[i].set_xlim([-2, 2])\n",
    "    ax[i].set_ylim([-2, 2])\n",
    "    ax[i].legend(loc='lower right')\n",
    "    ax[i].set_title(f'{km.error:.4f}')\n",
    "    ax[i].set_aspect('equal')\n",
    "plt.tight_layout()\n",
    "plt.savefig('./training_clustering_vis.png')\"\"\""
   ]
  },
  {
   "cell_type": "markdown",
   "metadata": {},
   "source": [
    "# Cosine Similarity Matrix"
   ]
  },
  {
   "cell_type": "code",
   "execution_count": 47,
   "metadata": {},
   "outputs": [],
   "source": [
    "# import\n",
    "from numpy import dot\n",
    "from numpy.linalg import norm\n",
    "import numpy as np\n",
    "\n",
    "# 코사인 유사도 함수 \n",
    "def cos_sim(A, B):\n",
    "    return dot(A, B)/(norm(A)*norm(B))"
   ]
  },
  {
   "cell_type": "code",
   "execution_count": 48,
   "metadata": {},
   "outputs": [
    {
     "data": {
      "text/plain": [
       "array([[0., 0., 0.],\n",
       "       [0., 0., 0.],\n",
       "       [0., 0., 0.]])"
      ]
     },
     "execution_count": 48,
     "metadata": {},
     "output_type": "execute_result"
    }
   ],
   "source": [
    "sim_matrix = np.zeros((3, 3))\n",
    "sim_matrix"
   ]
  },
  {
   "cell_type": "code",
   "execution_count": 49,
   "metadata": {},
   "outputs": [
    {
     "data": {
      "text/plain": [
       "(3, 3)"
      ]
     },
     "execution_count": 49,
     "metadata": {},
     "output_type": "execute_result"
    }
   ],
   "source": [
    "sim_matrix.shape"
   ]
  },
  {
   "cell_type": "code",
   "execution_count": 50,
   "metadata": {},
   "outputs": [
    {
     "data": {
      "text/plain": [
       "[112, 48, 55]"
      ]
     },
     "execution_count": 50,
     "metadata": {},
     "output_type": "execute_result"
    }
   ],
   "source": [
    "dissim_img_idx"
   ]
  },
  {
   "cell_type": "code",
   "execution_count": 51,
   "metadata": {},
   "outputs": [
    {
     "data": {
      "text/plain": [
       "array([[ 0.03318965, -0.00270147, -0.01480293, ..., -0.0044996 ,\n",
       "        -0.00062504, -0.00126022],\n",
       "       [-0.00270147,  0.05212079,  0.00683188, ...,  0.0033444 ,\n",
       "        -0.00572   ,  0.00970474],\n",
       "       [-0.01480293,  0.00683188,  0.03130432, ...,  0.0045579 ,\n",
       "         0.00034498, -0.00271553],\n",
       "       ...,\n",
       "       [-0.0044996 ,  0.0033444 ,  0.0045579 , ...,  0.07085208,\n",
       "         0.00479556,  0.00757613],\n",
       "       [-0.00062504, -0.00572   ,  0.00034498, ...,  0.00479556,\n",
       "         0.03867948,  0.00229289],\n",
       "       [-0.00126022,  0.00970474, -0.00271553, ...,  0.00757613,\n",
       "         0.00229289,  0.05730438]], dtype=float32)"
      ]
     },
     "execution_count": 51,
     "metadata": {},
     "output_type": "execute_result"
    }
   ],
   "source": [
    "cluster0 = gram_matrix_list[112]\n",
    "cluster0"
   ]
  },
  {
   "cell_type": "code",
   "execution_count": 52,
   "metadata": {},
   "outputs": [
    {
     "data": {
      "text/plain": [
       "array([[ 0.13165988, -0.04244509, -0.04739966, ..., -0.05668983,\n",
       "         0.03500219, -0.06479979],\n",
       "       [-0.04244509,  0.1017535 ,  0.04188222, ...,  0.04076063,\n",
       "        -0.02660288,  0.0922443 ],\n",
       "       [-0.04739966,  0.04188222,  0.12178008, ...,  0.02709909,\n",
       "        -0.02372577,  0.05501016],\n",
       "       ...,\n",
       "       [-0.05668983,  0.04076063,  0.02709909, ...,  0.43252936,\n",
       "        -0.02812432,  0.12480449],\n",
       "       [ 0.03500219, -0.02660288, -0.02372577, ..., -0.02812432,\n",
       "         0.16114484, -0.03602307],\n",
       "       [-0.06479979,  0.0922443 ,  0.05501016, ...,  0.12480449,\n",
       "        -0.03602307,  0.2703672 ]], dtype=float32)"
      ]
     },
     "execution_count": 52,
     "metadata": {},
     "output_type": "execute_result"
    }
   ],
   "source": [
    "cluster1 = gram_matrix_list[48]\n",
    "cluster1"
   ]
  },
  {
   "cell_type": "code",
   "execution_count": 53,
   "metadata": {},
   "outputs": [
    {
     "data": {
      "text/plain": [
       "array([[ 0.05358682, -0.00335491, -0.01650239, ...,  0.00372661,\n",
       "         0.00112047,  0.00638578],\n",
       "       [-0.00335491,  0.06937371,  0.01071004, ...,  0.0311146 ,\n",
       "        -0.02566622,  0.04826358],\n",
       "       [-0.01650239,  0.01071004,  0.04785493, ...,  0.00355238,\n",
       "        -0.00741717,  0.00231606],\n",
       "       ...,\n",
       "       [ 0.00372661,  0.0311146 ,  0.00355238, ...,  0.22601289,\n",
       "        -0.0153442 ,  0.04790053],\n",
       "       [ 0.00112047, -0.02566622, -0.00741717, ..., -0.0153442 ,\n",
       "         0.08429445, -0.03431514],\n",
       "       [ 0.00638578,  0.04826358,  0.00231606, ...,  0.04790053,\n",
       "        -0.03431514,  0.10741151]], dtype=float32)"
      ]
     },
     "execution_count": 53,
     "metadata": {},
     "output_type": "execute_result"
    }
   ],
   "source": [
    "cluster2 = gram_matrix_list[55]\n",
    "cluster2"
   ]
  },
  {
   "cell_type": "code",
   "execution_count": 54,
   "metadata": {},
   "outputs": [],
   "source": [
    "cluster = []\n",
    "cluster.append(cluster0)\n",
    "cluster.append(cluster1)\n",
    "cluster.append(cluster2)"
   ]
  },
  {
   "cell_type": "code",
   "execution_count": 55,
   "metadata": {
    "scrolled": true
   },
   "outputs": [
    {
     "data": {
      "text/plain": [
       "3"
      ]
     },
     "execution_count": 55,
     "metadata": {},
     "output_type": "execute_result"
    }
   ],
   "source": [
    "len(cluster)"
   ]
  },
  {
   "cell_type": "code",
   "execution_count": 56,
   "metadata": {},
   "outputs": [],
   "source": [
    "for i in range(len(cluster)):\n",
    "    for j in range(len(cluster)):\n",
    "        sim_matrix[i, j] = cos_sim(cluster[i].reshape(-1), cluster[j].reshape(-1))"
   ]
  },
  {
   "cell_type": "code",
   "execution_count": 57,
   "metadata": {},
   "outputs": [
    {
     "data": {
      "text/plain": [
       "array([[0.99999988, 0.68548721, 0.72051346],\n",
       "       [0.68548721, 1.        , 0.91952831],\n",
       "       [0.72051346, 0.91952831, 1.        ]])"
      ]
     },
     "execution_count": 57,
     "metadata": {},
     "output_type": "execute_result"
    }
   ],
   "source": [
    "sim_matrix"
   ]
  },
  {
   "cell_type": "code",
   "execution_count": 58,
   "metadata": {},
   "outputs": [
    {
     "data": {
      "text/plain": [
       "(3, 3)"
      ]
     },
     "execution_count": 58,
     "metadata": {},
     "output_type": "execute_result"
    }
   ],
   "source": [
    "sim_matrix.shape"
   ]
  },
  {
   "cell_type": "code",
   "execution_count": 59,
   "metadata": {},
   "outputs": [
    {
     "data": {
      "image/png": "[encoded data removed]",
      "text/plain": [
       "<Figure size 288x288 with 2 Axes>"
      ]
     },
     "metadata": {
      "needs_background": "light"
     },
     "output_type": "display_data"
    }
   ],
   "source": [
    "#cmap = plt.get_cmap('PiYG')\n",
    "#cmap = plt.get_cmap('BuGn')\n",
    "#cmap = plt.get_cmap('Greys')\n",
    "cmap = plt.get_cmap('bwr')\n",
    "#cmap = plt.get_cmap('rainbow')\n",
    "\n",
    "plt.matshow(sim_matrix, cmap=cmap)\n",
    "plt.colorbar()\n",
    "#plt.show()\n",
    "plt.savefig('./cosine_sim_matrix_vis.png')"
   ]
  },
  {
   "cell_type": "markdown",
   "metadata": {},
   "source": [
    "## transfered image cosine sim matrix"
   ]
  },
  {
   "cell_type": "markdown",
   "metadata": {},
   "source": [
    "### cranebird"
   ]
  },
  {
   "cell_type": "code",
   "execution_count": 60,
   "metadata": {},
   "outputs": [],
   "source": [
    "#origin_img = Image.open('./transfered_img/cranebird_oriental_k018.jpg')\n",
    "#origin_img_arr = np.asarray(origin_img)\n",
    "#print(np.shape(origin_img_arr))"
   ]
  },
  {
   "cell_type": "code",
   "execution_count": 61,
   "metadata": {},
   "outputs": [],
   "source": [
    "def normalize(image):\n",
    "    normalize = transforms.Normalize(\n",
    "    mean=[0.485, 0.456, 0.406],\n",
    "    std=[0.229, 0.224, 0.225]\n",
    "    )\n",
    "    preprocess = transforms.Compose([\n",
    "    transforms.Resize((224,224)),\n",
    "    transforms.ToTensor(),\n",
    "    normalize\n",
    "    ])\n",
    "    image = Variable(preprocess(image).unsqueeze(0).cpu())\n",
    "    return image\n",
    "\n",
    "def load_image(path):\n",
    "    image = Image.open(path).convert('RGB')\n",
    "    plt.imshow(image)\n",
    "    plt.title(\"Image loaded successfully\")\n",
    "    return image"
   ]
  },
  {
   "cell_type": "code",
   "execution_count": 63,
   "metadata": {},
   "outputs": [],
   "source": [
    "vgg = models.vgg19(pretrained=True)"
   ]
  },
  {
   "cell_type": "code",
   "execution_count": 64,
   "metadata": {},
   "outputs": [],
   "source": [
    "modulelist = list(vgg.features.modules())"
   ]
  },
  {
   "cell_type": "code",
   "execution_count": 75,
   "metadata": {
    "scrolled": true
   },
   "outputs": [
    {
     "data": {
      "text/plain": [
       "[Conv2d(3, 64, kernel_size=(3, 3), stride=(1, 1), padding=(1, 1)),\n",
       " ReLU(inplace=True),\n",
       " Conv2d(64, 64, kernel_size=(3, 3), stride=(1, 1), padding=(1, 1)),\n",
       " ReLU(inplace=True),\n",
       " MaxPool2d(kernel_size=2, stride=2, padding=0, dilation=1, ceil_mode=False),\n",
       " Conv2d(64, 128, kernel_size=(3, 3), stride=(1, 1), padding=(1, 1)),\n",
       " ReLU(inplace=True),\n",
       " Conv2d(128, 128, kernel_size=(3, 3), stride=(1, 1), padding=(1, 1)),\n",
       " ReLU(inplace=True),\n",
       " MaxPool2d(kernel_size=2, stride=2, padding=0, dilation=1, ceil_mode=False),\n",
       " Conv2d(128, 256, kernel_size=(3, 3), stride=(1, 1), padding=(1, 1)),\n",
       " ReLU(inplace=True),\n",
       " Conv2d(256, 256, kernel_size=(3, 3), stride=(1, 1), padding=(1, 1)),\n",
       " ReLU(inplace=True),\n",
       " Conv2d(256, 256, kernel_size=(3, 3), stride=(1, 1), padding=(1, 1)),\n",
       " ReLU(inplace=True),\n",
       " Conv2d(256, 256, kernel_size=(3, 3), stride=(1, 1), padding=(1, 1)),\n",
       " ReLU(inplace=True),\n",
       " MaxPool2d(kernel_size=2, stride=2, padding=0, dilation=1, ceil_mode=False),\n",
       " Conv2d(256, 512, kernel_size=(3, 3), stride=(1, 1), padding=(1, 1)),\n",
       " ReLU(inplace=True),\n",
       " Conv2d(512, 512, kernel_size=(3, 3), stride=(1, 1), padding=(1, 1)),\n",
       " ReLU(inplace=True),\n",
       " Conv2d(512, 512, kernel_size=(3, 3), stride=(1, 1), padding=(1, 1)),\n",
       " ReLU(inplace=True),\n",
       " Conv2d(512, 512, kernel_size=(3, 3), stride=(1, 1), padding=(1, 1)),\n",
       " ReLU(inplace=True),\n",
       " MaxPool2d(kernel_size=2, stride=2, padding=0, dilation=1, ceil_mode=False),\n",
       " Conv2d(512, 512, kernel_size=(3, 3), stride=(1, 1), padding=(1, 1)),\n",
       " ReLU(inplace=True),\n",
       " Conv2d(512, 512, kernel_size=(3, 3), stride=(1, 1), padding=(1, 1)),\n",
       " ReLU(inplace=True),\n",
       " Conv2d(512, 512, kernel_size=(3, 3), stride=(1, 1), padding=(1, 1)),\n",
       " ReLU(inplace=True),\n",
       " Conv2d(512, 512, kernel_size=(3, 3), stride=(1, 1), padding=(1, 1)),\n",
       " ReLU(inplace=True),\n",
       " MaxPool2d(kernel_size=2, stride=2, padding=0, dilation=1, ceil_mode=False)]"
      ]
     },
     "execution_count": 75,
     "metadata": {},
     "output_type": "execute_result"
    }
   ],
   "source": [
    "modulelist[1:]"
   ]
  },
  {
   "cell_type": "code",
   "execution_count": 76,
   "metadata": {
    "scrolled": true
   },
   "outputs": [
    {
     "data": {
      "text/plain": [
       "tensor([[[[1.5810, 1.5468, 1.5639,  ..., 0.7419, 0.7419, 0.6563],\n",
       "          [1.5810, 1.5468, 1.5810,  ..., 1.0159, 0.9646, 0.8961],\n",
       "          [1.5982, 1.5639, 1.5639,  ..., 1.3413, 1.2899, 1.2043],\n",
       "          ...,\n",
       "          [0.0000, 0.0000, 0.0000,  ..., 0.0000, 0.0000, 0.0000],\n",
       "          [0.0000, 0.0000, 0.0000,  ..., 0.0000, 0.0000, 0.0000],\n",
       "          [0.0000, 0.0000, 0.0000,  ..., 0.0000, 0.0000, 0.0000]],\n",
       "\n",
       "         [[1.7983, 1.7633, 1.7808,  ..., 0.8529, 0.8529, 0.7654],\n",
       "          [1.7983, 1.7633, 1.7983,  ..., 1.0630, 1.0280, 0.9930],\n",
       "          [1.8158, 1.7808, 1.7808,  ..., 1.3606, 1.3256, 1.2731],\n",
       "          ...,\n",
       "          [0.0000, 0.0301, 0.0000,  ..., 0.2227, 0.2577, 0.2402],\n",
       "          [0.0301, 0.0126, 0.0000,  ..., 0.2402, 0.2752, 0.2577],\n",
       "          [0.0126, 0.0000, 0.0000,  ..., 0.2227, 0.2577, 0.2402]],\n",
       "\n",
       "         [[2.0997, 2.0648, 2.0823,  ..., 1.1237, 1.1237, 1.0365],\n",
       "          [2.0997, 2.0648, 2.0997,  ..., 1.3328, 1.2980, 1.2282],\n",
       "          [2.1171, 2.0823, 2.0823,  ..., 1.6291, 1.5768, 1.5071],\n",
       "          ...,\n",
       "          [0.0000, 0.0082, 0.0000,  ..., 0.3742, 0.3916, 0.3219],\n",
       "          [0.0256, 0.0082, 0.0000,  ..., 0.4091, 0.4091, 0.3393],\n",
       "          [0.0082, 0.0000, 0.0000,  ..., 0.3916, 0.3742, 0.3219]]]])"
      ]
     },
     "execution_count": 76,
     "metadata": {},
     "output_type": "execute_result"
    },
    {
     "data": {
      "image/png": "[encoded data removed]",
      "text/plain": [
       "<Figure size 432x288 with 1 Axes>"
      ]
     },
     "metadata": {
      "needs_background": "light"
     },
     "output_type": "display_data"
    }
   ],
   "source": [
    "origin_img = load_image('./transfered_img/cranebird_oriental_k018.jpg')\n",
    "origin_img_nor = normalize(origin_img)\n",
    "origin_img_feature = modulelist[1:][13](origin_img_nor)\n",
    "origin_img_feature"
   ]
  },
  {
   "cell_type": "code",
   "execution_count": 86,
   "metadata": {
    "scrolled": true
   },
   "outputs": [
    {
     "data": {
      "text/plain": [
       "array([1.5810429 , 1.5467933 , 1.5639181 , ..., 0.39163405, 0.37420484,\n",
       "       0.32191727], dtype=float32)"
      ]
     },
     "execution_count": 86,
     "metadata": {},
     "output_type": "execute_result"
    }
   ],
   "source": [
    "origin_img_feature_flat = origin_img_feature.to('cpu').numpy().flatten()\n",
    "origin_img_feature_flat"
   ]
  },
  {
   "cell_type": "code",
   "execution_count": 87,
   "metadata": {
    "scrolled": true
   },
   "outputs": [
    {
     "data": {
      "text/plain": [
       "tensor([[[[2.1462, 2.0948, 2.1290,  ..., 1.1358, 1.1700, 1.2557],\n",
       "          [2.1290, 2.0605, 2.1290,  ..., 1.3242, 1.3584, 1.4098],\n",
       "          [2.1633, 2.1119, 2.1119,  ..., 1.5982, 1.5982, 1.6324],\n",
       "          ...,\n",
       "          [1.4954, 1.5297, 1.4612,  ..., 1.1358, 1.2043, 1.3070],\n",
       "          [1.4954, 1.4783, 1.3755,  ..., 1.1015, 1.2214, 1.2385],\n",
       "          [1.5810, 1.5125, 1.4269,  ..., 1.1187, 1.2899, 1.2214]],\n",
       "\n",
       "         [[1.9734, 1.9034, 1.9209,  ..., 0.9930, 0.9755, 0.9230],\n",
       "          [1.9034, 1.8333, 1.8508,  ..., 1.1331, 1.1155, 1.0630],\n",
       "          [1.9384, 1.8683, 1.8683,  ..., 1.3957, 1.3431, 1.3081],\n",
       "          ...,\n",
       "          [1.3431, 1.3782, 1.3606,  ..., 1.2556, 1.2556, 1.1856],\n",
       "          [1.3782, 1.3957, 1.3256,  ..., 1.3081, 1.2556, 1.2031],\n",
       "          [1.3256, 1.3431, 1.2556,  ..., 1.2556, 1.1856, 1.1681]],\n",
       "\n",
       "         [[1.2282, 1.2282, 1.3502,  ..., 1.0539, 0.9842, 0.7925],\n",
       "          [1.4200, 1.4200, 1.5420,  ..., 1.1411, 1.0888, 0.8797],\n",
       "          [1.4200, 1.4374, 1.5245,  ..., 1.3677, 1.2805, 1.0714],\n",
       "          ...,\n",
       "          [0.7402, 0.8448, 0.9319,  ..., 1.0714, 1.0888, 0.9494],\n",
       "          [0.8448, 0.8448, 0.9668,  ..., 1.1411, 1.0888, 0.9842],\n",
       "          [0.8099, 0.7228, 0.8797,  ..., 1.0539, 1.0017, 0.9319]]]])"
      ]
     },
     "execution_count": 87,
     "metadata": {},
     "output_type": "execute_result"
    },
    {
     "data": {
      "image/png": "[encoded data removed]",
      "text/plain": [
       "<Figure size 432x288 with 1 Axes>"
      ]
     },
     "metadata": {
      "needs_background": "light"
     },
     "output_type": "display_data"
    }
   ],
   "source": [
    "cluster0_img = load_image('./transfered_img/cranebird_oriental_k018_style0.jpg')\n",
    "cluster0_img_nor = normalize(cluster0_img)\n",
    "cluster0_img_feature = modulelist[1:][13](cluster0_img_nor)\n",
    "cluster0_img_feature"
   ]
  },
  {
   "cell_type": "code",
   "execution_count": 88,
   "metadata": {},
   "outputs": [
    {
     "data": {
      "text/plain": [
       "array([2.1461596, 2.0947855, 2.129035 , ..., 1.0539435, 1.0016559,\n",
       "       0.9319392], dtype=float32)"
      ]
     },
     "execution_count": 88,
     "metadata": {},
     "output_type": "execute_result"
    }
   ],
   "source": [
    "cluster0_img_feature_flat = cluster0_img_feature.to('cpu').numpy().flatten()\n",
    "cluster0_img_feature_flat"
   ]
  },
  {
   "cell_type": "code",
   "execution_count": null,
   "metadata": {},
   "outputs": [],
   "source": [
    "#cluster0_img = Image.open('./transfered_img/cranebird_oriental_k018_style0.jpg')\n",
    "#cluster0_img_arr = np.asarray(cluster0_img)\n",
    "#print(np.shape(cluster0_img_arr))"
   ]
  },
  {
   "cell_type": "code",
   "execution_count": 89,
   "metadata": {
    "scrolled": true
   },
   "outputs": [
    {
     "data": {
      "text/plain": [
       "tensor([[[[1.2043, 1.1700, 1.2043,  ..., 1.2043, 1.1700, 1.0844],\n",
       "          [1.2214, 1.1700, 1.2385,  ..., 1.3927, 1.3242, 1.2899],\n",
       "          [1.2728, 1.2043, 1.2214,  ..., 1.6324, 1.5982, 1.5639],\n",
       "          ...,\n",
       "          [1.2043, 1.2214, 1.1015,  ..., 1.0502, 1.0673, 1.2214],\n",
       "          [1.2728, 1.1529, 1.0331,  ..., 1.2214, 1.0502, 1.1700],\n",
       "          [1.3070, 1.1187, 0.9817,  ..., 1.3242, 1.0331, 1.0844]],\n",
       "\n",
       "         [[1.3957, 1.3431, 1.3782,  ..., 1.0980, 1.1155, 1.0630],\n",
       "          [1.3957, 1.3256, 1.3957,  ..., 1.2731, 1.2731, 1.2381],\n",
       "          [1.4307, 1.3431, 1.3606,  ..., 1.5357, 1.5182, 1.4657],\n",
       "          ...,\n",
       "          [1.1856, 1.2206, 1.1506,  ..., 1.2381, 1.2381, 1.1331],\n",
       "          [1.2031, 1.2206, 1.1506,  ..., 1.2031, 1.3081, 1.1681],\n",
       "          [1.1155, 1.2206, 1.2031,  ..., 1.1155, 1.3081, 1.1331]],\n",
       "\n",
       "         [[1.4025, 1.4374, 1.5245,  ..., 1.1411, 1.1237, 0.8274],\n",
       "          [1.4374, 1.4374, 1.5594,  ..., 1.3154, 1.2631, 1.0191],\n",
       "          [1.5071, 1.4897, 1.5594,  ..., 1.5768, 1.4897, 1.2631],\n",
       "          ...,\n",
       "          [0.8274, 0.9494, 0.9668,  ..., 1.0539, 1.1411, 1.1934],\n",
       "          [0.9842, 0.9494, 0.9668,  ..., 1.2108, 1.0714, 1.1411],\n",
       "          [0.8274, 0.6356, 0.5659,  ..., 1.1585, 0.8448, 0.9668]]]])"
      ]
     },
     "execution_count": 89,
     "metadata": {},
     "output_type": "execute_result"
    },
    {
     "data": {
      "image/png": "[encoded data removed]",
      "text/plain": [
       "<Figure size 432x288 with 1 Axes>"
      ]
     },
     "metadata": {
      "needs_background": "light"
     },
     "output_type": "display_data"
    }
   ],
   "source": [
    "cluster1_img = load_image('./transfered_img/cranebird_oriental_k018_style1.jpg')\n",
    "cluster1_img_nor = normalize(cluster1_img)\n",
    "cluster1_img_feature = modulelist[1:][13](cluster1_img_nor)\n",
    "cluster1_img_feature"
   ]
  },
  {
   "cell_type": "code",
   "execution_count": 90,
   "metadata": {},
   "outputs": [
    {
     "data": {
      "text/plain": [
       "array([1.2042983, 1.1700488, 1.2042983, ..., 1.1585187, 0.8447932,\n",
       "       0.9667976], dtype=float32)"
      ]
     },
     "execution_count": 90,
     "metadata": {},
     "output_type": "execute_result"
    }
   ],
   "source": [
    "cluster1_img_feature_flat = cluster1_img_feature.to('cpu').numpy().flatten()\n",
    "cluster1_img_feature_flat"
   ]
  },
  {
   "cell_type": "code",
   "execution_count": null,
   "metadata": {},
   "outputs": [],
   "source": [
    "#cluster1_img = Image.open('./transfered_img/cranebird_oriental_k018_style1.jpg')\n",
    "#cluster1_img_arr = np.asarray(cluster1_img)\n",
    "#print(np.shape(cluster1_img_arr))"
   ]
  },
  {
   "cell_type": "code",
   "execution_count": 91,
   "metadata": {
    "scrolled": true
   },
   "outputs": [
    {
     "data": {
      "text/plain": [
       "tensor([[[[2.1462, 2.0948, 2.1290,  ..., 1.1358, 1.1700, 1.2557],\n",
       "          [2.1290, 2.0605, 2.1290,  ..., 1.3242, 1.3584, 1.4098],\n",
       "          [2.1633, 2.1119, 2.1119,  ..., 1.5982, 1.5982, 1.6324],\n",
       "          ...,\n",
       "          [1.4954, 1.5297, 1.4612,  ..., 1.1358, 1.2043, 1.3070],\n",
       "          [1.4954, 1.4783, 1.3755,  ..., 1.1015, 1.2214, 1.2385],\n",
       "          [1.5810, 1.5125, 1.4269,  ..., 1.1187, 1.2899, 1.2214]],\n",
       "\n",
       "         [[1.9734, 1.9034, 1.9209,  ..., 0.9930, 0.9755, 0.9230],\n",
       "          [1.9034, 1.8333, 1.8508,  ..., 1.1331, 1.1155, 1.0630],\n",
       "          [1.9384, 1.8683, 1.8683,  ..., 1.3957, 1.3431, 1.3081],\n",
       "          ...,\n",
       "          [1.3431, 1.3782, 1.3606,  ..., 1.2556, 1.2556, 1.1856],\n",
       "          [1.3782, 1.3957, 1.3256,  ..., 1.3081, 1.2556, 1.2031],\n",
       "          [1.3256, 1.3431, 1.2556,  ..., 1.2556, 1.1856, 1.1681]],\n",
       "\n",
       "         [[1.2282, 1.2282, 1.3502,  ..., 1.0539, 0.9842, 0.7925],\n",
       "          [1.4200, 1.4200, 1.5420,  ..., 1.1411, 1.0888, 0.8797],\n",
       "          [1.4200, 1.4374, 1.5245,  ..., 1.3677, 1.2805, 1.0714],\n",
       "          ...,\n",
       "          [0.7402, 0.8448, 0.9319,  ..., 1.0714, 1.0888, 0.9494],\n",
       "          [0.8448, 0.8448, 0.9668,  ..., 1.1411, 1.0888, 0.9842],\n",
       "          [0.8099, 0.7228, 0.8797,  ..., 1.0539, 1.0017, 0.9319]]]])"
      ]
     },
     "execution_count": 91,
     "metadata": {},
     "output_type": "execute_result"
    },
    {
     "data": {
      "image/png": "[encoded data removed]",
      "text/plain": [
       "<Figure size 432x288 with 1 Axes>"
      ]
     },
     "metadata": {
      "needs_background": "light"
     },
     "output_type": "display_data"
    }
   ],
   "source": [
    "cluster2_img = load_image('./transfered_img/cranebird_oriental_k018_style2.jpg')\n",
    "cluster2_img_nor = normalize(cluster0_img)\n",
    "cluster2_img_feature = modulelist[1:][13](cluster2_img_nor)\n",
    "cluster2_img_feature"
   ]
  },
  {
   "cell_type": "code",
   "execution_count": 92,
   "metadata": {},
   "outputs": [
    {
     "data": {
      "text/plain": [
       "array([2.1461596, 2.0947855, 2.129035 , ..., 1.0539435, 1.0016559,\n",
       "       0.9319392], dtype=float32)"
      ]
     },
     "execution_count": 92,
     "metadata": {},
     "output_type": "execute_result"
    }
   ],
   "source": [
    "cluster2_img_feature_flat = cluster2_img_feature.to('cpu').numpy().flatten()\n",
    "cluster2_img_feature_flat"
   ]
  },
  {
   "cell_type": "code",
   "execution_count": null,
   "metadata": {},
   "outputs": [],
   "source": [
    "#cluster2_img = Image.open('./transfered_img/cranebird_oriental_k018_style2.jpg')\n",
    "#cluster2_img_arr = np.asarray(cluster2_img)\n",
    "#print(np.shape(cluster2_img_arr))"
   ]
  },
  {
   "cell_type": "code",
   "execution_count": 93,
   "metadata": {},
   "outputs": [
    {
     "data": {
      "text/plain": [
       "array([[0., 0., 0., 0.],\n",
       "       [0., 0., 0., 0.],\n",
       "       [0., 0., 0., 0.],\n",
       "       [0., 0., 0., 0.]])"
      ]
     },
     "execution_count": 93,
     "metadata": {},
     "output_type": "execute_result"
    }
   ],
   "source": [
    "sim_matrix_2 = np.zeros((4, 4))\n",
    "sim_matrix_2"
   ]
  },
  {
   "cell_type": "code",
   "execution_count": 94,
   "metadata": {},
   "outputs": [],
   "source": [
    "transfered_img = []\n",
    "transfered_img.append(origin_img_feature_flat)\n",
    "transfered_img.append(cluster0_img_feature_flat)\n",
    "transfered_img.append(cluster1_img_feature_flat)\n",
    "transfered_img.append(cluster2_img_feature_flat)"
   ]
  },
  {
   "cell_type": "code",
   "execution_count": 95,
   "metadata": {
    "scrolled": true
   },
   "outputs": [],
   "source": [
    "for i in range(len(transfered_img)):\n",
    "    for j in range(len(transfered_img)):\n",
    "        sim_matrix_2[i, j] = cos_sim(transfered_img[i], transfered_img[j])"
   ]
  },
  {
   "cell_type": "code",
   "execution_count": 96,
   "metadata": {},
   "outputs": [
    {
     "data": {
      "text/plain": [
       "array([[1.00000012, 0.81118757, 0.80283183, 0.81118757],\n",
       "       [0.81118757, 1.        , 0.97413701, 1.        ],\n",
       "       [0.80283183, 0.97413701, 1.00000012, 0.97413701],\n",
       "       [0.81118757, 1.        , 0.97413701, 1.        ]])"
      ]
     },
     "execution_count": 96,
     "metadata": {},
     "output_type": "execute_result"
    }
   ],
   "source": [
    "sim_matrix_2"
   ]
  },
  {
   "cell_type": "code",
   "execution_count": 97,
   "metadata": {},
   "outputs": [
    {
     "data": {
      "image/png": "[encoded data removed]",
      "text/plain": [
       "<Figure size 288x288 with 2 Axes>"
      ]
     },
     "metadata": {
      "needs_background": "light"
     },
     "output_type": "display_data"
    }
   ],
   "source": [
    "#cmap = plt.get_cmap('PiYG')\n",
    "#cmap = plt.get_cmap('BuGn')\n",
    "#cmap = plt.get_cmap('Greys')\n",
    "cmap = plt.get_cmap('bwr')\n",
    "#cmap = plt.get_cmap('rainbow')\n",
    "\n",
    "plt.matshow(sim_matrix_2, cmap=cmap)\n",
    "plt.colorbar()\n",
    "#plt.show()\n",
    "plt.savefig('./cosine_sim_matrix_cranebird_vis.png')"
   ]
  },
  {
   "cell_type": "markdown",
   "metadata": {},
   "source": [
    "### deer"
   ]
  },
  {
   "cell_type": "code",
   "execution_count": null,
   "metadata": {},
   "outputs": [],
   "source": [
    "origin_img = Image.open('./transfered_img/deer_oriental_j005.jpg')\n",
    "origin_img_arr = np.asarray(origin_img)\n",
    "print(np.shape(origin_img_arr))"
   ]
  },
  {
   "cell_type": "code",
   "execution_count": null,
   "metadata": {},
   "outputs": [],
   "source": [
    "cluster0_img = Image.open('./transfered_img/deer_oriental_j005_style0.jpg')\n",
    "cluster0_img_arr = np.asarray(cluster0_img)\n",
    "print(np.shape(cluster0_img_arr))"
   ]
  },
  {
   "cell_type": "code",
   "execution_count": null,
   "metadata": {},
   "outputs": [],
   "source": [
    "cluster1_img = Image.open('./transfered_img/deer_oriental_j005_style1.jpg')\n",
    "cluster1_img_arr = np.asarray(cluster1_img)\n",
    "print(np.shape(cluster1_img_arr))"
   ]
  },
  {
   "cell_type": "code",
   "execution_count": null,
   "metadata": {},
   "outputs": [],
   "source": [
    "cluster2_img = Image.open('./transfered_img/deer_oriental_j005_style2.jpg')\n",
    "cluster2_img_arr = np.asarray(cluster2_img)\n",
    "print(np.shape(cluster2_img_arr))"
   ]
  },
  {
   "cell_type": "code",
   "execution_count": null,
   "metadata": {},
   "outputs": [],
   "source": [
    "sim_matrix_2 = np.zeros((4, 4))\n",
    "sim_matrix_2"
   ]
  },
  {
   "cell_type": "code",
   "execution_count": null,
   "metadata": {},
   "outputs": [],
   "source": [
    "transfered_img = []\n",
    "transfered_img.append(origin_img_arr)\n",
    "transfered_img.append(cluster0_img_arr)\n",
    "transfered_img.append(cluster1_img_arr)\n",
    "transfered_img.append(cluster2_img_arr)"
   ]
  },
  {
   "cell_type": "code",
   "execution_count": null,
   "metadata": {},
   "outputs": [],
   "source": [
    "len(transfered_img)"
   ]
  },
  {
   "cell_type": "code",
   "execution_count": null,
   "metadata": {},
   "outputs": [],
   "source": [
    "for i in range(len(transfered_img)):\n",
    "    for j in range(len(transfered_img)):\n",
    "        sim_matrix_2[i, j] = cos_sim(transfered_img[i].flatten(), transfered_img[j].flatten())"
   ]
  },
  {
   "cell_type": "code",
   "execution_count": null,
   "metadata": {},
   "outputs": [],
   "source": [
    "sim_matrix_2"
   ]
  },
  {
   "cell_type": "code",
   "execution_count": null,
   "metadata": {},
   "outputs": [],
   "source": [
    "#cmap = plt.get_cmap('PiYG')\n",
    "#cmap = plt.get_cmap('BuGn')\n",
    "#cmap = plt.get_cmap('Greys')\n",
    "cmap = plt.get_cmap('bwr')\n",
    "#cmap = plt.get_cmap('rainbow')\n",
    "\n",
    "plt.matshow(sim_matrix_2, cmap=cmap)\n",
    "plt.colorbar()\n",
    "#plt.show()\n",
    "plt.savefig('./cosine_sim_matrix_deer_vis.png')"
   ]
  },
  {
   "cell_type": "markdown",
   "metadata": {},
   "source": [
    "# Style Vis"
   ]
  },
  {
   "cell_type": "code",
   "execution_count": null,
   "metadata": {},
   "outputs": [],
   "source": [
    "# 스타일 손실(style loss) 계산을 위한 클래스 정의\n",
    "class StyleLoss(nn.Module):\n",
    "    def __init__(self, target_feature):\n",
    "        super(StyleLoss, self).__init__()\n",
    "        self.target = gram_matrix(target_feature).detach()\n",
    "\n",
    "    def forward(self, input):\n",
    "        G = gram_matrix(input)\n",
    "        self.loss = F.mse_loss(G, self.target)\n",
    "        return input"
   ]
  },
  {
   "cell_type": "code",
   "execution_count": null,
   "metadata": {},
   "outputs": [],
   "source": [
    "style_layers = ['conv_1', 'conv_3', 'conv_5']\n",
    "\n",
    "# 스타일 손실(style loss)을 계산하는 함수\n",
    "def get_style_losses(cnn, style_img, noise_image):\n",
    "    cnn = copy.deepcopy(cnn)\n",
    "    normalization = Normalization(cnn_normalization_mean, cnn_normalization_std).to(device)\n",
    "    style_losses = []\n",
    "    \n",
    "    # 가장 먼저 입력 이미지가 입력 정규화(input normalization)를 수행하도록\n",
    "    model = nn.Sequential(normalization)\n",
    "\n",
    "    # 현재 CNN 모델에 포함되어 있는 모든 레이어를 확인하며\n",
    "    i = 0\n",
    "    for layer in cnn.children():\n",
    "        if isinstance(layer, nn.Conv2d):\n",
    "            i += 1\n",
    "            name = 'conv_{}'.format(i)\n",
    "        elif isinstance(layer, nn.ReLU):\n",
    "            name = 'relu_{}'.format(i)\n",
    "            layer = nn.ReLU(inplace=False)\n",
    "        elif isinstance(layer, nn.MaxPool2d):\n",
    "            name = 'pool_{}'.format(i)\n",
    "        elif isinstance(layer, nn.BatchNorm2d):\n",
    "            name = 'bn_{}'.format(i)\n",
    "        else:\n",
    "            raise RuntimeError('Unrecognized layer: {}'.format(layer.__class__.__name__))\n",
    "\n",
    "        model.add_module(name, layer)\n",
    "\n",
    "        # 설정한 style layer까지의 결과를 이용해 style loss를 계산\n",
    "        if name in style_layers:\n",
    "            target_feature = model(style_img).detach()\n",
    "            style_loss = StyleLoss(target_feature)\n",
    "            model.add_module(\"style_loss_{}\".format(i), style_loss)\n",
    "            style_losses.append(style_loss)\n",
    "\n",
    "    # 마지막 style loss 이후의 레이어는 사용하지 않도록\n",
    "    for i in range(len(model) - 1, -1, -1):\n",
    "        if isinstance(model[i], StyleLoss):\n",
    "            break\n",
    "\n",
    "    model = model[:(i + 1)]\n",
    "    return model, style_losses"
   ]
  },
  {
   "cell_type": "code",
   "execution_count": null,
   "metadata": {},
   "outputs": [],
   "source": [
    "def style_reconstruction(cnn, style_img, input_img, iters, cls_name):\n",
    "    model, style_losses = get_style_losses(cnn, style_img, input_img)\n",
    "    optimizer = optim.LBFGS([input_img.requires_grad_()])\n",
    "\n",
    "    print(\"[ Start ]\")\n",
    "    imshow(input_img)\n",
    "\n",
    "    # 하나의 값만 이용하기 위해 배열 형태로 사용\n",
    "    run = [0]\n",
    "    while run[0] <= iters:\n",
    "\n",
    "        def closure():\n",
    "            input_img.data.clamp_(0, 1)\n",
    "\n",
    "            optimizer.zero_grad()\n",
    "            model(input_img)\n",
    "            style_score = 0\n",
    "\n",
    "            for sl in style_losses:\n",
    "                style_score += sl.loss\n",
    "\n",
    "            style_score *= 1e6\n",
    "            style_score.backward()\n",
    "\n",
    "            run[0] += 1\n",
    "            if run[0] % 50 == 0:\n",
    "                print(f\"[ Step: {run[0]} / Style loss: {style_score.item()}]\")\n",
    "                imshow(input_img)\n",
    "                save_image(input_img, './style_vis/' + cls_name + '/' + f\"iter_{run[0]}\" + '.png')\n",
    "            \n",
    "            return style_score\n",
    "        \n",
    "        optimizer.step(closure)\n",
    "\n",
    "    # 결과적으로 이미지의 각 픽셀의 값이 [0, 1] 사이의 값이 되도록 자르기\n",
    "    input_img.data.clamp_(0, 1)\n",
    "\n",
    "    return input_img"
   ]
  },
  {
   "cell_type": "code",
   "execution_count": null,
   "metadata": {},
   "outputs": [],
   "source": [
    "dissim_center_img"
   ]
  },
  {
   "cell_type": "code",
   "execution_count": null,
   "metadata": {},
   "outputs": [],
   "source": [
    "img_size = PIL.Image.open(style_img_path + 'b98.jpg').size\n",
    "cluster0_img = image_loader(style_img_path + 'b98.jpg', (img_size[1], img_size[0]))"
   ]
  },
  {
   "cell_type": "code",
   "execution_count": null,
   "metadata": {},
   "outputs": [],
   "source": [
    "img_size = PIL.Image.open(style_img_path + 'b34소림명월도.jpg').size\n",
    "cluster1_img = image_loader(style_img_path + 'b34소림명월도.jpg', (img_size[1], img_size[0]))"
   ]
  },
  {
   "cell_type": "code",
   "execution_count": null,
   "metadata": {},
   "outputs": [],
   "source": [
    "img_size = PIL.Image.open(style_img_path + 'b41점심.jpg').size\n",
    "cluster2_img = image_loader(style_img_path + 'b41점심.jpg', (img_size[1], img_size[0]))"
   ]
  },
  {
   "cell_type": "code",
   "execution_count": null,
   "metadata": {
    "scrolled": true
   },
   "outputs": [],
   "source": [
    "input_img = torch.empty_like(cluster0_img).uniform_(0, 1).to(device)\n",
    "output = style_reconstruction(cnn, style_img=cluster0_img, input_img=input_img, iters=1500, cls_name='cluster0')"
   ]
  },
  {
   "cell_type": "code",
   "execution_count": null,
   "metadata": {
    "scrolled": true
   },
   "outputs": [],
   "source": [
    "input_img = torch.empty_like(cluster1_img).uniform_(0, 1).to(device)\n",
    "output = style_reconstruction(cnn, style_img=cluster1_img, input_img=input_img, iters=1500, cls_name='cluster1')"
   ]
  },
  {
   "cell_type": "code",
   "execution_count": null,
   "metadata": {},
   "outputs": [],
   "source": [
    "input_img = torch.empty_like(cluster2_img).uniform_(0, 1).to(device)\n",
    "output = style_reconstruction(cnn, style_img=cluster2_img, input_img=input_img, iters=1500, cls_name='cluster2')"
   ]
  },
  {
   "cell_type": "code",
   "execution_count": null,
   "metadata": {},
   "outputs": [],
   "source": []
  }
 ],
 "metadata": {
  "accelerator": "GPU",
  "colab": {
   "collapsed_sections": [],
   "name": "Style_Transfer_v1.ipynb",
   "provenance": []
  },
  "kernelspec": {
   "display_name": "Python 3",
   "language": "python",
   "name": "python3"
  },
  "language_info": {
   "codemirror_mode": {
    "name": "ipython",
    "version": 3
   },
   "file_extension": ".py",
   "mimetype": "text/x-python",
   "name": "python",
   "nbconvert_exporter": "python",
   "pygments_lexer": "ipython3",
   "version": "3.7.10"
  },
  "widgets": {
   "application/vnd.jupyter.widget-state+json": {
    "1f66648237da4556bb7bb009144577b4": {
     "model_module": "@jupyter-widgets/controls",
     "model_name": "ProgressStyleModel",
     "state": {
      "_model_module": "@jupyter-widgets/controls",
      "_model_module_version": "1.5.0",
      "_model_name": "ProgressStyleModel",
      "_view_count": null,
      "_view_module": "@jupyter-widgets/base",
      "_view_module_version": "1.2.0",
      "_view_name": "StyleView",
      "bar_color": null,
      "description_width": "initial"
     }
    },
    "24ed850881244f9388ea338db8f195f4": {
     "model_module": "@jupyter-widgets/controls",
     "model_name": "FloatProgressModel",
     "state": {
      "_dom_classes": [],
      "_model_module": "@jupyter-widgets/controls",
      "_model_module_version": "1.5.0",
      "_model_name": "FloatProgressModel",
      "_view_count": null,
      "_view_module": "@jupyter-widgets/controls",
      "_view_module_version": "1.5.0",
      "_view_name": "ProgressView",
      "bar_style": "success",
      "description": "100%",
      "description_tooltip": null,
      "layout": "IPY_MODEL_bf6c5be226da47009e297adad8bcdefa",
      "max": 574673361,
      "min": 0,
      "orientation": "horizontal",
      "style": "IPY_MODEL_1f66648237da4556bb7bb009144577b4",
      "value": 574673361
     }
    },
    "6955974ab95a4c2a8e30887866a75e16": {
     "model_module": "@jupyter-widgets/controls",
     "model_name": "HTMLModel",
     "state": {
      "_dom_classes": [],
      "_model_module": "@jupyter-widgets/controls",
      "_model_module_version": "1.5.0",
      "_model_name": "HTMLModel",
      "_view_count": null,
      "_view_module": "@jupyter-widgets/controls",
      "_view_module_version": "1.5.0",
      "_view_name": "HTMLView",
      "description": "",
      "description_tooltip": null,
      "layout": "IPY_MODEL_8171b035af734ff78bca73db5bb395a7",
      "placeholder": "​",
      "style": "IPY_MODEL_d19c742e24104f76a7392e5a7144ecbc",
      "value": " 548M/548M [00:17&lt;00:00, 33.2MB/s]"
     }
    },
    "805490ad77ed40a5a8d9993b3022683b": {
     "model_module": "@jupyter-widgets/controls",
     "model_name": "HBoxModel",
     "state": {
      "_dom_classes": [],
      "_model_module": "@jupyter-widgets/controls",
      "_model_module_version": "1.5.0",
      "_model_name": "HBoxModel",
      "_view_count": null,
      "_view_module": "@jupyter-widgets/controls",
      "_view_module_version": "1.5.0",
      "_view_name": "HBoxView",
      "box_style": "",
      "children": [
       "IPY_MODEL_24ed850881244f9388ea338db8f195f4",
       "IPY_MODEL_6955974ab95a4c2a8e30887866a75e16"
      ],
      "layout": "IPY_MODEL_d7158fe4f6994ebbbc5c95f8b13ab39e"
     }
    },
    "8171b035af734ff78bca73db5bb395a7": {
     "model_module": "@jupyter-widgets/base",
     "model_name": "LayoutModel",
     "state": {
      "_model_module": "@jupyter-widgets/base",
      "_model_module_version": "1.2.0",
      "_model_name": "LayoutModel",
      "_view_count": null,
      "_view_module": "@jupyter-widgets/base",
      "_view_module_version": "1.2.0",
      "_view_name": "LayoutView",
      "align_content": null,
      "align_items": null,
      "align_self": null,
      "border": null,
      "bottom": null,
      "display": null,
      "flex": null,
      "flex_flow": null,
      "grid_area": null,
      "grid_auto_columns": null,
      "grid_auto_flow": null,
      "grid_auto_rows": null,
      "grid_column": null,
      "grid_gap": null,
      "grid_row": null,
      "grid_template_areas": null,
      "grid_template_columns": null,
      "grid_template_rows": null,
      "height": null,
      "justify_content": null,
      "justify_items": null,
      "left": null,
      "margin": null,
      "max_height": null,
      "max_width": null,
      "min_height": null,
      "min_width": null,
      "object_fit": null,
      "object_position": null,
      "order": null,
      "overflow": null,
      "overflow_x": null,
      "overflow_y": null,
      "padding": null,
      "right": null,
      "top": null,
      "visibility": null,
      "width": null
     }
    },
    "bf6c5be226da47009e297adad8bcdefa": {
     "model_module": "@jupyter-widgets/base",
     "model_name": "LayoutModel",
     "state": {
      "_model_module": "@jupyter-widgets/base",
      "_model_module_version": "1.2.0",
      "_model_name": "LayoutModel",
      "_view_count": null,
      "_view_module": "@jupyter-widgets/base",
      "_view_module_version": "1.2.0",
      "_view_name": "LayoutView",
      "align_content": null,
      "align_items": null,
      "align_self": null,
      "border": null,
      "bottom": null,
      "display": null,
      "flex": null,
      "flex_flow": null,
      "grid_area": null,
      "grid_auto_columns": null,
      "grid_auto_flow": null,
      "grid_auto_rows": null,
      "grid_column": null,
      "grid_gap": null,
      "grid_row": null,
      "grid_template_areas": null,
      "grid_template_columns": null,
      "grid_template_rows": null,
      "height": null,
      "justify_content": null,
      "justify_items": null,
      "left": null,
      "margin": null,
      "max_height": null,
      "max_width": null,
      "min_height": null,
      "min_width": null,
      "object_fit": null,
      "object_position": null,
      "order": null,
      "overflow": null,
      "overflow_x": null,
      "overflow_y": null,
      "padding": null,
      "right": null,
      "top": null,
      "visibility": null,
      "width": null
     }
    },
    "d19c742e24104f76a7392e5a7144ecbc": {
     "model_module": "@jupyter-widgets/controls",
     "model_name": "DescriptionStyleModel",
     "state": {
      "_model_module": "@jupyter-widgets/controls",
      "_model_module_version": "1.5.0",
      "_model_name": "DescriptionStyleModel",
      "_view_count": null,
      "_view_module": "@jupyter-widgets/base",
      "_view_module_version": "1.2.0",
      "_view_name": "StyleView",
      "description_width": ""
     }
    },
    "d7158fe4f6994ebbbc5c95f8b13ab39e": {
     "model_module": "@jupyter-widgets/base",
     "model_name": "LayoutModel",
     "state": {
      "_model_module": "@jupyter-widgets/base",
      "_model_module_version": "1.2.0",
      "_model_name": "LayoutModel",
      "_view_count": null,
      "_view_module": "@jupyter-widgets/base",
      "_view_module_version": "1.2.0",
      "_view_name": "LayoutView",
      "align_content": null,
      "align_items": null,
      "align_self": null,
      "border": null,
      "bottom": null,
      "display": null,
      "flex": null,
      "flex_flow": null,
      "grid_area": null,
      "grid_auto_columns": null,
      "grid_auto_flow": null,
      "grid_auto_rows": null,
      "grid_column": null,
      "grid_gap": null,
      "grid_row": null,
      "grid_template_areas": null,
      "grid_template_columns": null,
      "grid_template_rows": null,
      "height": null,
      "justify_content": null,
      "justify_items": null,
      "left": null,
      "margin": null,
      "max_height": null,
      "max_width": null,
      "min_height": null,
      "min_width": null,
      "object_fit": null,
      "object_position": null,
      "order": null,
      "overflow": null,
      "overflow_x": null,
      "overflow_y": null,
      "padding": null,
      "right": null,
      "top": null,
      "visibility": null,
      "width": null
     }
    }
   }
  }
 },
 "nbformat": 4,
 "nbformat_minor": 1
}
