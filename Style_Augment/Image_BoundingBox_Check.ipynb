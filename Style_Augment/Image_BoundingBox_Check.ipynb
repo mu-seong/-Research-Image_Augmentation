{
 "cells": [
  {
   "cell_type": "markdown",
   "metadata": {},
   "source": [
    "# Library Load"
   ]
  },
  {
   "cell_type": "code",
   "execution_count": null,
   "metadata": {},
   "outputs": [],
   "source": [
    "import os\n",
    "import numpy as np \n",
    "import cv2\n",
    "\n",
    "from tqdm import tqdm\n",
    "\n",
    "import xml.etree.ElementTree as ET\n",
    "\n",
    "from PIL import Image\n",
    "\n",
    "from data_aug.data_aug import *\n",
    "from data_aug.bbox_util import *\n",
    "\n",
    "import matplotlib.pyplot as plt \n",
    "%matplotlib inline"
   ]
  },
  {
   "cell_type": "markdown",
   "metadata": {},
   "source": [
    "# Data Load"
   ]
  },
  {
   "cell_type": "code",
   "execution_count": null,
   "metadata": {},
   "outputs": [],
   "source": [
    "# Style Augmentation Image Path\n",
    "style_aug_img_folder_path = '../data/3. style_aug_img/'\n",
    "style_aug_img_folder_list = os.listdir(style_aug_img_folder_path)\n",
    "style_aug_img_folder_list"
   ]
  },
  {
   "cell_type": "code",
   "execution_count": null,
   "metadata": {},
   "outputs": [],
   "source": [
    "# Label Path\n",
    "label_folder_path = '../data/3. style_aug_label/'\n",
    "label_folder_list = os.listdir(label_folder_path)\n",
    "label_folder_list"
   ]
  },
  {
   "cell_type": "code",
   "execution_count": null,
   "metadata": {},
   "outputs": [],
   "source": [
    "# Bounding Box Transform Yolo Shape\n",
    "def convert(size, box):\n",
    "    dw = 1./size[0]\n",
    "    dh = 1./size[1]\n",
    "    x = (box[0] + box[1])/2.0\n",
    "    y = (box[2] + box[3])/2.0\n",
    "    w = box[1] - box[0]\n",
    "    h = box[3] - box[2]\n",
    "    x = x*dw\n",
    "    w = w*dw\n",
    "    y = y*dh\n",
    "    h = h*dh\n",
    "    return (x,y,w,h)"
   ]
  },
  {
   "cell_type": "code",
   "execution_count": null,
   "metadata": {
    "scrolled": false
   },
   "outputs": [],
   "source": [
    "for img_folder_name, label_folder_name in tqdm(zip(img_folder_list, label_folder_list)):\n",
    "    # 폴더 내의 파일 리스트\n",
    "    img_list = os.listdir(img_folder_path + img_folder_name)\n",
    "    label_list = os.listdir(label_folder_path + label_folder_name)\n",
    "    \n",
    "    print(img_folder_name, len(img_list))\n",
    "    print(label_folder_name, len(label_list))\n",
    "    print('-' * 60)\n",
    "    \n",
    "    # 확장자 제거한 임시 레이블 리스트\n",
    "    tmp_label_list = []\n",
    "    for label_name in label_list:\n",
    "        tmp_label = label_name.split('.')[0]\n",
    "        tmp_label_list.append(tmp_label)\n",
    "    \n",
    "    # 레이블링 안된 이미지 제거\n",
    "    new_img_list = []\n",
    "    for img_name in img_list:\n",
    "        tmp_img = img_name.split('.')[0]\n",
    "        if tmp_img in tmp_label_list:\n",
    "            new_img_list.append(img_name)\n",
    "            \n",
    "    print(img_folder_name, len(new_img_list))\n",
    "    print(label_folder_name, len(label_list))\n",
    "    print('=' * 60)\n",
    "    print('=' * 60)\n",
    "            \n",
    "    # XML 파일 파싱\n",
    "    object_label_list = []\n",
    "    for label_name_2 in label_list:\n",
    "        xml_name = label_folder_path + label_folder_name + '/' + label_name_2\n",
    "        tree = ET.parse(xml_name)\n",
    "        objects = tree.findall('./object')\n",
    "\n",
    "        box_list = []\n",
    "        for object_ in objects:\n",
    "            x1 = float(object_.findall('./bndbox')[0].find('./xmin').text)\n",
    "            y1 = float(object_.findall('./bndbox')[0].find('./ymax').text)\n",
    "            x2 = float(object_.findall('./bndbox')[0].find('./xmax').text)\n",
    "            y2 = float(object_.findall('./bndbox')[0].find('./ymin').text)\n",
    "            tmp_box_list = [x1, y1, x2, y2]\n",
    "            box_list.append(tmp_box_list)\n",
    "\n",
    "        object_label_list.append(np.array(box_list))\n",
    "    print('object_label_list', len(object_label_list))\n",
    "        \n",
    "    # 이미지 불러오기\n",
    "    for img_name_2, object_label in zip(new_img_list, object_label_list):\n",
    "        load_img = cv2.imread(img_folder_path + img_folder_name + '/' + img_name_2)[:,:,::-1]\n",
    "        plotted_img = draw_rect(load_img, object_label)\n",
    "        plt.imshow(plotted_img)\n",
    "        plt.show()"
   ]
  },
  {
   "cell_type": "code",
   "execution_count": null,
   "metadata": {},
   "outputs": [],
   "source": [
    "#plt.imshow(load_img)"
   ]
  },
  {
   "cell_type": "code",
   "execution_count": null,
   "metadata": {},
   "outputs": [],
   "source": [
    "#plt.imshow(img_)"
   ]
  },
  {
   "cell_type": "code",
   "execution_count": null,
   "metadata": {
    "scrolled": true
   },
   "outputs": [],
   "source": [
    "#plt.imshow(plotted_img)"
   ]
  },
  {
   "cell_type": "code",
   "execution_count": null,
   "metadata": {},
   "outputs": [],
   "source": [
    "\"\"\"cv2.imshow('img', plotted_img)\n",
    "cv2.waitKey()\n",
    "cv2.destroyAllWindows()\"\"\""
   ]
  }
 ],
 "metadata": {
  "anaconda-cloud": {},
  "kernelspec": {
   "display_name": "Python 3",
   "language": "python",
   "name": "python3"
  },
  "language_info": {
   "codemirror_mode": {
    "name": "ipython",
    "version": 3
   },
   "file_extension": ".py",
   "mimetype": "text/x-python",
   "name": "python",
   "nbconvert_exporter": "python",
   "pygments_lexer": "ipython3",
   "version": "3.8.8"
  }
 },
 "nbformat": 4,
 "nbformat_minor": 1
}
