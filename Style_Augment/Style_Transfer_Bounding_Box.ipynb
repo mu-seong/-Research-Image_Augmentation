{
 "cells": [
  {
   "cell_type": "markdown",
   "metadata": {},
   "source": [
    "# Library Load"
   ]
  },
  {
   "cell_type": "code",
   "execution_count": null,
   "metadata": {
    "executionInfo": {
     "elapsed": 3889,
     "status": "ok",
     "timestamp": 1622534496368,
     "user": {
      "displayName": "‍김무성(대학원생-비즈니스IT전공)",
      "photoUrl": "",
      "userId": "00417310241714095037"
     },
     "user_tz": -540
    },
    "id": "3L7D0g9dndsi"
   },
   "outputs": [],
   "source": [
    "# 필요한 PyTorch 라이브러리 불러오기\n",
    "import os\n",
    "from tqdm import tqdm\n",
    "\n",
    "import torch\n",
    "import torch.nn as nn\n",
    "import torch.nn.functional as F\n",
    "import torch.optim as optim\n",
    "import torchvision.transforms as transforms\n",
    "import torchvision.models as models\n",
    "from torchvision.utils import save_image\n",
    "\n",
    "import PIL\n",
    "from PIL import Image\n",
    "import matplotlib.pyplot as plt\n",
    "\n",
    "import cv2\n",
    "import numpy as np\n",
    "\n",
    "import xml.etree.ElementTree as ET\n",
    "\n",
    "import copy"
   ]
  },
  {
   "cell_type": "code",
   "execution_count": null,
   "metadata": {
    "executionInfo": {
     "elapsed": 4,
     "status": "ok",
     "timestamp": 1622534496368,
     "user": {
      "displayName": "‍김무성(대학원생-비즈니스IT전공)",
      "photoUrl": "",
      "userId": "00417310241714095037"
     },
     "user_tz": -540
    },
    "id": "Lig6Kantnmgc"
   },
   "outputs": [],
   "source": [
    "# GPU 장치 사용 설정\n",
    "device = torch.device(\"cuda\" if torch.cuda.is_available() else \"cpu\")\n",
    "device"
   ]
  },
  {
   "cell_type": "markdown",
   "metadata": {},
   "source": [
    "# Data Load"
   ]
  },
  {
   "cell_type": "code",
   "execution_count": null,
   "metadata": {
    "scrolled": true
   },
   "outputs": [],
   "source": [
    "# Content Image Path\n",
    "content_img_folder_path = '../data/1. original_img_normal/'\n",
    "content_img_folder_list = os.listdir(content_img_folder_path)\n",
    "content_img_folder_list"
   ]
  },
  {
   "cell_type": "code",
   "execution_count": null,
   "metadata": {},
   "outputs": [],
   "source": [
    "# Style Image Path\n",
    "style_img_path = '../data/style_img/KimHD.jpg'"
   ]
  },
  {
   "cell_type": "code",
   "execution_count": null,
   "metadata": {
    "colab": {
     "base_uri": "https://localhost:8080/",
     "height": 787,
     "referenced_widgets": [
      "805490ad77ed40a5a8d9993b3022683b",
      "d7158fe4f6994ebbbc5c95f8b13ab39e",
      "24ed850881244f9388ea338db8f195f4",
      "6955974ab95a4c2a8e30887866a75e16",
      "1f66648237da4556bb7bb009144577b4",
      "bf6c5be226da47009e297adad8bcdefa",
      "d19c742e24104f76a7392e5a7144ecbc",
      "8171b035af734ff78bca73db5bb395a7"
     ]
    },
    "executionInfo": {
     "elapsed": 10078,
     "status": "ok",
     "timestamp": 1622534589075,
     "user": {
      "displayName": "‍김무성(대학원생-비즈니스IT전공)",
      "photoUrl": "",
      "userId": "00417310241714095037"
     },
     "user_tz": -540
    },
    "id": "MZdB8_owc7l0",
    "outputId": "aad51841-7dec-4623-8333-2726999a3642",
    "scrolled": true
   },
   "outputs": [],
   "source": [
    "# 뉴럴 네트워크 모델을 불러옵니다.\n",
    "cnn = models.vgg19(pretrained=True).features.to(device).eval()\n",
    "print(cnn)"
   ]
  },
  {
   "cell_type": "markdown",
   "metadata": {},
   "source": [
    "# Function"
   ]
  },
  {
   "cell_type": "code",
   "execution_count": null,
   "metadata": {
    "executionInfo": {
     "elapsed": 4,
     "status": "ok",
     "timestamp": 1622534496368,
     "user": {
      "displayName": "‍김무성(대학원생-비즈니스IT전공)",
      "photoUrl": "",
      "userId": "00417310241714095037"
     },
     "user_tz": -540
    },
    "id": "I5_fG2ndnCLK"
   },
   "outputs": [],
   "source": [
    "# 이미지를 불러와 다운받아 텐서(Tensor) 객체로 변환하는 함수\n",
    "def image_loader(img_path, imsize):\n",
    "    loader = transforms.Compose([\n",
    "        transforms.Resize(imsize), # 이미지의 크기를 변경\n",
    "        transforms.ToTensor() # torch.Tensor 형식으로 변경 [0, 255] → [0, 1]\n",
    "    ])\n",
    "    image = PIL.Image.open(img_path)\n",
    "    # 네트워크 입력에 들어갈 이미지에 배치 목적의 차원(dimension) 추가\n",
    "    image = loader(image).unsqueeze(0)\n",
    "    return image.to(device, torch.float) # GPU로 올리기\n",
    "\n",
    "\n",
    "# torch.Tensor 형태의 이미지를 화면에 출력하는 함수\n",
    "def imshow(tensor):\n",
    "    # matplotlib는 CPU 기반이므로 CPU로 옮기기\n",
    "    image = tensor.cpu().clone()\n",
    "    # torch.Tensor에서 사용되는 배치 목적의 차원(dimension) 제거\n",
    "    image = image.squeeze(0)\n",
    "    # PIL 객체로 변경 \n",
    "    image = transforms.ToPILImage()(image)\n",
    "    # 이미지를 화면에 출력(matplotlib는 [0, 1] 사이의 값이라고 해도 정상적으로 처리)\n",
    "    plt.imshow(image)\n",
    "    plt.show()"
   ]
  },
  {
   "cell_type": "code",
   "execution_count": null,
   "metadata": {
    "executionInfo": {
     "elapsed": 5,
     "status": "ok",
     "timestamp": 1622534589075,
     "user": {
      "displayName": "‍김무성(대학원생-비즈니스IT전공)",
      "photoUrl": "",
      "userId": "00417310241714095037"
     },
     "user_tz": -540
    },
    "id": "0TXkVsobc9J6"
   },
   "outputs": [],
   "source": [
    "# 입력 정규화(Normalization)를 위한 초기화\n",
    "cnn_normalization_mean = torch.tensor([0.485, 0.456, 0.406]).to(device)\n",
    "cnn_normalization_std = torch.tensor([0.229, 0.224, 0.225]).to(device)\n",
    "\n",
    "class Normalization(nn.Module):\n",
    "    def __init__(self, mean, std):\n",
    "        super(Normalization, self).__init__()\n",
    "        self.mean = mean.clone().view(-1, 1, 1)\n",
    "        self.std = std.clone().view(-1, 1, 1)\n",
    "\n",
    "    def forward(self, img):\n",
    "        return (img - self.mean) / self.std"
   ]
  },
  {
   "cell_type": "code",
   "execution_count": null,
   "metadata": {},
   "outputs": [],
   "source": [
    "def gram_matrix(input):\n",
    "    # a는 배치 크기, b는 특징 맵의 개수, (c, d)는 특징 맵의 차원을 의미\n",
    "    a, b, c, d = input.size()\n",
    "    # 논문에서는 i = 특징 맵의 개수, j = 각 위치(position)\n",
    "    features = input.view(a * b, c * d)\n",
    "    # 행렬 곱으로 한 번에 Gram 내적 계산 가능\n",
    "    G = torch.mm(features, features.t())\n",
    "    # Normalize 목적으로 값 나누기\n",
    "    return G.div(a * b * c * d)\n",
    "\n",
    "\n",
    "# 스타일 손실(style loss) 계산을 위한 클래스 정의\n",
    "class StyleLoss(nn.Module):\n",
    "    def __init__(self, target_feature):\n",
    "        super(StyleLoss, self).__init__()\n",
    "        self.target = gram_matrix(target_feature).detach()\n",
    "\n",
    "    def forward(self, input):\n",
    "        G = gram_matrix(input)\n",
    "        self.loss = F.mse_loss(G, self.target)\n",
    "        return input\n",
    "    \n",
    "\n",
    "# 콘텐츠 손실(content loss) 계산을 위한 클래스 정의\n",
    "class ContentLoss(nn.Module):\n",
    "    def __init__(self, target,):\n",
    "        super(ContentLoss, self).__init__()\n",
    "        self.target = target.detach()\n",
    "\n",
    "    def forward(self, input):\n",
    "        self.loss = F.mse_loss(input, self.target)\n",
    "        return input"
   ]
  },
  {
   "cell_type": "code",
   "execution_count": null,
   "metadata": {
    "executionInfo": {
     "elapsed": 1385,
     "status": "ok",
     "timestamp": 1622534636842,
     "user": {
      "displayName": "‍김무성(대학원생-비즈니스IT전공)",
      "photoUrl": "",
      "userId": "00417310241714095037"
     },
     "user_tz": -540
    },
    "id": "jW3-0WZtwtUt"
   },
   "outputs": [],
   "source": [
    "content_layers = ['conv_2', 'conv_4']\n",
    "style_layers = ['conv_1', 'conv_3', 'conv_5', 'conv_7', 'conv_9']\n",
    "\n",
    "# Style Transfer 손실(loss)을 계산하는 함수\n",
    "def get_losses(cnn, content_img, style_img, noise_image):\n",
    "    cnn = copy.deepcopy(cnn)\n",
    "    normalization = Normalization(cnn_normalization_mean, cnn_normalization_std).to(device)\n",
    "    content_losses = []\n",
    "    style_losses = []\n",
    "    \n",
    "    # 가장 먼저 입력 이미지가 입력 정규화(input normalization)를 수행하도록\n",
    "    model = nn.Sequential(normalization)\n",
    "\n",
    "    # 현재 CNN 모델에 포함되어 있는 모든 레이어를 확인하며\n",
    "    i = 0\n",
    "    for layer in cnn.children():\n",
    "        if isinstance(layer, nn.Conv2d):\n",
    "            i += 1\n",
    "            name = 'conv_{}'.format(i)\n",
    "        elif isinstance(layer, nn.ReLU):\n",
    "            name = 'relu_{}'.format(i)\n",
    "            layer = nn.ReLU(inplace=False)\n",
    "        elif isinstance(layer, nn.MaxPool2d):\n",
    "            name = 'pool_{}'.format(i)\n",
    "        elif isinstance(layer, nn.BatchNorm2d):\n",
    "            name = 'bn_{}'.format(i)\n",
    "        else:\n",
    "            raise RuntimeError('Unrecognized layer: {}'.format(layer.__class__.__name__))\n",
    "\n",
    "        model.add_module(name, layer)\n",
    "\n",
    "        # 설정한 content layer까지의 결과를 이용해 content loss를 계산\n",
    "        if name in content_layers:\n",
    "            target_feature = model(content_img).detach()\n",
    "            content_loss = ContentLoss(target_feature)\n",
    "            model.add_module(\"content_loss_{}\".format(i), content_loss)\n",
    "            content_losses.append(content_loss)\n",
    "\n",
    "        # 설정한 style layer까지의 결과를 이용해 style loss를 계산\n",
    "        if name in style_layers:\n",
    "            target_feature = model(style_img).detach()\n",
    "            style_loss = StyleLoss(target_feature)\n",
    "            model.add_module(\"style_loss_{}\".format(i), style_loss)\n",
    "            style_losses.append(style_loss)\n",
    "\n",
    "    # 마지막 loss 이후의 레이어는 사용하지 않도록\n",
    "    for i in range(len(model) - 1, -1, -1):\n",
    "        if isinstance(model[i], ContentLoss) or isinstance(model[i], StyleLoss):\n",
    "            break\n",
    "\n",
    "    model = model[:(i + 1)]\n",
    "    return model, content_losses, style_losses"
   ]
  },
  {
   "cell_type": "code",
   "execution_count": null,
   "metadata": {
    "executionInfo": {
     "elapsed": 1,
     "status": "ok",
     "timestamp": 1622534637259,
     "user": {
      "displayName": "‍김무성(대학원생-비즈니스IT전공)",
      "photoUrl": "",
      "userId": "00417310241714095037"
     },
     "user_tz": -540
    },
    "id": "XzFYF2UMxmWA"
   },
   "outputs": [],
   "source": [
    "def style_transfer(cnn, content_img, style_img, input_img, iters):\n",
    "    model, content_losses, style_losses = get_losses(cnn, content_img, style_img, input_img)\n",
    "    optimizer = optim.LBFGS([input_img.requires_grad_()])\n",
    "\n",
    "    print(\"[ Start ]\")\n",
    "    imshow(input_img)\n",
    "\n",
    "    # 하나의 값만 이용하기 위해 배열 형태로 사용\n",
    "    run = [0]\n",
    "    while run[0] <= iters:\n",
    "\n",
    "        def closure():\n",
    "            input_img.data.clamp_(0, 1)\n",
    "\n",
    "            optimizer.zero_grad()\n",
    "            model(input_img)\n",
    "            content_score = 0\n",
    "            style_score = 0\n",
    "\n",
    "            for cl in content_losses:\n",
    "                content_score += cl.loss\n",
    "            for sl in style_losses:\n",
    "                style_score += sl.loss\n",
    "\n",
    "            style_score *= 1e5\n",
    "            loss = content_score + style_score\n",
    "            loss.backward()\n",
    "\n",
    "            run[0] += 1\n",
    "            if run[0] % 100 == 0:\n",
    "                print(f\"[ Step: {run[0]} / Content loss: {content_score.item()} / Style loss: {style_score.item()}]\")\n",
    "                imshow(input_img)\n",
    "            \n",
    "            return content_score + style_score\n",
    "        \n",
    "        optimizer.step(closure)\n",
    "\n",
    "    # 결과적으로 이미지의 각 픽셀의 값이 [0, 1] 사이의 값이 되도록 자르기\n",
    "    input_img.data.clamp_(0, 1)\n",
    "\n",
    "    return input_img"
   ]
  },
  {
   "cell_type": "markdown",
   "metadata": {},
   "source": [
    "# Style Transfer"
   ]
  },
  {
   "cell_type": "code",
   "execution_count": null,
   "metadata": {
    "scrolled": true
   },
   "outputs": [],
   "source": [
    "for content_img_folder_name in tqdm(content_img_folder_list):\n",
    "    print(content_img_folder_name)\n",
    "    # 폴더 내의 파일 리스트\n",
    "    content_img_list = os.listdir(content_img_folder_path + content_img_folder_name)\n",
    "    \n",
    "    #imshow(style_img)\n",
    "    for content_img_name in content_img_list:\n",
    "        content_img_size = PIL.Image.open(content_img_folder_path + content_img_folder_name + '/' + content_img_name).size\n",
    "        #con_arr = np.array(con_image)\n",
    "        #con_tensor = torch.from_numpy(con_arr)\n",
    "        #con_tensor = con_tensor.to(device)\n",
    "        content_img = image_loader(content_img_folder_path + content_img_folder_name + '/' + content_img_name, content_img_size)\n",
    "        #imshow(content_img)\n",
    "\n",
    "        input_img = torch.empty_like(content_img).uniform_(0, 1).to(device)\n",
    "        #imshow(input_img)\n",
    "        \n",
    "        style_img = image_loader(style_img_path, (content_img.shape[2], content_img.shape[3]))\n",
    "\n",
    "        # style transfer 수행\n",
    "        output = style_transfer(cnn, content_img=content_img, style_img=style_img, input_img=input_img, iters=1500)\n",
    "\n",
    "        # 이미지 저장\n",
    "        save_image(output.cpu().detach()[0], '../data/3. style_aug_img/' + content_img_folder_name + '/style_' + content_img_name)\n",
    "        print('='*60)"
   ]
  },
  {
   "cell_type": "markdown",
   "metadata": {},
   "source": [
    "# Bounding Box Change"
   ]
  },
  {
   "cell_type": "code",
   "execution_count": null,
   "metadata": {},
   "outputs": [],
   "source": [
    "# Style Augmentation Image Path\n",
    "style_aug_img_folder_path = '../data/3. style_aug_img/'\n",
    "style_aug_img_folder_list = os.listdir(style_aug_img_folder_path)\n",
    "style_aug_img_folder_list"
   ]
  },
  {
   "cell_type": "code",
   "execution_count": null,
   "metadata": {},
   "outputs": [],
   "source": [
    "# Label Path\n",
    "label_folder_path = '../data/1. original_label_xml_style/'\n",
    "label_folder_list = os.listdir(label_folder_path)\n",
    "label_folder_list"
   ]
  },
  {
   "cell_type": "code",
   "execution_count": null,
   "metadata": {},
   "outputs": [],
   "source": [
    "# Bounding Box Transform Yolo Shape\n",
    "def convert(size, box):\n",
    "    dw = 1./size[0]\n",
    "    dh = 1./size[1]\n",
    "    x = (box[0] + box[1])/2.0\n",
    "    y = (box[2] + box[3])/2.0\n",
    "    w = box[1] - box[0]\n",
    "    h = box[3] - box[2]\n",
    "    x = x*dw\n",
    "    w = w*dw\n",
    "    y = y*dh\n",
    "    h = h*dh\n",
    "    return (x,y,w,h)"
   ]
  },
  {
   "cell_type": "code",
   "execution_count": null,
   "metadata": {},
   "outputs": [],
   "source": [
    "for img_folder_name, label_folder_name in tqdm(zip(style_aug_img_folder_list, label_folder_list)):\n",
    "    # 폴더 내의 파일 리스트\n",
    "    img_list = os.listdir(style_aug_img_folder_path + img_folder_name)\n",
    "    label_list = os.listdir(label_folder_path + label_folder_name)\n",
    "    \n",
    "    print(img_folder_name, len(img_list))\n",
    "    print(label_folder_name, len(label_list))\n",
    "    print('-' * 60)\n",
    "    \n",
    "    # 확장자 제거한 임시 레이블 리스트\n",
    "    tmp_label_list = []\n",
    "    for label_name in label_list:\n",
    "        tmp_label = label_name.split('.')[0]\n",
    "        tmp_label_list.append(tmp_label)\n",
    "    \n",
    "    # 레이블링 안된 이미지 제거\n",
    "    new_img_list = []\n",
    "    for img_name in img_list:\n",
    "        tmp_img = img_name.split('.')[0]\n",
    "        if tmp_img in tmp_label_list:\n",
    "            new_img_list.append(img_name)\n",
    "            \n",
    "    print(img_folder_name, len(new_img_list))\n",
    "    print(label_folder_name, len(label_list))\n",
    "    print('=' * 60)\n",
    "    print('=' * 60)\n",
    "            \n",
    "    # XML 파일 파싱\n",
    "    object_label_list = []\n",
    "    for label_name_2 in label_list:\n",
    "        xml_name = label_folder_path + label_folder_name + '/' + label_name_2\n",
    "        tree = ET.parse(xml_name)\n",
    "        objects = tree.findall('./object')\n",
    "\n",
    "        box_list = []\n",
    "        for object_ in objects:\n",
    "            x1 = float(object_.findall('./bndbox')[0].find('./xmin').text)\n",
    "            y1 = float(object_.findall('./bndbox')[0].find('./ymax').text)\n",
    "            x2 = float(object_.findall('./bndbox')[0].find('./xmax').text)\n",
    "            y2 = float(object_.findall('./bndbox')[0].find('./ymin').text)\n",
    "            tmp_box_list = [x1, y1, x2, y2]\n",
    "            box_list.append(tmp_box_list)\n",
    "\n",
    "        object_label_list.append(np.array(box_list))\n",
    "    print('object_label_list', len(object_label_list))\n",
    "        \n",
    "    # 이미지 불러오기\n",
    "    for img_name_2, object_label in zip(new_img_list, object_label_list):\n",
    "        load_img = cv2.imread(style_aug_img_folder_path + img_folder_name + '/' + img_name_2)[:,:,::-1]\n",
    "        #plotted_img = draw_rect(load_img, object_label)\n",
    "        #plt.imshow(plotted_img)\n",
    "        #plt.show()\n",
    "        \n",
    "        # 레이블 수정\n",
    "        y_ = load_img.shape[0]\n",
    "        x_ = load_img.shape[1]\n",
    "        targetSize = 200\n",
    "        x_scale = targetSize / x_\n",
    "        y_scale = targetSize / y_\n",
    "        #print(x_scale, y_scale)\n",
    "        \n",
    "        # 레이블 저장\n",
    "        im = Image.open(style_aug_img_folder_path + img_folder_name + '/' + img_name_2)\n",
    "        w = int(im.size[0])\n",
    "        h = int(im.size[1])\n",
    "        \n",
    "        f = open('../data/3. style_aug_label/' + label_folder_name + '/style_' + img_name_2[:-4] + '.txt', 'w')\n",
    "        for box_2 in object_label:            \n",
    "            # original frame as named values\n",
    "            (origLeft, origTop, origRight, origBottom) = (box_2[0], box_2[2], box_2[1], box_2[3])\n",
    "            x = int(np.round(origLeft * x_scale))\n",
    "            y = int(np.round(origTop * y_scale))\n",
    "            xmax = int(np.round(origRight * x_scale))\n",
    "            ymax = int(np.round(origBottom * y_scale))\n",
    "            change_bb = (x, y, xmax, ymax)\n",
    "            \n",
    "            bb = convert((w,h), change_bb)\n",
    "            if img_folder_name[:-1] == 'carp':\n",
    "                f.write(str(0)+' ')\n",
    "                f.write(str(bb[0])+' ')\n",
    "                f.write(str(bb[1])+' ')\n",
    "                f.write(str(bb[2])+' ')\n",
    "                f.write(str(bb[3])+'\\n')\n",
    "                \n",
    "            elif img_folder_name[:-1] == 'cranebird':\n",
    "                f.write(str(1)+' ')\n",
    "                f.write(str(bb[0])+' ')\n",
    "                f.write(str(bb[1])+' ')\n",
    "                f.write(str(bb[2])+' ')\n",
    "                f.write(str(bb[3])+'\\n')\n",
    "                \n",
    "            elif img_folder_name[:-1] == 'deer':\n",
    "                f.write(str(2)+' ')\n",
    "                f.write(str(bb[0])+' ')\n",
    "                f.write(str(bb[1])+' ')\n",
    "                f.write(str(bb[2])+' ')\n",
    "                f.write(str(bb[3])+'\\n')\n",
    "                \n",
    "            elif img_folder_name[:-1] == 'lotusflower':\n",
    "                f.write(str(3)+' ')\n",
    "                f.write(str(bb[0])+' ')\n",
    "                f.write(str(bb[1])+' ')\n",
    "                f.write(str(bb[2])+' ')\n",
    "                f.write(str(bb[3])+'\\n')\n",
    "                \n",
    "            else:\n",
    "                f.write(str(4)+' ')\n",
    "                f.write(str(bb[0])+' ')\n",
    "                f.write(str(bb[1])+' ')\n",
    "                f.write(str(bb[2])+' ')\n",
    "                f.write(str(bb[3])+'\\n')\n",
    "        f.close()"
   ]
  },
  {
   "cell_type": "code",
   "execution_count": null,
   "metadata": {},
   "outputs": [],
   "source": [
    "def drawBox(boxes, image):\n",
    "    for i in range(0, len(boxes)):\n",
    "        # changed color and width to make it visible\n",
    "        cv2.rectangle(image, (boxes[i][1], boxes[i][2]), (boxes[i][3], boxes[i][4]), (255, 0, 0), 1)\n",
    "    cv2.imshow(\"img\", image)\n",
    "    cv2.waitKey(0)\n",
    "    cv2.destroyAllWindows()"
   ]
  },
  {
   "cell_type": "code",
   "execution_count": null,
   "metadata": {},
   "outputs": [],
   "source": [
    "img = cv2.resize(load_img, (targetSize, targetSize));\n",
    "img = np.array(img)\n",
    "drawBox([[4, x, y, xmax, ymax]], img)"
   ]
  },
  {
   "cell_type": "code",
   "execution_count": null,
   "metadata": {},
   "outputs": [],
   "source": []
  }
 ],
 "metadata": {
  "accelerator": "GPU",
  "colab": {
   "collapsed_sections": [],
   "name": "Style_Transfer_v1.ipynb",
   "provenance": []
  },
  "kernelspec": {
   "display_name": "Python 3",
   "language": "python",
   "name": "python3"
  },
  "language_info": {
   "codemirror_mode": {
    "name": "ipython",
    "version": 3
   },
   "file_extension": ".py",
   "mimetype": "text/x-python",
   "name": "python",
   "nbconvert_exporter": "python",
   "pygments_lexer": "ipython3",
   "version": "3.8.8"
  },
  "widgets": {
   "application/vnd.jupyter.widget-state+json": {
    "1f66648237da4556bb7bb009144577b4": {
     "model_module": "@jupyter-widgets/controls",
     "model_name": "ProgressStyleModel",
     "state": {
      "_model_module": "@jupyter-widgets/controls",
      "_model_module_version": "1.5.0",
      "_model_name": "ProgressStyleModel",
      "_view_count": null,
      "_view_module": "@jupyter-widgets/base",
      "_view_module_version": "1.2.0",
      "_view_name": "StyleView",
      "bar_color": null,
      "description_width": "initial"
     }
    },
    "24ed850881244f9388ea338db8f195f4": {
     "model_module": "@jupyter-widgets/controls",
     "model_name": "FloatProgressModel",
     "state": {
      "_dom_classes": [],
      "_model_module": "@jupyter-widgets/controls",
      "_model_module_version": "1.5.0",
      "_model_name": "FloatProgressModel",
      "_view_count": null,
      "_view_module": "@jupyter-widgets/controls",
      "_view_module_version": "1.5.0",
      "_view_name": "ProgressView",
      "bar_style": "success",
      "description": "100%",
      "description_tooltip": null,
      "layout": "IPY_MODEL_bf6c5be226da47009e297adad8bcdefa",
      "max": 574673361,
      "min": 0,
      "orientation": "horizontal",
      "style": "IPY_MODEL_1f66648237da4556bb7bb009144577b4",
      "value": 574673361
     }
    },
    "6955974ab95a4c2a8e30887866a75e16": {
     "model_module": "@jupyter-widgets/controls",
     "model_name": "HTMLModel",
     "state": {
      "_dom_classes": [],
      "_model_module": "@jupyter-widgets/controls",
      "_model_module_version": "1.5.0",
      "_model_name": "HTMLModel",
      "_view_count": null,
      "_view_module": "@jupyter-widgets/controls",
      "_view_module_version": "1.5.0",
      "_view_name": "HTMLView",
      "description": "",
      "description_tooltip": null,
      "layout": "IPY_MODEL_8171b035af734ff78bca73db5bb395a7",
      "placeholder": "​",
      "style": "IPY_MODEL_d19c742e24104f76a7392e5a7144ecbc",
      "value": " 548M/548M [00:17&lt;00:00, 33.2MB/s]"
     }
    },
    "805490ad77ed40a5a8d9993b3022683b": {
     "model_module": "@jupyter-widgets/controls",
     "model_name": "HBoxModel",
     "state": {
      "_dom_classes": [],
      "_model_module": "@jupyter-widgets/controls",
      "_model_module_version": "1.5.0",
      "_model_name": "HBoxModel",
      "_view_count": null,
      "_view_module": "@jupyter-widgets/controls",
      "_view_module_version": "1.5.0",
      "_view_name": "HBoxView",
      "box_style": "",
      "children": [
       "IPY_MODEL_24ed850881244f9388ea338db8f195f4",
       "IPY_MODEL_6955974ab95a4c2a8e30887866a75e16"
      ],
      "layout": "IPY_MODEL_d7158fe4f6994ebbbc5c95f8b13ab39e"
     }
    },
    "8171b035af734ff78bca73db5bb395a7": {
     "model_module": "@jupyter-widgets/base",
     "model_name": "LayoutModel",
     "state": {
      "_model_module": "@jupyter-widgets/base",
      "_model_module_version": "1.2.0",
      "_model_name": "LayoutModel",
      "_view_count": null,
      "_view_module": "@jupyter-widgets/base",
      "_view_module_version": "1.2.0",
      "_view_name": "LayoutView",
      "align_content": null,
      "align_items": null,
      "align_self": null,
      "border": null,
      "bottom": null,
      "display": null,
      "flex": null,
      "flex_flow": null,
      "grid_area": null,
      "grid_auto_columns": null,
      "grid_auto_flow": null,
      "grid_auto_rows": null,
      "grid_column": null,
      "grid_gap": null,
      "grid_row": null,
      "grid_template_areas": null,
      "grid_template_columns": null,
      "grid_template_rows": null,
      "height": null,
      "justify_content": null,
      "justify_items": null,
      "left": null,
      "margin": null,
      "max_height": null,
      "max_width": null,
      "min_height": null,
      "min_width": null,
      "object_fit": null,
      "object_position": null,
      "order": null,
      "overflow": null,
      "overflow_x": null,
      "overflow_y": null,
      "padding": null,
      "right": null,
      "top": null,
      "visibility": null,
      "width": null
     }
    },
    "bf6c5be226da47009e297adad8bcdefa": {
     "model_module": "@jupyter-widgets/base",
     "model_name": "LayoutModel",
     "state": {
      "_model_module": "@jupyter-widgets/base",
      "_model_module_version": "1.2.0",
      "_model_name": "LayoutModel",
      "_view_count": null,
      "_view_module": "@jupyter-widgets/base",
      "_view_module_version": "1.2.0",
      "_view_name": "LayoutView",
      "align_content": null,
      "align_items": null,
      "align_self": null,
      "border": null,
      "bottom": null,
      "display": null,
      "flex": null,
      "flex_flow": null,
      "grid_area": null,
      "grid_auto_columns": null,
      "grid_auto_flow": null,
      "grid_auto_rows": null,
      "grid_column": null,
      "grid_gap": null,
      "grid_row": null,
      "grid_template_areas": null,
      "grid_template_columns": null,
      "grid_template_rows": null,
      "height": null,
      "justify_content": null,
      "justify_items": null,
      "left": null,
      "margin": null,
      "max_height": null,
      "max_width": null,
      "min_height": null,
      "min_width": null,
      "object_fit": null,
      "object_position": null,
      "order": null,
      "overflow": null,
      "overflow_x": null,
      "overflow_y": null,
      "padding": null,
      "right": null,
      "top": null,
      "visibility": null,
      "width": null
     }
    },
    "d19c742e24104f76a7392e5a7144ecbc": {
     "model_module": "@jupyter-widgets/controls",
     "model_name": "DescriptionStyleModel",
     "state": {
      "_model_module": "@jupyter-widgets/controls",
      "_model_module_version": "1.5.0",
      "_model_name": "DescriptionStyleModel",
      "_view_count": null,
      "_view_module": "@jupyter-widgets/base",
      "_view_module_version": "1.2.0",
      "_view_name": "StyleView",
      "description_width": ""
     }
    },
    "d7158fe4f6994ebbbc5c95f8b13ab39e": {
     "model_module": "@jupyter-widgets/base",
     "model_name": "LayoutModel",
     "state": {
      "_model_module": "@jupyter-widgets/base",
      "_model_module_version": "1.2.0",
      "_model_name": "LayoutModel",
      "_view_count": null,
      "_view_module": "@jupyter-widgets/base",
      "_view_module_version": "1.2.0",
      "_view_name": "LayoutView",
      "align_content": null,
      "align_items": null,
      "align_self": null,
      "border": null,
      "bottom": null,
      "display": null,
      "flex": null,
      "flex_flow": null,
      "grid_area": null,
      "grid_auto_columns": null,
      "grid_auto_flow": null,
      "grid_auto_rows": null,
      "grid_column": null,
      "grid_gap": null,
      "grid_row": null,
      "grid_template_areas": null,
      "grid_template_columns": null,
      "grid_template_rows": null,
      "height": null,
      "justify_content": null,
      "justify_items": null,
      "left": null,
      "margin": null,
      "max_height": null,
      "max_width": null,
      "min_height": null,
      "min_width": null,
      "object_fit": null,
      "object_position": null,
      "order": null,
      "overflow": null,
      "overflow_x": null,
      "overflow_y": null,
      "padding": null,
      "right": null,
      "top": null,
      "visibility": null,
      "width": null
     }
    }
   }
  }
 },
 "nbformat": 4,
 "nbformat_minor": 1
}
